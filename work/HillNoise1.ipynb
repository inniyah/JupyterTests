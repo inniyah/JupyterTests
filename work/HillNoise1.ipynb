{
 "cells": [
  {
   "cell_type": "code",
   "execution_count": 1,
   "id": "ea2c4494",
   "metadata": {},
   "outputs": [],
   "source": [
    "import sys\n",
    "import math\n",
    "\n",
    "from PIL import Image\n",
    "\n",
    "import numpy as np\n",
    "from bisect import bisect_left\n",
    "\n",
    "import matplotlib.pyplot as plt\n",
    "from matplotlib.colors import ListedColormap\n",
    "from matplotlib import cm\n",
    "\n",
    "# This import registers the 3D projection, but is otherwise unused.\n",
    "from mpl_toolkits.mplot3d import Axes3D\n",
    "\n",
    "from pprint import pprint\n",
    "from random import random\n",
    "from math import floor, sqrt, sin, cos, acos, log, exp, pi"
   ]
  },
  {
   "cell_type": "code",
   "execution_count": 2,
   "id": "8e792607",
   "metadata": {},
   "outputs": [],
   "source": [
    "# HSV values in [0..1[\n",
    "# returns [r, g, b] values from 0 to 255\n",
    "# https://martin.ankerl.com/2009/12/09/how-to-create-random-colors-programmatically/\n",
    "def hsv_to_rgb(h, s, v):\n",
    "    h_i = int(h * 6)\n",
    "    f = h * 6 - h_i\n",
    "    p = v * (1 - s)\n",
    "    q = v * (1 - f * s)\n",
    "    t = v * (1 - (1 - f) * s)\n",
    "    if h_i == 0: r, g, b = v, t, p\n",
    "    elif h_i == 1: r, g, b = q, v, p\n",
    "    elif h_i == 2: r, g, b = p, v, t\n",
    "    elif h_i == 3: r, g, b = p, q, v\n",
    "    elif h_i == 4: r, g, b = t, p, v\n",
    "    elif h_i == 5: r, g, b = v, p, q\n",
    "    return int(r*256), int(g*256), int(b*256)"
   ]
  },
  {
   "cell_type": "code",
   "execution_count": 3,
   "id": "06d593ef",
   "metadata": {},
   "outputs": [],
   "source": [
    "TAU = 6.283185307179586476925286766559005768394338798750211641949\n",
    "PHI = 1.618033988749894848204586834365638117720309179805762862135\n",
    "LOG_PHI = 0.481211825059603447497758913424368423135184334385660519660\n",
    "SQRT5 = 2.236067977499789696409173668731276235440618359611525724270"
   ]
  },
  {
   "cell_type": "code",
   "execution_count": 4,
   "id": "13e0ebda",
   "metadata": {},
   "outputs": [],
   "source": [
    "# https://blog.bruce-hill.com/hill-noise\n",
    "# https://www.redblobgames.com/articles/noise/2d/\n",
    "\n",
    "copyright = \"\"\"\n",
    "Copyright (c) 2021 Bruce Hill\n",
    "\n",
    "\"Commons Clause\" License Condition v1.0\n",
    "\n",
    "The Software is provided to you by the Licensor under the License, as defined\n",
    "below, subject to the following condition.\n",
    "\n",
    "Without limiting other conditions in the License, the grant of rights under the\n",
    "License will not include, and the License does not grant to you, the right to\n",
    "Sell the Software.\n",
    "\n",
    "For purposes of the foregoing, \"Sell\" means practicing any or all of the rights\n",
    "granted to you under the License to provide to third parties, for a fee or\n",
    "other consideration (including without limitation fees for hosting or\n",
    "consulting/ support services related to the Software), a product or service\n",
    "whose value derives, entirely or substantially, from the functionality of the\n",
    "Software. Any license notice or attribution required by the License must also\n",
    "include this Commons Clause License Condition notice.\n",
    "\n",
    "Software: bruce-hill.com\n",
    "License: MIT\n",
    "Licensor: Bruce Hill\n",
    "\n",
    "Permission is hereby granted, free of charge, to any person obtaining a copy of\n",
    "this software and associated documentation files (the \"Software\"), to deal in\n",
    "the Software without restriction, including without limitation the rights to\n",
    "use, copy, modify, merge, publish, distribute, sublicense, and/or sell copies\n",
    "of the Software, and to permit persons to whom the Software is furnished to do\n",
    "so, subject to the following conditions:\n",
    "\n",
    "The above copyright notice and this permission notice shall be included in all\n",
    "copies or substantial portions of the Software.\n",
    "\n",
    "THE SOFTWARE IS PROVIDED \"AS IS\", WITHOUT WARRANTY OF ANY KIND, EXPRESS OR\n",
    "IMPLIED, INCLUDING BUT NOT LIMITED TO THE WARRANTIES OF MERCHANTABILITY,\n",
    "FITNESS FOR A PARTICULAR PURPOSE AND NONINFRINGEMENT. IN NO EVENT SHALL THE\n",
    "AUTHORS OR COPYRIGHT HOLDERS BE LIABLE FOR ANY CLAIM, DAMAGES OR OTHER\n",
    "LIABILITY, WHETHER IN AN ACTION OF CONTRACT, TORT OR OTHERWISE, ARISING FROM,\n",
    "OUT OF OR IN CONNECTION WITH THE SOFTWARE OR THE USE OR OTHER DEALINGS IN THE\n",
    "SOFTWARE.\n",
    "\"\"\""
   ]
  },
  {
   "cell_type": "code",
   "execution_count": 5,
   "id": "406b5cd5",
   "metadata": {},
   "outputs": [],
   "source": [
    "class ValueNoise:\n",
    "    NUM_VALUES = 256\n",
    "    SPACING = 10\n",
    "    def __init__(self, random=random):\n",
    "        self.values = [random() for _ in range(ValueNoise.NUM_VALUES)]\n",
    "    def evaluate(self, x):\n",
    "        # Look up the nearest two values\n",
    "        x1 = floor(x/ValueNoise.SPACING)\n",
    "        x2 = ceil(x/ValueNoise.SPACING)\n",
    "        n1 = self.values[x1 % ValueNoise.NUM_VALUES]\n",
    "        n2 = self.values[x2 % ValueNoise.NUM_VALUES]\n",
    "        # Smoothly interpolate between them using cosine interpolation\n",
    "        k = .5 - .5*cos((x/ValueNoise.SPACING % 1)*pi)\n",
    "        return ((1-k)*n1 + k*n2)"
   ]
  },
  {
   "cell_type": "code",
   "execution_count": 6,
   "id": "5bda8b71",
   "metadata": {},
   "outputs": [],
   "source": [
    "class OctaveNoise:\n",
    "    def __init__(self, num_octaves, random=random):\n",
    "        self.noise = ValueNoise(random=random)\n",
    "        self.num_octaves = num_octaves\n",
    "    def evaluate(self, x):\n",
    "        noise = 0\n",
    "        for i in range(self.num_octaves):\n",
    "            size = 0.5**i\n",
    "            noise += size * self.noise.evaluate(x/size)\n",
    "        return noise/2"
   ]
  },
  {
   "cell_type": "code",
   "execution_count": 7,
   "id": "80b47f54",
   "metadata": {},
   "outputs": [],
   "source": [
    "class HillNoise:\n",
    "    def __init__(self, sizes, random=random):\n",
    "        self.sizes = sizes\n",
    "        self.offsets = [random()*2*pi for _ in range(len(sizes))]\n",
    "        self.sigma = sqrt(sum((a/2)**2 for a in self.sizes))\n",
    "    def evaluate(self, x):\n",
    "        noise = 0\n",
    "        for size,offset in zip(self.sizes, self.offsets):\n",
    "            noise += size*sin(x/size + offset)\n",
    "        # Approximate normal CDF:\n",
    "        noise /= self.sigma\n",
    "        return (0.5*(-1 if noise < 0 else 1) * sqrt(1 - exp(-2/pi * noise*noise)) + 0.5)"
   ]
  },
  {
   "cell_type": "code",
   "execution_count": 8,
   "id": "71299e25",
   "metadata": {},
   "outputs": [
    {
     "data": {
      "text/plain": [
       "0.3454170520597863"
      ]
     },
     "execution_count": 8,
     "metadata": {},
     "output_type": "execute_result"
    }
   ],
   "source": [
    "hn1d = HillNoise([random() for _ in range(10)])\n",
    "hn1d.evaluate(1)"
   ]
  },
  {
   "cell_type": "code",
   "execution_count": 9,
   "id": "32fa4247",
   "metadata": {},
   "outputs": [],
   "source": [
    "class WeibullHillNoise:\n",
    "    def __init__(self, sizes, alpha, beta, random=random):\n",
    "        self.hill_noise = HillNoise(sizes, random)\n",
    "        self.alpha, self.beta = alpha, beta\n",
    "    def evaluate(self, x):\n",
    "        u = 1.0 - self.hill_noise.evaluate(x)\n",
    "        return self.alpha * (-math.log(u)) ** (1.0/self.beta)"
   ]
  },
  {
   "cell_type": "code",
   "execution_count": 10,
   "id": "d69cfe38",
   "metadata": {},
   "outputs": [],
   "source": [
    "# https://blog.bruce-hill.com/media/hill-noise/hill_noise_2dshader.html\n",
    "GOLDEN_RATIO = (sqrt(5)+1)/2\n",
    "class HillNoise2D:\n",
    "    def __init__(self, sizes, random=random):\n",
    "        self.sizes = sizes\n",
    "        self.offsets = [random()*2*pi for _ in range(2*len(sizes))]\n",
    "        self.sigma = sqrt(sum((a/2)**2 for a in self.sizes))\n",
    "    def evaluate(self, x, y):\n",
    "        noise = 0\n",
    "        for i,size in enumerate(self.sizes):\n",
    "            # Rotate coordinates\n",
    "            rotation = (i*GOLDEN_RATIO % 1)*2*pi\n",
    "            u = x*cos(rotation) - y*sin(rotation)\n",
    "            v = -x*sin(rotation) - y*cos(rotation)\n",
    "            noise += size/2*(sin(u/size + self.offsets[2*i])\n",
    "                             + sin(v/size + self.offsets[2*i+1]))\n",
    "        # Approximate normal CDF:\n",
    "        noise /= 2*self.sigma\n",
    "        return (0.5*(-1 if noise < 0 else 1) * sqrt(1 - exp(-2/pi * noise*noise)) + 0.5)"
   ]
  },
  {
   "cell_type": "code",
   "execution_count": 11,
   "id": "e1929b4c",
   "metadata": {},
   "outputs": [
    {
     "data": {
      "text/plain": [
       "0.30619302823272343"
      ]
     },
     "execution_count": 11,
     "metadata": {},
     "output_type": "execute_result"
    }
   ],
   "source": [
    "hn3d = HillNoise2D([random() for _ in range(10)])\n",
    "hn3d.evaluate(1,2)"
   ]
  },
  {
   "cell_type": "code",
   "execution_count": 18,
   "id": "656615c7",
   "metadata": {},
   "outputs": [
    {
     "data": {
      "image/png": "[encoded data removed]",
      "text/plain": [
       "<Figure size 432x288 with 1 Axes>"
      ]
     },
     "metadata": {
      "needs_background": "light"
     },
     "output_type": "display_data"
    }
   ],
   "source": [
    "hn2d = HillNoise2D([random() for _ in range(32)])\n",
    "\n",
    "img_w = 50\n",
    "img_h = 50\n",
    "\n",
    "img = Image.new('RGBA', (img_w, img_h), (0, 0, 0, 0))\n",
    "pixels = img.load()\n",
    "\n",
    "for x in range(img_w):\n",
    "    for y in range(img_h):\n",
    "        h = hn2d.evaluate(x, y) * 127 + 128\n",
    "        r = h\n",
    "        g = h\n",
    "        b = h\n",
    "        pixels[x, y] = ( int(r), int(g), int(b), int(255) )\n",
    "\n",
    "plt.imshow(img)\n",
    "plt.show()"
   ]
  },
  {
   "cell_type": "code",
   "execution_count": 13,
   "id": "1b36a8c9",
   "metadata": {},
   "outputs": [],
   "source": [
    "# https://blog.bruce-hill.com/media/hill-noise/hill_noise_3dshader.html\n",
    "# https://www.graphics.rwth-aachen.de/media/papers/jgt.pdf\n",
    "GOLDEN_RATIO = (sqrt(5)+1)/2\n",
    "class HillNoise3D:\n",
    "    def __init__(self, sizes, random=random):\n",
    "        self.sizes = sizes\n",
    "        self.offsets = [random()*2*pi for _ in range(3*len(sizes))]\n",
    "        self.sigma = sqrt(sum((a/2)**2 for a in self.sizes))\n",
    "    def evaluate(self, x, y, z):\n",
    "        resolution = len(self.sizes)\n",
    "        # Find the biggest fibonacci number fib_num such that fib_num < resolution\n",
    "        fib_num = floor(log((resolution-1)*sqrt(5) + .5)/log(GOLDEN_RATIO))\n",
    "        dec = floor(.5 + (GOLDEN_RATIO**fib_num)/sqrt(5))\n",
    "        inc = floor(.5 + dec/GOLDEN_RATIO)\n",
    "        noise = 0\n",
    "        j = 0\n",
    "        for i in range(len(self.sizes)):\n",
    "            if j >= dec:\n",
    "                j -= dec\n",
    "            else:\n",
    "                j += inc\n",
    "                if j >= len(self.sizes):\n",
    "                    j -= dec\n",
    "            # Convert golden ratio sequence into polar coordinate unit vector\n",
    "            phi = ((i*GOLDEN_RATIO) % 1) * 2*pi\n",
    "            theta = acos(-1+2*((j*GOLDEN_RATIO) % 1))\n",
    "            # Make an orthonormal basis, where n1 is from polar phi/theta,\n",
    "            # n2 is roated 90 degrees along phi, and n3 is the\n",
    "            # cross product of the two\n",
    "            n1x,n1y,n1z = sin(phi)*cos(theta), sin(phi)*sin(theta), cos(phi)\n",
    "            n2x,n2y,n2z = cos(phi)*cos(theta), cos(phi)*sin(theta), -sin(phi)\n",
    "            # Cross product\n",
    "            n3x,n3y,n3z = (n1y*n2z - n1z*n2y,\n",
    "                           n1z*n2x - n1x*n2z,\n",
    "                           n1x*n2y - n1y*n2x)\n",
    "            # Convert pos from x/y/z coordinates to n1/n2/n3 coordinates\n",
    "            u = n1x*x + n1y*y + n1z*z\n",
    "            v = n2x*x + n2y*y + n2z*z\n",
    "            w = n3x*x + n3y*y + n3z*z\n",
    "            # Pull the amplitude from the shuffled array index (\"j\"), not \"i\",\n",
    "            # otherwise neighboring unit vectors will have similar amplitudes!\n",
    "            size = self.sizes[j]\n",
    "            # Noise is the average of cosine of distance along\n",
    "            # each axis, shifted by offsets and scaled by amplitude.\n",
    "            noise += size/3*(cos(u/size + self.offsets[3*i])\n",
    "                             + cos(v/size + self.offsets[3*i+1])\n",
    "                             + cos(w/size + self.offsets[3*i+2]))\n",
    "\n",
    "        # Approximate normal CDF:\n",
    "        noise /= 3 * self.sigma\n",
    "        return (0.5*(-1 if noise < 0 else 1) * sqrt(1 - exp(-2/pi * noise*noise)) + 0.5)"
   ]
  },
  {
   "cell_type": "code",
   "execution_count": 14,
   "id": "b760e5f8",
   "metadata": {},
   "outputs": [
    {
     "data": {
      "text/plain": [
       "0.5730200826803317"
      ]
     },
     "execution_count": 14,
     "metadata": {},
     "output_type": "execute_result"
    }
   ],
   "source": [
    "hn3d = HillNoise3D([random() for _ in range(32)])\n",
    "hn3d.evaluate(1,2,3)"
   ]
  },
  {
   "cell_type": "code",
   "execution_count": 15,
   "id": "fa909ed6",
   "metadata": {},
   "outputs": [
    {
     "data": {
      "image/png": "[encoded data removed]",
      "text/plain": [
       "<Figure size 432x288 with 1 Axes>"
      ]
     },
     "metadata": {
      "needs_background": "light"
     },
     "output_type": "display_data"
    },
    {
     "data": {
      "image/png": "[encoded data removed]",
      "text/plain": [
       "<Figure size 432x288 with 1 Axes>"
      ]
     },
     "metadata": {
      "needs_background": "light"
     },
     "output_type": "display_data"
    },
    {
     "data": {
      "image/png": "[encoded data removed]",
      "text/plain": [
       "<Figure size 432x288 with 1 Axes>"
      ]
     },
     "metadata": {
      "needs_background": "light"
     },
     "output_type": "display_data"
    },
    {
     "data": {
      "image/png": "[encoded data removed]",
      "text/plain": [
       "<Figure size 432x288 with 1 Axes>"
      ]
     },
     "metadata": {
      "needs_background": "light"
     },
     "output_type": "display_data"
    }
   ],
   "source": [
    "hn3d = HillNoise3D([random() for _ in range(32)])\n",
    "\n",
    "img_w = 50\n",
    "img_h = 50\n",
    "\n",
    "for z in range(0, 40, 10):\n",
    "    img = Image.new('RGBA', (img_w, img_h), (0, 0, 0, 0))\n",
    "    pixels = img.load()\n",
    "    for x in range(img_w):\n",
    "        for y in range(img_h):\n",
    "            h = hn3d.evaluate(x, y, z) * 127 + 128\n",
    "            r = h\n",
    "            g = h\n",
    "            b = h\n",
    "            pixels[x, y] = ( int(r), int(g), int(b), int(255) )\n",
    "    plt.imshow(img)\n",
    "    plt.show()"
   ]
  },
  {
   "cell_type": "code",
   "execution_count": 16,
   "id": "a5ad15c6",
   "metadata": {},
   "outputs": [],
   "source": [
    "class HillNoise3Dbis:\n",
    "    GOLDEN_RATIO = (sqrt(5)+1)/2\n",
    "    def __init__(self, sizes, random=random):\n",
    "        self.sizes = sizes\n",
    "        self.offsets = [random()*2*pi for _ in range(3*len(sizes))]\n",
    "        self.sigma = sqrt(sum((a/2)**2 for a in self.sizes))\n",
    "\n",
    "        # Find the biggest Fibonacci number fib_num such that fib_num < resolution\n",
    "        fib_num = floor(log((len(self.sizes)-1)*sqrt(5) + .5)/log(self.GOLDEN_RATIO))\n",
    "        self.dec = floor(.5 + (self.GOLDEN_RATIO**fib_num)/sqrt(5))\n",
    "        self.inc = floor(.5 + self.dec/self.GOLDEN_RATIO)\n",
    "\n",
    "    def evaluate(self, x, y, z):\n",
    "        noise = 0\n",
    "        j = 0\n",
    "        for i in range(len(self.sizes)):\n",
    "            if j >= self.dec:\n",
    "                j -= self.dec\n",
    "            else:\n",
    "                j += self.inc\n",
    "                if j >= len(self.sizes):\n",
    "                    j -= self.dec\n",
    "\n",
    "            # Convert golden ratio sequence into polar coordinate unit vector\n",
    "            phi = ((i*self.GOLDEN_RATIO) % 1) * 2*pi\n",
    "            theta = acos(-1+2*((j*self.GOLDEN_RATIO) % 1))\n",
    "\n",
    "            # Make an orthonormal basis, where n1 is from polar phi/theta,\n",
    "            # n2 is roated 90 degrees along phi, and n3 is the\n",
    "            # cross product of the two\n",
    "            n1x,n1y,n1z = sin(phi)*cos(theta), sin(phi)*sin(theta), cos(phi)\n",
    "            n2x,n2y,n2z = cos(phi)*cos(theta), cos(phi)*sin(theta), -sin(phi)\n",
    "\n",
    "            # Cross product\n",
    "            n3x,n3y,n3z = (n1y*n2z - n1z*n2y,\n",
    "                           n1z*n2x - n1x*n2z,\n",
    "                           n1x*n2y - n1y*n2x)\n",
    "\n",
    "            # Convert pos from x/y/z coordinates to n1/n2/n3 coordinates\n",
    "            u = n1x*x + n1y*y + n1z*z\n",
    "            v = n2x*x + n2y*y + n2z*z\n",
    "            w = n3x*x + n3y*y + n3z*z\n",
    "\n",
    "            # Pull the amplitude from the shuffled array index (\"j\"), not \"i\",\n",
    "            # otherwise neighboring unit vectors will have similar amplitudes!\n",
    "            size = self.sizes[j]\n",
    "\n",
    "            # Noise is the average of cosine of distance along\n",
    "            # each axis, shifted by offsets and scaled by amplitude.\n",
    "            noise += size/3*(  cos(u/size + self.offsets[3*i])\n",
    "                             + cos(v/size + self.offsets[3*i+1])\n",
    "                             + cos(w/size + self.offsets[3*i+2]))\n",
    "\n",
    "        # Approximate normal CDF:\n",
    "        noise /= 3 * self.sigma\n",
    "        return (0.5 * (-1 if noise < 0 else 1) * sqrt(1 - exp(-2/pi * noise*noise)) + 0.5)"
   ]
  },
  {
   "cell_type": "code",
   "execution_count": 17,
   "id": "cf16b732",
   "metadata": {},
   "outputs": [
    {
     "data": {
      "image/png": "[encoded data removed]",
      "text/plain": [
       "<Figure size 432x288 with 1 Axes>"
      ]
     },
     "metadata": {
      "needs_background": "light"
     },
     "output_type": "display_data"
    },
    {
     "data": {
      "image/png": "[encoded data removed]",
      "text/plain": [
       "<Figure size 432x288 with 1 Axes>"
      ]
     },
     "metadata": {
      "needs_background": "light"
     },
     "output_type": "display_data"
    },
    {
     "data": {
      "image/png": "[encoded data removed]",
      "text/plain": [
       "<Figure size 432x288 with 1 Axes>"
      ]
     },
     "metadata": {
      "needs_background": "light"
     },
     "output_type": "display_data"
    },
    {
     "data": {
      "image/png": "[encoded data removed]",
      "text/plain": [
       "<Figure size 432x288 with 1 Axes>"
      ]
     },
     "metadata": {
      "needs_background": "light"
     },
     "output_type": "display_data"
    }
   ],
   "source": [
    "hn3d = HillNoise3Dbis([random() for _ in range(32)])\n",
    "\n",
    "img_w = 50\n",
    "img_h = 50\n",
    "\n",
    "for z in range(0, 40, 10):\n",
    "    img = Image.new('RGBA', (img_w, img_h), (0, 0, 0, 0))\n",
    "    pixels = img.load()\n",
    "    for x in range(img_w):\n",
    "        for y in range(img_h):\n",
    "            h = hn3d.evaluate(x, y, z) * 127 + 128\n",
    "            r = h\n",
    "            g = h\n",
    "            b = h\n",
    "            pixels[x, y] = ( int(r), int(g), int(b), int(255) )\n",
    "    plt.imshow(img)\n",
    "    plt.show()"
   ]
  },
  {
   "cell_type": "code",
   "execution_count": null,
   "id": "d59108fe",
   "metadata": {},
   "outputs": [],
   "source": []
  }
 ],
 "metadata": {
  "kernelspec": {
   "display_name": "Python 3 (ipykernel)",
   "language": "python",
   "name": "python3"
  },
  "language_info": {
   "codemirror_mode": {
    "name": "ipython",
    "version": 3
   },
   "file_extension": ".py",
   "mimetype": "text/x-python",
   "name": "python",
   "nbconvert_exporter": "python",
   "pygments_lexer": "ipython3",
   "version": "3.9.7"
  }
 },
 "nbformat": 4,
 "nbformat_minor": 5
}
