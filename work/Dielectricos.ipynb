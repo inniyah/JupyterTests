{
 "cells": [
  {
   "cell_type": "code",
   "execution_count": 16,
   "id": "217bc5e8",
   "metadata": {},
   "outputs": [
    {
     "name": "stdout",
     "output_type": "stream",
     "text": [
      "8.85418781762039e-12 farad / meter\n"
     ]
    }
   ],
   "source": [
    "from math import *\n",
    "from pprint import pprint\n",
    "\n",
    "import numpy as np\n",
    "import matplotlib.pyplot as plt\n",
    "\n",
    "from pint import UnitRegistry, set_application_registry\n",
    "ureg = UnitRegistry()\n",
    "set_application_registry(ureg)\n",
    "\n",
    "litros = ureg.litre\n",
    "atmosferas = ureg.atmosphere\n",
    "moles = ureg.mol\n",
    "kelvins = ureg.kelvin\n",
    "kilogramos = ureg.kilogram\n",
    "gramos = ureg.gram\n",
    "kilometros = ureg.kilometer\n",
    "metros = ureg.meter\n",
    "milimetros = ureg.millimeter\n",
    "centimetros = ureg.centimeter\n",
    "nanometros = ureg.nanometer\n",
    "femtometros = ureg.femtometer\n",
    "fermis = ureg.femtometer\n",
    "julios = ureg.joule\n",
    "kilojulios = ureg.kilojoule\n",
    "pascales = ureg.pascal\n",
    "newtons = ureg.newton\n",
    "teslas = ureg.tesla\n",
    "voltios = ureg.volt\n",
    "kilovoltios = ureg.kilovolt\n",
    "culombios = ureg.coulomb\n",
    "amperios = ureg.ampere\n",
    "faradios = ureg.farad\n",
    "nanofaradios = ureg.nanofarad\n",
    "segundos = ureg.second\n",
    "nanosegundos = ureg.nanosecond\n",
    "horas = ureg.hour\n",
    "eV = ureg.electron_volt\n",
    "MeV = ureg.megaelectron_volt\n",
    "keV = ureg.kiloelectron_volt\n",
    "Å = ureg.angstrom\n",
    "\n",
    "c = ureg.speed_of_light\n",
    "\n",
    "Q = ureg.Quantity\n",
    "\n",
    "h = 6.628e-34 * julios * segundos \n",
    "ℏ = h / ( 2 * pi )\n",
    "\n",
    "ℏc = 200 * eV * nanometros\n",
    "\n",
    "atmosfera = 101327.38879319 * newtons / metros**2\n",
    "\n",
    "µ0 = 4 * pi * 1e-7 * teslas * metros / amperios\n",
    "𝜀0 = 1 / ( µ0 * c**2)\n",
    "print(𝜀0.to(faradios / metros))"
   ]
  },
  {
   "cell_type": "code",
   "execution_count": 29,
   "id": "8bd75148",
   "metadata": {},
   "outputs": [
    {
     "name": "stdout",
     "output_type": "stream",
     "text": [
      "[<Quantity(2, 'millimeter')>, <Quantity(2.5, 'millimeter')>, <Quantity(3, 'millimeter')>, <Quantity(3.5, 'millimeter')>, <Quantity(4, 'millimeter')>]\n",
      "[<Quantity(5.72, 'volt')>, <Quantity(4.13, 'volt')>, <Quantity(3.19, 'volt')>, <Quantity(2.33, 'volt')>, <Quantity(2.04, 'volt')>]\n",
      "220 nanofarad\n",
      "0.5 kilovolt\n",
      "0.0531 meter ** 2\n",
      "[<Quantity(1.27296269e-06, 'farad * volt')>, <Quantity(9.16167544e-07, 'farad * volt')>, <Quantity(7.06306234e-07, 'farad * volt')>, <Quantity(5.149999e-07, 'farad * volt')>, <Quantity(4.50638606e-07, 'farad * volt')>]\n"
     ]
    }
   ],
   "source": [
    "d = [2*milimetros, 2.5*milimetros, 3*milimetros, 3.5*milimetros, 4*milimetros]\n",
    "print(d)\n",
    "V = [5.72*voltios, 4.13*voltios, 3.19*voltios, 2.33*voltios, 2.04*voltios]\n",
    "print([_V.to(voltios) for _V in V])\n",
    "C220 = 220*nanofaradios\n",
    "print(C220)\n",
    "V0 = 0.5*kilovoltios\n",
    "print(V0)\n",
    "S = 0.0531 * metros**2\n",
    "print(S)\n",
    "\n",
    "Q = [C220/(1/_V - 1/V0) for _V in V]\n",
    "print([_Q.to(faradios * voltios) for _Q in Q])"
   ]
  },
  {
   "cell_type": "code",
   "execution_count": 60,
   "id": "9f8ff9b2",
   "metadata": {},
   "outputs": [
    {
     "name": "stdout",
     "output_type": "stream",
     "text": [
      "[500.0, 400.0, 333.3333333333333, 285.7142857142857, 250.0]\n",
      "slope=3.3581167896359884e-09, intercept=-4.159187070505141e-07, r_value=0.9980060006628951, p_value=0.00010685415931158678, std_err=1.2262045267972638e-10\n",
      "1.2648274160587527e-10 farad / meter\n"
     ]
    },
    {
     "data": {
      "image/png": "[encoded data removed]",
      "text/plain": [
       "<Figure size 640x480 with 1 Axes>"
      ]
     },
     "metadata": {},
     "output_type": "display_data"
    }
   ],
   "source": [
    "X = [1/_d.to(metros).magnitude for _d in d]\n",
    "Y = [_Q.to(culombios).magnitude for _Q in Q]\n",
    "print(X)\n",
    "\n",
    "from scipy import stats\n",
    "# https://docs.scipy.org/doc/scipy/reference/generated/scipy.stats.linregress.html\n",
    "\n",
    "slope, intercept, r_value, p_value, std_err = stats.linregress(X, Y)\n",
    "print(f\"slope={slope}, intercept={intercept}, r_value={r_value}, p_value={p_value}, std_err={std_err}\")\n",
    "\n",
    "f = plt.figure()\n",
    "plt.plot(X, Y, 'k.')\n",
    "n = np.array([ 200, 400, 600 ])\n",
    "plt.plot(n, intercept + slope * n, 'b-')\n",
    "\n",
    "e0 = (slope*metros*culombios/S/V0).to(faradios/metros)\n",
    "print(e0)"
   ]
  },
  {
   "cell_type": "code",
   "execution_count": 64,
   "id": "c8120ca2",
   "metadata": {},
   "outputs": [
    {
     "name": "stdout",
     "output_type": "stream",
     "text": [
      "14.285075515810346 dimensionless\n"
     ]
    }
   ],
   "source": [
    "print((e0/𝜀0).to_base_units())"
   ]
  },
  {
   "cell_type": "code",
   "execution_count": 72,
   "id": "22a40093",
   "metadata": {},
   "outputs": [
    {
     "data": {
      "text/plain": [
       "3.651464804862196"
      ]
     },
     "execution_count": 72,
     "metadata": {},
     "output_type": "execute_result"
    }
   ],
   "source": [
    "std_err/slope*100"
   ]
  },
  {
   "cell_type": "code",
   "execution_count": 77,
   "id": "8be3a0c9",
   "metadata": {},
   "outputs": [
    {
     "data": {
      "text/html": [
       "4.6184727939633286×10<sup>-12</sup> farad/meter"
      ],
      "text/latex": [
       "$4.6184727939633286\\times 10^{-12}\\ \\frac{\\mathrm{farad}}{\\mathrm{meter}}$"
      ],
      "text/plain": [
       "<Quantity(4.61847279e-12, 'farad / meter')>"
      ]
     },
     "execution_count": 77,
     "metadata": {},
     "output_type": "execute_result"
    }
   ],
   "source": [
    "e0*(std_err/slope)"
   ]
  },
  {
   "cell_type": "code",
   "execution_count": 84,
   "id": "adafa20f",
   "metadata": {},
   "outputs": [
    {
     "data": {
      "text/html": [
       "26.55 meter<sup>2</sup> volt"
      ],
      "text/latex": [
       "$26.55\\ \\mathrm{meter}^{2} \\cdot \\mathrm{volt}$"
      ],
      "text/plain": [
       "<Quantity(26.55, 'volt * meter ** 2')>"
      ]
     },
     "execution_count": 84,
     "metadata": {},
     "output_type": "execute_result"
    }
   ],
   "source": [
    "(S*V0).to(voltios*metros**2)"
   ]
  },
  {
   "cell_type": "code",
   "execution_count": 87,
   "id": "c0a35523",
   "metadata": {},
   "outputs": [
    {
     "data": {
      "text/plain": [
       "4.6184727939633286e-12"
      ]
     },
     "execution_count": 87,
     "metadata": {},
     "output_type": "execute_result"
    }
   ],
   "source": [
    "std_err/26.55"
   ]
  },
  {
   "cell_type": "code",
   "execution_count": null,
   "id": "e502bdc6",
   "metadata": {},
   "outputs": [],
   "source": []
  },
  {
   "cell_type": "code",
   "execution_count": 92,
   "id": "24891dd3",
   "metadata": {},
   "outputs": [
    {
     "name": "stdout",
     "output_type": "stream",
     "text": [
      "[ 500 1000 1500 2000 2500 3000 3500 4000] volt\n",
      "[2.33 6.05 9.35 10.66 10.68 10.7 10.7 10.71] volt\n",
      "[<Quantity(5.149999e-07, 'farad * volt')>, <Quantity(1.33910156e-06, 'farad * volt')>, <Quantity(2.06990239e-06, 'farad * volt')>, <Quantity(2.3577669e-06, 'farad * volt')>, <Quantity(2.35968056e-06, 'farad * volt')>, <Quantity(2.36242599e-06, 'farad * volt')>, <Quantity(2.36121858e-06, 'farad * volt')>, <Quantity(2.36252566e-06, 'farad * volt')>]\n"
     ]
    }
   ],
   "source": [
    "d = 3.5 * milimetros\n",
    "V0 = [500, 1000, 1500, 2000, 2500, 3000, 3500, 4000]*voltios\n",
    "print(V0)\n",
    "Vf = [2.33, 6.05, 9.35, 10.66, 10.68, 10.7, 10.7, 10.71]*voltios\n",
    "print(Vf)\n",
    "C220 = 220*nanofaradios\n",
    "Q = [C220/(1/_Vf - 1/_V0) for _V0, _Vf in zip(V0, Vf)]\n",
    "print([_Q.to(faradios * voltios) for _Q in Q])"
   ]
  },
  {
   "cell_type": "code",
   "execution_count": 112,
   "id": "9254fcd0",
   "metadata": {},
   "outputs": [
    {
     "name": "stdout",
     "output_type": "stream",
     "text": [
      "[500, 1000, 1500, 2000, 2500, 3000, 3500, 4000]\n",
      "slope=1.5549024920423273e-09, intercept=-2.4690120685200127e-07, r_value=0.9994004535835536, p_value=0.02204592000647913, std_err=5.38672638333382e-11\n",
      "1.0248886482388221e-10 farad / meter\n"
     ]
    },
    {
     "data": {
      "image/png": "[encoded data removed]",
      "text/plain": [
       "<Figure size 640x480 with 1 Axes>"
      ]
     },
     "metadata": {},
     "output_type": "display_data"
    }
   ],
   "source": [
    "X = [_V0.to(voltios).magnitude for _V0 in V0]\n",
    "Y = [_Q.to(culombios).magnitude for _Q in Q]\n",
    "print(X)\n",
    "\n",
    "from scipy import stats\n",
    "# https://docs.scipy.org/doc/scipy/reference/generated/scipy.stats.linregress.html\n",
    "\n",
    "slope, intercept, r_value, p_value, std_err = stats.linregress(X[0:3], Y[0:3])\n",
    "print(f\"slope={slope}, intercept={intercept}, r_value={r_value}, p_value={p_value}, std_err={std_err}\")\n",
    "\n",
    "f = plt.figure()\n",
    "plt.plot(X, Y, 'k.')\n",
    "n = np.array([ 500, 1000, 1500, 1800 ])\n",
    "plt.plot(n, intercept + slope * n, 'b-')\n",
    "\n",
    "e0 = (slope*culombios/voltios*d/S).to(faradios/metros)\n",
    "print(e0)"
   ]
  },
  {
   "cell_type": "code",
   "execution_count": 114,
   "id": "7a4a8205",
   "metadata": {},
   "outputs": [
    {
     "data": {
      "text/html": [
       "0.06591337099811677 1/meter"
      ],
      "text/latex": [
       "$0.06591337099811677\\ \\frac{1}{\\mathrm{meter}}$"
      ],
      "text/plain": [
       "<Quantity(0.065913371, '1 / meter')>"
      ]
     },
     "execution_count": 114,
     "metadata": {},
     "output_type": "execute_result"
    }
   ],
   "source": [
    "(d/S).to(1/metros)"
   ]
  },
  {
   "cell_type": "code",
   "execution_count": 115,
   "id": "033fb9b6",
   "metadata": {},
   "outputs": [
    {
     "data": {
      "text/plain": [
       "3.550572945700258e-12"
      ]
     },
     "execution_count": 115,
     "metadata": {},
     "output_type": "execute_result"
    }
   ],
   "source": [
    "std_err*0.06591337099811677"
   ]
  }
 ],
 "metadata": {
  "kernelspec": {
   "display_name": "Python 3 (ipykernel)",
   "language": "python",
   "name": "python3"
  },
  "language_info": {
   "codemirror_mode": {
    "name": "ipython",
    "version": 3
   },
   "file_extension": ".py",
   "mimetype": "text/x-python",
   "name": "python",
   "nbconvert_exporter": "python",
   "pygments_lexer": "ipython3",
   "version": "3.12.7"
  }
 },
 "nbformat": 4,
 "nbformat_minor": 5
}
