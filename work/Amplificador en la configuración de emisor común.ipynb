{
 "cells": [
  {
   "cell_type": "code",
   "execution_count": 1,
   "id": "76c27a9e",
   "metadata": {},
   "outputs": [],
   "source": [
    "from math import *\n",
    "from pprint import pprint\n",
    "\n",
    "import numpy as np\n",
    "import matplotlib.pyplot as plt\n",
    "\n",
    "from pint import UnitRegistry, set_application_registry\n",
    "ureg = UnitRegistry()\n",
    "set_application_registry(ureg)"
   ]
  },
  {
   "cell_type": "code",
   "execution_count": 2,
   "id": "492dd809",
   "metadata": {},
   "outputs": [],
   "source": [
    "litros = ureg.litre\n",
    "atmosferas = ureg.atmosphere\n",
    "moles = ureg.mol\n",
    "kelvins = ureg.kelvin\n",
    "kilogramos = ureg.kilogram\n",
    "gramos = ureg.gram\n",
    "kilometros = ureg.kilometer\n",
    "metros = ureg.meter\n",
    "centimetros = ureg.centimeter\n",
    "nanometros = ureg.nanometer\n",
    "femtometros = ureg.femtometer\n",
    "fermis = ureg.femtometer\n",
    "julios = ureg.joule\n",
    "kilojulios = ureg.kilojoule\n",
    "pascales = ureg.pascal\n",
    "newtons = ureg.newton\n",
    "teslas = ureg.tesla\n",
    "culombios = ureg.coulomb\n",
    "amperios = ureg.ampere\n",
    "miliamperios = ureg.milliampere\n",
    "faradios = ureg.farad\n",
    "segundos = ureg.second\n",
    "nanosegundos = ureg.nanosecond\n",
    "horas = ureg.hour\n",
    "hercios = ureg.hertz\n",
    "kilohercios = ureg.kilohertz\n",
    "voltios = ureg.volt\n",
    "milivoltios = ureg.millivolt\n",
    "ohmios = ureg.ohm\n",
    "kiloohmios = ureg.kiloohm\n",
    "eV = ureg.electron_volt\n",
    "MeV = ureg.megaelectron_volt\n",
    "keV = ureg.kiloelectron_volt\n",
    "Å = ureg.angstrom\n",
    "\n",
    "c = ureg.speed_of_light\n",
    "\n",
    "Q = ureg.Quantity\n",
    "\n",
    "h = 6.628e-34 * julios * segundos \n",
    "ℏ = h / ( 2 * pi )\n",
    "\n",
    "ℏc = 200 * eV * nanometros\n",
    "\n",
    "atmosfera = 101327.38879319 * newtons / metros**2\n",
    "\n",
    "µ0 = 4 * pi * 1e-7 * teslas * metros / amperios\n",
    "𝜀0 = 1 / ( µ0 * c**2)\n",
    "#print(𝜀0.to(faradios / metros))"
   ]
  },
  {
   "cell_type": "markdown",
   "id": "aead44f6",
   "metadata": {},
   "source": [
    "**Amplificador en la configuración de emisor común**"
   ]
  },
  {
   "cell_type": "code",
   "execution_count": 3,
   "id": "1236a7ab",
   "metadata": {},
   "outputs": [],
   "source": [
    "Vcc = 15 * voltios"
   ]
  },
  {
   "cell_type": "markdown",
   "id": "244c3734",
   "metadata": {},
   "source": [
    "3. Circuito amplificador en emisor común con condensador de emisor"
   ]
  },
  {
   "cell_type": "markdown",
   "id": "10fdf68a",
   "metadata": {},
   "source": [
    "El circuito de la figura 3 incluye una mejora con respecto al estudiado en la\n",
    "sección 2a. Contiene un condensador de emisor que consigue incrementar\n",
    "apreciablemente la ganancia sin que se pierda la estabilidad térmica aportada por la\n",
    "resistencia de emisor."
   ]
  },
  {
   "cell_type": "markdown",
   "id": "32019b46",
   "metadata": {},
   "source": [
    "a) Monta el circuito de la figura 3. Fija las dos sondas del osciloscopio, y la opción\n",
    "correspondiente en cada canal del osciloscopio, a una atenuación de 10x."
   ]
  },
  {
   "cell_type": "markdown",
   "id": "3b8c7790",
   "metadata": {},
   "source": [
    "b) Aplica una señal de entrada, vi, sinusoidal de una frecuencia de 10.000 Hz y ajusta su\n",
    "amplitud de manera que el voltaje p-p a la salida, vo, sea de, aproximadamente, 2 V.\n",
    "Utiliza el offset del generador de ondas para suprimir la tensión continua que pudiera\n",
    "tener la señal vS a la entrada."
   ]
  },
  {
   "cell_type": "markdown",
   "id": "7da2b430",
   "metadata": {},
   "source": [
    "c) Determina el valor de la ganancia en voltaje a una frecuencia central (~10 kHz)."
   ]
  },
  {
   "cell_type": "code",
   "execution_count": 4,
   "id": "baffb02d",
   "metadata": {},
   "outputs": [],
   "source": [
    "Rs = 100.5 * kiloohmios\n",
    "Rc = 2.68 * kiloohmios\n",
    "Rl = 28.4 * kiloohmios\n",
    "Re = 223 * ohmios"
   ]
  },
  {
   "cell_type": "code",
   "execution_count": 5,
   "id": "06be0046",
   "metadata": {},
   "outputs": [
    {
     "name": "stdout",
     "output_type": "stream",
     "text": [
      "-139.96075866579466 dimensionless\n"
     ]
    }
   ],
   "source": [
    "fc = 10.08 * kilohercios\n",
    "Vs = 1.074 * voltios\n",
    "Vi = 15.29 * milivoltios\n",
    "V0 =  2.14 * voltios\n",
    "Av = -V0 / Vi\n",
    "print(Av.to_base_units())"
   ]
  },
  {
   "cell_type": "markdown",
   "id": "38372f9d",
   "metadata": {},
   "source": [
    "d) Obtén el valor de la ganancia de corriente ic/ii a una frecuencia central (~10 kHz).\n",
    "Para determinar la ganancia de corriente, debes medir también vS, de modo que puedas\n",
    "estimar la componente alterna de la corriente de entrada utilizando la ley de Ohm.\n",
    "Explica el valor de ganancia obtenido."
   ]
  },
  {
   "cell_type": "code",
   "execution_count": 6,
   "id": "17b4381b",
   "metadata": {
    "scrolled": true
   },
   "outputs": [
    {
     "name": "stdout",
     "output_type": "stream",
     "text": [
      "1.0534427860696518e-05 ampere\n",
      "0.0007985074626865672 ampere\n",
      "0.7985074626865671 milliampere\n",
      "75.79979408903287 dimensionless\n"
     ]
    }
   ],
   "source": [
    "Ii = (Vs - Vi) / Rs\n",
    "print(Ii.to_base_units())\n",
    "Ic = V0 / Rc\n",
    "print(Ic.to_base_units())\n",
    "print(Ic.to(miliamperios))\n",
    "Ai = Ic / Ii\n",
    "print(Ai.to_base_units())"
   ]
  },
  {
   "cell_type": "markdown",
   "id": "c8076bb7",
   "metadata": {},
   "source": [
    "e) Compara el valor de la ganancia en voltaje a frecuencias centrales con el estimado\n",
    "teóricamente a partir del modelo híbrido de pequeña señal basado en los parámetros hie\n",
    "y hfe (toma los valores hfe = 330, hie = 4500 ohm para este transistor). Explica las\n",
    "discrepancias que observes entre las ganancias experimentales y las teóricas."
   ]
  },
  {
   "cell_type": "code",
   "execution_count": 7,
   "id": "d96c26d2",
   "metadata": {},
   "outputs": [
    {
     "name": "stdout",
     "output_type": "stream",
     "text": [
      "2.448906048906049 kiloohm\n",
      "-179.5864435864436 dimensionless\n"
     ]
    }
   ],
   "source": [
    "Rl_Rc = 1 / ((1/Rl) + (1/Rc))\n",
    "print(Rl_Rc)\n",
    "h_fe = 330\n",
    "h_ie = 4500 * ohmios\n",
    "Av_teorica = - h_fe * Rl_Rc / h_ie\n",
    "print(Av_teorica.to_base_units())"
   ]
  },
  {
   "cell_type": "markdown",
   "id": "e97df47b",
   "metadata": {},
   "source": [
    "f) Explica el aumento de ganancia al colocar el condensador en el emisor."
   ]
  },
  {
   "cell_type": "markdown",
   "id": "d515b391",
   "metadata": {},
   "source": [
    "4. Margen dinámico"
   ]
  },
  {
   "cell_type": "markdown",
   "id": "9b0ad88c",
   "metadata": {},
   "source": [
    "El margen dinámico nos indica el rango de amplitudes que se pueden conectar a\n",
    "la entrada sin que se produzca distorsión en la señal de salida."
   ]
  },
  {
   "cell_type": "markdown",
   "id": "9cb2c9bc",
   "metadata": {},
   "source": [
    "a) Selecciona una frecuencia de 10 kHz e incrementa progresivamente la amplitud de\n",
    "entrada, vi, mientras observas la señal de salida, vo. Determina para qué valor de la\n",
    "amplitud pico-pico de vo comienza a distorsionarse la señal de salida. ¿En qué\n",
    "semiperiodo de la señal de salida se produce la distorsión, en el positivo o en el\n",
    "negativo?. Con ayuda de la recta de carga, explica por qué se produce la distorsión y a\n",
    "qué región de trabajo corresponde."
   ]
  },
  {
   "cell_type": "code",
   "execution_count": 8,
   "id": "58703056",
   "metadata": {},
   "outputs": [],
   "source": [
    "Vdistorsion = 86.4 * milivoltios\n",
    "# Semiperiodo positivo\n"
   ]
  },
  {
   "cell_type": "markdown",
   "id": "ef6cd5f2",
   "metadata": {},
   "source": [
    "b) Sigue incrementando la amplitud de entrada hasta que la distorsión aparezca también\n",
    "en el otro semiperiodo. Explica lo que sucede cuando ves la distorsión en ambos\n",
    "semiperiodos. ¿A qué región de trabajo corresponde esta segunda distorsión?."
   ]
  },
  {
   "cell_type": "code",
   "execution_count": 9,
   "id": "1553bc6f",
   "metadata": {},
   "outputs": [],
   "source": [
    "Vdistorsion = 108.3 * milivoltios\n",
    "# Semiperiodo negativo\n"
   ]
  },
  {
   "cell_type": "markdown",
   "id": "57528633",
   "metadata": {},
   "source": [
    "5. Resistencia de carga"
   ]
  },
  {
   "cell_type": "markdown",
   "id": "c4b7bcb1",
   "metadata": {},
   "source": [
    "En este apartado se estudia el efecto de conectar este amplificador de voltaje a una\n",
    "resistencia de carga finita, es decir, a un circuito consumidor de potencia. El efecto es la\n",
    "reducción en la amplificación."
   ]
  },
  {
   "cell_type": "markdown",
   "id": "b351a149",
   "metadata": {},
   "source": [
    "a) Comprueba el valor de ganancia en voltaje a 10 kHz a la salida del circuito al poner\n",
    "una resistencia de carga, RL, de 2.2 kohm a la salida del amplificador, tal y como se indica\n",
    "en la figura 4."
   ]
  },
  {
   "cell_type": "code",
   "execution_count": 10,
   "id": "68504db6",
   "metadata": {},
   "outputs": [
    {
     "name": "stdout",
     "output_type": "stream",
     "text": [
      "122.22033610592429 dimensionless\n"
     ]
    }
   ],
   "source": [
    "Vi = 58.91 * milivoltios\n",
    "V0 = 7.2 * voltios\n",
    "Av = V0 / Vi\n",
    "print(Av.to_base_units())"
   ]
  },
  {
   "cell_type": "markdown",
   "id": "ef0ffa88",
   "metadata": {},
   "source": [
    "b) Explica la caída en ganancia observada al colocar RL = 2.2 kohm en comparación con la\n",
    "ganancia obtenida para el caso RL = infinito."
   ]
  },
  {
   "cell_type": "code",
   "execution_count": null,
   "id": "307d9b40",
   "metadata": {},
   "outputs": [],
   "source": []
  },
  {
   "cell_type": "code",
   "execution_count": null,
   "id": "26473629",
   "metadata": {},
   "outputs": [],
   "source": []
  }
 ],
 "metadata": {
  "kernelspec": {
   "display_name": "Python 3 (ipykernel)",
   "language": "python",
   "name": "python3"
  },
  "language_info": {
   "codemirror_mode": {
    "name": "ipython",
    "version": 3
   },
   "file_extension": ".py",
   "mimetype": "text/x-python",
   "name": "python",
   "nbconvert_exporter": "python",
   "pygments_lexer": "ipython3",
   "version": "3.13.7"
  }
 },
 "nbformat": 4,
 "nbformat_minor": 5
}
