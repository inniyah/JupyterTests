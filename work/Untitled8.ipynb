{
 "cells": [
  {
   "cell_type": "code",
   "execution_count": 16,
   "id": "2e969d11",
   "metadata": {},
   "outputs": [
    {
     "data": {
      "text/plain": [
       "[0, (2, 10)]"
      ]
     },
     "execution_count": 16,
     "metadata": {},
     "output_type": "execute_result"
    }
   ],
   "source": [
    "a = [1, 2, 3]\n",
    "b = [4+i for i in a ]\n",
    "[ ( (n, i1 + i2) if n else n )     for n, (i1, i2) in enumerate(zip(a, b))          if n % 2 == 0 ]"
   ]
  },
  {
   "cell_type": "code",
   "execution_count": 23,
   "id": "196be087",
   "metadata": {},
   "outputs": [
    {
     "data": {
      "text/plain": [
       "[(0, 1),\n",
       " (2, 0),\n",
       " (2, 1),\n",
       " (0, 3),\n",
       " (1, 3),\n",
       " (2, 3),\n",
       " (4, 0),\n",
       " (4, 1),\n",
       " (4, 2),\n",
       " (4, 3)]"
      ]
     },
     "execution_count": 23,
     "metadata": {},
     "output_type": "execute_result"
    }
   ],
   "source": [
    "n = 5\n",
    "[ ( (x,y) if x %2 == 0 else (y,x) )   \\\n",
    "    for x in range(n) \\\n",
    "        for y in range(x) \\\n",
    "            if x != y \\\n",
    "]"
   ]
  },
  {
   "cell_type": "code",
   "execution_count": 24,
   "id": "e7cefb1e",
   "metadata": {},
   "outputs": [
    {
     "data": {
      "text/plain": [
       "{1: 0, 2: 1, 3: 2, 4: 3}"
      ]
     },
     "execution_count": 24,
     "metadata": {},
     "output_type": "execute_result"
    }
   ],
   "source": [
    "{ x: y  \\\n",
    "    for x in range(n) \\\n",
    "        for y in range(x) \\\n",
    "            if x != y \\\n",
    "}"
   ]
  },
  {
   "cell_type": "code",
   "execution_count": 26,
   "id": "1f57814c",
   "metadata": {},
   "outputs": [],
   "source": [
    "d = {\n",
    "    'a': 5,\n",
    "    'b': 4,\n",
    "    'c': 7\n",
    "}"
   ]
  },
  {
   "cell_type": "code",
   "execution_count": 27,
   "id": "475d5ee8",
   "metadata": {},
   "outputs": [
    {
     "data": {
      "text/plain": [
       "5"
      ]
     },
     "execution_count": 27,
     "metadata": {},
     "output_type": "execute_result"
    }
   ],
   "source": [
    "d['a']"
   ]
  },
  {
   "cell_type": "code",
   "execution_count": null,
   "id": "a994514e",
   "metadata": {},
   "outputs": [],
   "source": []
  },
  {
   "cell_type": "code",
   "execution_count": 29,
   "id": "10917c68",
   "metadata": {},
   "outputs": [
    {
     "data": {
      "text/plain": [
       "[2, 1, 2, 1, 2, 1, 2]"
      ]
     },
     "execution_count": 29,
     "metadata": {},
     "output_type": "execute_result"
    }
   ],
   "source": [
    "def A(x):\n",
    "    return 1\n",
    "\n",
    "def B(x):\n",
    "    return 2\n",
    "\n",
    "[ f(0) for f in [ A if i % 2 else B   for i in range(7) ] ]"
   ]
  }
 ],
 "metadata": {
  "kernelspec": {
   "display_name": "Python 3 (ipykernel)",
   "language": "python",
   "name": "python3"
  },
  "language_info": {
   "codemirror_mode": {
    "name": "ipython",
    "version": 3
   },
   "file_extension": ".py",
   "mimetype": "text/x-python",
   "name": "python",
   "nbconvert_exporter": "python",
   "pygments_lexer": "ipython3",
   "version": "3.11.9"
  }
 },
 "nbformat": 4,
 "nbformat_minor": 5
}
