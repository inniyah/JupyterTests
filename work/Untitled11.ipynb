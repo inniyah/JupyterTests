{
 "cells": [
  {
   "cell_type": "code",
   "execution_count": 15,
   "id": "a8518bab",
   "metadata": {},
   "outputs": [],
   "source": [
    "import math as m \n",
    "\n",
    "def gen(x):\n",
    "    return ((x + m.pi)**2) % 1"
   ]
  },
  {
   "cell_type": "code",
   "execution_count": 16,
   "id": "2f5f59df",
   "metadata": {},
   "outputs": [
    {
     "data": {
      "text/plain": [
       "[1.2311444133449163,\n",
       " 1.3903891703159093,\n",
       " 1.515716566510398,\n",
       " 1.6206565966927624,\n",
       " 1.711769859409705,\n",
       " 1.792789962520997,\n",
       " 1.8660659830736148,\n",
       " 1.9331820449317627,\n",
       " 1.9952623149688795]"
      ]
     },
     "execution_count": 16,
     "metadata": {},
     "output_type": "execute_result"
    }
   ],
   "source": [
    "w = []\n",
    "n = 2\n",
    "while n <= 10:\n",
    "    w.append(n**0.3)\n",
    "    n+=1\n",
    "w"
   ]
  },
  {
   "cell_type": "code",
   "execution_count": 17,
   "id": "d7c9e65f",
   "metadata": {},
   "outputs": [
    {
     "data": {
      "text/plain": [
       "[0.12082945654476518,\n",
       " 0.5388592522116618,\n",
       " 0.6905291716302493,\n",
       " 0.6790179218167616,\n",
       " 0.5551276825888003,\n",
       " 0.34813180217636486,\n",
       " 0.07664502134961637,\n",
       " 0.7533382407545481,\n",
       " 0.38727896800592276]"
      ]
     },
     "execution_count": 17,
     "metadata": {},
     "output_type": "execute_result"
    }
   ],
   "source": [
    "z = [ gen(e) for e in w ]\n",
    "z"
   ]
  },
  {
   "cell_type": "code",
   "execution_count": 29,
   "id": "8f6adc66",
   "metadata": {},
   "outputs": [
    {
     "data": {
      "text/plain": [
       "[(1.2311444133449163, (0, 0.12082945654476518)),\n",
       " (1.3903891703159093, (1, 0.5388592522116618)),\n",
       " (1.515716566510398, (2, 0.6905291716302493)),\n",
       " (1.6206565966927624, (3, 0.6790179218167616)),\n",
       " (1.711769859409705, (4, 0.5551276825888003)),\n",
       " (1.792789962520997, (5, 0.34813180217636486)),\n",
       " (1.8660659830736148, (6, 0.07664502134961637)),\n",
       " (1.9331820449317627, (7, 0.7533382407545481)),\n",
       " (1.9952623149688795, (8, 0.38727896800592276))]"
      ]
     },
     "execution_count": 29,
     "metadata": {},
     "output_type": "execute_result"
    }
   ],
   "source": [
    "[ i for i in zip(w,enumerate(z)) ]"
   ]
  },
  {
   "cell_type": "code",
   "execution_count": 24,
   "id": "8d373439",
   "metadata": {},
   "outputs": [
    {
     "name": "stdout",
     "output_type": "stream",
     "text": [
      "0 1.2311444133449163 0.12082945654476518\n",
      "1 1.3903891703159093 0.5388592522116618\n",
      "2 1.515716566510398 0.6905291716302493\n",
      "3 1.6206565966927624 0.6790179218167616\n",
      "4 1.711769859409705 0.5551276825888003\n",
      "5 1.792789962520997 0.34813180217636486\n",
      "6 1.8660659830736148 0.07664502134961637\n",
      "7 1.9331820449317627 0.7533382407545481\n",
      "8 1.9952623149688795 0.38727896800592276\n",
      "0 (1.2311444133449163, 0.12082945654476518)\n",
      "1 (1.3903891703159093, 0.5388592522116618)\n",
      "2 (1.515716566510398, 0.6905291716302493)\n",
      "3 (1.6206565966927624, 0.6790179218167616)\n",
      "4 (1.711769859409705, 0.5551276825888003)\n",
      "5 (1.792789962520997, 0.34813180217636486)\n",
      "6 (1.8660659830736148, 0.07664502134961637)\n",
      "7 (1.9331820449317627, 0.7533382407545481)\n",
      "8 (1.9952623149688795, 0.38727896800592276)\n",
      "(0, (1.2311444133449163, 0.12082945654476518))\n",
      "(1, (1.3903891703159093, 0.5388592522116618))\n",
      "(2, (1.515716566510398, 0.6905291716302493))\n",
      "(3, (1.6206565966927624, 0.6790179218167616))\n",
      "(4, (1.711769859409705, 0.5551276825888003))\n",
      "(5, (1.792789962520997, 0.34813180217636486))\n",
      "(6, (1.8660659830736148, 0.07664502134961637))\n",
      "(7, (1.9331820449317627, 0.7533382407545481))\n",
      "(8, (1.9952623149688795, 0.38727896800592276))\n"
     ]
    }
   ],
   "source": [
    "for i, (e1, e2) in enumerate(zip(w,z)):\n",
    "    print(i, e1, e2)\n",
    "\n",
    "for i, e in enumerate(zip(w,z)):\n",
    "    print(i, e)\n",
    "\n",
    "for i in enumerate(zip(w,z)):\n",
    "    print(i)"
   ]
  },
  {
   "cell_type": "code",
   "execution_count": 25,
   "id": "491ea464",
   "metadata": {},
   "outputs": [
    {
     "name": "stdout",
     "output_type": "stream",
     "text": [
      "0 1.2311444133449163 0.12082945654476518\n",
      "1 1.3903891703159093 0.5388592522116618\n",
      "2 1.515716566510398 0.6905291716302493\n",
      "3 1.6206565966927624 0.6790179218167616\n",
      "4 1.711769859409705 0.5551276825888003\n",
      "5 1.792789962520997 0.34813180217636486\n",
      "6 1.8660659830736148 0.07664502134961637\n",
      "7 1.9331820449317627 0.7533382407545481\n",
      "8 1.9952623149688795 0.38727896800592276\n"
     ]
    }
   ],
   "source": [
    "for i in range(len(w)):\n",
    "    print(i, w[i], z[i])"
   ]
  },
  {
   "cell_type": "code",
   "execution_count": 30,
   "id": "1d32e9d8",
   "metadata": {},
   "outputs": [],
   "source": [
    "f = open( 'salida.txt', 'w')\n",
    "for i in range(len(w)):\n",
    "    f.write('%3d%13.8f%13.8f\\n'%(i,w[i],z[i]))\n",
    "f.close()\n"
   ]
  },
  {
   "cell_type": "code",
   "execution_count": 36,
   "id": "7f995901",
   "metadata": {},
   "outputs": [
    {
     "name": "stdout",
     "output_type": "stream",
     "text": [
      "['  0   1.23114441   0.12082946\\n', '  1   1.39038917   0.53885925\\n', '  2   1.51571657   0.69052917\\n', '  3   1.62065660   0.67901792\\n', '  4   1.71176986   0.55512768\\n', '  5   1.79278996   0.34813180\\n', '  6   1.86606598   0.07664502\\n', '  7   1.93318204   0.75333824\\n', '  8   1.99526231   0.38727897\\n']\n"
     ]
    }
   ],
   "source": [
    "with open( 'salida.txt', 'r') as f: # No necesita close, es automatico al salir del bloque indentado\n",
    "    LL = f.readlines()\n",
    "print(LL)"
   ]
  },
  {
   "cell_type": "code",
   "execution_count": 39,
   "id": "189b8517",
   "metadata": {},
   "outputs": [
    {
     "name": "stdout",
     "output_type": "stream",
     "text": [
      "0.12082946 0.53885925 0.69052917 0.67901792 0.55512768 0.34813180 0.07664502 0.75333824 0.38727897\n"
     ]
    }
   ],
   "source": [
    "s=''\n",
    "for linea in LL:\n",
    "    datos = linea.split()\n",
    "    z = datos[-1]\n",
    "    if s:\n",
    "        s+=' '\n",
    "    s+=z\n",
    "print(s)"
   ]
  },
  {
   "cell_type": "code",
   "execution_count": null,
   "id": "85279d58",
   "metadata": {},
   "outputs": [],
   "source": []
  },
  {
   "cell_type": "code",
   "execution_count": 45,
   "id": "7a0d70e5",
   "metadata": {},
   "outputs": [
    {
     "data": {
      "text/plain": [
       "'0.12082936 0.54885925 0.69052917 0.67901792 0.55512768 0.43814180 0.07663502 0.75444823 0.48727897'"
      ]
     },
     "execution_count": 45,
     "metadata": {},
     "output_type": "execute_result"
    }
   ],
   "source": [
    "ss = ''\n",
    "for c in s:\n",
    "    if c == '3':\n",
    "        ss+= '4'\n",
    "    elif c == '4':\n",
    "        ss+= '3'\n",
    "    else:\n",
    "        ss += c\n",
    "ss"
   ]
  },
  {
   "cell_type": "code",
   "execution_count": 34,
   "id": "81f1996f",
   "metadata": {},
   "outputs": [
    {
     "name": "stdout",
     "output_type": "stream",
     "text": [
      "0.12082946\n",
      "0.53885925\n",
      "0.69052917\n",
      "0.67901792\n",
      "0.55512768\n",
      "0.3481318\n",
      "0.07664502\n",
      "0.75333824\n",
      "0.38727897\n"
     ]
    }
   ],
   "source": [
    "f = open( 'salida.txt', 'r')\n",
    "LL = []\n",
    "while True:\n",
    "    linea = f.readline()\n",
    "    if not linea:\n",
    "        break\n",
    "    LL\n",
    "    indice = int(linea[0:3])\n",
    "    valorw = float(linea[3:16])\n",
    "    valorz = float(linea[16:29])\n",
    "    listi"
   ]
  }
 ],
 "metadata": {
  "kernelspec": {
   "display_name": "Python 3 (ipykernel)",
   "language": "python",
   "name": "python3"
  },
  "language_info": {
   "codemirror_mode": {
    "name": "ipython",
    "version": 3
   },
   "file_extension": ".py",
   "mimetype": "text/x-python",
   "name": "python",
   "nbconvert_exporter": "python",
   "pygments_lexer": "ipython3",
   "version": "3.11.9"
  }
 },
 "nbformat": 4,
 "nbformat_minor": 5
}
