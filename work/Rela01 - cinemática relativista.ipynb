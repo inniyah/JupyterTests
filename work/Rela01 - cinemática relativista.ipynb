{
 "cells": [
  {
   "cell_type": "code",
   "execution_count": 1,
   "id": "b679cd21",
   "metadata": {},
   "outputs": [
    {
     "name": "stdout",
     "output_type": "stream",
     "text": [
      "8.85418781762039e-12 farad / meter\n"
     ]
    }
   ],
   "source": [
    "from math import *\n",
    "from pprint import pprint\n",
    "\n",
    "import numpy as np\n",
    "import matplotlib.pyplot as plt\n",
    "\n",
    "from pint import UnitRegistry, set_application_registry\n",
    "ureg = UnitRegistry()\n",
    "set_application_registry(ureg)\n",
    "\n",
    "litros = ureg.litre\n",
    "atmosferas = ureg.atmosphere\n",
    "moles = ureg.mol\n",
    "kelvins = ureg.kelvin\n",
    "kilogramos = ureg.kilogram\n",
    "gramos = ureg.gram\n",
    "kilometros = ureg.kilometer\n",
    "metros = ureg.meter\n",
    "centimetros = ureg.centimeter\n",
    "nanometros = ureg.nanometer\n",
    "femtometros = ureg.femtometer\n",
    "fermis = ureg.femtometer\n",
    "julios = ureg.joule\n",
    "kilojulios = ureg.kilojoule\n",
    "pascales = ureg.pascal\n",
    "newtons = ureg.newton\n",
    "teslas = ureg.tesla\n",
    "culombios = ureg.coulomb\n",
    "amperios = ureg.ampere\n",
    "faradios = ureg.farad\n",
    "segundos = ureg.second\n",
    "minutos = ureg.minutes\n",
    "horas = ureg.hours\n",
    "microsegundos = ureg.microsecond\n",
    "nanosegundos = ureg.nanosecond\n",
    "horas = ureg.hour\n",
    "años = ureg.year\n",
    "eV = ureg.electron_volt\n",
    "MeV = ureg.megaelectron_volt\n",
    "keV = ureg.kiloelectron_volt\n",
    "GeV = ureg.gigaelectron_volt\n",
    "Å = ureg.angstrom\n",
    "\n",
    "vatios = ureg.watts\n",
    "μW = ureg.microwatts\n",
    "\n",
    "c = ureg.speed_of_light\n",
    "\n",
    "Q = ureg.Quantity\n",
    "\n",
    "h = 6.628e-34 * julios * segundos \n",
    "ℏ = h / ( 2 * pi )\n",
    "\n",
    "ℏc = 200 * eV * nanometros\n",
    "\n",
    "atmosfera = 101327.38879319 * newtons / metros**2\n",
    "\n",
    "µ0 = 4 * pi * 1e-7 * teslas * metros / amperios\n",
    "𝜀0 = 1 / ( µ0 * c**2)\n",
    "print(𝜀0.to(faradios / metros))"
   ]
  },
  {
   "cell_type": "markdown",
   "id": "b3fb22a8",
   "metadata": {},
   "source": [
    "Α Β Γ Δ Ε Ζ Η Θ Ι Κ Λ Μ Ν Ξ Ο Π Ρ Σ Τ Υ Φ Χ Ψ Ω\n",
    "\n",
    "α β γ δ ε ζ η θ ι κ λ μ ν ξ ο π ρ ς σ τ υ φ χ ψ ω\n"
   ]
  },
  {
   "cell_type": "markdown",
   "id": "d9432eff",
   "metadata": {},
   "source": [
    "***"
   ]
  },
  {
   "cell_type": "markdown",
   "id": "06047fa4",
   "metadata": {},
   "source": [
    "4.7. Un avi´on se mueve con respecto al suelo a 600 m s−1. Seg´un el piloto, el avi´on tiene\n",
    "una longitud de 50 m. ¿Cu´al es el acortamiento del avi´on desde el punto de vista del\n",
    "controlador a´ereo?"
   ]
  },
  {
   "cell_type": "code",
   "execution_count": 2,
   "id": "bee886f6",
   "metadata": {},
   "outputs": [
    {
     "name": "stdout",
     "output_type": "stream",
     "text": [
      "1.0000000000020028 dimensionless\n",
      "0.1001438931780285 nanometer\n"
     ]
    }
   ],
   "source": [
    "L_avion = 50 * metros\n",
    "v_avion_tierra = 600 * metros / segundos\n",
    "γ = 1 / (1 - (v_avion_tierra**2 / c**2) )**(1/2)\n",
    "print(γ)\n",
    "L_avion_tierra = L_avion / γ\n",
    "print((L_avion - L_avion_tierra).to(nanometros))"
   ]
  },
  {
   "cell_type": "markdown",
   "id": "64b9ec45",
   "metadata": {},
   "source": [
    "***\n",
    "4.8. Una regla de 1 m en reposo se mueve longitudinalmente a velocidad 0, 6 c con respecto\n",
    "a un observador. ¿Cu´anto tardar´a la regla en pasar por delante del observador?"
   ]
  },
  {
   "cell_type": "code",
   "execution_count": 3,
   "id": "d1f181c2",
   "metadata": {},
   "outputs": [
    {
     "name": "stdout",
     "output_type": "stream",
     "text": [
      "0.8 meter\n",
      "4.447521269308694 nanosecond\n"
     ]
    }
   ],
   "source": [
    "L_regla = 1 * metros\n",
    "v_regla_obs = 0.6 * c\n",
    "γ = 1 / (1 - (v_regla_obs**2 / c**2) )**(1/2)\n",
    "L_regla_obs = L_regla / γ\n",
    "print(L_regla_obs)\n",
    "t = L_regla_obs / v_regla_obs\n",
    "print(t.to(nanosegundos))\n"
   ]
  },
  {
   "cell_type": "markdown",
   "id": "fcd57602",
   "metadata": {},
   "source": [
    "***\n",
    "4.9. Una part´ıcula decae con una vida media de 2 × 10−16 s cuando est´a en reposo. ¿Cu´al es\n",
    "la vida media de la part´ıcula seg´un un observador con respecto al cual ´esta se mueve\n",
    "a 0, 8 c?"
   ]
  },
  {
   "cell_type": "code",
   "execution_count": 4,
   "id": "6aff11b0",
   "metadata": {},
   "outputs": [
    {
     "name": "stdout",
     "output_type": "stream",
     "text": [
      "1.666666666666667 dimensionless\n",
      "3.333333333333334e-16 second\n"
     ]
    }
   ],
   "source": [
    "t_decae = 2e-16 * segundos\n",
    "v_particula = 0.8 * c\n",
    "γ = 1 / (1 - (v_particula**2 / c**2) )**(1/2)\n",
    "print(γ)\n",
    "t_decae_obs = t_decae * γ\n",
    "print(t_decae_obs.to(segundos))\n"
   ]
  },
  {
   "cell_type": "markdown",
   "id": "10567c8f",
   "metadata": {},
   "source": [
    "***\n",
    "4.10. Una part´ıcula reci´en creada se mueve por un laboratorio a 0, 8 c y decae despu´es de\n",
    "haber recorrido 3 m.\n",
    "\n",
    "a. Calcula el tiempo de decaimiento de la part´ıcula seg´un el asistente de laboratorio.\n",
    "\n",
    "b. Calcula el tiempo de decaimiento de la part´ıcula seg´un un observador en el sistema de referencia de la part´ıcula."
   ]
  },
  {
   "cell_type": "code",
   "execution_count": 5,
   "id": "3f9f94c6",
   "metadata": {},
   "outputs": [
    {
     "name": "stdout",
     "output_type": "stream",
     "text": [
      "1.666666666666667 dimensionless\n",
      "12.5086535699307 nanosecond\n",
      "7.505192141958418 nanosecond\n"
     ]
    }
   ],
   "source": [
    "v_particula = 0.8 * c\n",
    "γ = 1 / (1 - (v_particula**2 / c**2) )**(1/2)\n",
    "print(γ)\n",
    "t_decae_lab = 3 * metros / v_particula\n",
    "print(t_decae_lab.to(nanosegundos))\n",
    "t_decae = t_decae_lab / γ\n",
    "print(t_decae.to(nanosegundos))"
   ]
  },
  {
   "cell_type": "markdown",
   "id": "7d613170",
   "metadata": {},
   "source": [
    "***\n",
    "4.11. Un avi´on se mueve con respecto a la tierra con una velocidad de 600 m s−1. Un ob-\n",
    "servador en tierra est´a comparando su reloj con un reloj a bordo del avi´on. ¿Cu´anto\n",
    "tiempo tiene que esperar el observador para que el reloj del avi´on vaya retrasado 2 μs?"
   ]
  },
  {
   "cell_type": "code",
   "execution_count": 6,
   "id": "8e62cb17",
   "metadata": {},
   "outputs": [
    {
     "name": "stdout",
     "output_type": "stream",
     "text": [
      "1.0000000000020028 dimensionless\n",
      "998580.8486409081 second\n",
      "998580.8486429082 second\n"
     ]
    }
   ],
   "source": [
    "v_avion_tierra = 600 * metros / segundos\n",
    "γ = 1 / (1 - (v_avion_tierra**2 / c**2) )**(1/2)\n",
    "print(γ)\n",
    "\n",
    "# t_espera_tierra = t_espera_avion * γ\n",
    "# t_espera_avion = t_espera_tierra / γ\n",
    "# t_espera_tierra - t_espera_avion = 2 * microsegundos\n",
    "# t_espera_tierra - t_espera_tierra / γ = 2 * microsegundos\n",
    "# t_espera_tierra (1 - 1/γ) = 2 * microsegundos\n",
    "\n",
    "t_espera_tierra = (2 * microsegundos) / (1 - 1/γ)\n",
    "print(t_espera_tierra.to(segundos))\n",
    "\n",
    "t_espera_tierra = (-2 * microsegundos * γ) / (1 - γ)\n",
    "print(t_espera_tierra.to(segundos))"
   ]
  },
  {
   "cell_type": "markdown",
   "id": "71a86654",
   "metadata": {},
   "source": [
    "***\n",
    "4.12. En 1967 el avión North American X-15 estableció el récord mundial de velocidad de\n",
    "un vuelo tripulado en la atmósfera terrestre al alcanzar 7274 km h−1. Asumiendo que el\n",
    "vuelo se hizo a velocidad constante y que según el piloto duró un cuarto de hora, calcula\n",
    "el retraso del reloj del piloto con respecto al reloj de la torre de control acumulado\n",
    "durante el vuelo"
   ]
  },
  {
   "cell_type": "code",
   "execution_count": 13,
   "id": "523d785b",
   "metadata": {},
   "outputs": [
    {
     "name": "stdout",
     "output_type": "stream",
     "text": [
      "2020.5555555555557 meter / second\n",
      "1.000000000022713 dimensionless\n",
      "900 second\n",
      "2.0441675019355898e-08 second\n"
     ]
    }
   ],
   "source": [
    "v_avion_tierra = 7274 * kilometros / horas\n",
    "print(v_avion_tierra.to(metros / segundos))\n",
    "γ = 1 / (1 - (v_avion_tierra**2 / c**2) )**(1/2)\n",
    "print(γ)\n",
    "t_avion = 15 * minutos\n",
    "print(t_avion.to(segundos))\n",
    "t_avion_tierra = t_avion * γ\n",
    "print((t_avion_tierra - t_avion).to(segundos))"
   ]
  },
  {
   "cell_type": "markdown",
   "id": "27e80745",
   "metadata": {},
   "source": [
    "***\n",
    "4.13. La semivida de un haz de part´ıculas es el tiempo que tarda la intensidad del haz en\n",
    "reducirse a la mitad. Producimos un haz de piones, cuya semivida es 1, 8 × 10−8 s, me-\n",
    "diante un acelerador que emite estas part´ıculas con una velocidad de 0, 8 c. Determina\n",
    "la distancia que recorren los piones antes de que la intensidad del haz se haya reducido\n",
    "a la mitad. Compara la predicci´on relativista con la predicci´on newtoniana y calcula\n",
    "el error relativo que se cometer´ıa al aplicar la mec´anica cl´asica."
   ]
  },
  {
   "cell_type": "code",
   "execution_count": 8,
   "id": "c537504e",
   "metadata": {},
   "outputs": [
    {
     "name": "stdout",
     "output_type": "stream",
     "text": [
      "1.666666666666667 dimensionless\n",
      "7.1950189920000005 meter\n",
      "4.3170113952 meter\n",
      "40.00000000000001 dimensionless\n"
     ]
    }
   ],
   "source": [
    "t_semivida = 1.8e-8 * segundos\n",
    "v = 0.8 * c\n",
    "γ = 1 / (1 - (v**2 / c**2) )**(1/2)\n",
    "print(γ)\n",
    "t_semivida_obs = t_semivida * γ\n",
    "d = t_semivida_obs * v\n",
    "print(d.to(metros))\n",
    "\n",
    "d_newton = t_semivida * v\n",
    "print(d_newton.to(metros))\n",
    "\n",
    "print(abs(d_newton - d) / d * 100)"
   ]
  },
  {
   "cell_type": "markdown",
   "id": "5da171b6",
   "metadata": {},
   "source": [
    "***\n",
    "4.14. La luz tarda unos 10e5 años en llegar a la Tierra desde los confines más remotos de la\n",
    "Vía Láctea. ¿Es posible que un humano viaje hasta allí a velocidad constante en 50\n",
    "años?"
   ]
  },
  {
   "cell_type": "code",
   "execution_count": 9,
   "id": "84c2ea25",
   "metadata": {},
   "outputs": [
    {
     "name": "stdout",
     "output_type": "stream",
     "text": [
      "9.4607304725808e+21 meter\n",
      "0.99999999875 dimensionless\n"
     ]
    }
   ],
   "source": [
    "d = 10e5 * años * c\n",
    "print(d.to(metros))\n",
    "t_viaje_viajero = 50 * años\n",
    "# t = t_viaje_viajero * γ\n",
    "# v = d / t\n",
    "# β * c = d / ( t_viaje_viajero / (1 - β**2) )**(1/2)\n",
    "# β**2 * c**2 * t_viaje_viajero / (1 - β**2) = d**2\n",
    "# β**2 * c**2 * t_viaje_viajero = d**2 * (1 - β**2)\n",
    "# β**2 * c**2 * t_viaje_viajero = d**2 - d**2 * β**2)\n",
    "# d**2 * β**2 + β**2 * c**2 * t_viaje_viajero = d**2\n",
    "\n",
    "β = d / (t_viaje_viajero**2 * c**2 + d**2)**(1/2)\n",
    "print(β)\n",
    "\n",
    "\n"
   ]
  },
  {
   "cell_type": "markdown",
   "id": "1f92d72f",
   "metadata": {},
   "source": [
    "***\n",
    "4.20. Seg´un la observadora O, la distancia y el tiempo transcurrido entre dos sucesos son\n",
    "600 m y 8 × 10−7 s respectivamente. Por otra parte, seg´un un segundo observador O′\n",
    "estos dos sucesos son simult´aneos. ¿Cu´al es la velocidad de O′ seg´un O?"
   ]
  },
  {
   "cell_type": "code",
   "execution_count": 10,
   "id": "48cfccc1",
   "metadata": {},
   "outputs": [
    {
     "name": "stdout",
     "output_type": "stream",
     "text": [
      "0.3997232773333333 speed_of_light\n"
     ]
    }
   ],
   "source": [
    "x1 = 600 * metros\n",
    "t1 = 8e-7 * segundos\n",
    "\n",
    "t2 = 0 * segundos\n",
    "\n",
    "# v = velocidad de O2 vista desde O1\n",
    "# velocidad de O1 vista desde O2 = -v\n",
    "# t2 = γ * (t1 - v * x1 / c**2)\n",
    "# x2 = γ * (x1 - v * t1)\n",
    "\n",
    "# t2 = 0 = γ * (t1 - v * x1 / c**2)\n",
    "# 0 = t1 - v * x1 / c**2\n",
    "# v = t1 * c**2 / x1\n",
    "v = t1 * c**2 / x1\n",
    "print(v.to(c))"
   ]
  },
  {
   "cell_type": "markdown",
   "id": "e77fc5a7",
   "metadata": {},
   "source": [
    "4.21. Las observadoras O y O′ se est´an acercando con una velocidad relativa de 0, 6 c. En\n",
    "cierto instante la observadora O determina que la distancia hasta O′ es 20 m. Determina\n",
    "cu´anto tiempo pasar´a seg´un O hasta que se encuentren. ¿Cu´anto tiempo pasar´a para\n",
    "O′ seg´un O?"
   ]
  },
  {
   "cell_type": "code",
   "execution_count": 11,
   "id": "bb68c36a",
   "metadata": {},
   "outputs": [
    {
     "name": "stdout",
     "output_type": "stream",
     "text": [
      "1.1118803173271735e-07 second\n",
      "8.89504253861739e-08 second\n"
     ]
    }
   ],
   "source": [
    "v = 0.6 * c\n",
    "β = v / c\n",
    "γ = 1 / (1 - (v**2 / c**2) )**(1/2)\n",
    "\n",
    "d = 20 * metros\n",
    "t = d / v\n",
    "print(t.to(segundos))\n",
    "\n",
    "x1 = d\n",
    "t1 = t\n",
    "t2 = γ * (t1 - v * x1 / c**2)\n",
    "x2 = γ * (x1 - v * t1)\n",
    "\n",
    "print(t2.to(segundos))\n"
   ]
  },
  {
   "cell_type": "code",
   "execution_count": null,
   "id": "aff9ed97",
   "metadata": {},
   "outputs": [],
   "source": []
  },
  {
   "cell_type": "code",
   "execution_count": null,
   "id": "3d9506bf",
   "metadata": {},
   "outputs": [],
   "source": []
  },
  {
   "cell_type": "code",
   "execution_count": null,
   "id": "5775abd4",
   "metadata": {},
   "outputs": [],
   "source": []
  }
 ],
 "metadata": {
  "kernelspec": {
   "display_name": "Python 3 (ipykernel)",
   "language": "python",
   "name": "python3"
  },
  "language_info": {
   "codemirror_mode": {
    "name": "ipython",
    "version": 3
   },
   "file_extension": ".py",
   "mimetype": "text/x-python",
   "name": "python",
   "nbconvert_exporter": "python",
   "pygments_lexer": "ipython3",
   "version": "3.11.9"
  }
 },
 "nbformat": 4,
 "nbformat_minor": 5
}
