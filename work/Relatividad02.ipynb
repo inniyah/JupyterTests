{
 "cells": [
  {
   "cell_type": "code",
   "execution_count": 1,
   "id": "bdbbf57c",
   "metadata": {},
   "outputs": [],
   "source": [
    "from math import *\n",
    "from pprint import pprint\n",
    "\n",
    "from pint import UnitRegistry, set_application_registry\n",
    "ureg = UnitRegistry()\n",
    "set_application_registry(ureg)\n",
    "\n",
    "litros = ureg.litre\n",
    "atmosferas = ureg.atmosphere\n",
    "moles = ureg.mol\n",
    "kelvins = ureg.kelvin\n",
    "kilogramos = ureg.kilogram\n",
    "gramos = ureg.gram\n",
    "kilometros = ureg.kilometer\n",
    "metros = ureg.meter\n",
    "centimetros = ureg.centimeter\n",
    "nanometros = ureg.nanometer\n",
    "julios = ureg.joule\n",
    "kilojulios = ureg.kilojoule\n",
    "pascales = ureg.pascal\n",
    "segundos = ureg.second\n",
    "nanosegundos = ureg.nanosecond\n",
    "horas = ureg.hour\n",
    "eV = ureg.electron_volt\n",
    "MeV = ureg.megaelectron_volt\n",
    "keV = ureg.kiloelectron_volt\n",
    "Å = ureg.angstrom\n",
    "\n",
    "c = ureg.speed_of_light\n",
    "\n",
    "Q = ureg.Quantity\n",
    "\n",
    "h = 6.628e-34 * julios * segundos "
   ]
  },
  {
   "cell_type": "markdown",
   "id": "faaf427a",
   "metadata": {},
   "source": [
    "5.3. Calcula la velocidad de un electr´on cuya energ´ıa cin´etica es 2 MeV y el momento lineal\n",
    "de un mu´on que se desplaza a velocidad 0, 8 c, comparando ambos resultados con la\n",
    "predicci´on cl´asica."
   ]
  },
  {
   "cell_type": "markdown",
   "id": "35d27f44",
   "metadata": {},
   "source": [
    "https://www.youtube.com/watch?v=b-cdKCYX5ZA"
   ]
  },
  {
   "cell_type": "code",
   "execution_count": 2,
   "id": "f445ae81",
   "metadata": {},
   "outputs": [
    {
     "name": "stdout",
     "output_type": "stream",
     "text": [
      "4.913894324853229 dimensionless\n",
      "0.979073994129462 speed_of_light\n",
      "140.88000000000002 megaelectron_volt / speed_of_light\n"
     ]
    }
   ],
   "source": [
    "T_electron = 2 * MeV\n",
    "m_electron = 0.511 * MeV / c**2\n",
    "m_muon = 105.66 * MeV / c**2\n",
    "v_muon = 0.8 * c\n",
    "\n",
    "gamma = 1 + T_electron / m_electron / c**2\n",
    "print(gamma)\n",
    "v_electron = sqrt( (1 - (1 / gamma )**2 ) ) * c\n",
    "print(v_electron)\n",
    "\n",
    "print( m_muon * ( 1 / sqrt ( 1 - (v_muon**2/c**2)) ) * v_muon )\n",
    "#( m_muon * ( 1 / sqrt ( 1 - (v_muon**2/c**2)) ) * v_muon ).to(kilogramos * metros / segundos )\n"
   ]
  },
  {
   "cell_type": "code",
   "execution_count": null,
   "id": "35a866f2",
   "metadata": {},
   "outputs": [],
   "source": []
  },
  {
   "cell_type": "markdown",
   "id": "3b56d895",
   "metadata": {},
   "source": [
    "5.6. Un fot´on de longitud de onda 600 ˚A es absorbido por un ´atomo de hidr´ogeno. Sabiendo\n",
    "que la energ´ıa de ionizaci´on de un ´atomo de hidr´ogeno es 13, 6 eV, calcula la velocidad\n",
    "del electr´on liberado."
   ]
  },
  {
   "cell_type": "code",
   "execution_count": 3,
   "id": "65193174",
   "metadata": {},
   "outputs": [
    {
     "data": {
      "text/html": [
       "4.136872214552594×10<sup>-21</sup> megaelectron_volt second"
      ],
      "text/latex": [
       "$4.136872214552594\\times 10^{-21}\\ \\mathrm{megaelectron\\_volt} \\cdot \\mathrm{second}$"
      ],
      "text/plain": [
       "4.136872214552594e-21 <Unit('megaelectron_volt * second')>"
      ]
     },
     "execution_count": 3,
     "metadata": {},
     "output_type": "execute_result"
    }
   ],
   "source": [
    "h.to(MeV * segundos)"
   ]
  },
  {
   "cell_type": "code",
   "execution_count": 4,
   "id": "2b01c6e6",
   "metadata": {},
   "outputs": [
    {
     "data": {
      "text/html": [
       "7.07005149387709 electron_volt"
      ],
      "text/latex": [
       "$7.07005149387709\\ \\mathrm{electron\\_volt}$"
      ],
      "text/plain": [
       "7.07005149387709 <Unit('electron_volt')>"
      ]
     },
     "execution_count": 4,
     "metadata": {},
     "output_type": "execute_result"
    }
   ],
   "source": [
    "T_electron = ( h * c / ( 600 * Å ) ).to(eV) - 13.6 * eV\n",
    "T_electron"
   ]
  },
  {
   "cell_type": "code",
   "execution_count": 5,
   "id": "9c89723e",
   "metadata": {},
   "outputs": [
    {
     "name": "stdout",
     "output_type": "stream",
     "text": [
      "1.0000138357172093 dimensionless\n",
      "0.005260309890859759 speed_of_light\n",
      "1577.0012320225587 kilometer / second\n"
     ]
    }
   ],
   "source": [
    "m_electron = 0.511 * MeV / c**2\n",
    "gamma = 1 + T_electron / m_electron / c**2\n",
    "print(gamma)\n",
    "v_electron = sqrt( (1 - (1 / gamma )**2 ) ) * c\n",
    "print(v_electron)\n",
    "print(v_electron.to(kilometros / segundos))"
   ]
  },
  {
   "cell_type": "markdown",
   "id": "7de1ad10",
   "metadata": {},
   "source": [
    "5.7. Un electr´on se est´a desplazando con velocidad de 0, 6 c por nuestro laboratorio. En ese\n",
    "mismo instante, un observador se mueve con velocidad 0, 8 c relativa al laboratorio en\n",
    "la misma direcci´on que el electr´on. Determina la energ´ıa cin´etica del electr´on seg´un\n",
    "este observador."
   ]
  },
  {
   "cell_type": "markdown",
   "id": "400d4df7",
   "metadata": {},
   "source": [
    "https://www.youtube.com/watch?v=X4xLx8fxdy4"
   ]
  },
  {
   "cell_type": "code",
   "execution_count": 6,
   "id": "1bdf9062",
   "metadata": {},
   "outputs": [],
   "source": [
    "m_electron = 0.511 * MeV / c**2\n",
    "v_electron_lab= 0.6 * c\n",
    "v_obs1_lab = 0.8 * c\n",
    "\n",
    "beta_electron_lab = 0.6\n",
    "gamma_electron_lab = 1 / sqrt( 1 - beta_electron_lab ** 2 )"
   ]
  },
  {
   "cell_type": "code",
   "execution_count": 7,
   "id": "be326dd7",
   "metadata": {},
   "outputs": [
    {
     "data": {
      "text/html": [
       "-0.38461538461538475 speed_of_light"
      ],
      "text/latex": [
       "$-0.38461538461538475\\ \\mathrm{speed\\_of\\_light}$"
      ],
      "text/plain": [
       "-0.38461538461538475 <Unit('speed_of_light')>"
      ]
     },
     "execution_count": 7,
     "metadata": {},
     "output_type": "execute_result"
    }
   ],
   "source": [
    "v_lab_obs1 = - v_obs1_lab\n",
    "v_electron_obs1 = ( v_electron_lab + v_lab_obs1 ) / ( 1 + v_electron_lab * v_lab_obs1 / c ** 2)\n",
    "\n",
    "v_electron_obs1"
   ]
  },
  {
   "cell_type": "code",
   "execution_count": 8,
   "id": "bbef5a2c",
   "metadata": {},
   "outputs": [
    {
     "data": {
      "text/plain": [
       "1.0833333333333335"
      ]
     },
     "execution_count": 8,
     "metadata": {},
     "output_type": "execute_result"
    }
   ],
   "source": [
    "gamma_electron_obs1 = 1 / sqrt( 1 - ( v_electron_obs1 / c ) ** 2 )\n",
    "gamma_electron_obs1"
   ]
  },
  {
   "cell_type": "code",
   "execution_count": 11,
   "id": "92941744",
   "metadata": {},
   "outputs": [
    {
     "data": {
      "text/html": [
       "42.583333333333414 kiloelectron_volt"
      ],
      "text/latex": [
       "$42.583333333333414\\ \\mathrm{kiloelectron\\_volt}$"
      ],
      "text/plain": [
       "42.583333333333414 <Unit('kiloelectron_volt')>"
      ]
     },
     "execution_count": 11,
     "metadata": {},
     "output_type": "execute_result"
    }
   ],
   "source": [
    "( m_electron * gamma_electron_obs1 * c ** 2 - m_electron * c ** 2 ).to(keV)"
   ]
  },
  {
   "cell_type": "markdown",
   "id": "baabb846",
   "metadata": {},
   "source": [
    "5.8. Una observadora ve una barra cil´ındrica alejarse de ella con velocidad 0, 6 c en una\n",
    "direcci´on que coincide con el eje de simetr´ıa de la barra. En reposo la barra tiene un\n",
    "volumen de 0, 27 m3 y una masa de 9 × 1016 J/c2. ¿Cu´al es la densidad de energ´ıa de\n",
    "la barra seg´un la observadora?"
   ]
  },
  {
   "cell_type": "code",
   "execution_count": 29,
   "id": "ead0e59a",
   "metadata": {},
   "outputs": [
    {
     "name": "stdout",
     "output_type": "stream",
     "text": [
      "1.25\n",
      "0.8\n"
     ]
    },
    {
     "data": {
      "text/html": [
       "0.21600000000000003 meter<sup>3</sup>"
      ],
      "text/latex": [
       "$0.21600000000000003\\ \\mathrm{meter}^{3}$"
      ],
      "text/plain": [
       "0.21600000000000003 <Unit('meter ** 3')>"
      ]
     },
     "execution_count": 29,
     "metadata": {},
     "output_type": "execute_result"
    }
   ],
   "source": [
    "V_barra = 0.27 * metros ** 3\n",
    "m_barra = 9e16 * julios / c ** 2\n",
    "\n",
    "gamma = 1 / sqrt(1 - 0.6 ** 2)\n",
    "print(gamma)\n",
    "print(1 / gamma)\n",
    "\n",
    "V_barra_obs = V_barra / gamma\n",
    "V_barra_obs"
   ]
  },
  {
   "cell_type": "code",
   "execution_count": 33,
   "id": "8bc23fed",
   "metadata": {},
   "outputs": [
    {
     "data": {
      "text/html": [
       "1.125×10<sup>17</sup> joule"
      ],
      "text/latex": [
       "$1.125\\times 10^{17}\\ \\mathrm{joule}$"
      ],
      "text/plain": [
       "1.125e+17 <Unit('joule')>"
      ]
     },
     "execution_count": 33,
     "metadata": {},
     "output_type": "execute_result"
    }
   ],
   "source": [
    "E_barra_obs = m_barra * gamma * c ** 2\n",
    "E_barra_obs"
   ]
  },
  {
   "cell_type": "code",
   "execution_count": 34,
   "id": "d825849a",
   "metadata": {},
   "outputs": [
    {
     "data": {
      "text/html": [
       "5.2083333333333325×10<sup>17</sup> joule/meter<sup>3</sup>"
      ],
      "text/latex": [
       "$5.2083333333333325\\times 10^{17}\\ \\frac{\\mathrm{joule}}{\\mathrm{meter}^{3}}$"
      ],
      "text/plain": [
       "5.2083333333333325e+17 <Unit('joule / meter ** 3')>"
      ]
     },
     "execution_count": 34,
     "metadata": {},
     "output_type": "execute_result"
    }
   ],
   "source": [
    "E_barra_obs / V_barra_obs"
   ]
  },
  {
   "cell_type": "markdown",
   "id": "b71b045a",
   "metadata": {},
   "source": [
    "5.9. A 100 km de altura se crea un mes´on π+ con energ´ıa total 15 × 105 MeV movi´endose\n",
    "en l´ınea recta hacia el suelo. El pi´on tiene masa 140 MeV/c2 y decae seg´un su propio\n",
    "reloj despu´es de 2 × 10−8 s. ¿A qu´e altura sobre el suelo se desintegra el π+?"
   ]
  },
  {
   "cell_type": "code",
   "execution_count": 36,
   "id": "823ba0ba",
   "metadata": {},
   "outputs": [],
   "source": [
    "E_pion_obs = 15e5 * MeV\n",
    "m_pion = 140 * MeV / c**2\n",
    "t_decae_pion = 2e-8 * segundos"
   ]
  },
  {
   "cell_type": "code",
   "execution_count": 41,
   "id": "816dd7a5",
   "metadata": {},
   "outputs": [
    {
     "name": "stdout",
     "output_type": "stream",
     "text": [
      "10714.285714285714 dimensionless\n",
      "0.9999999956444444 speed_of_light\n"
     ]
    }
   ],
   "source": [
    "gamma = E_pion_obs / m_pion / c ** 2\n",
    "print(gamma)\n",
    "v_pion_obs = sqrt( (1 - (1 / gamma )**2 ) ) * c\n",
    "print(v_pion_obs)"
   ]
  },
  {
   "cell_type": "code",
   "execution_count": 42,
   "id": "cc766964",
   "metadata": {},
   "outputs": [
    {
     "data": {
      "text/html": [
       "0.00021428571428571427 second"
      ],
      "text/latex": [
       "$0.00021428571428571427\\ \\mathrm{second}$"
      ],
      "text/plain": [
       "0.00021428571428571427 <Unit('second')>"
      ]
     },
     "execution_count": 42,
     "metadata": {},
     "output_type": "execute_result"
    }
   ],
   "source": [
    "t_decae_obs = gamma * t_decae_pion\n",
    "t_decae_obs"
   ]
  },
  {
   "cell_type": "code",
   "execution_count": 44,
   "id": "01840c6b",
   "metadata": {},
   "outputs": [
    {
     "data": {
      "text/html": [
       "64.2412407201937 kilometer"
      ],
      "text/latex": [
       "$64.2412407201937\\ \\mathrm{kilometer}$"
      ],
      "text/plain": [
       "64.2412407201937 <Unit('kilometer')>"
      ]
     },
     "execution_count": 44,
     "metadata": {},
     "output_type": "execute_result"
    }
   ],
   "source": [
    "(t_decae_obs * v_pion_obs).to(kilometros)"
   ]
  },
  {
   "cell_type": "code",
   "execution_count": 46,
   "id": "ea8c6a75",
   "metadata": {},
   "outputs": [
    {
     "data": {
      "text/html": [
       "35.7587592798063 kilometer"
      ],
      "text/latex": [
       "$35.7587592798063\\ \\mathrm{kilometer}$"
      ],
      "text/plain": [
       "35.7587592798063 <Unit('kilometer')>"
      ]
     },
     "execution_count": 46,
     "metadata": {},
     "output_type": "execute_result"
    }
   ],
   "source": [
    "100 * kilometros - (t_decae_obs * v_pion_obs).to(kilometros)"
   ]
  },
  {
   "cell_type": "markdown",
   "id": "3b66b4a6",
   "metadata": {},
   "source": [
    "5.10. Un ka´on K0, en reposo relativo a un observador, decae espont´aneamente creando un\n",
    "pion π+ y su antipart´ıcula π−. Sabiendo que la masa del K0 es 8, 87 × 10−28 kg y la\n",
    "masa de un pi´on π± es 2, 49 × 10−28 kg, calcula a qu´e porcentaje de la velocidad de la\n",
    "luz se mover´an los piones."
   ]
  },
  {
   "cell_type": "markdown",
   "id": "a4e19bd4",
   "metadata": {},
   "source": [
    "5.17. Un rayo X, con longitud de onda 0, 3 ˚A, se dispersa tras colisionar con un electr´on en\n",
    "reposo por el efecto Compton, siendo el ´angulo de dispersi´on π/3. Calcula tanto la\n",
    "longitud de onda del fot´on dispersado como la energ´ıa cin´etica del electr´on despu´es del\n",
    "choque."
   ]
  },
  {
   "cell_type": "markdown",
   "id": "c97e71b6",
   "metadata": {},
   "source": [
    "https://www.youtube.com/watch?v=zxbcTT4OIxw"
   ]
  },
  {
   "cell_type": "code",
   "execution_count": 68,
   "id": "a3e5485c",
   "metadata": {},
   "outputs": [
    {
     "name": "stdout",
     "output_type": "stream",
     "text": [
      "0.024268527145700894 angstrom\n",
      "0.012134263572850445 angstrom\n",
      "0.31213426357285046 angstrom\n",
      "6.623414705413334e-15 joule\n",
      "6.365928523448498e-15 joule\n",
      "1.607102341281779 kiloelectron_volt\n"
     ]
    }
   ],
   "source": [
    "m_electron = 9.11e-31 * kilogramos\n",
    "h = 6.628e-34 * julios * segundos\n",
    "\n",
    "λi = 0.3 * Å\n",
    "λc = h / (c * m_electron)\n",
    "print(λc.to(Å))\n",
    "θ = pi / 3\n",
    "Δλ = λc * (1 - cos(θ))\n",
    "print(Δλ.to(Å))\n",
    "λf = λi + Δλ\n",
    "print(λf.to(Å))\n",
    "\n",
    "Ei = h * c / λi\n",
    "print(Ei.to(julios))\n",
    "Ef = h * c / λf\n",
    "print(Ef.to(julios))\n",
    "Ec = Ei - Ef\n",
    "print(Ec.to(keV))\n"
   ]
  },
  {
   "cell_type": "markdown",
   "id": "c9650cdd",
   "metadata": {},
   "source": [
    "5.18. En una dispersi´on Compton se detectan tanto el fot´on como el electr´on dispersados. El\n",
    "electr´on tiene energ´ıa cin´etica 75 keV, mientras que el fot´on dispersado tiene energ´ıa\n",
    "200 keV. Calcula la longitud de onda del fot´on incidente."
   ]
  },
  {
   "cell_type": "code",
   "execution_count": 71,
   "id": "16e12b6a",
   "metadata": {},
   "outputs": [
    {
     "name": "stdout",
     "output_type": "stream",
     "text": [
      "0.04509829416845911 angstrom\n"
     ]
    }
   ],
   "source": [
    "Ec_electron = 75 * keV\n",
    "Ef_foton = 200 * keV\n",
    "Ei_foton = Ef_foton + Ec_electron\n",
    "\n",
    "λi = h * c / Ei_foton\n",
    "print(λi.to(Å))\n"
   ]
  },
  {
   "cell_type": "code",
   "execution_count": null,
   "id": "b4c6a083",
   "metadata": {},
   "outputs": [],
   "source": []
  },
  {
   "cell_type": "code",
   "execution_count": null,
   "id": "f44548f0",
   "metadata": {},
   "outputs": [],
   "source": []
  },
  {
   "cell_type": "code",
   "execution_count": null,
   "id": "d97e74e1",
   "metadata": {},
   "outputs": [],
   "source": []
  },
  {
   "cell_type": "code",
   "execution_count": 50,
   "id": "fc78875a",
   "metadata": {},
   "outputs": [
    {
     "data": {
      "text/html": [
       "1.7826619216278976×10<sup>-30</sup> kilogram"
      ],
      "text/latex": [
       "$1.7826619216278976\\times 10^{-30}\\ \\mathrm{kilogram}$"
      ],
      "text/plain": [
       "1.7826619216278976e-30 <Unit('kilogram')>"
      ]
     },
     "execution_count": 50,
     "metadata": {},
     "output_type": "execute_result"
    }
   ],
   "source": [
    "(1 * MeV / c ** 2).to(kilogramos)"
   ]
  },
  {
   "cell_type": "code",
   "execution_count": null,
   "id": "9f40a00e",
   "metadata": {},
   "outputs": [],
   "source": []
  },
  {
   "cell_type": "code",
   "execution_count": null,
   "id": "71f1262f",
   "metadata": {},
   "outputs": [],
   "source": []
  },
  {
   "cell_type": "code",
   "execution_count": 10,
   "id": "f88d5bb0",
   "metadata": {},
   "outputs": [
    {
     "ename": "DimensionalityError",
     "evalue": "Cannot convert from 'megaelectron_volt ** 2' to 'dimensionless'",
     "output_type": "error",
     "traceback": [
      "\u001b[0;31m---------------------------------------------------------------------------\u001b[0m",
      "\u001b[0;31mDimensionalityError\u001b[0m                       Traceback (most recent call last)",
      "Cell \u001b[0;32mIn[10], line 1\u001b[0m\n\u001b[0;32m----> 1\u001b[0m E_lab \u001b[38;5;241m=\u001b[39m \u001b[43msqrt\u001b[49m\u001b[43m(\u001b[49m\u001b[43m \u001b[49m\u001b[43mm_electron\u001b[49m\u001b[43m \u001b[49m\u001b[38;5;241;43m*\u001b[39;49m\u001b[38;5;241;43m*\u001b[39;49m\u001b[43m \u001b[49m\u001b[38;5;241;43m2\u001b[39;49m\u001b[43m \u001b[49m\u001b[38;5;241;43m*\u001b[39;49m\u001b[43m \u001b[49m\u001b[43mc\u001b[49m\u001b[43m \u001b[49m\u001b[38;5;241;43m*\u001b[39;49m\u001b[38;5;241;43m*\u001b[39;49m\u001b[43m \u001b[49m\u001b[38;5;241;43m4\u001b[39;49m\u001b[43m \u001b[49m\u001b[38;5;241;43m+\u001b[39;49m\u001b[43m \u001b[49m\u001b[43m(\u001b[49m\u001b[43m \u001b[49m\u001b[43mgamma_electron_lab\u001b[49m\u001b[43m \u001b[49m\u001b[38;5;241;43m*\u001b[39;49m\u001b[43m \u001b[49m\u001b[43mm_electron\u001b[49m\u001b[43m \u001b[49m\u001b[38;5;241;43m*\u001b[39;49m\u001b[43m  \u001b[49m\u001b[43mv_electron_lab\u001b[49m\u001b[43m \u001b[49m\u001b[43m)\u001b[49m\u001b[43m \u001b[49m\u001b[38;5;241;43m*\u001b[39;49m\u001b[38;5;241;43m*\u001b[39;49m\u001b[43m \u001b[49m\u001b[38;5;241;43m2\u001b[39;49m\u001b[43m \u001b[49m\u001b[38;5;241;43m*\u001b[39;49m\u001b[43m \u001b[49m\u001b[43mc\u001b[49m\u001b[43m \u001b[49m\u001b[38;5;241;43m*\u001b[39;49m\u001b[38;5;241;43m*\u001b[39;49m\u001b[43m \u001b[49m\u001b[38;5;241;43m2\u001b[39;49m\u001b[43m \u001b[49m\u001b[43m)\u001b[49m\n\u001b[1;32m      2\u001b[0m E_lab\n",
      "File \u001b[0;32m/usr/lib/python3/dist-packages/pint/facets/plain/quantity.py:588\u001b[0m, in \u001b[0;36mPlainQuantity.__float__\u001b[0;34m(self)\u001b[0m\n\u001b[1;32m    586\u001b[0m \u001b[38;5;28;01mif\u001b[39;00m \u001b[38;5;28mself\u001b[39m\u001b[38;5;241m.\u001b[39mdimensionless:\n\u001b[1;32m    587\u001b[0m     \u001b[38;5;28;01mreturn\u001b[39;00m \u001b[38;5;28mfloat\u001b[39m(\u001b[38;5;28mself\u001b[39m\u001b[38;5;241m.\u001b[39m_convert_magnitude_not_inplace(UnitsContainer()))\n\u001b[0;32m--> 588\u001b[0m \u001b[38;5;28;01mraise\u001b[39;00m DimensionalityError(\u001b[38;5;28mself\u001b[39m\u001b[38;5;241m.\u001b[39m_units, \u001b[38;5;124m\"\u001b[39m\u001b[38;5;124mdimensionless\u001b[39m\u001b[38;5;124m\"\u001b[39m)\n",
      "\u001b[0;31mDimensionalityError\u001b[0m: Cannot convert from 'megaelectron_volt ** 2' to 'dimensionless'"
     ]
    }
   ],
   "source": [
    "E_lab = sqrt( m_electron ** 2 * c ** 4 + ( gamma_electron_lab * m_electron *  v_electron_lab ) ** 2 * c ** 2 )\n",
    "E_lab"
   ]
  },
  {
   "cell_type": "code",
   "execution_count": null,
   "id": "a133b276",
   "metadata": {},
   "outputs": [],
   "source": []
  },
  {
   "cell_type": "markdown",
   "id": "de7d55b7",
   "metadata": {},
   "source": [
    "Ejercicio 5.5: Supongamos que el movimiento se restringe a una sola dimensi´on por sim-\n",
    "plicidad. Demuestra que se verifica d [γ(v) v] = γ3dv ."
   ]
  },
  {
   "cell_type": "markdown",
   "id": "f1136c43",
   "metadata": {},
   "source": [
    "https://www.youtube.com/watch?v=fYfdIs7GMrI\n"
   ]
  },
  {
   "cell_type": "code",
   "execution_count": null,
   "id": "0ef8e744",
   "metadata": {},
   "outputs": [],
   "source": []
  },
  {
   "cell_type": "code",
   "execution_count": null,
   "id": "61d657c4",
   "metadata": {},
   "outputs": [],
   "source": []
  }
 ],
 "metadata": {
  "kernelspec": {
   "display_name": "Python 3 (ipykernel)",
   "language": "python",
   "name": "python3"
  },
  "language_info": {
   "codemirror_mode": {
    "name": "ipython",
    "version": 3
   },
   "file_extension": ".py",
   "mimetype": "text/x-python",
   "name": "python",
   "nbconvert_exporter": "python",
   "pygments_lexer": "ipython3",
   "version": "3.11.9"
  }
 },
 "nbformat": 4,
 "nbformat_minor": 5
}
