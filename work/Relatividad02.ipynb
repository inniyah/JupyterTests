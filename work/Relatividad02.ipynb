{
 "cells": [
  {
   "cell_type": "code",
   "execution_count": 1,
   "id": "90393a47",
   "metadata": {},
   "outputs": [],
   "source": [
    "from math import *\n",
    "from pprint import pprint\n",
    "\n",
    "from pint import UnitRegistry, set_application_registry\n",
    "ureg = UnitRegistry()\n",
    "set_application_registry(ureg)\n",
    "\n",
    "litros = ureg.litre\n",
    "atmosferas = ureg.atmosphere\n",
    "moles = ureg.mol\n",
    "kelvins = ureg.kelvin\n",
    "kilogramos = ureg.kilogram\n",
    "gramos = ureg.gram\n",
    "kilometros = ureg.kilometer\n",
    "metros = ureg.meter\n",
    "centimetros = ureg.centimeter\n",
    "nanometros = ureg.nanometer\n",
    "julios = ureg.joule\n",
    "kilojulios = ureg.kilojoule\n",
    "pascales = ureg.pascal\n",
    "segundos = ureg.second\n",
    "nanosegundos = ureg.nanosecond\n",
    "horas = ureg.hour\n",
    "eV = ureg.electron_volt\n",
    "MeV = ureg.megaelectron_volt\n",
    "Å = ureg.angstrom\n",
    "\n",
    "c = ureg.speed_of_light\n",
    "\n",
    "Q = ureg.Quantity\n",
    "\n",
    "h = 6.628e-34 * julios * segundos "
   ]
  },
  {
   "cell_type": "code",
   "execution_count": null,
   "id": "8951920e",
   "metadata": {},
   "outputs": [],
   "source": []
  },
  {
   "cell_type": "markdown",
   "id": "e7eb350d",
   "metadata": {},
   "source": [
    "5.3. Calcula la velocidad de un electr´on cuya energ´ıa cin´etica es 2 MeV y el momento lineal\n",
    "de un mu´on que se desplaza a velocidad 0, 8 c, comparando ambos resultados con la\n",
    "predicci´on cl´asica."
   ]
  },
  {
   "cell_type": "code",
   "execution_count": 2,
   "id": "3e947acc",
   "metadata": {},
   "outputs": [
    {
     "name": "stdout",
     "output_type": "stream",
     "text": [
      "4.913894324853229 dimensionless\n",
      "0.979073994129462 speed_of_light\n",
      "140.88000000000002 megaelectron_volt / speed_of_light\n"
     ]
    }
   ],
   "source": [
    "T_electron = 2 * MeV\n",
    "m_electron = 0.511 * MeV / c**2\n",
    "m_muon = 105.66 * MeV / c**2\n",
    "v_muon = 0.8 * c\n",
    "\n",
    "gamma = 1 + T_electron / m_electron / c**2\n",
    "print(gamma)\n",
    "v_electron = sqrt( (1 - (1 / gamma )**2 ) ) * c\n",
    "print(v_electron)\n",
    "\n",
    "print( m_muon * ( 1 / sqrt ( 1 - (v_muon**2/c**2)) ) * v_muon )\n",
    "#( m_muon * ( 1 / sqrt ( 1 - (v_muon**2/c**2)) ) * v_muon ).to(kilogramos * metros / segundos )\n"
   ]
  },
  {
   "cell_type": "markdown",
   "id": "f24711a4",
   "metadata": {},
   "source": [
    "5.6. Un fot´on de longitud de onda 600 ˚A es absorbido por un ´atomo de hidr´ogeno. Sabiendo\n",
    "que la energ´ıa de ionizaci´on de un ´atomo de hidr´ogeno es 13, 6 eV, calcula la velocidad\n",
    "del electr´on liberado."
   ]
  },
  {
   "cell_type": "code",
   "execution_count": 3,
   "id": "f22ba2c6",
   "metadata": {},
   "outputs": [
    {
     "data": {
      "text/html": [
       "4.136872214552594×10<sup>-21</sup> megaelectron_volt second"
      ],
      "text/latex": [
       "$4.136872214552594\\times 10^{-21}\\ \\mathrm{megaelectron\\_volt} \\cdot \\mathrm{second}$"
      ],
      "text/plain": [
       "4.136872214552594e-21 <Unit('megaelectron_volt * second')>"
      ]
     },
     "execution_count": 3,
     "metadata": {},
     "output_type": "execute_result"
    }
   ],
   "source": [
    "h.to(MeV * segundos)"
   ]
  },
  {
   "cell_type": "code",
   "execution_count": 4,
   "id": "354dc9af",
   "metadata": {},
   "outputs": [
    {
     "data": {
      "text/html": [
       "7.07005149387709 electron_volt"
      ],
      "text/latex": [
       "$7.07005149387709\\ \\mathrm{electron\\_volt}$"
      ],
      "text/plain": [
       "7.07005149387709 <Unit('electron_volt')>"
      ]
     },
     "execution_count": 4,
     "metadata": {},
     "output_type": "execute_result"
    }
   ],
   "source": [
    "T_electron = ( h * c / ( 600 * Å ) ).to(eV) - 13.6 * eV\n",
    "T_electron"
   ]
  },
  {
   "cell_type": "code",
   "execution_count": 9,
   "id": "2a12e258",
   "metadata": {},
   "outputs": [
    {
     "name": "stdout",
     "output_type": "stream",
     "text": [
      "1.0000138357172093 dimensionless\n",
      "0.005260309890859759 speed_of_light\n",
      "1577.0012320225587 kilometer / second\n"
     ]
    }
   ],
   "source": [
    "m_electron = 0.511 * MeV / c**2\n",
    "gamma = 1 + T_electron / m_electron / c**2\n",
    "print(gamma)\n",
    "v_electron = sqrt( (1 - (1 / gamma )**2 ) ) * c\n",
    "print(v_electron)\n",
    "print(v_electron.to(kilometros / segundos))"
   ]
  },
  {
   "cell_type": "code",
   "execution_count": null,
   "id": "36ca7515",
   "metadata": {},
   "outputs": [],
   "source": []
  }
 ],
 "metadata": {
  "kernelspec": {
   "display_name": "Python 3 (ipykernel)",
   "language": "python",
   "name": "python3"
  },
  "language_info": {
   "codemirror_mode": {
    "name": "ipython",
    "version": 3
   },
   "file_extension": ".py",
   "mimetype": "text/x-python",
   "name": "python",
   "nbconvert_exporter": "python",
   "pygments_lexer": "ipython3",
   "version": "3.11.9"
  }
 },
 "nbformat": 4,
 "nbformat_minor": 5
}
