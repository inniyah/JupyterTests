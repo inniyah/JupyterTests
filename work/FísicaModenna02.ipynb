{
 "cells": [
  {
   "cell_type": "code",
   "execution_count": 1,
   "id": "e89703b6",
   "metadata": {},
   "outputs": [
    {
     "name": "stdout",
     "output_type": "stream",
     "text": [
      "8.85418781762039e-12 farad / meter\n"
     ]
    }
   ],
   "source": [
    "from math import *\n",
    "from pprint import pprint\n",
    "\n",
    "import numpy as np\n",
    "import matplotlib.pyplot as plt\n",
    "\n",
    "from pint import UnitRegistry, set_application_registry\n",
    "ureg = UnitRegistry()\n",
    "set_application_registry(ureg)\n",
    "\n",
    "litros = ureg.litre\n",
    "atmosferas = ureg.atmosphere\n",
    "moles = ureg.mol\n",
    "kelvins = ureg.kelvin\n",
    "kilogramos = ureg.kilogram\n",
    "gramos = ureg.gram\n",
    "kilometros = ureg.kilometer\n",
    "metros = ureg.meter\n",
    "centimetros = ureg.centimeter\n",
    "nanometros = ureg.nanometer\n",
    "femtometros = ureg.femtometer\n",
    "fermis = ureg.femtometer\n",
    "julios = ureg.joule\n",
    "kilojulios = ureg.kilojoule\n",
    "pascales = ureg.pascal\n",
    "newtons = ureg.newton\n",
    "teslas = ureg.tesla\n",
    "culombios = ureg.coulomb\n",
    "amperios = ureg.ampere\n",
    "faradios = ureg.farad\n",
    "segundos = ureg.second\n",
    "nanosegundos = ureg.nanosecond\n",
    "horas = ureg.hour\n",
    "eV = ureg.electron_volt\n",
    "MeV = ureg.megaelectron_volt\n",
    "keV = ureg.kiloelectron_volt\n",
    "Å = ureg.angstrom\n",
    "\n",
    "c = ureg.speed_of_light\n",
    "\n",
    "Q = ureg.Quantity\n",
    "\n",
    "h = 6.628e-34 * julios * segundos \n",
    "ℏ = h / ( 2 * pi )\n",
    "\n",
    "ℏc = 200 * eV * nanometros\n",
    "\n",
    "atmosfera = 101327.38879319 * newtons / metros**2\n",
    "\n",
    "µ0 = 4 * pi * 1e-7 * teslas * metros / amperios\n",
    "𝜀0 = 1 / ( µ0 * c**2)\n",
    "print(𝜀0.to(faradios / metros))"
   ]
  },
  {
   "cell_type": "code",
   "execution_count": 2,
   "id": "7e17153e",
   "metadata": {},
   "outputs": [],
   "source": [
    "m_electron = 0.511 * MeV / c**2\n",
    "Ec_electron = 13.6 * eV\n",
    "\n",
    "m_proton = 938.272 * MeV / c**2\n",
    "Ec_proton = 8 * MeV\n",
    "\n",
    "q_electron = 1.6e-19 * culombios\n",
    "q_quark_up = q_electron * 2 / 3\n",
    "q_quark_down = abs(- q_electron * 1 / 3)\n",
    "q_proton = abs(- q_electron)\n",
    "q_neutron = 0 * culombios\n",
    "\n",
    "m_quark_up = 3 * MeV / c**2\n",
    "m_quark_down = 5 * MeV / c**2"
   ]
  },
  {
   "cell_type": "markdown",
   "id": "aeecae7d",
   "metadata": {},
   "source": [
    "studiar la emisi´on de part´ıculas α por el 238\n",
    "92 U146, con energ´ıa cin´etica, Ec\n",
    "α = 4.2 M eV . El\n",
    "n´ucleo producido en este proceso, es el 234\n",
    "90 T h144. Determinar, la velocidad de la part´ıcula α\n",
    "dentro del n´ucleo, y su frecuencia de colisi´on con la barrera. Obtener la altura de la barrera en\n",
    "MeV, y estimar su anchura en fm."
   ]
  },
  {
   "cell_type": "code",
   "execution_count": 10,
   "id": "5693d6ac",
   "metadata": {},
   "outputs": [
    {
     "name": "stdout",
     "output_type": "stream",
     "text": [
      "7.746443043426408e-15 meter\n",
      "33.36884314700569 megaelectron_volt\n"
     ]
    }
   ],
   "source": [
    "A_U = 238\n",
    "Z_U = 92\n",
    "A_Th = 234\n",
    "Z_Th = 90\n",
    "\n",
    "Ec_α = 4.2 * MeV\n",
    "\n",
    "# R = r0 * A**(1/3) = (1.25 fm) * A**(1/3)\n",
    "# V = 4/3 * pi * R**3\n",
    "# Energía_enlace / A = 8-9 MeV\n",
    "\n",
    "r0 = 1.25 * fermis\n",
    "R_U = r0 * A_U**(1/3)\n",
    "print(R_U.to(metros))\n",
    "\n",
    "U = (Z_U - 2) * q_electron * 2 * q_electron / ( 4 * pi * 𝜀0 * R_U )\n",
    "print(U.to(MeV))"
   ]
  },
  {
   "cell_type": "code",
   "execution_count": null,
   "id": "ad47f244",
   "metadata": {},
   "outputs": [],
   "source": []
  },
  {
   "cell_type": "code",
   "execution_count": null,
   "id": "9754728a",
   "metadata": {},
   "outputs": [],
   "source": []
  }
 ],
 "metadata": {
  "kernelspec": {
   "display_name": "Python 3 (ipykernel)",
   "language": "python",
   "name": "python3"
  },
  "language_info": {
   "codemirror_mode": {
    "name": "ipython",
    "version": 3
   },
   "file_extension": ".py",
   "mimetype": "text/x-python",
   "name": "python",
   "nbconvert_exporter": "python",
   "pygments_lexer": "ipython3",
   "version": "3.11.9"
  }
 },
 "nbformat": 4,
 "nbformat_minor": 5
}
