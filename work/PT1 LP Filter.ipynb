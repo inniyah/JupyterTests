{
 "cells": [
  {
   "cell_type": "markdown",
   "metadata": {},
   "source": [
    "The equation being used in code is a discrete-time implementation of the filter.\n",
    "\n",
    "The differential equation) of a PT1 is: T * y'(t) + y(t) = K * u(t), where y' = dy/dt\n",
    "\n",
    "In order to create a discrete-time filter from the continuous-time dynamics, you can use a first order approximation (backwards difference, specifically) of the derivative of y: dy/dt ~ (y(t) - y(t - dt)) / dt\n",
    "\n",
    "If we use the notation k to denote a sample taken at time t and k-1 to denote a sample taken at time t-dt, then we can derive the equation used in code as follows:\n",
    "\n",
    "T * dy/dt + y(t) = K * u(t)\n",
    "\n",
    "T * (y(k) - y(k-1)) / dt + y(k) = K * u(k)\n",
    "\n",
    "(T/dt + 1) * y(k) = K * u(k) + T/dt * y(k-1)\n",
    "\n",
    "Now let K=1 and C=T/dt, and you get:\n",
    "\n",
    "(C+1) * y(k) = u(k) + C * y(k-1)\n",
    "\n",
    "And, from there:\n",
    "y(k) = (u(k) + C * y(k-1)) / (C+1)\n",
    "\n",
    "Some links:\n",
    " - https://kiritchatterjee.wordpress.com/2014/11/10/a-simple-digital-low-pass-filter-in-c/\n",
    " - https://engineering.stackexchange.com/questions/13516/pt1-filter-without-derivative\n",
    " - https://www.mikrocontroller.net/attachment/149882/schift-filter-tp.pdf\n",
    " - http://www.dspguide.com/pdfbook.htm"
   ]
  },
  {
   "cell_type": "code",
   "execution_count": 2,
   "metadata": {},
   "outputs": [],
   "source": [
    "import matplotlib.pyplot as plt\n",
    "import random"
   ]
  },
  {
   "cell_type": "code",
   "execution_count": 4,
   "metadata": {},
   "outputs": [
    {
     "name": "stdout",
     "output_type": "stream",
     "text": [
      "T=1.0 -> C=10.0 -> beta=0.09090909090909091\n"
     ]
    },
    {
     "data": {
      "image/png": "[encoded data removed]",
      "text/plain": [
       "<Figure size 432x288 with 1 Axes>"
      ]
     },
     "metadata": {
      "needs_background": "light"
     },
     "output_type": "display_data"
    }
   ],
   "source": [
    "n = 80\n",
    "dt = 0.1\n",
    "t = [dt * t for t in range(n)]\n",
    "x = [1.0 if t else 0.0 for t in range(n)]\n",
    "\n",
    "# Time Constant for the Filter\n",
    "T = 1.0\n",
    "\n",
    "C = T / dt\n",
    "beta = 1.0 / (C + 1.0)\n",
    "print(f\"T={T} -> C={C} -> beta={beta}\")\n",
    "\n",
    "y = [float('nan') for t in range(n)]\n",
    "ly = 0.0\n",
    "for k in range(n):\n",
    "    y[k] = beta * x[k] + (1.0 - beta) * ly\n",
    "    ly = y[k]\n",
    "\n",
    "#print(t)\n",
    "#print(x)\n",
    "#print(y)\n",
    "\n",
    "plt.plot(t, x, color='yellow', linestyle='dashed', linewidth = 3, marker='.', markerfacecolor='green', markersize=12) \n",
    "plt.plot(t, y, color='green', linestyle='dashed', linewidth = 3, marker='o', markerfacecolor='blue', markersize=12) \n",
    "  \n",
    "# setting x and y axis range \n",
    "plt.ylim(0.0, 1.0)\n",
    "plt.xlim(0.0, 8.0)\n",
    " \n",
    "plt.title('Some Title!') \n",
    "\n",
    "plt.xlabel('time') \n",
    "plt.ylabel('output') \n",
    "\n",
    "plt.show() "
   ]
  },
  {
   "cell_type": "code",
   "execution_count": 5,
   "metadata": {},
   "outputs": [
    {
     "name": "stdout",
     "output_type": "stream",
     "text": [
      "T=1.0 -> C=1.0 -> beta=0.5\n"
     ]
    },
    {
     "data": {
      "image/png": "[encoded data removed]",
      "text/plain": [
       "<Figure size 432x288 with 1 Axes>"
      ]
     },
     "metadata": {
      "needs_background": "light"
     },
     "output_type": "display_data"
    }
   ],
   "source": [
    "n = 50\n",
    "dt = 1.0\n",
    "t = [dt * t for t in range(n)]\n",
    "x = [1.0 if t else 0.0 for t in range(n)]\n",
    "\n",
    "# Time Constant for the Filter\n",
    "T = 1.0\n",
    "\n",
    "C = T / dt\n",
    "beta = 1.0 / (C + 1.0)\n",
    "print(f\"T={T} -> C={C} -> beta={beta}\")\n",
    "\n",
    "y = [float('nan') for t in range(n)]\n",
    "ly = 0.0\n",
    "for k in range(n):\n",
    "    y[k] = beta * x[k] + (1.0 - beta) * ly\n",
    "    ly = y[k]\n",
    "\n",
    "#print(t)\n",
    "#print(x)\n",
    "#print(y)\n",
    "\n",
    "plt.plot(t, x, color='yellow', linestyle='dashed', linewidth = 3, marker='.', markerfacecolor='green', markersize=12) \n",
    "plt.plot(t, y, color='green', linestyle='dashed', linewidth = 3, marker='o', markerfacecolor='blue', markersize=12) \n",
    "  \n",
    "# setting x and y axis range \n",
    "plt.ylim(0.0, 1.0)\n",
    "plt.xlim(0.0, 8.0)\n",
    " \n",
    "plt.title('Some Title!') \n",
    "\n",
    "plt.xlabel('time') \n",
    "plt.ylabel('output') \n",
    "\n",
    "plt.show() "
   ]
  },
  {
   "cell_type": "code",
   "execution_count": 1,
   "metadata": {},
   "outputs": [
    {
     "ename": "NameError",
     "evalue": "name 'dt' is not defined",
     "output_type": "error",
     "traceback": [
      "\u001b[0;31m---------------------------------------------------------------------------\u001b[0m",
      "\u001b[0;31mNameError\u001b[0m                                 Traceback (most recent call last)",
      "\u001b[0;32m<ipython-input-1-b22462a96fbd>\u001b[0m in \u001b[0;36m<module>\u001b[0;34m\u001b[0m\n\u001b[1;32m      1\u001b[0m \u001b[0mn\u001b[0m \u001b[0;34m=\u001b[0m \u001b[0;36m50\u001b[0m\u001b[0;34m\u001b[0m\u001b[0;34m\u001b[0m\u001b[0m\n\u001b[1;32m      2\u001b[0m \u001b[0mt\u001b[0m \u001b[0;34m=\u001b[0m \u001b[0;34m[\u001b[0m\u001b[0mfloat\u001b[0m\u001b[0;34m(\u001b[0m\u001b[0;34m'nan'\u001b[0m\u001b[0;34m)\u001b[0m \u001b[0;32mfor\u001b[0m \u001b[0mt\u001b[0m \u001b[0;32min\u001b[0m \u001b[0mrange\u001b[0m\u001b[0;34m(\u001b[0m\u001b[0mn\u001b[0m\u001b[0;34m)\u001b[0m\u001b[0;34m]\u001b[0m\u001b[0;34m\u001b[0m\u001b[0;34m\u001b[0m\u001b[0m\n\u001b[0;32m----> 3\u001b[0;31m \u001b[0mt\u001b[0m \u001b[0;34m=\u001b[0m \u001b[0;34m[\u001b[0m\u001b[0mdt\u001b[0m \u001b[0;34m*\u001b[0m \u001b[0mt\u001b[0m \u001b[0;32mfor\u001b[0m \u001b[0mt\u001b[0m \u001b[0;32min\u001b[0m \u001b[0mrange\u001b[0m\u001b[0;34m(\u001b[0m\u001b[0mn\u001b[0m\u001b[0;34m)\u001b[0m\u001b[0;34m]\u001b[0m\u001b[0;34m\u001b[0m\u001b[0;34m\u001b[0m\u001b[0m\n\u001b[0m\u001b[1;32m      4\u001b[0m \u001b[0;34m\u001b[0m\u001b[0m\n\u001b[1;32m      5\u001b[0m \u001b[0;31m# Time Constant for the Filter\u001b[0m\u001b[0;34m\u001b[0m\u001b[0;34m\u001b[0m\u001b[0;34m\u001b[0m\u001b[0m\n",
      "\u001b[0;32m<ipython-input-1-b22462a96fbd>\u001b[0m in \u001b[0;36m<listcomp>\u001b[0;34m(.0)\u001b[0m\n\u001b[1;32m      1\u001b[0m \u001b[0mn\u001b[0m \u001b[0;34m=\u001b[0m \u001b[0;36m50\u001b[0m\u001b[0;34m\u001b[0m\u001b[0;34m\u001b[0m\u001b[0m\n\u001b[1;32m      2\u001b[0m \u001b[0mt\u001b[0m \u001b[0;34m=\u001b[0m \u001b[0;34m[\u001b[0m\u001b[0mfloat\u001b[0m\u001b[0;34m(\u001b[0m\u001b[0;34m'nan'\u001b[0m\u001b[0;34m)\u001b[0m \u001b[0;32mfor\u001b[0m \u001b[0mt\u001b[0m \u001b[0;32min\u001b[0m \u001b[0mrange\u001b[0m\u001b[0;34m(\u001b[0m\u001b[0mn\u001b[0m\u001b[0;34m)\u001b[0m\u001b[0;34m]\u001b[0m\u001b[0;34m\u001b[0m\u001b[0;34m\u001b[0m\u001b[0m\n\u001b[0;32m----> 3\u001b[0;31m \u001b[0mt\u001b[0m \u001b[0;34m=\u001b[0m \u001b[0;34m[\u001b[0m\u001b[0mdt\u001b[0m \u001b[0;34m*\u001b[0m \u001b[0mt\u001b[0m \u001b[0;32mfor\u001b[0m \u001b[0mt\u001b[0m \u001b[0;32min\u001b[0m \u001b[0mrange\u001b[0m\u001b[0;34m(\u001b[0m\u001b[0mn\u001b[0m\u001b[0;34m)\u001b[0m\u001b[0;34m]\u001b[0m\u001b[0;34m\u001b[0m\u001b[0;34m\u001b[0m\u001b[0m\n\u001b[0m\u001b[1;32m      4\u001b[0m \u001b[0;34m\u001b[0m\u001b[0m\n\u001b[1;32m      5\u001b[0m \u001b[0;31m# Time Constant for the Filter\u001b[0m\u001b[0;34m\u001b[0m\u001b[0;34m\u001b[0m\u001b[0;34m\u001b[0m\u001b[0m\n",
      "\u001b[0;31mNameError\u001b[0m: name 'dt' is not defined"
     ]
    }
   ],
   "source": [
    "n = 50\n",
    "t = [float('nan') for t in range(n)]\n",
    "t = [dt * t for t in range(n)]\n",
    "\n",
    "# Time Constant for the Filter\n",
    "T = 1.0\n",
    "\n",
    "lt = 0.0\n",
    "for k in range(n):\n",
    "    t[k] = lt + random.uniform(0, 0.5)\n",
    "    lt = t[k]\n",
    "\n",
    "x = [1.0 if t else 0.0 for t in range(n)]\n",
    "y = [float('nan') for t in range(n)]\n",
    "\n",
    "ly = 0.0\n",
    "lt = 0.0\n",
    "dt = 0.1\n",
    "for k in range(n):\n",
    "    dt = t[k] - lt\n",
    "    C = T / dt\n",
    "    beta = 1.0 / (C + 1.0)\n",
    "    #print(f\"T={T} -> C={C} -> beta={beta}\")\n",
    "\n",
    "    y[k] = beta * x[k] + (1.0 - beta) * ly\n",
    "    ly = y[k]\n",
    "    lt = t[k]\n",
    "\n",
    "#print(t)\n",
    "#print(x)\n",
    "#print(y)\n",
    "\n",
    "plt.plot(t, x, color='yellow', linestyle='dashed', linewidth = 3, marker='.', markerfacecolor='green', markersize=12) \n",
    "plt.plot(t, y, color='green', linestyle='dashed', linewidth = 3, marker='o', markerfacecolor='blue', markersize=12) \n",
    "  \n",
    "# setting x and y axis range \n",
    "plt.ylim(0.0, 1.0)\n",
    "plt.xlim(0.0, 8.0)\n",
    " \n",
    "plt.title('Some Title!') \n",
    "\n",
    "plt.xlabel('time') \n",
    "plt.ylabel('output') \n",
    "\n",
    "plt.show() "
   ]
  }
 ],
 "metadata": {
  "kernelspec": {
   "display_name": "Python 3",
   "language": "python",
   "name": "python3"
  },
  "language_info": {
   "codemirror_mode": {
    "name": "ipython",
    "version": 3
   },
   "file_extension": ".py",
   "mimetype": "text/x-python",
   "name": "python",
   "nbconvert_exporter": "python",
   "pygments_lexer": "ipython3",
   "version": "3.7.3"
  }
 },
 "nbformat": 4,
 "nbformat_minor": 2
}
