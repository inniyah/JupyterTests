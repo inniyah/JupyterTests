{
 "cells": [
  {
   "cell_type": "code",
   "execution_count": 80,
   "id": "7740516d",
   "metadata": {},
   "outputs": [],
   "source": [
    "from math import *\n",
    "from pprint import pprint\n",
    "\n",
    "from pint import UnitRegistry, set_application_registry\n",
    "ureg = UnitRegistry()\n",
    "set_application_registry(ureg)\n",
    "\n",
    "litros = ureg.litre\n",
    "atmosferas = ureg.atmosphere\n",
    "moles = ureg.mol\n",
    "kelvins = ureg.kelvin\n",
    "kilogramos = ureg.kilogram\n",
    "gramos = ureg.gram\n",
    "kilometros = ureg.kilometer\n",
    "metros = ureg.meter\n",
    "centimetros = ureg.centimeter\n",
    "nanometros = ureg.nanometer\n",
    "julios = ureg.joule\n",
    "kilojulios = ureg.kilojoule\n",
    "pascales = ureg.pascal\n",
    "segundos = ureg.second\n",
    "nanosegundos = ureg.nanosecond\n",
    "horas = ureg.hour\n",
    "\n",
    "c = ureg.speed_of_light\n",
    "\n",
    "Q = ureg.Quantity"
   ]
  },
  {
   "cell_type": "markdown",
   "id": "b6c8a8f2",
   "metadata": {},
   "source": [
    "4.1. Un niño viajando en un tren lanza una pelota con una velocidad de 35 km/h en\n",
    "la direccion de movimiento del tren. Justo en el momento en el que el niño lanza la\n",
    "pelota, el tren pasa una estación viajando a 120 km/h. ¿Cuál es la velocidad de la\n",
    "pelota según un observador clásico que está en el andán?."
   ]
  },
  {
   "cell_type": "code",
   "execution_count": 8,
   "id": "132b410d",
   "metadata": {},
   "outputs": [
    {
     "name": "stdout",
     "output_type": "stream",
     "text": [
      "v_pelota_estacion =  155.0 kilometer / hour\n"
     ]
    }
   ],
   "source": [
    "v_pelota_tren = 35 * kilometros / horas\n",
    "v_tren_estacion = 120 * kilometros / horas\n",
    "v_pelota_estacion = v_pelota_tren + v_tren_estacion\n",
    "print('v_pelota_estacion = ', v_pelota_estacion)"
   ]
  },
  {
   "cell_type": "markdown",
   "id": "56119c68",
   "metadata": {},
   "source": [
    "4.2. Un pasajero en un tren que se mueve a 30 m s−1 pasa en el instante t = t′ = 0 por\n",
    "delante de una mujer situada en un and´en. Exactamente 20 s despu´es, la mujer ve un\n",
    "p´ajaro a 800 m en la v´ıa por delante del tren. Calcula las coordenadas del p´ajaro seg´un\n",
    "el pasajero suponiendo que puede aplicar la mec´anica cl´asica."
   ]
  },
  {
   "cell_type": "code",
   "execution_count": 12,
   "id": "a6984b54",
   "metadata": {},
   "outputs": [
    {
     "name": "stdout",
     "output_type": "stream",
     "text": [
      "pajaro_tren = (20 second, 200.0 meter)\n"
     ]
    }
   ],
   "source": [
    "v_tren_mujer = 30 * metros / segundos\n",
    "x_pajaro_mujer = 800 * metros\n",
    "t_pajaro_mujer = 20 * segundos\n",
    "x_pajaro_tren = x_pajaro_mujer - v_tren_mujer * t_pajaro_mujer\n",
    "print(f\"pajaro_tren = ({t_pajaro_mujer}, {x_pajaro_tren})\")"
   ]
  },
  {
   "cell_type": "markdown",
   "id": "8c1f5c52",
   "metadata": {},
   "source": [
    "4.3. Una muestra de material radioactivo, en reposo en el sistema de referencia del labo-\n",
    "ratorio, emite dos electrones en direcciones opuestas. Un observador en el laboratorio\n",
    "determina que un electr´on se mueve con velocidad 0, 8 c y el otro con velocidad 0, 6 c.\n",
    "Calcula la velocidad de un electr´on medida en el sistema en el que el otro est´a en\n",
    "reposo, asumiendo las transformaciones de Galileo"
   ]
  },
  {
   "cell_type": "code",
   "execution_count": 27,
   "id": "667c81d2",
   "metadata": {},
   "outputs": [
    {
     "name": "stdout",
     "output_type": "stream",
     "text": [
      "v_e2_e1 =  1.4 speed_of_light\n"
     ]
    }
   ],
   "source": [
    "v_e1_lab = 0.8 * c\n",
    "v_e2_lab = -0.6 * c\n",
    "print('v_e2_e1 = ', abs(v_e2_lab - v_e1_lab))"
   ]
  },
  {
   "cell_type": "markdown",
   "id": "4d045a93",
   "metadata": {},
   "source": [
    "4.4. Un cazador dispara una bala en direcci´on nordeste con una velocidad de 1800 km h−1\n",
    "que alcanza a un ciervo situado a 250 m. En el momento del disparo se encontraba\n",
    "sobre el cazador un avi´on a una altura de 1 km desplaz´andose a 600 km h−1 en direcci´on\n",
    "este. Seg´un el piloto del avi´on, considerado como observador cl´asico, ¿cu´ales son las\n",
    "coordenadas del ciervo en el momento del impacto?"
   ]
  },
  {
   "cell_type": "code",
   "execution_count": 46,
   "id": "7c869366",
   "metadata": {},
   "outputs": [
    {
     "name": "stdout",
     "output_type": "stream",
     "text": [
      "P_ciervo_cazador =  [176.77669529663686 176.77669529663686 0.0] meter\n",
      "V_bala_cazador =  [1272.7922061357854 1272.7922061357854 0.0] kilometer / hour\n",
      "t_ciervo_cazador =  0.5 second\n",
      "P_avion_cazador_05s =  [83.33333333333334 0.0 1000.0] meter\n",
      "P_ciervo_avion_05s =  [93.44336196330352 176.77669529663686 -1000.0] meter\n"
     ]
    }
   ],
   "source": [
    "from numpy import *\n",
    "\n",
    "dist_ciervo_cazador = 250 * metros\n",
    "vel_bala_cazador = 1800 * kilometros / horas\n",
    "\n",
    "P_ciervo_cazador = Q( array([250/sqrt(2), 250/sqrt(2), 0]), metros )\n",
    "print('P_ciervo_cazador = ', P_ciervo_cazador)\n",
    "\n",
    "V_bala_cazador = Q( array([1800/sqrt(2), 1800/sqrt(2), 0]), kilometros / horas )\n",
    "print('V_bala_cazador = ', V_bala_cazador)\n",
    "\n",
    "t_ciervo_cazador = dist_ciervo_cazador / vel_bala_cazador\n",
    "print('t_ciervo_cazador = ', t_ciervo_cazador.to(segundos))\n",
    "\n",
    "vel_avion_cazador = 600 * kilometros / horas\n",
    "\n",
    "P_avion_cazador_05s = Q( array([ float(t_ciervo_cazador * vel_avion_cazador / metros) , 0, 1000]), metros )\n",
    "print('P_avion_cazador_05s = ', P_avion_cazador_05s)\n",
    "\n",
    "P_ciervo_avion_05s = P_ciervo_cazador - P_avion_cazador_05s\n",
    "print('P_ciervo_avion_05s = ', P_ciervo_avion_05s)\n"
   ]
  },
  {
   "cell_type": "markdown",
   "id": "44bf5738",
   "metadata": {},
   "source": [
    "4.5. Una part´ıcula de masa m1 = 3 kg, movi´endose a velocidad u1 = 3 m s−1 a lo largo del\n",
    "eje x, se acerca a una segunda part´ıcula de masa m2 = 1 kg que se desplaza a velocidad\n",
    "u2 = −3 m s−1 sobre ese mismo eje. Tras la colisi´on la segunda part´ıcula se mueve con\n",
    "velocidad U2 = 3 m s−1. Calcula la velocidad final U1 de la primera part´ıcula en este\n",
    "sistema de referencia y discute la colisi´on desde el punto de vista de otro observador\n",
    "cl´asico que se mueve con velocidad v = 2 m s−1 a lo largo del eje x."
   ]
  },
  {
   "cell_type": "code",
   "execution_count": 57,
   "id": "469e8516",
   "metadata": {},
   "outputs": [
    {
     "name": "stdout",
     "output_type": "stream",
     "text": [
      "p_ini =  6.0 kilogram * meter / second\n",
      "U1 =  1.0 meter / second\n",
      "u1_obs =  1.0 meter / second\n",
      "u2_obs =  -5.0 meter / second\n",
      "U1_obs =  -1.0 meter / second\n",
      "U2_obs =  1.0 meter / second\n"
     ]
    }
   ],
   "source": [
    "m1 = 3 * kilogramos\n",
    "u1 = 3 * metros / segundos\n",
    "\n",
    "m2 = 1 * kilogramos\n",
    "u2 = -3 * metros / segundos\n",
    "\n",
    "U2 = 3 * metros / segundos\n",
    "\n",
    "p_ini = m1 * u1 + m2 * u2\n",
    "print('p_ini = ', p_ini)\n",
    "\n",
    "U1 = ( p_ini - (m2 * U2) ) / m1\n",
    "print('U1 = ', U1)\n",
    "\n",
    "v_obs_lab = 2 * metros / segundos\n",
    "\n",
    "print('u1_obs = ', u1 - v_obs_lab)\n",
    "print('u2_obs = ', u2 - v_obs_lab)\n",
    "print('U1_obs = ', U1 - v_obs_lab)\n",
    "print('U2_obs = ', U2 - v_obs_lab)\n"
   ]
  },
  {
   "cell_type": "markdown",
   "id": "03590793",
   "metadata": {},
   "source": [
    "4.6. Demuestra que la ecuaci´on de Gauss para el magnetismo y la ecuaci´on de Faraday se\n",
    "siguen verificando si cambiamos los potenciales seg´un\n",
    "~A → ~A + ∇Λ , ϕ → ϕ − ∂Λ\n",
    "∂t ,\n",
    "con Λ una funci´on arbitraria. Esta transformaci´on, que es una simetr´ıa del electromag-\n",
    "netismo, nos proporciona la libertad para fijar el gauge de Lorentz, entre otros."
   ]
  },
  {
   "cell_type": "markdown",
   "id": "74907e7d",
   "metadata": {},
   "source": [
    "4.7. Un avi´on se mueve con respecto al suelo a 600 m s−1. Seg´un el piloto, el avi´on tiene\n",
    "una longitud de 50 m. ¿Cu´al es el acortamiento del avi´on desde el punto de vista del\n",
    "controlador a´ereo?"
   ]
  },
  {
   "cell_type": "code",
   "execution_count": 114,
   "id": "8d683b3a",
   "metadata": {},
   "outputs": [
    {
     "name": "stdout",
     "output_type": "stream",
     "text": [
      "4.005540201793026e-12 dimensionless\n",
      "gamma =  1.0000000000020028\n",
      "l_avion_suelo =  49.999999999899856 meter\n",
      "acortamiento =  0.1001438931780285 nanometer\n"
     ]
    }
   ],
   "source": [
    "v_avion_suelo = 600 * metros / segundos\n",
    "l_avion = 50 * metros\n",
    "print( (v_avion_suelo**2/c**2).to_base_units() )\n",
    "gamma = 1 / sqrt ( 1 - (v_avion_suelo**2/c**2))\n",
    "print('gamma = ', gamma)\n",
    "print('l_avion_suelo = ', l_avion / gamma)\n",
    "print('acortamiento = ', (l_avion - l_avion / gamma).to(nanometros)  )\n"
   ]
  },
  {
   "cell_type": "markdown",
   "id": "0e92cf86",
   "metadata": {},
   "source": [
    "4.8. Una regla de 1 m en reposo se mueve longitudinalmente a velocidad 0, 6 c con respecto\n",
    "a un observador. ¿Cu´anto tardar´a la regla en pasar por delante del observador?."
   ]
  },
  {
   "cell_type": "code",
   "execution_count": 108,
   "id": "b9c1f7ab",
   "metadata": {},
   "outputs": [
    {
     "name": "stdout",
     "output_type": "stream",
     "text": [
      "gamma =  1.25\n"
     ]
    },
    {
     "data": {
      "text/html": [
       "4.447521269308694 nanosecond"
      ],
      "text/latex": [
       "$4.447521269308694\\ \\mathrm{nanosecond}$"
      ],
      "text/plain": [
       "4.447521269308694 <Unit('nanosecond')>"
      ]
     },
     "execution_count": 108,
     "metadata": {},
     "output_type": "execute_result"
    }
   ],
   "source": [
    "l_regla = 1 * metros\n",
    "v_regla_obs = 0.6 * c\n",
    "gamma = 1 / sqrt ( 1 - (v_regla_obs**2/c**2))\n",
    "print('gamma = ', gamma)\n",
    "l_regla_obs = l_regla / gamma\n",
    "(l_regla_obs / v_regla_obs ).to_base_units().to(nanosegundos)"
   ]
  },
  {
   "cell_type": "markdown",
   "id": "f8121821",
   "metadata": {},
   "source": [
    "4.9. Una part´ıcula decae con una vida media de 2 × 10−16 s cuando est´a en reposo. ¿Cu´al es\n",
    "la vida media de la part´ıcula seg´un un observador con respecto al cual ´esta se mueve\n",
    "a 0, 8 c?"
   ]
  },
  {
   "cell_type": "code",
   "execution_count": 112,
   "id": "57655c16",
   "metadata": {},
   "outputs": [
    {
     "name": "stdout",
     "output_type": "stream",
     "text": [
      "gamma =  1.666666666666667\n"
     ]
    },
    {
     "data": {
      "text/html": [
       "3.333333333333334×10<sup>-16</sup> second"
      ],
      "text/latex": [
       "$3.333333333333334\\times 10^{-16}\\ \\mathrm{second}$"
      ],
      "text/plain": [
       "3.333333333333334e-16 <Unit('second')>"
      ]
     },
     "execution_count": 112,
     "metadata": {},
     "output_type": "execute_result"
    }
   ],
   "source": [
    "t_propio = 2e-16 * segundos\n",
    "v_part = 0.8 * c\n",
    "gamma = 1 / sqrt ( 1 - (v_part**2/c**2))\n",
    "print('gamma = ', gamma)\n",
    "t_propio * gamma"
   ]
  },
  {
   "cell_type": "code",
   "execution_count": null,
   "id": "5367ed7c",
   "metadata": {},
   "outputs": [],
   "source": []
  },
  {
   "cell_type": "markdown",
   "id": "b255af9e",
   "metadata": {},
   "source": [
    "4.20. Seg´un la observadora O, la distancia y el tiempo transcurrido entre dos sucesos son\n",
    "600 m y 8 × 10−7 s respectivamente. Por otra parte, seg´un un segundo observador O′\n",
    "estos dos sucesos son simult´aneos. ¿Cu´al es la velocidad de O′ seg´un O?"
   ]
  },
  {
   "cell_type": "code",
   "execution_count": null,
   "id": "9612dbf6",
   "metadata": {},
   "outputs": [],
   "source": []
  },
  {
   "cell_type": "code",
   "execution_count": null,
   "id": "10f2a795",
   "metadata": {},
   "outputs": [],
   "source": []
  },
  {
   "cell_type": "code",
   "execution_count": null,
   "id": "8ed66504",
   "metadata": {},
   "outputs": [],
   "source": []
  },
  {
   "cell_type": "code",
   "execution_count": null,
   "id": "ccb2c710",
   "metadata": {},
   "outputs": [],
   "source": []
  }
 ],
 "metadata": {
  "kernelspec": {
   "display_name": "Python 3 (ipykernel)",
   "language": "python",
   "name": "python3"
  },
  "language_info": {
   "codemirror_mode": {
    "name": "ipython",
    "version": 3
   },
   "file_extension": ".py",
   "mimetype": "text/x-python",
   "name": "python",
   "nbconvert_exporter": "python",
   "pygments_lexer": "ipython3",
   "version": "3.11.9"
  }
 },
 "nbformat": 4,
 "nbformat_minor": 5
}
