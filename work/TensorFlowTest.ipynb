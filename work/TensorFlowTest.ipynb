{
 "cells": [
  {
   "cell_type": "code",
   "execution_count": 1,
   "metadata": {},
   "outputs": [
    {
     "name": "stdout",
     "output_type": "stream",
     "text": [
      "NumPy: 1.17.3\n",
      "TensorFlow: 2.0.0\n"
     ]
    }
   ],
   "source": [
    "import numpy as np\n",
    "print(f\"NumPy: {np.__version__}\")\n",
    "import tensorflow.compat.v2 as tf\n",
    "print(f\"TensorFlow: {tf.__version__}\")\n",
    "import matplotlib.pyplot as plt\n",
    "from mpl_toolkits.mplot3d import Axes3D\n",
    "\n",
    "import sklearn.datasets\n",
    "import tensorflow_datasets as tfds\n",
    "#print(tfds.list_builders())"
   ]
  }
 ],
 "metadata": {
  "kernelspec": {
   "display_name": "Python 3",
   "language": "python",
   "name": "python3"
  },
  "language_info": {
   "codemirror_mode": {
    "name": "ipython",
    "version": 3
   },
   "file_extension": ".py",
   "mimetype": "text/x-python",
   "name": "python",
   "nbconvert_exporter": "python",
   "pygments_lexer": "ipython3",
   "version": "3.7.3"
  }
 },
 "nbformat": 4,
 "nbformat_minor": 2
}
