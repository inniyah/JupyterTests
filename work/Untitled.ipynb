{
 "cells": [
  {
   "cell_type": "code",
   "execution_count": null,
   "id": "870bb6ab-6d60-4200-aa48-180daba0cd7d",
   "metadata": {},
   "outputs": [],
   "source": []
  }
 ],
 "metadata": {
  "kernelspec": {
   "display_name": "",
   "name": ""
  },
  "language_info": {
   "name": ""
  }
 },
 "nbformat": 4,
 "nbformat_minor": 5
}
