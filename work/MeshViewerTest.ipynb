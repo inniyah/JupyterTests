{
 "cells": [
  {
   "cell_type": "code",
   "execution_count": 1,
   "metadata": {},
   "outputs": [
    {
     "name": "stdout",
     "output_type": "stream",
     "text": [
      "pygame 1.9.6\n",
      "Hello from the pygame community. https://www.pygame.org/contribute.html\n"
     ]
    }
   ],
   "source": [
    "import os, sys, pygame, random, math, string\n",
    "import pygame\n",
    "from pygame.locals import *\n",
    "from MeshViewer import Point3D, Face, Triangle, Quad, Object"
   ]
  },
  {
   "cell_type": "code",
   "execution_count": 2,
   "metadata": {},
   "outputs": [],
   "source": [
    "def loadObj(filename,o):\n",
    "    try:\n",
    "        fp = open(filename, \"r\")\n",
    "    except:\n",
    "        print(\"File: \" + filename + \" not found\")\n",
    "        sys.exit(1)\n",
    "    for line in fp:\n",
    "        if line.startswith('#'): continue\n",
    "        values = line.split()\n",
    "        if not values: continue\n",
    "        if values[0] == 'v':\n",
    "            v = list(map(float, values[1:4]))\n",
    "            o.points.append( Point3D(v[0],v[1],v[2]) )\n",
    "        elif values[0] == 'f':\n",
    "            p = []\n",
    "            for v in values[1:]:\n",
    "                w = v.split(\"/\")\n",
    "                p.append(w[0])\n",
    "            #obj file uses 1 as base, adjust for indexing with -1\n",
    "            o.faces.append( Triangle(int(p[0])-1,int(p[1])-1,int(p[2])-1))\n",
    "    fp.close()\n",
    "    return o"
   ]
  },
  {
   "cell_type": "code",
   "execution_count": 3,
   "metadata": {},
   "outputs": [],
   "source": [
    "size = width, height = 600, 400\n",
    "pygame.init()\n",
    "screen = pygame.Surface((width, height))"
   ]
  },
  {
   "cell_type": "code",
   "execution_count": 4,
   "metadata": {},
   "outputs": [],
   "source": [
    "class Env3D:\n",
    "    def __init__(self,screen,winsize):\n",
    "        self.winsize= winsize\n",
    "        self.zoom_factor = 1\n",
    "        self.light_vector_1 = Point3D (random.random(),random.random(),random.random())\n",
    "        self.light_vector_1.normalize()\n",
    "        self.light_vector_2 = Point3D (random.random(),random.random(),random.random())\n",
    "        self.light_vector_2.normalize()\n",
    "        self.screen = screen\n",
    "        self.wincenter = [winsize[0]/2, winsize[1]/2]\n",
    "        self.colorize = True"
   ]
  },
  {
   "cell_type": "code",
   "execution_count": 5,
   "metadata": {},
   "outputs": [],
   "source": [
    "random.seed()\n",
    "env3d = Env3D(screen,[width,height])"
   ]
  },
  {
   "cell_type": "code",
   "execution_count": 6,
   "metadata": {},
   "outputs": [],
   "source": [
    "meshname = \"cube.obj\"\n",
    "o = Object()\n",
    "o.name = \"Model\"\n",
    "o = loadObj(meshname, o)\n",
    "o.scale(50.0)\n",
    "o.rotateY(-math.pi / 4.0)\n",
    "o.rotateX(-math.pi / 4.0)"
   ]
  },
  {
   "cell_type": "code",
   "execution_count": 7,
   "metadata": {},
   "outputs": [],
   "source": [
    "text = pygame.Surface((300, 200))\n",
    "font = pygame.font.Font(None, 20)\n",
    "white = (255,255,255)\n",
    "text_lines = [\n",
    "    f\"{meshname}\",\n",
    "    f\"\"\n",
    "]\n",
    "for ypos, text_line in enumerate(text_lines):\n",
    "    fontimg = font.render(text_line, 1, white)\n",
    "    text.blit(fontimg, (5, 20 * ypos))"
   ]
  },
  {
   "cell_type": "code",
   "execution_count": 8,
   "metadata": {},
   "outputs": [],
   "source": [
    "screen.fill((0,0,0))\n",
    "screen.blit(text,(0,0))\n",
    "o.display(env3d)"
   ]
  },
  {
   "cell_type": "code",
   "execution_count": 9,
   "metadata": {},
   "outputs": [
    {
     "data": {
      "image/png": "[encoded data removed]",
      "text/plain": [
       "<Figure size 432x288 with 1 Axes>"
      ]
     },
     "metadata": {
      "needs_background": "light"
     },
     "output_type": "display_data"
    }
   ],
   "source": [
    "from matplotlib import pyplot as plt\n",
    "from PIL import Image\n",
    "rgba_data = pygame.image.tostring(screen, 'RGBA')\n",
    "pil_img = Image.frombytes('RGBA', (width,height), rgba_data)\n",
    "\n",
    "#from io import BytesIO\n",
    "#png_data = BytesIO()\n",
    "#pil_img.save(png_data, 'PNG')\n",
    "#print(png_data.getvalue())\n",
    "\n",
    "plt.imshow(pil_img)\n",
    "plt.show()"
   ]
  }
 ],
 "metadata": {
  "kernelspec": {
   "display_name": "Python 3",
   "language": "python",
   "name": "python3"
  },
  "language_info": {
   "codemirror_mode": {
    "name": "ipython",
    "version": 3
   },
   "file_extension": ".py",
   "mimetype": "text/x-python",
   "name": "python",
   "nbconvert_exporter": "python",
   "pygments_lexer": "ipython3",
   "version": "3.7.3"
  }
 },
 "nbformat": 4,
 "nbformat_minor": 2
}
