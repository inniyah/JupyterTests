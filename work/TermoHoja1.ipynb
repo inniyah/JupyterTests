{
 "cells": [
  {
   "cell_type": "code",
   "execution_count": 50,
   "id": "5a58365b-10fc-4bf1-9f1a-01bbe25430d9",
   "metadata": {},
   "outputs": [],
   "source": [
    "from math import *\n",
    "from pprint import pprint"
   ]
  },
  {
   "cell_type": "code",
   "execution_count": 51,
   "id": "ffd88ca8-6208-4a70-86e2-a88ea8647b07",
   "metadata": {},
   "outputs": [
    {
     "name": "stdout",
     "output_type": "stream",
     "text": [
      "R = 8.308650000000002 kilogram * meter ** 2 / kelvin / mole / second ** 2\n"
     ]
    }
   ],
   "source": [
    "from pint import UnitRegistry, set_application_registry\n",
    "ureg = UnitRegistry()\n",
    "set_application_registry(ureg)\n",
    "\n",
    "litros = ureg.litre\n",
    "atmosferas = ureg.atmosphere\n",
    "moles = ureg.mol\n",
    "kelvins = ureg.kelvin\n",
    "kilogramos = ureg.kilogram\n",
    "julios = ureg.joule\n",
    "\n",
    "#gamma_mono = 5 / 3\n",
    "#gamma_bi = 7 / 5\n",
    "#gamma_tri = 4 / 3\n",
    "\n",
    "R = 0.082 * litros * atmosferas / kelvins / moles # https://en.wikipedia.org/wiki/Gas_constant\n",
    "print('R =', R.to_base_units())\n",
    "\n",
    "#Cv_esp_mono = R * 3 / 2\n",
    "#Cv_esp_bi = R * 5 / 2\n",
    "#Cv_esp_tri = R * 7 / 2"
   ]
  },
  {
   "cell_type": "markdown",
   "id": "ff17c20e-d159-45ff-9d05-3b42b3497b3a",
   "metadata": {},
   "source": [
    "***"
   ]
  },
  {
   "cell_type": "markdown",
   "id": "6a9d809e-6c8c-4b8a-9843-c43cb7bd56c5",
   "metadata": {},
   "source": [
    "Una máquina térmica que funciona con dos moles de un gas triatómico en régimen diluido. Su capacidad calorífica a volumen constante cumple: c’v / R = 3.5. Los segmentos del ciclo corresponden a los procesos reversibles que se citan a continuación:\n",
    "\n",
    "Partiendo del estado “A” (que se encuentra a 21 atmósferas en un recipiente de 20 litros x) se va al estado “B” siguiendo un proceso isotérmico. Del estado “B” se va al estado “C” siguiendo un proceso circular. Del estado “C” se vuelve al estado “A” siguiendo un proceso adiabático. Se pide:\n",
    "\n",
    "* a. Dibujar el ciclo en un diagrama P-V.\n",
    "* b. Calcular el trabajo que se realiza sobre la máquina para ir del estado “B” al estado “C” (en Julios).\n",
    "* c. Calcular la energía absorbida como calor por la máquina entre “A” y “C” (en Julios).\n",
    "* d. Calcular el trabajo total realizado por la máquina (en Julios).\n",
    "\n",
    "Datos: P B = P C = P A / 3."
   ]
  },
  {
   "cell_type": "code",
   "execution_count": 53,
   "id": "c7313ec4-89d9-42b7-a0a6-b38279bd1cd6",
   "metadata": {},
   "outputs": [
    {
     "name": "stdout",
     "output_type": "stream",
     "text": [
      "Pa = 21 standard_atmosphere\n",
      "Va =  20 liter\n",
      "n =  2 mole\n",
      "Ta =  2560.9756097560976 kelvin\n",
      "Cv =  58.160550000000015 joule / kelvin\n",
      "Cp =  74.77785000000003 joule / kelvin\n",
      "gamma =  1.2857142857142856 dimensionless\n"
     ]
    }
   ],
   "source": [
    "Pa = 21 * atmosferas\n",
    "print('Pa =', Pa)\n",
    "Va = 20 * litros\n",
    "print('Va = ', Va)\n",
    "n = 2 * moles\n",
    "print('n = ', n)\n",
    "Ta = (Pa*Va) / (n*R)\n",
    "print('Ta = ', Ta)\n",
    "\n",
    "# https://es.wikipedia.org/wiki/Coeficiente_de_dilataci%C3%B3n_adiab%C3%A1tica\n",
    "Cv = n * 3.5 * R\n",
    "print('Cv = ', Cv.to(julios / kelvins))\n",
    "Cp = Cv + n * R\n",
    "print('Cp = ', Cp.to(julios / kelvins))\n",
    "\n",
    "gamma = n * R / Cv +1\n",
    "print('gamma = ', gamma)"
   ]
  },
  {
   "cell_type": "code",
   "execution_count": 54,
   "id": "c2c7a20b-ea07-4cf8-b57d-3ef5e8e13688",
   "metadata": {},
   "outputs": [
    {
     "name": "stdout",
     "output_type": "stream",
     "text": [
      "Pb =  7.0 standard_atmosphere\n",
      "Tb =  2560.9756097560976 kelvin\n",
      "Vb =  60.0 liter\n"
     ]
    }
   ],
   "source": [
    "Pb = Pa / 3\n",
    "print('Pb = ', Pb)\n",
    "Tb = Ta\n",
    "print('Tb = ', Tb)\n",
    "Vb = Tb * n * R / Pb\n",
    "print('Vb = ', Vb)"
   ]
  },
  {
   "cell_type": "code",
   "execution_count": 55,
   "id": "c481b218-91e2-483d-a4d2-d64b643e9d34",
   "metadata": {},
   "outputs": [
    {
     "name": "stdout",
     "output_type": "stream",
     "text": [
      "Pc =  7.0 standard_atmosphere\n",
      "Vc =  47.00286221623636 liter\n",
      "Tc =  2006.219728741796 kelvin\n"
     ]
    }
   ],
   "source": [
    "Pc = Pb\n",
    "print('Pc = ', Pc)\n",
    "Vc = ( ( Pa * Va ** gamma ) / Pc ) ** (1 / gamma)\n",
    "print('Vc = ', Vc)\n",
    "Tc = (Pc*Vc) / (n*R)\n",
    "print('Tc = ', Tc)"
   ]
  },
  {
   "cell_type": "code",
   "execution_count": 56,
   "id": "ae097802-bfca-4874-b414-b85892acd827",
   "metadata": {},
   "outputs": [
    {
     "name": "stdout",
     "output_type": "stream",
     "text": [
      "radio =  6.4985688918818205 liter\n",
      "Wbc =  2496.9560476609277 joule\n"
     ]
    }
   ],
   "source": [
    "radio = (Vb - Vc) / 2\n",
    "print('radio = ', radio)\n",
    "Wbc = Pb * (Vb - Vc) - ( pi * radio * radio * atmosferas / litros ) / 2\n",
    "print('Wbc = ', Wbc.to(julios))"
   ]
  },
  {
   "cell_type": "code",
   "execution_count": 57,
   "id": "175dba53-c03e-4c46-a672-c01c4a1bf8da",
   "metadata": {},
   "outputs": [
    {
     "name": "stdout",
     "output_type": "stream",
     "text": [
      "Qca =  0 joule\n"
     ]
    }
   ],
   "source": [
    "Qca = 0 * julios\n",
    "print('Qca = ', Qca.to(julios))"
   ]
  },
  {
   "cell_type": "code",
   "execution_count": 58,
   "id": "76c4bdc7-8a5b-47be-84be-2ffc08aad2ff",
   "metadata": {},
   "outputs": [
    {
     "name": "stdout",
     "output_type": "stream",
     "text": [
      "Wab =  -46753.09386270442 joule\n"
     ]
    }
   ],
   "source": [
    "Wab = - n * R * Ta * log(Vb / Va)\n",
    "print('Wab = ', Wab.to(julios))"
   ]
  },
  {
   "cell_type": "code",
   "execution_count": 59,
   "id": "65b50287-ca6e-46b7-8c19-f4e4834a897f",
   "metadata": {},
   "outputs": [
    {
     "name": "stdout",
     "output_type": "stream",
     "text": [
      "Wca =  32264.90715552635 joule\n"
     ]
    }
   ],
   "source": [
    "Wca = Cv * (Ta - Tc)\n",
    "print('Wca = ', Wca.to(julios))"
   ]
  },
  {
   "cell_type": "code",
   "execution_count": 60,
   "id": "ffc93478-5a18-4161-8c9e-cb4617f0a3f3",
   "metadata": {},
   "outputs": [
    {
     "name": "stdout",
     "output_type": "stream",
     "text": [
      "Wtotal =  -11991.230659517145 joule\n"
     ]
    }
   ],
   "source": [
    "Wtotal = Wab + Wbc + Wca\n",
    "print('Wtotal = ', Wtotal.to(julios))"
   ]
  },
  {
   "cell_type": "markdown",
   "id": "364bd29b-3fdb-4189-a247-88727d083eee",
   "metadata": {},
   "source": [
    "Se tiene 0.2 moles de un gas diatómico en un estado definido por: P A=10 atm, VA=5 L. Estos\n",
    "moles se enfrían 10K y se ve que su entropía cambia en ∆S AB = -4.0 J/K. Obtener la presión\n",
    "final del gas, P B, (en atmósferas)."
   ]
  },
  {
   "cell_type": "code",
   "execution_count": 65,
   "id": "1ffc9ced-48d3-4b3f-9a46-bf28a9271e21",
   "metadata": {},
   "outputs": [
    {
     "name": "stdout",
     "output_type": "stream",
     "text": [
      "R = 8.308650000000002 kilogram * meter ** 2 / kelvin / mole / second ** 2\n",
      "Ta =  3048.780487804878 kelvin\n",
      "Tb =  3038.780487804878 kelvin\n"
     ]
    }
   ],
   "source": [
    "n = 0.2 * moles\n",
    "Pa = 10 * atmosferas\n",
    "Va = 5 * litros\n",
    "\n",
    "R = 0.082 * litros * atmosferas / kelvins / moles # https://en.wikipedia.org/wiki/Gas_constant\n",
    "print('R =', R.to_base_units())\n",
    "\n",
    "DiffS = - 4 * julios / kelvins\n",
    "\n",
    "Ta = (Pa * Va) / (n * R)\n",
    "print('Ta = ', Ta)\n",
    "\n",
    "Tb = Ta - 10 * kelvins\n",
    "print('Tb = ', Tb)"
   ]
  },
  {
   "cell_type": "code",
   "execution_count": 66,
   "id": "abec5c46-9305-4e04-9d80-0535b4c57159",
   "metadata": {},
   "outputs": [],
   "source": [
    "# Diatómico\n",
    "gamma = 7 / 5\n",
    "Cv = n * R * 5 / 2\n",
    "Cp = Cv + n * R"
   ]
  },
  {
   "cell_type": "code",
   "execution_count": 68,
   "id": "842a8f78-ae32-40c7-8820-fe23c6fb441a",
   "metadata": {},
   "outputs": [
    {
     "name": "stdout",
     "output_type": "stream",
     "text": [
      "Vb =  0.4540815239421888 liter\n",
      "Pb =  109.75121728657881 standard_atmosphere\n"
     ]
    }
   ],
   "source": [
    "# DiffS = Cv * log(T2/T1) + n * R * log(V2/V1)\n",
    "\n",
    "Vb = Va * exp( ( DiffS - Cv * log(Tb/Ta) ) / ( n * R ) )\n",
    "print('Vb = ', Vb)\n",
    "\n",
    "Pb = n * R * Tb / Vb\n",
    "print('Pb = ', Pb.to(atmosferas))"
   ]
  },
  {
   "cell_type": "markdown",
   "id": "78b93826-0d03-4736-9821-951ca247631b",
   "metadata": {},
   "source": [
    "***"
   ]
  },
  {
   "cell_type": "markdown",
   "id": "89c50a34-b9d8-4754-a1e3-975d7dd44842",
   "metadata": {},
   "source": [
    "En la figura inferior se representa el ciclo de una máquina térmica que funciona con tres\n",
    "cuartos de mol de un gas diatómico en régimen diluido. Los segmentos del ciclo corresponden\n",
    "a los procesos reversibles que se citan a continuación:\n",
    "\n",
    "Partiendo del estado “A” se va al estado “B” siguiendo una semicircunferencia. Del estado “B”\n",
    "se va al estado “C” siguiendo un proceso adiabático. Del estado “C” se va al estado “D”\n",
    "siguiendo una relación P-V lineal. Del estado “D” se vuelve al estado “A” siguiendo un proceso\n",
    "isotérmico.\n",
    "\n",
    "Se pide:\n",
    "* a. Calcular el volumen del estado “C” (en litros).\n",
    "* b. Calcular las temperaturas de los estados “A” , “B” y “C”.\n",
    "* c. Calcular la energía absorbida como calor por la máquina entre “A” y “D” (en Julios).\n",
    "* d. Calcular el trabajo total realizado por la máquina (en Julios)."
   ]
  },
  {
   "cell_type": "code",
   "execution_count": 121,
   "id": "99e472e8-0c58-46a6-9b82-bc5e0b69cf32",
   "metadata": {},
   "outputs": [
    {
     "name": "stdout",
     "output_type": "stream",
     "text": [
      "gamma =  1.4\n",
      "Cv =  0.15375 liter * standard_atmosphere / kelvin\n",
      "Cp =  0.21525 liter * standard_atmosphere / kelvin\n",
      "Vc =  10.555138767229684 liter\n"
     ]
    }
   ],
   "source": [
    "n = 3 / 4 * moles\n",
    "\n",
    "# Diatómico\n",
    "gamma = 7 / 5\n",
    "Cv = n * R * 5 / 2\n",
    "Cp = Cv + n * R\n",
    "\n",
    "print('gamma = ', gamma)\n",
    "print('Cv = ', Cv)\n",
    "print('Cp = ', Cp)\n",
    "\n",
    "Pa = 10 * atmosferas\n",
    "Va = 5 * litros\n",
    "\n",
    "Pb = 10 * atmosferas\n",
    "Vb = 9 * litros\n",
    "\n",
    "Pc = 8 * atmosferas\n",
    "Vc = None\n",
    "\n",
    "Pd = None\n",
    "Vd = 20 * litros\n",
    "\n",
    "Vc = ( ( Pb * Vb ** gamma ) / Pc ) ** (1 / gamma)\n",
    "print('Vc = ', Vc)"
   ]
  },
  {
   "cell_type": "code",
   "execution_count": 122,
   "id": "a0a41845-8250-4a05-b8eb-5156ea49a361",
   "metadata": {},
   "outputs": [
    {
     "name": "stdout",
     "output_type": "stream",
     "text": [
      "Ta =  813.0081300813008 kelvin\n",
      "Tb =  1463.4146341463415 kelvin\n",
      "Tc =  1373.0261811030482 kelvin\n",
      "Td =  813.0081300813008 kelvin\n"
     ]
    }
   ],
   "source": [
    "Ta = (Pa*Va) / (n*R)\n",
    "print('Ta = ', Ta)\n",
    "\n",
    "Tb = (Pb*Vb) / (n*R)\n",
    "print('Tb = ', Tb)\n",
    "\n",
    "Tc = (Pc*Vc) / (n*R)\n",
    "print('Tc = ', Tc)\n",
    "\n",
    "Td = Ta\n",
    "print('Td = ', Td)"
   ]
  },
  {
   "cell_type": "code",
   "execution_count": 123,
   "id": "012bbda0-1ee2-4df2-a55f-cf6de51e192c",
   "metadata": {},
   "outputs": [
    {
     "name": "stdout",
     "output_type": "stream",
     "text": [
      "radio =  2.0 liter\n",
      "Wab =  -4689.643751249972 joule\n"
     ]
    }
   ],
   "source": [
    "radio = (Vb - Va) / 2\n",
    "print('radio = ', radio)\n",
    "Wab = - ( Pb * (Vb - Va) + ( pi * radio * radio * atmosferas / litros ) / 2 )\n",
    "print('Wab = ', Wab.to(julios))"
   ]
  },
  {
   "cell_type": "code",
   "execution_count": 124,
   "id": "9b507af8-82a1-4633-862b-076d476b5af2",
   "metadata": {},
   "outputs": [
    {
     "name": "stdout",
     "output_type": "stream",
     "text": [
      "Wbc =  -1408.1362882090486 joule\n"
     ]
    }
   ],
   "source": [
    "Wbc = Cv * (Tc - Tb)\n",
    "print('Wbc = ', Wbc.to(julios))"
   ]
  },
  {
   "cell_type": "code",
   "execution_count": 125,
   "id": "5f92ff8a-e54c-49d9-9db5-4639c2ede002",
   "metadata": {},
   "outputs": [
    {
     "name": "stdout",
     "output_type": "stream",
     "text": [
      "Vc =  10.555138767229684 liter\n",
      "Vd =  20 liter\n",
      "Pc =  8 standard_atmosphere\n",
      "Pd =  2.5 standard_atmosphere\n",
      "Wcd =  -5024.252963154876 joule\n"
     ]
    }
   ],
   "source": [
    "Pd = n * R * Td / Vd\n",
    "\n",
    "print('Vc = ', Vc)\n",
    "print('Vd = ', Vd)\n",
    "print('Pc = ', Pc)\n",
    "print('Pd = ', Pd)\n",
    "\n",
    "Wcd = - (Pd + Pc) / 2 * (Vd - Vc)\n",
    "print('Wcd = ', Wcd.to(julios))"
   ]
  },
  {
   "cell_type": "code",
   "execution_count": 126,
   "id": "96d6c932-9213-4da9-8d01-50d24b1c74b1",
   "metadata": {},
   "outputs": [
    {
     "name": "stdout",
     "output_type": "stream",
     "text": [
      "Wad =  -11122.033002613896 joule\n"
     ]
    }
   ],
   "source": [
    "Wad = Wab + Wbc + Wcd\n",
    "print('Wad = ', Wad.to(julios))"
   ]
  },
  {
   "cell_type": "code",
   "execution_count": null,
   "id": "bf8936b0-d892-4847-b37d-7069544481d8",
   "metadata": {},
   "outputs": [],
   "source": []
  },
  {
   "cell_type": "code",
   "execution_count": 127,
   "id": "5ecc7184-b603-4f4e-9775-a0203d120b23",
   "metadata": {},
   "outputs": [
    {
     "name": "stdout",
     "output_type": "stream",
     "text": [
      "Uab =  4053.0000000000014 joule\n",
      "Ubc =  -563.2545152836195 joule\n",
      "Ucd =  -3489.7454847163813 joule\n",
      "Uda =  0.0 joule\n"
     ]
    }
   ],
   "source": [
    "# https://www2.montes.upm.es/dptos/digfa/cfisica/termo1p/energiaint.html\n",
    "\n",
    "Uab = n * R * (Tb - Ta)\n",
    "print('Uab = ', Uab.to(julios))\n",
    "\n",
    "Ubc = n * R * (Tc - Tb)\n",
    "print('Ubc = ', Ubc.to(julios))\n",
    "\n",
    "Ucd = n * R * (Td - Tc)\n",
    "print('Ucd = ', Ucd.to(julios))\n",
    "\n",
    "Uda = n * R * (Ta - Td)\n",
    "print('Uda = ', Uda.to(julios))"
   ]
  },
  {
   "cell_type": "code",
   "execution_count": 128,
   "id": "57e1b83d-0073-44bf-9edc-8d4b24f74421",
   "metadata": {},
   "outputs": [
    {
     "name": "stdout",
     "output_type": "stream",
     "text": [
      "Uad =  7.199574270089216e-13 joule\n"
     ]
    }
   ],
   "source": [
    "Uad = Uab + Ubc + Ucd\n",
    "print('Uad = ', Uad.to(julios))\n",
    "\n",
    "# Uad = n * R * (Td - Ta)\n",
    "# print('Uad = ', Uad.to(julios))"
   ]
  },
  {
   "cell_type": "code",
   "execution_count": 129,
   "id": "f618964e-e903-4274-b6b4-53cf54399add",
   "metadata": {},
   "outputs": [
    {
     "name": "stdout",
     "output_type": "stream",
     "text": [
      "Qad =  11122.033002613898 joule\n"
     ]
    }
   ],
   "source": [
    "# U = Q + W\n",
    "Qad = Uad - Wad\n",
    "print('Qad = ', Qad.to(julios))\n"
   ]
  },
  {
   "cell_type": "code",
   "execution_count": null,
   "id": "9404e93b-be21-4802-99d6-24fe63ebe4b0",
   "metadata": {},
   "outputs": [],
   "source": []
  },
  {
   "cell_type": "code",
   "execution_count": 131,
   "id": "5d861edf-3bbd-43be-8da1-6b6f9125b008",
   "metadata": {},
   "outputs": [
    {
     "name": "stdout",
     "output_type": "stream",
     "text": [
      "Wda =  7023.313807023647 joule\n"
     ]
    }
   ],
   "source": [
    "Wda = - n * R * Ta * log(Va/Vd)\n",
    "print('Wda = ', Wda.to(julios))"
   ]
  },
  {
   "cell_type": "code",
   "execution_count": 132,
   "id": "7d026c8d-b7c4-4b1a-ae21-3ed95178532a",
   "metadata": {},
   "outputs": [
    {
     "name": "stdout",
     "output_type": "stream",
     "text": [
      "Wtotal =  -4098.71919559025 joule\n"
     ]
    }
   ],
   "source": [
    "Wtotal = Wad + Wda\n",
    "print('Wtotal = ', Wtotal.to(julios))"
   ]
  },
  {
   "cell_type": "code",
   "execution_count": null,
   "id": "ec55abb2-7142-471c-9f19-0c0cd30bd187",
   "metadata": {},
   "outputs": [],
   "source": []
  }
 ],
 "metadata": {
  "kernelspec": {
   "display_name": "Python 3 (ipykernel)",
   "language": "python",
   "name": "python3"
  },
  "language_info": {
   "codemirror_mode": {
    "name": "ipython",
    "version": 3
   },
   "file_extension": ".py",
   "mimetype": "text/x-python",
   "name": "python",
   "nbconvert_exporter": "python",
   "pygments_lexer": "ipython3",
   "version": "3.11.9"
  }
 },
 "nbformat": 4,
 "nbformat_minor": 5
}
