{
 "cells": [
  {
   "cell_type": "code",
   "execution_count": 6,
   "id": "e98966dd",
   "metadata": {},
   "outputs": [
    {
     "name": "stdout",
     "output_type": "stream",
     "text": [
      "466.5389\n",
      "420.4278\n"
     ]
    }
   ],
   "source": [
    "import math as m\n",
    "\n",
    "f = open('temperaturas.txt')\n",
    "\n",
    "T=[]\n",
    "while True:\n",
    "\tlinea = f.readline()\n",
    "\tif not linea:\n",
    "\t\tbreak\n",
    "\tif linea[0] == '#':\n",
    "\t\tcontinue\n",
    "\tdatos = linea.split('@')\n",
    "\tif not datos:\n",
    "\t\tcontinue\n",
    "\ttempf = datos[1]\n",
    "\tT.append(float(tempf))\n",
    "\n",
    "#tempk = [ 5/9*(T[i]-32) + 273.15 for i in range(len(T)) ]\n",
    "tempk = [ 5/9 * (t-32) + 273.15     for t in T ]\n",
    "\n",
    "\n",
    "f.close()\n",
    "\n",
    "print('%.4f'%(max(tempk)))\n",
    "print('%.4f'%(min(tempk)))"
   ]
  },
  {
   "cell_type": "code",
   "execution_count": 8,
   "id": "b07ce908",
   "metadata": {},
   "outputs": [
    {
     "data": {
      "text/plain": [
       "[447.0388888888889,\n",
       " 449.8722222222222,\n",
       " 434.76111111111106,\n",
       " 436.3166666666666,\n",
       " 463.26111111111106,\n",
       " 447.65,\n",
       " 421.59444444444443,\n",
       " 433.15,\n",
       " 466.5388888888889,\n",
       " 420.4277777777778,\n",
       " 424.4833333333333,\n",
       " 447.8166666666666,\n",
       " 459.3722222222222]"
      ]
     },
     "execution_count": 8,
     "metadata": {},
     "output_type": "execute_result"
    }
   ],
   "source": [
    "[ 5/9 * (t-32) + 273.15     for t in T ]\n"
   ]
  },
  {
   "cell_type": "code",
   "execution_count": 11,
   "id": "e11fdf8e",
   "metadata": {},
   "outputs": [
    {
     "data": {
      "text/plain": [
       "0.030954315898643114"
      ]
     },
     "execution_count": 11,
     "metadata": {},
     "output_type": "execute_result"
    }
   ],
   "source": [
    "def g(x):\n",
    "    n = len(x)\n",
    "    mean = sum(x) / n\n",
    "    numerador = 1/n * sum([ (e-mean)**3 for e in x ])\n",
    "    denominador = (1/n * sum([ (e - mean)**2 for e in x]))**(3/2)\n",
    "    return numerador/ denominador\n",
    "\n",
    "g(tempk)"
   ]
  },
  {
   "cell_type": "code",
   "execution_count": 10,
   "id": "428f9bac",
   "metadata": {},
   "outputs": [
    {
     "data": {
      "text/plain": [
       "6"
      ]
     },
     "execution_count": 10,
     "metadata": {},
     "output_type": "execute_result"
    }
   ],
   "source": [
    "sum([1, 2, 3])"
   ]
  }
 ],
 "metadata": {
  "kernelspec": {
   "display_name": "Python 3 (ipykernel)",
   "language": "python",
   "name": "python3"
  },
  "language_info": {
   "codemirror_mode": {
    "name": "ipython",
    "version": 3
   },
   "file_extension": ".py",
   "mimetype": "text/x-python",
   "name": "python",
   "nbconvert_exporter": "python",
   "pygments_lexer": "ipython3",
   "version": "3.11.9"
  }
 },
 "nbformat": 4,
 "nbformat_minor": 5
}
