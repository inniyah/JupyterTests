{
 "cells": [
  {
   "cell_type": "code",
   "execution_count": 1,
   "id": "910583d1-3cba-4acf-a334-f3592ba3ab0b",
   "metadata": {},
   "outputs": [],
   "source": [
    "from math import *\n",
    "from pprint import pprint"
   ]
  },
  {
   "cell_type": "code",
   "execution_count": 2,
   "id": "fedfab5f-4b5e-4b72-a97a-fc39150b50be",
   "metadata": {},
   "outputs": [],
   "source": [
    "from pint import UnitRegistry, set_application_registry\n",
    "ureg = UnitRegistry()\n",
    "set_application_registry(ureg)\n",
    "#dir(ureg)\n",
    "\n",
    "litros = ureg.litre\n",
    "atmosferas = ureg.atmosphere\n",
    "moles = ureg.mol\n",
    "kelvins = litros = ureg.kelvin\n",
    "\n",
    "gamma_mono = 5 / 3\n",
    "gamma_bi = 7 / 5\n",
    "gamma_tri = 4 / 3\n"
   ]
  },
  {
   "cell_type": "code",
   "execution_count": 3,
   "id": "ed9f6557-4f99-462f-9a55-f9ee9181c6e9",
   "metadata": {},
   "outputs": [
    {
     "name": "stdout",
     "output_type": "stream",
     "text": [
      "21 standard_atmosphere\n",
      "20 kelvin\n",
      "2 mole\n",
      "0.082 standard_atmosphere / mole\n"
     ]
    }
   ],
   "source": [
    "Pa = 21 * atmosferas # atmósferas\n",
    "print(Pa)\n",
    "Va = 20 * litros # litros\n",
    "print(Va)\n",
    "n = 2 * moles # moles\n",
    "print(n)\n",
    "R = 0.082 * litros * atmosferas / moles / kelvins # https://en.wikipedia.org/wiki/Gas_constant , litro atm / mol K\n",
    "print(R)\n",
    "Cv = 3.5 # c’ v / R = 3.5"
   ]
  },
  {
   "cell_type": "code",
   "execution_count": 4,
   "id": "d3b426d0-a58e-4aca-bc37-1268b8d0aa1f",
   "metadata": {},
   "outputs": [
    {
     "data": {
      "text/html": [
       "2560.9756097560976 kelvin"
      ],
      "text/latex": [
       "$2560.9756097560976\\ \\mathrm{kelvin}$"
      ],
      "text/plain": [
       "2560.9756097560976 <Unit('kelvin')>"
      ]
     },
     "execution_count": 4,
     "metadata": {},
     "output_type": "execute_result"
    }
   ],
   "source": [
    "Ta = (Pa*Va) / (n*R)\n",
    "Ta"
   ]
  },
  {
   "cell_type": "code",
   "execution_count": 5,
   "id": "17968a32-979e-4953-a782-e5e2470815b4",
   "metadata": {},
   "outputs": [
    {
     "name": "stdout",
     "output_type": "stream",
     "text": [
      "7.0 standard_atmosphere\n",
      "2560.9756097560976 kelvin\n",
      "60.0 kelvin\n"
     ]
    }
   ],
   "source": [
    "Pb = Pa / 3\n",
    "print(Pb)\n",
    "Tb = Ta\n",
    "print(Tb)\n",
    "Vb = Tb * n * R / Pb\n",
    "print(Vb)"
   ]
  },
  {
   "cell_type": "code",
   "execution_count": 6,
   "id": "5d89f68b-ab15-4679-8e48-caee2c5134f4",
   "metadata": {},
   "outputs": [
    {
     "name": "stdout",
     "output_type": "stream",
     "text": [
      "45.59014113909555 kelvin\n"
     ]
    }
   ],
   "source": [
    "Pc = Pa / 3\n",
    "gamma = 4 / 3\n",
    "Vc = ( ( Pa * Va ** gamma ) / Pc ) ** (1 / gamma)\n",
    "print(Vc)"
   ]
  },
  {
   "cell_type": "code",
   "execution_count": 7,
   "id": "1f3172f5-387d-4953-ba28-34f7b34da14c",
   "metadata": {},
   "outputs": [
    {
     "data": {
      "text/html": [
       "-19.327391186092086 kelvin standard_atmosphere"
      ],
      "text/latex": [
       "$-19.327391186092086\\ \\mathrm{kelvin} \\cdot \\mathrm{standard\\_atmosphere}$"
      ],
      "text/plain": [
       "-19.327391186092086 <Unit('kelvin * standard_atmosphere')>"
      ]
     },
     "execution_count": 7,
     "metadata": {},
     "output_type": "execute_result"
    }
   ],
   "source": [
    "Wbc = - (                                                                   \\\n",
    "    (Vb - Vc) * Pc                                                          \\\n",
    "    - pi * (Vb - Vc) * (Vb - Vc) * atmosferas / litros / 4 / 2              \\\n",
    ")\n",
    "Wbc"
   ]
  },
  {
   "cell_type": "code",
   "execution_count": 13,
   "id": "c50293ff-338e-470d-b575-ee22a1065035",
   "metadata": {},
   "outputs": [
    {
     "data": {
      "text/plain": [
       "7.204929430452225"
      ]
     },
     "execution_count": 13,
     "metadata": {},
     "output_type": "execute_result"
    }
   ],
   "source": [
    "(Vb - Vc) /2"
   ]
  },
  {
   "cell_type": "code",
   "execution_count": 15,
   "id": "fcea9cdb-26ac-4597-a0b4-f8d7f63adee1",
   "metadata": {},
   "outputs": [
    {
     "data": {
      "text/plain": [
       "-100.86901202633115"
      ]
     },
     "execution_count": 15,
     "metadata": {},
     "output_type": "execute_result"
    }
   ],
   "source": [
    "- (Vb - Vc) * Pc       "
   ]
  },
  {
   "cell_type": "code",
   "execution_count": null,
   "id": "9e93aa75-4819-4b78-af4a-d8b763740a85",
   "metadata": {},
   "outputs": [],
   "source": []
  }
 ],
 "metadata": {
  "kernelspec": {
   "display_name": "Python 3 (ipykernel)",
   "language": "python",
   "name": "python3"
  },
  "language_info": {
   "codemirror_mode": {
    "name": "ipython",
    "version": 3
   },
   "file_extension": ".py",
   "mimetype": "text/x-python",
   "name": "python",
   "nbconvert_exporter": "python",
   "pygments_lexer": "ipython3",
   "version": "3.11.9"
  }
 },
 "nbformat": 4,
 "nbformat_minor": 5
}
