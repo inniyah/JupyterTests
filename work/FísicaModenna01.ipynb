{
 "cells": [
  {
   "cell_type": "code",
   "execution_count": 1,
   "id": "c618686e",
   "metadata": {},
   "outputs": [
    {
     "name": "stdout",
     "output_type": "stream",
     "text": [
      "8.85418781762039e-12 farad / meter\n"
     ]
    }
   ],
   "source": [
    "from math import *\n",
    "from pprint import pprint\n",
    "\n",
    "import numpy as np\n",
    "import matplotlib.pyplot as plt\n",
    "\n",
    "from pint import UnitRegistry, set_application_registry\n",
    "ureg = UnitRegistry()\n",
    "set_application_registry(ureg)\n",
    "\n",
    "litros = ureg.litre\n",
    "atmosferas = ureg.atmosphere\n",
    "moles = ureg.mol\n",
    "kelvins = ureg.kelvin\n",
    "kilogramos = ureg.kilogram\n",
    "gramos = ureg.gram\n",
    "kilometros = ureg.kilometer\n",
    "metros = ureg.meter\n",
    "centimetros = ureg.centimeter\n",
    "nanometros = ureg.nanometer\n",
    "femtometros = ureg.femtometer\n",
    "fermis = ureg.femtometer\n",
    "julios = ureg.joule\n",
    "kilojulios = ureg.kilojoule\n",
    "pascales = ureg.pascal\n",
    "newtons = ureg.newton\n",
    "teslas = ureg.tesla\n",
    "culombios = ureg.coulomb\n",
    "amperios = ureg.ampere\n",
    "faradios = ureg.farad\n",
    "segundos = ureg.second\n",
    "nanosegundos = ureg.nanosecond\n",
    "horas = ureg.hour\n",
    "eV = ureg.electron_volt\n",
    "MeV = ureg.megaelectron_volt\n",
    "keV = ureg.kiloelectron_volt\n",
    "GeV = ureg.gigaelectron_volt\n",
    "Å = ureg.angstrom\n",
    "\n",
    "vatios = ureg.watts\n",
    "μW = ureg.microwatts\n",
    "\n",
    "c = ureg.speed_of_light\n",
    "\n",
    "Q = ureg.Quantity\n",
    "\n",
    "h = 6.628e-34 * julios * segundos \n",
    "ℏ = h / ( 2 * pi )\n",
    "\n",
    "ℏc = 200 * eV * nanometros\n",
    "\n",
    "atmosfera = 101327.38879319 * newtons / metros**2\n",
    "\n",
    "µ0 = 4 * pi * 1e-7 * teslas * metros / amperios\n",
    "𝜀0 = 1 / ( µ0 * c**2)\n",
    "print(𝜀0.to(faradios / metros))"
   ]
  },
  {
   "cell_type": "markdown",
   "id": "06e5d335",
   "metadata": {},
   "source": [
    "https://pdg.lbl.gov/2020/reviews/rpp2020-rev-phys-constants.pdf"
   ]
  },
  {
   "cell_type": "markdown",
   "id": "c0e9cddb",
   "metadata": {},
   "source": [
    "a) Estimar la velocidad de un electr´on en un ´atomo, de un prot´on en un n´ucleo y de un quark\n",
    "en un prot´on. Indicar en cada caso si se trata de objetos en movimiento relativista. Utilizar\n",
    "como datos las masas de los constituyentes y las energ´ıas de enlace t´ıpicas de cada uno de los\n",
    "tres sistemas.\n",
    "\n",
    "b) Estimar las densidades de masa/energ´ıa de un ´atomo, de un n´ucleo y de un\n",
    "prot´on en funci´on de las caracter´ısticas de ”sus constituyentes”."
   ]
  },
  {
   "cell_type": "code",
   "execution_count": 2,
   "id": "37a5f0f4",
   "metadata": {},
   "outputs": [
    {
     "name": "stdout",
     "output_type": "stream",
     "text": [
      "3728.1878922607966 electron_volt / speed_of_light\n",
      "3.326557366400755 angstrom\n",
      "3.3265573664007553 angstrom\n",
      "1.000026614481409 dimensionless\n",
      "0.007295672546211436 dimensionless\n",
      "0.73 %\n",
      "2187.187605391845 kilometer / second\n"
     ]
    }
   ],
   "source": [
    "m_electron = 0.511 * MeV / c**2\n",
    "Ec_electron = 13.6 * eV\n",
    "\n",
    "# E**2 = p**2 * c**2 + m**2 * c**4\n",
    "# E = Ec + m * c**2\n",
    "\n",
    "# ( Ec + m * c**2 )**2 = p**2 * c**2 + m**2 * c**4\n",
    "# Ec**2 + 2 * Ec * m * c**2 + m**2 * c**4 = p**2 * c**2 + m**2 * c**4\n",
    "# Ec**2 + 2 * Ec * m * c**2 = p**2 * c**2\n",
    "# p**2 * c**2 = Ec**2 + 2 * Ec * m * c**2\n",
    "# p * c = sqrt( Ec**2 + 2 * Ec * m * c**2 )\n",
    "# λdb_electron = (ℏ * c) / (p * c)\n",
    "\n",
    "# p = sqrt( ( Ec_electron**2 + 2 * Ec_electron * m_electron * c**2 ) / eV**2 ) * eV / c\n",
    "p = ( Ec_electron**2 + 2 * Ec_electron * m_electron * c**2 ) ** (1/2) / c\n",
    "print(p)\n",
    "λdb_electron = (h * c) / (p * c)\n",
    "print(λdb_electron.to(Å))\n",
    "λdb_electron = (2 * pi * ℏ * c) / (p * c)\n",
    "print(λdb_electron.to(Å))\n",
    "\n",
    "# E = γ * m * c**2 = Ec + m * c**2\n",
    "# γ = 1 + Ec / (m * c**2)\n",
    "\n",
    "γ_electron = 1 + Ec_electron / (m_electron * c**2)\n",
    "print(γ_electron)\n",
    "\n",
    "β_electron = (1 - 1 / γ_electron**2 ) ** (1/2)\n",
    "print(β_electron)\n",
    "print(round(float(β_electron * 100), 3), '%')\n",
    "\n",
    "# β_electron ≈ 0 , γ_electron ≈ 1 -> Aproximación Clásica\n",
    "v_electron = β_electron * c\n",
    "print(v_electron.to(kilometros / segundos))\n"
   ]
  },
  {
   "cell_type": "code",
   "execution_count": 3,
   "id": "ce13dadf",
   "metadata": {},
   "outputs": [
    {
     "name": "stdout",
     "output_type": "stream",
     "text": [
      "1.0085263121994474 dimensionless\n",
      "0.12975740297110303 dimensionless\n",
      "12.976 %\n",
      "38900.29078040348 kilometer / second\n"
     ]
    }
   ],
   "source": [
    "m_proton = 938.272 * MeV / c**2\n",
    "Ec_proton = E_enlace_proton_neutron = 8 * MeV\n",
    "\n",
    "γ_proton = 1 + Ec_proton / (m_proton * c**2)\n",
    "print(γ_proton)\n",
    "\n",
    "β_proton = (1 - 1 / γ_proton**2 ) ** (1/2)\n",
    "print(β_proton)\n",
    "print(round(float(β_proton * 100), 3), '%')\n",
    "\n",
    "v_proton = β_proton * c\n",
    "print(v_proton.to(kilometros / segundos))"
   ]
  },
  {
   "cell_type": "code",
   "execution_count": 4,
   "id": "c95a1184",
   "metadata": {},
   "outputs": [
    {
     "name": "stdout",
     "output_type": "stream",
     "text": [
      "927.272 megaelectron_volt\n"
     ]
    }
   ],
   "source": [
    "q_electron = 1.6e-19 * culombios\n",
    "q_quark_up = q_electron * 2 / 3\n",
    "q_quark_down = abs(- q_electron * 1 / 3)\n",
    "q_proton = abs(- q_electron)\n",
    "q_neutron = 0 * culombios\n",
    "\n",
    "m_quark_up = 3 * MeV / c**2\n",
    "m_quark_down = 5 * MeV / c**2\n",
    "\n",
    "E_enlace_proton = (m_proton - 2 * m_quark_up - m_quark_down) * c**2\n",
    "print(E_enlace_proton)"
   ]
  },
  {
   "cell_type": "code",
   "execution_count": 5,
   "id": "7f45476f",
   "metadata": {},
   "outputs": [
    {
     "name": "stdout",
     "output_type": "stream",
     "text": [
      "309.09066666666666 megaelectron_volt\n",
      "104.03022222222222 dimensionless\n",
      "0.9999537979777743 dimensionless\n",
      "299778.6069821924 kilometer / second\n"
     ]
    }
   ],
   "source": [
    "E_enlace_quarks = (m_proton - 2 * m_quark_up - m_quark_down) * c**2 / 3\n",
    "print(E_enlace_quarks)\n",
    "\n",
    "m_quark = 3 * MeV / c**2\n",
    "Ec_quark = E_enlace_quarks\n",
    "\n",
    "γ_quark = 1 + Ec_quark / (m_quark * c**2)\n",
    "print(γ_quark)\n",
    "\n",
    "β_quark = (1 - 1 / γ_quark**2 ) ** (1/2)\n",
    "print(β_quark)\n",
    "\n",
    "v_quark = β_quark * c\n",
    "print(v_quark.to(kilometros / segundos))"
   ]
  },
  {
   "cell_type": "code",
   "execution_count": 6,
   "id": "b9565644",
   "metadata": {},
   "outputs": [
    {
     "name": "stdout",
     "output_type": "stream",
     "text": [
      "6.236145193179835e-31 meter ** 3\n",
      "938.783 megaelectron_volt / speed_of_light ** 2\n",
      "2683.601255150157 kilogram / meter ** 3\n",
      "2.6836012551501573 gram / centimeter ** 3\n",
      "3494081928405.1 newton / meter ** 2\n",
      "3494081928405.1 pascal\n"
     ]
    }
   ],
   "source": [
    "r_atomo = 0.53 * Å # Radio de Bohr\n",
    "V_atomo = 4 / 3 * pi * r_atomo**3\n",
    "print(V_atomo.to(metros**3))\n",
    "\n",
    "m_atomo = m_proton + m_electron\n",
    "print(m_atomo.to(MeV / c**2))\n",
    "ρ_atomo = m_atomo / V_atomo\n",
    "print(ρ_atomo.to(kilogramos / metros**3))\n",
    "print(ρ_atomo.to(gramos / centimetros**3))\n",
    "\n",
    "E_enlace_atomo = Ec_electron = 13.6 * eV\n",
    "ρe_atomo = E_enlace_atomo / V_atomo\n",
    "print(ρe_atomo.to(newtons / metros**2))\n",
    "print(ρe_atomo.to(pascales))"
   ]
  },
  {
   "cell_type": "code",
   "execution_count": 7,
   "id": "f7cbd792",
   "metadata": {},
   "outputs": [
    {
     "name": "stdout",
     "output_type": "stream",
     "text": [
      "2.0444622494691226e+17 kilogram / meter ** 3\n",
      "204446224946912.28 gram / centimeter ** 3\n",
      "1.5666851697096766e+32 newton / meter ** 2\n",
      "1.5666851697096766e+32 pascal\n"
     ]
    }
   ],
   "source": [
    "# R = r0 * A**(1/3) = (1.25 fm) * A**(1/3)\n",
    "# V = 4/3 * pi * R**3\n",
    "# Energía_enlace / A = 8-9 MeV\n",
    "\n",
    "r0 = 1.25 * fermis\n",
    "\n",
    "# m_nucleo = Z * m_proton + (A - Z) * m_neutron\n",
    "# m_neutron ≈ m_proton -> m_nucleo = A * m_proton\n",
    "# V_nucleo = 4 / 3 * pi * r0 ** 3 * A\n",
    "# ρ_nucleo = m_nucleo / V_nucleo = ( A * m_proton ) / ( 4 / 3 * pi * r0 ** 3 * A )\n",
    "\n",
    "V_nucleo = ( 4 / 3 * pi * r0 ** 3 )\n",
    "ρ_nucleo = m_proton / V_nucleo\n",
    "print(ρ_nucleo.to(kilogramos / metros**3))\n",
    "print(ρ_nucleo.to(gramos / centimetros**3))\n",
    "\n",
    "E_enlace_nucleo = Ec_proton = 8 * MeV\n",
    "ρe_nucleo = E_enlace_nucleo / V_nucleo\n",
    "print(ρe_nucleo.to(newtons / metros**2))\n",
    "print(ρe_nucleo.to(pascales))"
   ]
  },
  {
   "cell_type": "code",
   "execution_count": 8,
   "id": "11574481",
   "metadata": {},
   "outputs": [
    {
     "name": "stdout",
     "output_type": "stream",
     "text": [
      "399309033099438.1 gram / centimeter ** 3\n",
      "3.5467365495288854e+34 newton / meter ** 2\n",
      "101327.38879319 newton / meter ** 2\n"
     ]
    }
   ],
   "source": [
    "ρm_proton = m_proton / ( 4 / 3 * pi * ( 1 * fermis )**3 )\n",
    "print(ρm_proton.to(gramos / centimetros**3))\n",
    "\n",
    "ρe_proton = E_enlace_proton / ( 4 / 3 * pi * ( 1 * fermis )**3 )\n",
    "print(ρe_proton.to(newtons / metros**2))\n",
    "\n",
    "print(atmosfera.to(newtons / metros**2))"
   ]
  },
  {
   "cell_type": "markdown",
   "id": "8ab62592",
   "metadata": {},
   "source": [
    "***"
   ]
  },
  {
   "cell_type": "markdown",
   "id": "84d85149",
   "metadata": {},
   "source": [
    "Representar la variaci´on de la energ´ıa de enlace por nucle´on en funci´on de A utilizando la\n",
    "f´ormula semiemp´ırica de masas, y discutir la forma de las curvas de A constante, determinando\n",
    "el ´o los valores de Z que corresponden a n´ucleos estables, describiendo la contribuci´on de cada\n",
    "t´ermino de la f´ormula a dicha estabilidad."
   ]
  },
  {
   "cell_type": "code",
   "execution_count": 9,
   "id": "a62b10ea",
   "metadata": {},
   "outputs": [
    {
     "data": {
      "image/png": "[encoded data removed]",
      "text/plain": [
       "<Figure size 1000x600 with 1 Axes>"
      ]
     },
     "metadata": {},
     "output_type": "display_data"
    }
   ],
   "source": [
    "# https://estudiarfisica.com/2015/05/04/la-energia-nuclear-y-la-evolucion-estelar-energia-de-ligadura-formula-semiempirica-de-weizsacker-equilibrio-nuclear-radiaciones-%CE%B1%CE%B2-y-%CE%B3-nucleosintesis-estelar-y-diagramas-de-hertzs/\n",
    "\n",
    "# Constantes\n",
    "aV = 15.8 * MeV\n",
    "aS = 18.3 * MeV\n",
    "aC = 0.714 * MeV\n",
    "aA = 23.2 * MeV\n",
    "aP = 33.5 * MeV\n",
    "\n",
    "# Término de emparejamiento\n",
    "def δ(A, Z):\n",
    "    if A % 2 == 1:\n",
    "        return 0 * MeV\n",
    "    elif Z % 2 == 0 and (A - Z) % 2 == 0:\n",
    "        return +aP / A**(3/4)\n",
    "    else:\n",
    "        return -aP / A**(3/4)\n",
    "\n",
    "# Energía de enlace por nucleón\n",
    "def B_A(Z, A):\n",
    "    return (\n",
    "        aV\n",
    "        - aS * A**(-1/3)\n",
    "        - aC * Z * (Z-1) * A**(-4/3)\n",
    "        - aA * (A - 2*Z)**2 / A**2\n",
    "        + δ(A, Z) / A\n",
    "    )\n",
    "\n",
    "# Valores de A\n",
    "A_values = np.arange(1, 250)\n",
    "\n",
    "# Calcular B/A para N = Z (nucleos más estables)\n",
    "B_values = [ float(B_A(A//2, A) / MeV ) for A in A_values ]\n",
    "\n",
    "# Graficar\n",
    "plt.figure(figsize=(10, 6))\n",
    "plt.plot(A_values, B_values, label='Núcleos más estables')\n",
    "plt.xlabel('Número de nucleones, A')\n",
    "plt.ylabel('Energía de enlace por nucleón, B/A (MeV)')\n",
    "plt.title('Energía de enlace por nucleón en función del número de nucleones')\n",
    "plt.grid(True)\n",
    "plt.legend()\n",
    "plt.show()"
   ]
  },
  {
   "cell_type": "markdown",
   "id": "16920cc4",
   "metadata": {},
   "source": [
    "Si tenemos un núcleo con una cantidad de nucleones A dada cabe preguntarse cuál es la cantidad de protones Z óptima para él. Atendiendo a la fórmula de la energía de ligadura, en este caso la gráfica de A frente a Z tendría forma de parábola, donde el valor de equilibrio Zeq sería el vértice y todos los núcleos con mayor y menor Z serían inestables en favor suyo, es decir, tenderían a tener Zeq protones."
   ]
  },
  {
   "cell_type": "markdown",
   "id": "a7ff4b36",
   "metadata": {},
   "source": [
    "Discusión de la estabilidad y contribución de cada término\n",
    "\n",
    "    Término de volumen aV * A:\n",
    "        Proporcional al número total de nucleones A.\n",
    "        Refleja la energía de enlace que sería uniforme si todos los nucleones estuvieran igualmente enlazados.\n",
    "        Contribuye positivamente a la energía de enlace, favoreciendo núcleos más grandes.\n",
    "\n",
    "    Término de superficie aS * A**(2/3):\n",
    "        Proporcional a la superficie del núcleo.\n",
    "        Refleja la menor cohesión de los nucleones en la superficie comparados con los del interior.\n",
    "        Contribuye negativamente a la energía de enlace, favoreciendo núcleos más pequeños.\n",
    "\n",
    "    Término de Coulomb aC * Z * (Z - 1) / A**(1/3):\n",
    "        Representa la repulsión electrostática entre protones.\n",
    "        Contribuye negativamente a la energía de enlace, aumentando con el número de protones.\n",
    "        Desfavorece núcleos con muchos protones, favoreciendo una relación equilibrada entre protones y neutrones.\n",
    "\n",
    "    Término de asimetría aA * (A - 2*Z)**2 / A:\n",
    "        Refleja la preferencia por tener un número igual de protones y neutrones.\n",
    "        Contribuye negativamente a la energía de enlace cuando hay un desbalance entre protones y neutrones.\n",
    "        Favorece núcleos donde Z ≈ N.\n",
    "\n",
    "    Término de emparejamiento δ(A,Z):\n",
    "        Considera la estabilidad adicional cuando el número de protones y neutrones son ambos pares.\n",
    "        Puede ser positivo, negativo o cero, dependiendo de Z y N."
   ]
  },
  {
   "cell_type": "markdown",
   "id": "88dd63bf",
   "metadata": {},
   "source": [
    "Estabilidad nuclear\n",
    "\n",
    "Para un valor dado de AA, el valor de Z que corresponde a un núcleo estable maximiza la energía de enlace. En general, el número de protones Z para núcleos estables es tal que minimiza la contribución negativa de los términos de Coulomb y asimetría.\n",
    "\n",
    "Para un valor dado de A, el número de protones Z para un núcleo estable se puede aproximar usando la relación empírica:\n",
    "\n",
    "Z ≈ A / (2 + aC / (4*aA) * A**(2/3) )\n",
    "\n",
    "En conclusión, la variación de la energía de enlace por nucleón en función de AA muestra un máximo cerca de A≈56, que corresponde a los núcleos más estables (como el hierro). Los núcleos más pequeños y más grandes tienen una energía de enlace por nucleón menor, debido a la contribución de los términos de superficie, Coulomb y asimetría."
   ]
  },
  {
   "cell_type": "markdown",
   "id": "85b8b6b3",
   "metadata": {},
   "source": [
    "Extrapolar la misma f´ormula a una estrella de neutrones, (materia nuclear), y determinar el\n",
    "valor de A, para el que dicho sistema es estable, si se considera adem´as que posee energ´ıa\n",
    "potencial gravitatoria. Suponer por simplicidad, una esfera uniforme."
   ]
  },
  {
   "cell_type": "markdown",
   "id": "837c7ab8",
   "metadata": {},
   "source": [
    "La energía de enlace nuclear de una estrella de neutrones (asumiendo materia nuclear pura) se puede aproximar utilizando la fórmula semiempírica de masas sin los términos que dependen del número de protones Z, ya que en una estrella de neutrones Z≈0. Simplificamos la fórmula para la energía de enlace:\n",
    "\n",
    "Aquí, el término de Coulomb y el término de emparejamiento se pueden omitir ya que no son relevantes para una estrella de neutrones compuesta casi enteramente por neutrones. Simplificamos aún más:\n"
   ]
  },
  {
   "cell_type": "code",
   "execution_count": 10,
   "id": "962ac3bd",
   "metadata": {},
   "outputs": [
    {
     "name": "stdout",
     "output_type": "stream",
     "text": [
      "15.74 megaelectron_volt\n",
      "23.42 megaelectron_volt\n",
      "1.2500000000000002e-15 meter\n",
      "6.674e-11 meter ** 3 / kilogram / second ** 2\n",
      "1.674926748394316e-27 kilogram\n",
      "5.066158888562047e+55 dimensionless\n",
      "4.625261395185449 kilometer\n",
      "0.7251899333937675 dimensionless\n",
      "14208.715730187856 dimensionless\n"
     ]
    }
   ],
   "source": [
    "# E_total_estrella = E_enlace_estrella + E_gravitatoria_estrella\n",
    "# E_enlace_estrella = aV * A - aS * A**(2/3) - aC * Z**2 * A**(-1/3) - aA * (A - 2*Z)**2 * A**(-1) + δ(A, Z)\n",
    "# E_enlace_estrella = aV * A - aS * A**(2/3) - aA * A = (aV - aA) * A - aS * A**(2/3)\n",
    "# https://es.wikipedia.org/wiki/Energ%C3%ADa_de_cohesi%C3%B3n_gravitacional\n",
    "# E_gravitatoria_estrella = 3/5 * G * m_estrella**2 / R_estrella\n",
    "# R_estrella = r0 * A**(1/3)\n",
    "# m_estrella = A * m_neutron\n",
    "\n",
    "# E_total_estrella = (aV - aA) * A - aS * A**(2/3)  +  3/5 * G * (A * m_neutron)**2 / ( r0 * A**(1/3) ) > 0\n",
    "# (aV - aA) - aS * A**(-1/3)  +  3/5 * G * A**(2/3) * m_neutron**2 / r0 > 0\n",
    "# 3/5 * G * A**(2/3) * m_neutron**2 / r0  - aS * A**(-1/3)  >  - (aV - aA)\n",
    "# A >> 0 -> A**(-1/3) tiende a cero, mientras que A**(2/3) tiende a infinito\n",
    "# 3/5 * G * A**(2/3) * m_neutron**2 / r0  >  - (aV - aA)\n",
    "\n",
    "aV = 15.74 * MeV\n",
    "aS = 17.62 * MeV\n",
    "aC = 0.72 * MeV\n",
    "aA = 23.42 * MeV\n",
    "aP = 11.2 * MeV\n",
    "\n",
    "r0 = 1.25 * fermis\n",
    "G = 6.674e-11 * metros**3 / kilogramos / segundos**2\n",
    "m_neutron = 939.565 * MeV / c**2\n",
    "A = ( -(aV - aA) * (5 / 3) * r0 / G / m_neutron**2 ) ** (3/2)\n",
    "print(aV.to(MeV))\n",
    "print(aA.to(MeV))\n",
    "print(r0.to(metros))\n",
    "print(G)\n",
    "print(m_neutron.to(kilogramos))\n",
    "print(A.to_base_units())\n",
    "\n",
    "R_estrella = r0 * A**(1/3)\n",
    "print(R_estrella.to(kilometros))\n",
    "\n",
    "R_tierra = 6.378 * kilometros\n",
    "m_tierra = 5.972e24 * kilogramos\n",
    "m_estrella = A * m_neutron\n",
    "print((R_estrella / R_tierra).to_base_units())\n",
    "print((m_estrella / m_tierra).to_base_units())"
   ]
  },
  {
   "cell_type": "markdown",
   "id": "fe00f811",
   "metadata": {},
   "source": [
    "***"
   ]
  },
  {
   "cell_type": "markdown",
   "id": "ac66c3ed",
   "metadata": {},
   "source": [
    "4. Estudiar la emisi´on de part´ıculas α por el 238\n",
    "92 U146, con energ´ıa cin´etica, Ec\n",
    "α = 4.2 M eV . El\n",
    "n´ucleo producido en este proceso, es el 234\n",
    "90 T h144. Determinar, la velocidad de la part´ıcula α\n",
    "dentro del n´ucleo, y su frecuencia de colisi´on con la barrera. Obtener la altura de la barrera en\n",
    "MeV, y estimar su anchura en fm."
   ]
  },
  {
   "cell_type": "code",
   "execution_count": 11,
   "id": "f678da45",
   "metadata": {},
   "outputs": [
    {
     "name": "stdout",
     "output_type": "stream",
     "text": [
      "7.746443043426408e-15 meter\n",
      "33.36884314700569 megaelectron_volt\n"
     ]
    }
   ],
   "source": [
    "A_U = 238\n",
    "Z_U = 92\n",
    "A_Th = 234\n",
    "Z_Th = 90\n",
    "\n",
    "# R = r0 * A**(1/3) = (1.25 fm) * A**(1/3)\n",
    "# V = 4/3 * pi * R**3\n",
    "# Energía_enlace / A = 8-9 MeV\n",
    "\n",
    "r0 = 1.25 * fermis\n",
    "R_U = r0 * A_U**(1/3)\n",
    "print(R_U.to(metros))\n",
    "\n",
    "U_altura = (Z_U - 2) * q_electron * 2 * q_electron / ( 4 * pi * 𝜀0 * R_U )\n",
    "print(U_altura.to(MeV))"
   ]
  },
  {
   "cell_type": "code",
   "execution_count": 12,
   "id": "b61f63ba",
   "metadata": {},
   "outputs": [
    {
     "name": "stdout",
     "output_type": "stream",
     "text": [
      "3755.674 megaelectron_volt / speed_of_light ** 2\n",
      "14178046.688558904 meter / second\n",
      "0.04729287315346307 speed_of_light\n",
      "9.151327008458626e+20 / second\n"
     ]
    }
   ],
   "source": [
    "Ec_α = 4.2 * MeV\n",
    "m_α = 2 * m_proton + 2 * m_neutron\n",
    "print(m_α.to(MeV/c**2))\n",
    "V_α = (2 * Ec_α / m_α)**(1/2)\n",
    "print(V_α.to(metros/segundos))\n",
    "print(V_α.to(c))\n",
    "r0 = 1.25 * fermis\n",
    "υ_α = V_α / (2 * R_U)\n",
    "print(υ_α.to(1/segundos))"
   ]
  },
  {
   "cell_type": "code",
   "execution_count": 13,
   "id": "fee46009",
   "metadata": {},
   "outputs": [
    {
     "name": "stdout",
     "output_type": "stream",
     "text": [
      "61.545200681740276 femtometer\n"
     ]
    }
   ],
   "source": [
    "# U(R) = (Z_U - 2) * q_electron * 2 * q_electron / ( 4 * pi * 𝜀0 * R )\n",
    "# Ec_α = (Z_U - 2) * q_electron * 2 * q_electron / ( 4 * pi * 𝜀0 * R )\n",
    "R_b = (Z_U - 2) * q_electron * 2 * q_electron / ( 4 * pi * 𝜀0 * Ec_α)\n",
    "print(R_b.to(fermis))"
   ]
  },
  {
   "cell_type": "code",
   "execution_count": 14,
   "id": "03240cb7",
   "metadata": {},
   "outputs": [
    {
     "name": "stdout",
     "output_type": "stream",
     "text": [
      "53.798757638313866 femtometer\n"
     ]
    }
   ],
   "source": [
    "Δ = R_b - R_U\n",
    "print(Δ.to(fermis))"
   ]
  },
  {
   "cell_type": "markdown",
   "id": "606d1612",
   "metadata": {},
   "source": [
    "***"
   ]
  },
  {
   "cell_type": "markdown",
   "id": "26804048",
   "metadata": {},
   "source": [
    "5. Estimar el rango de las interacciones fuerte, e.m. y d´ebil en funci´on de la masa de la part´ıcula\n",
    "que se intercambia en cada caso y de las propiedades de cada interacci´on. Se puede usar el\n",
    "principio de de Broglie o el principio de incertidumbre."
   ]
  },
  {
   "cell_type": "markdown",
   "id": "3f69a6bd",
   "metadata": {},
   "source": [
    " El principio de incertidumbre de Heisenberg\n",
    "\n",
    "El producto de la incertidumbre en la posición de una partícula y la incertidumbre en su momento nunca puede ser inferior a la mitad de la constante de Planck reducida:\n",
    "Δx Δp ≥ ℏ/2\n",
    "\n",
    "Otro tipo de principio de incertidumbre se refiere a las incertidumbres en las mediciones simultáneas de la energía de un estado cuántico y su tiempo de vida,\n",
    "ΔEΔt ≥ ℏ2\n",
    "\n",
    "https://openstax.org/books/f%C3%ADsica-universitaria-volumen-3/pages/7-2-el-principio-de-incertidumbre-de-heisenberg\n"
   ]
  },
  {
   "cell_type": "markdown",
   "id": "19ee6552",
   "metadata": {},
   "source": [
    "de Broglie propuso que una partícula como un electrón podría ser descrita por una onda cuya longitud de onda está dada por\n",
    "\n",
    "λ = h / (m * v)\n",
    "\n",
    "h es la constante de Planck,\n",
    "m es la masa de la partícula, y\n",
    "v es la velocidad de la partícula.\n",
    "\n",
    "https://espanol.libretexts.org/Quimica/Qu%C3%ADmica_General/Mapa%3A_Qu%C3%ADmica_-_La_naturaleza_molecular_de_la_materia_y_el_cambio_(Silberberg)/07%3A_Teor%C3%ADa_cu%C3%A1ntica_y_estructura_at%C3%B3mica/7.03%3A_La_dualidad_onda-part%C3%ADcula_de_la_materia_y_la_energ%C3%ADa "
   ]
  },
  {
   "cell_type": "markdown",
   "id": "3dadf63e",
   "metadata": {},
   "source": [
    "https://www.vaia.com/en-us/textbooks/physics/university-physics-3-edition/chapter-11/problem-54-using-the-heisenberg-uncertainly-principle-determ/\n",
    "\n",
    "https://physics.stackexchange.com/questions/180828/how-can-the-uncertainty-principle-be-used-to-deduce-range-of-a-force-from-proper\n",
    "\n",
    "https://van.physics.illinois.edu/ask/listing/29660"
   ]
  },
  {
   "cell_type": "markdown",
   "id": "4b495e21",
   "metadata": {},
   "source": [
    "  Z boson: 91.19 GeV\n",
    "  W boson: 80,38 GeV\n",
    "  http://onlyspacetime.com/Chapter_12.pdf\n"
   ]
  },
  {
   "cell_type": "code",
   "execution_count": 15,
   "id": "92ed2eb3",
   "metadata": {},
   "outputs": [
    {
     "name": "stdout",
     "output_type": "stream",
     "text": [
      "3.610065039398846e-27 second\n",
      "0.0010822702717012463 femtometer\n",
      "4.095568934346613e-27 second\n",
      "0.0012278206777362112 femtometer\n",
      "2.438954833228727e-24 second\n",
      "0.7311802644046201 femtometer\n"
     ]
    }
   ],
   "source": [
    "# EM force\n",
    "\n",
    "# m_foton = 0\n",
    "# r -> ∞\n",
    "\n",
    "# Weak force\n",
    "\n",
    "# Energy-time uncertainty relationship: ΔE * Δt ≥ ℏ / 2\n",
    "# Energy uncertainty using the Z boson mass\n",
    "\n",
    "m_Zboson = 91.19 * GeV / c**2\n",
    "ΔE = m_Zboson * c**2\n",
    "Δt = ℏ / 2 / ΔE\n",
    "print(Δt.to(segundos))\n",
    "r = c * Δt\n",
    "print(r.to(fermis))\n",
    "\n",
    "m_Wboson = 80.38 * GeV / c**2\n",
    "ΔE = m_Wboson * c**2\n",
    "Δt = ℏ / 2 / ΔE\n",
    "print(Δt.to(segundos))\n",
    "r = c * Δt\n",
    "print(r.to(fermis))\n",
    "\n",
    "# Strong Force\n",
    "\n",
    "m_π0 = 134.9766 * MeV / c**2\n",
    "ΔE = m_π0 * c**2\n",
    "Δt = ℏ / 2 / ΔE\n",
    "print(Δt.to(segundos))\n",
    "r = c * Δt\n",
    "print(r.to(fermis))\n"
   ]
  },
  {
   "cell_type": "markdown",
   "id": "8eaedb08",
   "metadata": {},
   "source": [
    "6. a) Explicar por qu´e la fuerza fuerte es de corto alcance, rango del orden del fm, mientras que\n",
    "la fuerza e.m. posee rango infinito, considerando que tanto la masa del g como la del γ son\n",
    "cero. b) Explicar como a pesar de que el neutr´on tiene una vida media τn = 880.2 ± 1.0 s.\n",
    "existen centenares de n´ucleos estables compuestos de protones y neutrones"
   ]
  },
  {
   "cell_type": "markdown",
   "id": "60eb889d",
   "metadata": {},
   "source": [
    "7. La funci´on de trabajo del W es de 5.4 eV . Cuando se ilumina una superficie de W con luz de\n",
    "λ 175 nm la m´axima energ´ıa de los electrones emitidos es de 1.7 eV . A partir de estos datos,\n",
    "obtener la constante de Planck."
   ]
  },
  {
   "cell_type": "markdown",
   "id": "88b28edf",
   "metadata": {},
   "source": [
    "9. Un haz de luz de intensidad I = 10 μW/cm2 incide sobre 1 cm2 de F e. Suponer que un 96%\n",
    "de la luz se refleja, y que un 3% de la misma posee una λ = 250 nm (λumbral). Determinar\n",
    "la intensidad de la luz capaz de producir la emisi´on de fotoelectrones, y el n´umero de los\n",
    "mismos que se produce por unidad de tiempo. Obtener la corriente el´ectrica debida a dichos\n",
    "fotoelectrones, y la funci´on de trabajo del F e."
   ]
  },
  {
   "cell_type": "code",
   "execution_count": 19,
   "id": "84fa9523",
   "metadata": {},
   "outputs": [
    {
     "name": "stdout",
     "output_type": "stream",
     "text": [
      "1.200000000000001e-08 watt\n",
      "7.9480976464959985e-19 joule\n",
      "15097952407.882574 / second\n",
      "2.4156723852612116e-09 ampere\n",
      "4.960812358530501 electron_volt\n"
     ]
    }
   ],
   "source": [
    "I = 10 * μW / centimetros**2\n",
    "A_Fe = 1 * centimetros**2\n",
    "reflejo = 0.96\n",
    "\n",
    "Ief = I * (1 - 0.96) * 0.03 * A_Fe\n",
    "print(Ief.to(vatios))\n",
    "\n",
    "λumbral = 250 * nanometros\n",
    "\n",
    "Efoton = h * c / λumbral\n",
    "print(Efoton.to(julios))\n",
    "Nf = Ief / Efoton\n",
    "print(Nf.to_base_units())\n",
    "\n",
    "# Cada fotón arranca un electrón\n",
    "\n",
    "Ne = Nf\n",
    "Ie = Ne * q_electron\n",
    "print(Ie.to_base_units())\n",
    "\n",
    "Ecinetica = 0 * eV\n",
    "Eincidente = Efoton\n",
    "Φ = Eincidente - Ecinetica\n",
    "print(Φ.to(eV))\n"
   ]
  },
  {
   "cell_type": "markdown",
   "id": "3f3746ec",
   "metadata": {},
   "source": [
    "10. A una distancia de 1 m. de una fuente luminosa de 1 w. se coloca una placa de K. Suponer\n",
    "que cada fotoelectr´on emitido recibe su energ´ıa de un ´area cuyo radio es del orden del radio\n",
    "at´omico que es de 10−10m. La energ´ıa necesaria para extraer un e− de la superficie del K es de\n",
    "2.1 eV. Suponiendo que la energ´ıa de la onda e.m. est´a distribuida uniformemente en su frente\n",
    "de onda, determinar el tiempo que tardar´ıa el blanco en recibir una energ´ıa de 2.1 eV"
   ]
  },
  {
   "cell_type": "code",
   "execution_count": 29,
   "id": "db31c046",
   "metadata": {},
   "outputs": [
    {
     "name": "stdout",
     "output_type": "stream",
     "text": [
      "0.01560377268615191 electron_volt / second\n",
      "134.582837256 second\n"
     ]
    }
   ],
   "source": [
    "distancia = 1 * metros\n",
    "potencia = 1 * vatios\n",
    "\n",
    "Enecesaria = 2.1 * eV\n",
    "\n",
    "I = potencia / ( 4 * pi * distancia**2 )\n",
    "Aatomo = pi * ( 1e-10 * metros )**2 \n",
    "\n",
    "potencia_recibida = I * Aatomo\n",
    "print(potencia_recibida.to(eV/segundos))\n",
    "\n",
    "# E = W * t -> t = E / W\n",
    "print((Enecesaria /potencia_recibida).to(segundos))"
   ]
  },
  {
   "cell_type": "markdown",
   "id": "fab011f6",
   "metadata": {},
   "source": [
    "11. a) Luz de λ = 4 × 10−7 m. incide perpendicularmente sobre una superficie met´alica plana\n",
    "con 10−6 w m−2. Determinar el n´umero de γ que inciden por unidad de ´area y tiempo. b) Una\n",
    "superficie met´alica iluminada por luz de λ = 3.5 × 10−7 m. emite e− cuya m´axima energ´ıa\n",
    "cin´etica es 0.60 eV. La misma superficie se ilumina con luz de λ = 2.5 × 10−7 m. emitiendo\n",
    "en ese caso e− cuya m´axima energ´ıa cin´etica es 2.02 eV. A partir de estos datos determinar la\n",
    "constante de Planck y la funci´on de trabajo del metal en eV."
   ]
  },
  {
   "cell_type": "code",
   "execution_count": 39,
   "id": "13a72fd7",
   "metadata": {},
   "outputs": [
    {
     "name": "stdout",
     "output_type": "stream",
     "text": [
      "6241509074460.763 electron_volt / meter ** 2 / second\n",
      "3.1005077240815644 electron_volt\n",
      "2013060321051.0078 / meter ** 2 / second\n"
     ]
    }
   ],
   "source": [
    "λ = 4e-7 * metros\n",
    "I = 1e-6 * vatios / metros**2\n",
    "print(I.to(eV / metros**2 / segundos))\n",
    "Efoton = h * c / λ\n",
    "print(Efoton.to(eV))\n",
    "print((I / Efoton).to(1 / metros**2 / segundos))\n"
   ]
  },
  {
   "cell_type": "code",
   "execution_count": null,
   "id": "8a43655c",
   "metadata": {},
   "outputs": [],
   "source": [
    "λ1 = 3.5e-7 * metros\n",
    "Ec_max = 0.60 * eV\n",
    "λ2 = 2.5e-7 * metros\n"
   ]
  },
  {
   "cell_type": "markdown",
   "id": "0cc68e90",
   "metadata": {},
   "source": [
    "***"
   ]
  },
  {
   "cell_type": "markdown",
   "id": "a8a0591d",
   "metadata": {},
   "source": [
    "14. Un haz de rayos X monocrom´aticos se dirige hacia electrones en reposo. Tras la colisi´on se\n",
    "observa un electr´on con Ec = 400 keV , mientras que el γ tiene una longitud de onda el doble\n",
    "que antes de la colisi´on. a) Calcular la energ´ıa del γ y λγ del haz incidente. b) Calcular el\n",
    "´angulo que se desv´ıa el fot´on de su direcci´on inicial. c) Calcular la energ´ıa total y |⃗p | del e−\n",
    "tras la colisi´on asi como su direcci´on respecto a la del γ inicial"
   ]
  },
  {
   "cell_type": "code",
   "execution_count": null,
   "id": "5798cd10",
   "metadata": {},
   "outputs": [],
   "source": [
    "Ec = 400 * keV\n",
    "\n",
    "# λγ_ini\n",
    "# λγ_fin = 2 * λγ_ini\n",
    "\n",
    "# Eγ_ini = h * c / λγ_ini\n",
    "# Eγ_fin = h * c / (λγ_ini * 2)\n",
    "# Eγ_ini = \n"
   ]
  },
  {
   "cell_type": "code",
   "execution_count": null,
   "id": "540094f8",
   "metadata": {},
   "outputs": [],
   "source": []
  },
  {
   "cell_type": "code",
   "execution_count": null,
   "id": "85474eff",
   "metadata": {},
   "outputs": [],
   "source": []
  },
  {
   "cell_type": "code",
   "execution_count": null,
   "id": "4c0bb183",
   "metadata": {},
   "outputs": [],
   "source": []
  }
 ],
 "metadata": {
  "kernelspec": {
   "display_name": "Python 3 (ipykernel)",
   "language": "python",
   "name": "python3"
  },
  "language_info": {
   "codemirror_mode": {
    "name": "ipython",
    "version": 3
   },
   "file_extension": ".py",
   "mimetype": "text/x-python",
   "name": "python",
   "nbconvert_exporter": "python",
   "pygments_lexer": "ipython3",
   "version": "3.11.9"
  }
 },
 "nbformat": 4,
 "nbformat_minor": 5
}
