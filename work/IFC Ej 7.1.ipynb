{
 "cells": [
  {
   "cell_type": "code",
   "execution_count": 1,
   "id": "d2ded3ff",
   "metadata": {},
   "outputs": [],
   "source": [
    "from numpy import *"
   ]
  },
  {
   "cell_type": "code",
   "execution_count": 2,
   "id": "7b6fc874",
   "metadata": {},
   "outputs": [
    {
     "data": {
      "text/plain": [
       "(2, 8)"
      ]
     },
     "execution_count": 2,
     "metadata": {},
     "output_type": "execute_result"
    }
   ],
   "source": [
    "A = array([[1, 2, 3, 4, 5, 6, 7, 8], [8, 7, 6, 5, 4, 3, 2, 1]])\n",
    "\n",
    "A.shape"
   ]
  },
  {
   "cell_type": "code",
   "execution_count": null,
   "id": "29a786cb",
   "metadata": {},
   "outputs": [],
   "source": []
  },
  {
   "cell_type": "code",
   "execution_count": 3,
   "id": "27527247",
   "metadata": {},
   "outputs": [
    {
     "data": {
      "text/plain": [
       "(1, 8)"
      ]
     },
     "execution_count": 3,
     "metadata": {},
     "output_type": "execute_result"
    }
   ],
   "source": [
    "B = ones([1,8])\n",
    "\n",
    "B.shape"
   ]
  },
  {
   "cell_type": "code",
   "execution_count": 4,
   "id": "4518be04",
   "metadata": {},
   "outputs": [
    {
     "data": {
      "text/plain": [
       "array([[2., 3., 4., 5., 6., 7., 8., 9.],\n",
       "       [9., 8., 7., 6., 5., 4., 3., 2.]])"
      ]
     },
     "execution_count": 4,
     "metadata": {},
     "output_type": "execute_result"
    }
   ],
   "source": [
    "A+B"
   ]
  },
  {
   "cell_type": "code",
   "execution_count": 5,
   "id": "6de7deab",
   "metadata": {},
   "outputs": [
    {
     "data": {
      "text/plain": [
       "(2, 8)"
      ]
     },
     "execution_count": 5,
     "metadata": {},
     "output_type": "execute_result"
    }
   ],
   "source": [
    "(A+B).shape"
   ]
  },
  {
   "cell_type": "code",
   "execution_count": null,
   "id": "de6f0cbd",
   "metadata": {},
   "outputs": [],
   "source": []
  },
  {
   "cell_type": "code",
   "execution_count": 6,
   "id": "de034d15",
   "metadata": {},
   "outputs": [
    {
     "data": {
      "text/plain": [
       "array([[2., 3., 4., 5., 6., 7., 8., 9.],\n",
       "       [9., 8., 7., 6., 5., 4., 3., 2.]])"
      ]
     },
     "execution_count": 6,
     "metadata": {},
     "output_type": "execute_result"
    }
   ],
   "source": [
    "A + ones([1,1])"
   ]
  },
  {
   "cell_type": "code",
   "execution_count": 7,
   "id": "47946176",
   "metadata": {},
   "outputs": [
    {
     "data": {
      "text/plain": [
       "array([[2., 3., 4., 5., 6., 7., 8., 9.],\n",
       "       [9., 8., 7., 6., 5., 4., 3., 2.]])"
      ]
     },
     "execution_count": 7,
     "metadata": {},
     "output_type": "execute_result"
    }
   ],
   "source": [
    "A + ones([1,8])"
   ]
  },
  {
   "cell_type": "code",
   "execution_count": 8,
   "id": "5e472b80",
   "metadata": {},
   "outputs": [
    {
     "data": {
      "text/plain": [
       "array([[2., 3., 4., 5., 6., 7., 8., 9.],\n",
       "       [9., 8., 7., 6., 5., 4., 3., 2.]])"
      ]
     },
     "execution_count": 8,
     "metadata": {},
     "output_type": "execute_result"
    }
   ],
   "source": [
    "A + ones([2,1])"
   ]
  },
  {
   "cell_type": "code",
   "execution_count": 9,
   "id": "c8f14206",
   "metadata": {},
   "outputs": [
    {
     "data": {
      "text/plain": [
       "array([[2., 3., 4., 5., 6., 7., 8., 9.],\n",
       "       [9., 8., 7., 6., 5., 4., 3., 2.]])"
      ]
     },
     "execution_count": 9,
     "metadata": {},
     "output_type": "execute_result"
    }
   ],
   "source": [
    "A + ones([2,8]) # NO"
   ]
  },
  {
   "cell_type": "code",
   "execution_count": null,
   "id": "bdfdeeff",
   "metadata": {},
   "outputs": [],
   "source": []
  },
  {
   "cell_type": "code",
   "execution_count": 10,
   "id": "ea80ce29",
   "metadata": {},
   "outputs": [
    {
     "data": {
      "text/plain": [
       "array([[2., 3., 4., 5., 6., 7., 8., 9.],\n",
       "       [9., 8., 7., 6., 5., 4., 3., 2.]])"
      ]
     },
     "execution_count": 10,
     "metadata": {},
     "output_type": "execute_result"
    }
   ],
   "source": [
    "A + ones([])"
   ]
  },
  {
   "cell_type": "code",
   "execution_count": 11,
   "id": "caa52943",
   "metadata": {},
   "outputs": [
    {
     "data": {
      "text/plain": [
       "array([[2., 3., 4., 5., 6., 7., 8., 9.],\n",
       "       [9., 8., 7., 6., 5., 4., 3., 2.]])"
      ]
     },
     "execution_count": 11,
     "metadata": {},
     "output_type": "execute_result"
    }
   ],
   "source": [
    "A + ones([1])"
   ]
  },
  {
   "cell_type": "code",
   "execution_count": 12,
   "id": "f9b6f307",
   "metadata": {},
   "outputs": [
    {
     "data": {
      "text/plain": [
       "array([[2., 3., 4., 5., 6., 7., 8., 9.],\n",
       "       [9., 8., 7., 6., 5., 4., 3., 2.]])"
      ]
     },
     "execution_count": 12,
     "metadata": {},
     "output_type": "execute_result"
    }
   ],
   "source": [
    "A + ones([8])"
   ]
  },
  {
   "cell_type": "code",
   "execution_count": 13,
   "id": "fdcbfae9",
   "metadata": {},
   "outputs": [
    {
     "data": {
      "text/plain": [
       "array([[[2., 3., 4., 5., 6., 7., 8., 9.],\n",
       "        [9., 8., 7., 6., 5., 4., 3., 2.]]])"
      ]
     },
     "execution_count": 13,
     "metadata": {},
     "output_type": "execute_result"
    }
   ],
   "source": [
    "A + ones([1,1,1])"
   ]
  },
  {
   "cell_type": "code",
   "execution_count": 14,
   "id": "5b58253b",
   "metadata": {},
   "outputs": [
    {
     "data": {
      "text/plain": [
       "array([[[[2., 3., 4., 5., 6., 7., 8., 9.],\n",
       "         [9., 8., 7., 6., 5., 4., 3., 2.]]]])"
      ]
     },
     "execution_count": 14,
     "metadata": {},
     "output_type": "execute_result"
    }
   ],
   "source": [
    "A + ones([1,1,1,1])"
   ]
  },
  {
   "cell_type": "code",
   "execution_count": 15,
   "id": "92d95c97",
   "metadata": {},
   "outputs": [
    {
     "data": {
      "text/plain": [
       "array([[[[2., 3., 4., 5., 6., 7., 8., 9.],\n",
       "         [9., 8., 7., 6., 5., 4., 3., 2.]]]])"
      ]
     },
     "execution_count": 15,
     "metadata": {},
     "output_type": "execute_result"
    }
   ],
   "source": [
    "A + ones([1,1,1,8])"
   ]
  },
  {
   "cell_type": "code",
   "execution_count": 16,
   "id": "e86f5f57",
   "metadata": {},
   "outputs": [
    {
     "data": {
      "text/plain": [
       "array([[[2., 3., 4., 5., 6., 7., 8., 9.],\n",
       "        [9., 8., 7., 6., 5., 4., 3., 2.]]])"
      ]
     },
     "execution_count": 16,
     "metadata": {},
     "output_type": "execute_result"
    }
   ],
   "source": [
    "A + ones([1,2,8])"
   ]
  },
  {
   "cell_type": "code",
   "execution_count": 17,
   "id": "8518bf6b",
   "metadata": {},
   "outputs": [
    {
     "data": {
      "text/plain": [
       "array([[[[2., 3., 4., 5., 6., 7., 8., 9.],\n",
       "         [9., 8., 7., 6., 5., 4., 3., 2.]]]])"
      ]
     },
     "execution_count": 17,
     "metadata": {},
     "output_type": "execute_result"
    }
   ],
   "source": [
    "A + ones([1,1,2,8])"
   ]
  },
  {
   "cell_type": "code",
   "execution_count": 18,
   "id": "5b28d2c7",
   "metadata": {},
   "outputs": [
    {
     "data": {
      "text/plain": [
       "array([[[[2., 3., 4., 5., 6., 7., 8., 9.],\n",
       "         [9., 8., 7., 6., 5., 4., 3., 2.]]]])"
      ]
     },
     "execution_count": 18,
     "metadata": {},
     "output_type": "execute_result"
    }
   ],
   "source": [
    "A + ones([1,1,2,1])"
   ]
  },
  {
   "cell_type": "code",
   "execution_count": null,
   "id": "e00d1396",
   "metadata": {},
   "outputs": [],
   "source": []
  },
  {
   "cell_type": "code",
   "execution_count": 19,
   "id": "e3e91938",
   "metadata": {},
   "outputs": [],
   "source": [
    "C = full([1, 2, 1], 10)"
   ]
  },
  {
   "cell_type": "code",
   "execution_count": 20,
   "id": "efb2ba19",
   "metadata": {},
   "outputs": [
    {
     "data": {
      "text/plain": [
       "array([[[10, 20, 30, 40, 50, 60, 70, 80],\n",
       "        [80, 70, 60, 50, 40, 30, 20, 10]]])"
      ]
     },
     "execution_count": 20,
     "metadata": {},
     "output_type": "execute_result"
    }
   ],
   "source": [
    "A * C"
   ]
  },
  {
   "cell_type": "code",
   "execution_count": null,
   "id": "25258365",
   "metadata": {},
   "outputs": [],
   "source": []
  },
  {
   "cell_type": "code",
   "execution_count": 21,
   "id": "224e821f",
   "metadata": {},
   "outputs": [
    {
     "data": {
      "text/plain": [
       "array([[[11., 12., 13., 14., 15., 16., 17., 18.],\n",
       "        [18., 17., 16., 15., 14., 13., 12., 11.]]])"
      ]
     },
     "execution_count": 21,
     "metadata": {},
     "output_type": "execute_result"
    }
   ],
   "source": [
    "A + ( 10 * ones([1, 1, 1]) )"
   ]
  },
  {
   "cell_type": "code",
   "execution_count": 22,
   "id": "b606b499",
   "metadata": {},
   "outputs": [
    {
     "data": {
      "text/plain": [
       "array([[[11, 12, 13, 14, 15, 16, 17, 18],\n",
       "        [18, 17, 16, 15, 14, 13, 12, 11]]])"
      ]
     },
     "execution_count": 22,
     "metadata": {},
     "output_type": "execute_result"
    }
   ],
   "source": [
    "A + full([1, 1, 1], 10)"
   ]
  },
  {
   "cell_type": "code",
   "execution_count": 23,
   "id": "b82f8834",
   "metadata": {},
   "outputs": [
    {
     "data": {
      "text/plain": [
       "array([[[11, 12, 13, 14, 15, 16, 17, 18],\n",
       "        [18, 17, 16, 15, 14, 13, 12, 11]]])"
      ]
     },
     "execution_count": 23,
     "metadata": {},
     "output_type": "execute_result"
    }
   ],
   "source": [
    "A + full([1, 2, 8], 10)"
   ]
  },
  {
   "cell_type": "code",
   "execution_count": 24,
   "id": "f9d661c5",
   "metadata": {},
   "outputs": [
    {
     "data": {
      "text/plain": [
       "array([[[11, 12, 13, 14, 15, 16, 17, 18],\n",
       "        [18, 17, 16, 15, 14, 13, 12, 11]]])"
      ]
     },
     "execution_count": 24,
     "metadata": {},
     "output_type": "execute_result"
    }
   ],
   "source": [
    "A + full([1, 1, 8], 10)"
   ]
  },
  {
   "cell_type": "code",
   "execution_count": 25,
   "id": "feaecf2b",
   "metadata": {},
   "outputs": [
    {
     "data": {
      "text/plain": [
       "array([[[11, 12, 13, 14, 15, 16, 17, 18],\n",
       "        [18, 17, 16, 15, 14, 13, 12, 11]]])"
      ]
     },
     "execution_count": 25,
     "metadata": {},
     "output_type": "execute_result"
    }
   ],
   "source": [
    "A + full([1, 2, 1], 10)"
   ]
  },
  {
   "cell_type": "code",
   "execution_count": 26,
   "id": "b161ddd4",
   "metadata": {},
   "outputs": [
    {
     "data": {
      "text/plain": [
       "array([[[11, 12, 13, 14, 15, 16, 17, 18],\n",
       "        [18, 17, 16, 15, 14, 13, 12, 11]],\n",
       "\n",
       "       [[11, 12, 13, 14, 15, 16, 17, 18],\n",
       "        [18, 17, 16, 15, 14, 13, 12, 11]],\n",
       "\n",
       "       [[11, 12, 13, 14, 15, 16, 17, 18],\n",
       "        [18, 17, 16, 15, 14, 13, 12, 11]]])"
      ]
     },
     "execution_count": 26,
     "metadata": {},
     "output_type": "execute_result"
    }
   ],
   "source": [
    "A + full([3, 2, 8], 10)"
   ]
  },
  {
   "cell_type": "code",
   "execution_count": null,
   "id": "8072e456",
   "metadata": {},
   "outputs": [],
   "source": []
  },
  {
   "cell_type": "code",
   "execution_count": 27,
   "id": "9dd17bfe",
   "metadata": {},
   "outputs": [
    {
     "data": {
      "text/plain": [
       "array([[[10, 20, 30, 40, 50, 60, 70, 80],\n",
       "        [80, 70, 60, 50, 40, 30, 20, 10]]])"
      ]
     },
     "execution_count": 27,
     "metadata": {},
     "output_type": "execute_result"
    }
   ],
   "source": [
    "A * full([1, 1, 1], 10)"
   ]
  },
  {
   "cell_type": "code",
   "execution_count": 28,
   "id": "8fd16a57",
   "metadata": {},
   "outputs": [
    {
     "data": {
      "text/plain": [
       "array([[[10, 20, 30, 40, 50, 60, 70, 80],\n",
       "        [80, 70, 60, 50, 40, 30, 20, 10]]])"
      ]
     },
     "execution_count": 28,
     "metadata": {},
     "output_type": "execute_result"
    }
   ],
   "source": [
    "A * full([1, 2, 8], 10)"
   ]
  },
  {
   "cell_type": "code",
   "execution_count": 29,
   "id": "6556ebc0",
   "metadata": {},
   "outputs": [
    {
     "data": {
      "text/plain": [
       "array([[[10, 20, 30, 40, 50, 60, 70, 80],\n",
       "        [80, 70, 60, 50, 40, 30, 20, 10]]])"
      ]
     },
     "execution_count": 29,
     "metadata": {},
     "output_type": "execute_result"
    }
   ],
   "source": [
    "A * full([1, 1, 8], 10)"
   ]
  },
  {
   "cell_type": "code",
   "execution_count": 30,
   "id": "073a4c32",
   "metadata": {},
   "outputs": [
    {
     "data": {
      "text/plain": [
       "array([[[10, 20, 30, 40, 50, 60, 70, 80],\n",
       "        [80, 70, 60, 50, 40, 30, 20, 10]]])"
      ]
     },
     "execution_count": 30,
     "metadata": {},
     "output_type": "execute_result"
    }
   ],
   "source": [
    "A * full([1, 2, 1], 10)"
   ]
  },
  {
   "cell_type": "code",
   "execution_count": 31,
   "id": "286f61ff",
   "metadata": {},
   "outputs": [
    {
     "data": {
      "text/plain": [
       "array([[[10, 20, 30, 40, 50, 60, 70, 80],\n",
       "        [80, 70, 60, 50, 40, 30, 20, 10]],\n",
       "\n",
       "       [[10, 20, 30, 40, 50, 60, 70, 80],\n",
       "        [80, 70, 60, 50, 40, 30, 20, 10]],\n",
       "\n",
       "       [[10, 20, 30, 40, 50, 60, 70, 80],\n",
       "        [80, 70, 60, 50, 40, 30, 20, 10]]])"
      ]
     },
     "execution_count": 31,
     "metadata": {},
     "output_type": "execute_result"
    }
   ],
   "source": [
    "A * full([3, 2, 8], 10)"
   ]
  },
  {
   "cell_type": "code",
   "execution_count": null,
   "id": "302db71f",
   "metadata": {},
   "outputs": [],
   "source": []
  },
  {
   "cell_type": "code",
   "execution_count": 36,
   "id": "cb8b402e",
   "metadata": {},
   "outputs": [
    {
     "data": {
      "text/plain": [
       "(2, 8)"
      ]
     },
     "execution_count": 36,
     "metadata": {},
     "output_type": "execute_result"
    }
   ],
   "source": [
    "A.shape"
   ]
  },
  {
   "cell_type": "code",
   "execution_count": 32,
   "id": "3aa6d74d",
   "metadata": {},
   "outputs": [
    {
     "data": {
      "text/plain": [
       "array([[[11., 11., 11., 11., 11., 11., 11., 11.],\n",
       "        [11., 11., 11., 11., 11., 11., 11., 11.]]])"
      ]
     },
     "execution_count": 32,
     "metadata": {},
     "output_type": "execute_result"
    }
   ],
   "source": [
    "C + B"
   ]
  },
  {
   "cell_type": "code",
   "execution_count": 33,
   "id": "e8fac06e",
   "metadata": {},
   "outputs": [
    {
     "data": {
      "text/plain": [
       "(1, 8)"
      ]
     },
     "execution_count": 33,
     "metadata": {},
     "output_type": "execute_result"
    }
   ],
   "source": [
    "B.shape"
   ]
  },
  {
   "cell_type": "code",
   "execution_count": 34,
   "id": "666a8c7b",
   "metadata": {},
   "outputs": [
    {
     "data": {
      "text/plain": [
       "(1, 2, 1)"
      ]
     },
     "execution_count": 34,
     "metadata": {},
     "output_type": "execute_result"
    }
   ],
   "source": [
    "C.shape"
   ]
  },
  {
   "cell_type": "code",
   "execution_count": 35,
   "id": "937b1991",
   "metadata": {},
   "outputs": [
    {
     "data": {
      "text/plain": [
       "(1, 2, 8)"
      ]
     },
     "execution_count": 35,
     "metadata": {},
     "output_type": "execute_result"
    }
   ],
   "source": [
    "(B+C).shape"
   ]
  },
  {
   "cell_type": "code",
   "execution_count": null,
   "id": "16e551c4",
   "metadata": {},
   "outputs": [],
   "source": []
  },
  {
   "cell_type": "code",
   "execution_count": null,
   "id": "34e95db0",
   "metadata": {},
   "outputs": [],
   "source": []
  }
 ],
 "metadata": {
  "kernelspec": {
   "display_name": "Python 3 (ipykernel)",
   "language": "python",
   "name": "python3"
  },
  "language_info": {
   "codemirror_mode": {
    "name": "ipython",
    "version": 3
   },
   "file_extension": ".py",
   "mimetype": "text/x-python",
   "name": "python",
   "nbconvert_exporter": "python",
   "pygments_lexer": "ipython3",
   "version": "3.11.8"
  }
 },
 "nbformat": 4,
 "nbformat_minor": 5
}
