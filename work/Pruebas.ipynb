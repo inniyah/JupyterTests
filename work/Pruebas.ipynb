{
 "cells": [
  {
   "cell_type": "code",
   "execution_count": 1,
   "id": "54984e2c",
   "metadata": {},
   "outputs": [],
   "source": [
    "from numpy import *\n",
    "import matplotlib.pyplot as plt\n",
    "from mpl_toolkits.mplot3d import Axes3D\n",
    "from matplotlib import cm\n",
    "from pprint import pprint"
   ]
  },
  {
   "cell_type": "code",
   "execution_count": 20,
   "id": "92ba4393",
   "metadata": {},
   "outputs": [
    {
     "name": "stdout",
     "output_type": "stream",
     "text": [
      "(5,)\n",
      "array([1, 2, 3, 4, 5])\n",
      "2\n"
     ]
    }
   ],
   "source": [
    "v = array([ 1,2,3,4,5 ])\n",
    "pprint(v.shape)\n",
    "pprint(v)\n",
    "pprint(v[1])"
   ]
  },
  {
   "cell_type": "code",
   "execution_count": 25,
   "id": "6039b49d",
   "metadata": {},
   "outputs": [
    {
     "name": "stdout",
     "output_type": "stream",
     "text": [
      "(5, 1)\n",
      "array([[1],\n",
      "       [2],\n",
      "       [3],\n",
      "       [4],\n",
      "       [5]])\n",
      "2\n"
     ]
    }
   ],
   "source": [
    "v1 = v.reshape([5, 1])\n",
    "pprint(v1.shape)\n",
    "pprint(v1)\n",
    "pprint(v1[1,0])"
   ]
  },
  {
   "cell_type": "code",
   "execution_count": 27,
   "id": "0ba8576c",
   "metadata": {},
   "outputs": [
    {
     "name": "stdout",
     "output_type": "stream",
     "text": [
      "(1, 5)\n",
      "array([[1, 2, 3, 4, 5]])\n",
      "2\n"
     ]
    }
   ],
   "source": [
    "v2 = v.reshape([1, 5])\n",
    "pprint(v2.shape)\n",
    "pprint(v2)\n",
    "pprint(v2[0,1])"
   ]
  },
  {
   "cell_type": "code",
   "execution_count": 28,
   "id": "ae1ebd58",
   "metadata": {},
   "outputs": [
    {
     "name": "stdout",
     "output_type": "stream",
     "text": [
      "(1, 1, 5, 1, 1)\n",
      "array([[[[[1]],\n",
      "\n",
      "         [[2]],\n",
      "\n",
      "         [[3]],\n",
      "\n",
      "         [[4]],\n",
      "\n",
      "         [[5]]]]])\n",
      "2\n"
     ]
    }
   ],
   "source": [
    "v3 = v.reshape([1, 1, 5, 1, 1])\n",
    "pprint(v3.shape)\n",
    "pprint(v3)\n",
    "pprint(v3[0,0,1,0,0])"
   ]
  },
  {
   "cell_type": "code",
   "execution_count": null,
   "id": "41fe70aa",
   "metadata": {},
   "outputs": [],
   "source": [
    "# datos[indice_temperatura, indice_tiempo]"
   ]
  },
  {
   "cell_type": "code",
   "execution_count": 45,
   "id": "e65815ac",
   "metadata": {},
   "outputs": [
    {
     "name": "stdout",
     "output_type": "stream",
     "text": [
      "(5, 1)\n",
      "array([[ 60],\n",
      "       [ 70],\n",
      "       [ 80],\n",
      "       [ 90],\n",
      "       [100]])\n",
      "70\n"
     ]
    }
   ],
   "source": [
    "# temperatura[indice_temperatura, indice_tiempo] = temperatura[indice_temperatura]\n",
    "temperatura = array( [60,70,80,90,100] ).reshape(-1, 1)\n",
    "pprint(temperatura.shape)\n",
    "pprint(temperatura)\n",
    "pprint(temperatura[1,0])"
   ]
  },
  {
   "cell_type": "code",
   "execution_count": 46,
   "id": "12fdcd0b",
   "metadata": {},
   "outputs": [
    {
     "name": "stdout",
     "output_type": "stream",
     "text": [
      "(1, 4)\n",
      "array([[1, 2, 3, 4]])\n"
     ]
    }
   ],
   "source": [
    "# tiempo[indice_temperatura, indice_tiempo] = tiempo[indice_tiempo]\n",
    "tiempo = array( [1,2,3,4] ).reshape(1, -1)\n",
    "pprint(tiempo.shape)\n",
    "pprint(tiempo)"
   ]
  },
  {
   "cell_type": "code",
   "execution_count": 47,
   "id": "9c9f1242",
   "metadata": {},
   "outputs": [
    {
     "name": "stdout",
     "output_type": "stream",
     "text": [
      "array([[ 60, 120, 180, 240],\n",
      "       [ 70, 140, 210, 280],\n",
      "       [ 80, 160, 240, 320],\n",
      "       [ 90, 180, 270, 360],\n",
      "       [100, 200, 300, 400]])\n"
     ]
    }
   ],
   "source": [
    "pprint(temperatura * tiempo)\n"
   ]
  },
  {
   "cell_type": "code",
   "execution_count": null,
   "id": "2a9e7920",
   "metadata": {},
   "outputs": [],
   "source": []
  },
  {
   "cell_type": "code",
   "execution_count": 50,
   "id": "3fc8e129",
   "metadata": {},
   "outputs": [
    {
     "name": "stdout",
     "output_type": "stream",
     "text": [
      "(5,)\n",
      "array([ 60,  70,  80,  90, 100])\n",
      "70\n"
     ]
    }
   ],
   "source": [
    "temperatura = array( [60,70,80,90,100] )\n",
    "pprint(temperatura.shape)\n",
    "pprint(temperatura)\n",
    "pprint(temperatura[1])"
   ]
  },
  {
   "cell_type": "code",
   "execution_count": 52,
   "id": "35876443",
   "metadata": {},
   "outputs": [
    {
     "name": "stdout",
     "output_type": "stream",
     "text": [
      "(4,)\n",
      "array([1, 2, 3, 4])\n"
     ]
    }
   ],
   "source": [
    "tiempo = array( [1,2,3,4] )\n",
    "pprint(tiempo.shape)\n",
    "pprint(tiempo)"
   ]
  },
  {
   "cell_type": "code",
   "execution_count": 60,
   "id": "6719887d",
   "metadata": {},
   "outputs": [
    {
     "name": "stdout",
     "output_type": "stream",
     "text": [
      "(5, 4)\n",
      "array([[ 60, 120, 180, 240],\n",
      "       [ 70, 140, 210, 280],\n",
      "       [ 80, 160, 240, 320],\n",
      "       [ 90, 180, 270, 360],\n",
      "       [100, 200, 300, 400]])\n"
     ]
    }
   ],
   "source": [
    "s = temperatura.reshape(-1, 1) * tiempo.reshape(1, -1)\n",
    "pprint(s.shape)\n",
    "pprint(s)"
   ]
  },
  {
   "cell_type": "code",
   "execution_count": 61,
   "id": "63294771",
   "metadata": {},
   "outputs": [
    {
     "name": "stdout",
     "output_type": "stream",
     "text": [
      "(1, 1, 6)\n",
      "array([[[ 0.,  2.,  4.,  6.,  8., 10.]]])\n"
     ]
    }
   ],
   "source": [
    "h = linspace(0, 10, 6).reshape(1,1,-1)\n",
    "pprint(h.shape)\n",
    "pprint(h)"
   ]
  },
  {
   "cell_type": "code",
   "execution_count": 64,
   "id": "590c35f5",
   "metadata": {},
   "outputs": [
    {
     "data": {
      "text/plain": [
       "array([[[   0.,  120.,  240.,  360.,  480.,  600.],\n",
       "        [   0.,  240.,  480.,  720.,  960., 1200.],\n",
       "        [   0.,  360.,  720., 1080., 1440., 1800.],\n",
       "        [   0.,  480.,  960., 1440., 1920., 2400.]],\n",
       "\n",
       "       [[   0.,  140.,  280.,  420.,  560.,  700.],\n",
       "        [   0.,  280.,  560.,  840., 1120., 1400.],\n",
       "        [   0.,  420.,  840., 1260., 1680., 2100.],\n",
       "        [   0.,  560., 1120., 1680., 2240., 2800.]],\n",
       "\n",
       "       [[   0.,  160.,  320.,  480.,  640.,  800.],\n",
       "        [   0.,  320.,  640.,  960., 1280., 1600.],\n",
       "        [   0.,  480.,  960., 1440., 1920., 2400.],\n",
       "        [   0.,  640., 1280., 1920., 2560., 3200.]],\n",
       "\n",
       "       [[   0.,  180.,  360.,  540.,  720.,  900.],\n",
       "        [   0.,  360.,  720., 1080., 1440., 1800.],\n",
       "        [   0.,  540., 1080., 1620., 2160., 2700.],\n",
       "        [   0.,  720., 1440., 2160., 2880., 3600.]],\n",
       "\n",
       "       [[   0.,  200.,  400.,  600.,  800., 1000.],\n",
       "        [   0.,  400.,  800., 1200., 1600., 2000.],\n",
       "        [   0.,  600., 1200., 1800., 2400., 3000.],\n",
       "        [   0.,  800., 1600., 2400., 3200., 4000.]]])"
      ]
     },
     "execution_count": 64,
     "metadata": {},
     "output_type": "execute_result"
    }
   ],
   "source": [
    "s.reshape(5, 4, 1) * h"
   ]
  },
  {
   "cell_type": "code",
   "execution_count": null,
   "id": "bed6df16",
   "metadata": {},
   "outputs": [],
   "source": []
  },
  {
   "cell_type": "code",
   "execution_count": null,
   "id": "023cdc1b",
   "metadata": {},
   "outputs": [],
   "source": [
    "# datos[indice_A, indice_B, indice_C, indice_D]"
   ]
  },
  {
   "cell_type": "code",
   "execution_count": 58,
   "id": "5d6e3a43",
   "metadata": {},
   "outputs": [
    {
     "name": "stdout",
     "output_type": "stream",
     "text": [
      "(6, 1, 1)\n",
      "array([[[ 0.]],\n",
      "\n",
      "       [[ 2.]],\n",
      "\n",
      "       [[ 4.]],\n",
      "\n",
      "       [[ 6.]],\n",
      "\n",
      "       [[ 8.]],\n",
      "\n",
      "       [[10.]]])\n"
     ]
    }
   ],
   "source": [
    "datos_A = linspace(0, 10, 6).reshape(-1,1,1)\n",
    "pprint(datos_A.shape)\n",
    "pprint(datos_A)"
   ]
  },
  {
   "cell_type": "code",
   "execution_count": null,
   "id": "f815e752",
   "metadata": {},
   "outputs": [],
   "source": []
  },
  {
   "cell_type": "code",
   "execution_count": null,
   "id": "6283fb24",
   "metadata": {},
   "outputs": [],
   "source": []
  },
  {
   "cell_type": "code",
   "execution_count": 14,
   "id": "bc187ed6",
   "metadata": {},
   "outputs": [
    {
     "name": "stdout",
     "output_type": "stream",
     "text": [
      "(4, 3)\n",
      "array([[ 1,  2,  3],\n",
      "       [ 4,  5,  6],\n",
      "       [ 7,  8,  9],\n",
      "       [10, 11, 12]])\n"
     ]
    }
   ],
   "source": [
    "a = array([ [1,2,3],[4,5,6],[7,8,9],[10,11,12] ])\n",
    "pprint(a.shape)\n",
    "pprint(a)"
   ]
  },
  {
   "cell_type": "code",
   "execution_count": 8,
   "id": "2e1be8e5",
   "metadata": {},
   "outputs": [
    {
     "name": "stdout",
     "output_type": "stream",
     "text": [
      "array([[ 1,  2,  3],\n",
      "       [ 4,  5,  6],\n",
      "       [ 7,  8,  9],\n",
      "       [10, 11, 12]])\n"
     ]
    }
   ],
   "source": [
    "pprint(a)"
   ]
  },
  {
   "cell_type": "code",
   "execution_count": null,
   "id": "4aeaf28a",
   "metadata": {},
   "outputs": [],
   "source": []
  },
  {
   "cell_type": "code",
   "execution_count": null,
   "id": "567a3f18",
   "metadata": {},
   "outputs": [],
   "source": []
  },
  {
   "cell_type": "code",
   "execution_count": 89,
   "id": "d5616330",
   "metadata": {},
   "outputs": [
    {
     "name": "stdout",
     "output_type": "stream",
     "text": [
      "array([0. , 0.2, 0.4, 0.6, 0.8, 1. ])\n",
      "array([1., 2., 3., 4.])\n"
     ]
    }
   ],
   "source": [
    "# xx = xx[ixx]    ixx = [ 0, 1, 2, 3, 4, 5]\n",
    "# yy = yy[iyy]    iyy = [ 0, 1, 2, 3 ]\n",
    "\n",
    "xx = linspace(0, 1, 6)\n",
    "pprint(xx)\n",
    "yy = linspace(1, 4, 4)\n",
    "pprint(yy)"
   ]
  },
  {
   "cell_type": "code",
   "execution_count": 90,
   "id": "2b3af7c4",
   "metadata": {},
   "outputs": [
    {
     "name": "stdout",
     "output_type": "stream",
     "text": [
      "array([[0. , 0.2, 0.4, 0.6, 0.8, 1. ],\n",
      "       [0. , 0.2, 0.4, 0.6, 0.8, 1. ],\n",
      "       [0. , 0.2, 0.4, 0.6, 0.8, 1. ],\n",
      "       [0. , 0.2, 0.4, 0.6, 0.8, 1. ]])\n",
      "array([[1., 1., 1., 1., 1., 1.],\n",
      "       [2., 2., 2., 2., 2., 2.],\n",
      "       [3., 3., 3., 3., 3., 3.],\n",
      "       [4., 4., 4., 4., 4., 4.]])\n"
     ]
    }
   ],
   "source": [
    "X, Y = meshgrid(xx, yy)\n",
    "pprint(X)\n",
    "pprint(Y)"
   ]
  },
  {
   "cell_type": "code",
   "execution_count": 91,
   "id": "8356bf45",
   "metadata": {},
   "outputs": [
    {
     "data": {
      "text/plain": [
       "1.0"
      ]
     },
     "execution_count": 91,
     "metadata": {},
     "output_type": "execute_result"
    }
   ],
   "source": [
    "# X = X[iyy, ixx] = xx[ixx]\n",
    "X[3,5]"
   ]
  },
  {
   "cell_type": "code",
   "execution_count": 92,
   "id": "386b64fa",
   "metadata": {},
   "outputs": [
    {
     "data": {
      "text/plain": [
       "4.0"
      ]
     },
     "execution_count": 92,
     "metadata": {},
     "output_type": "execute_result"
    }
   ],
   "source": [
    "# Y = Y[iyy, ixx] = yy[iyy]\n",
    "Y[3,5]"
   ]
  },
  {
   "cell_type": "code",
   "execution_count": 75,
   "id": "838ad9e7",
   "metadata": {},
   "outputs": [
    {
     "data": {
      "text/plain": [
       "array([[1. , 1.2, 1.4, 1.6, 1.8, 2. ],\n",
       "       [2. , 2.2, 2.4, 2.6, 2.8, 3. ],\n",
       "       [3. , 3.2, 3.4, 3.6, 3.8, 4. ],\n",
       "       [4. , 4.2, 4.4, 4.6, 4.8, 5. ]])"
      ]
     },
     "execution_count": 75,
     "metadata": {},
     "output_type": "execute_result"
    }
   ],
   "source": [
    "X+Y"
   ]
  },
  {
   "cell_type": "code",
   "execution_count": 79,
   "id": "d32ccaa7",
   "metadata": {},
   "outputs": [
    {
     "data": {
      "text/plain": [
       "array([[1. , 1.2, 1.4, 1.6, 1.8, 2. ],\n",
       "       [2. , 2.2, 2.4, 2.6, 2.8, 3. ],\n",
       "       [3. , 3.2, 3.4, 3.6, 3.8, 4. ],\n",
       "       [4. , 4.2, 4.4, 4.6, 4.8, 5. ]])"
      ]
     },
     "execution_count": 79,
     "metadata": {},
     "output_type": "execute_result"
    }
   ],
   "source": [
    "xx.reshape(1,-1) + yy.reshape(-1,1)"
   ]
  },
  {
   "cell_type": "code",
   "execution_count": null,
   "id": "dc00b346",
   "metadata": {},
   "outputs": [],
   "source": []
  }
 ],
 "metadata": {
  "kernelspec": {
   "display_name": "Python 3 (ipykernel)",
   "language": "python",
   "name": "python3"
  },
  "language_info": {
   "codemirror_mode": {
    "name": "ipython",
    "version": 3
   },
   "file_extension": ".py",
   "mimetype": "text/x-python",
   "name": "python",
   "nbconvert_exporter": "python",
   "pygments_lexer": "ipython3",
   "version": "3.11.8"
  }
 },
 "nbformat": 4,
 "nbformat_minor": 5
}
