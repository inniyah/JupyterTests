{
 "cells": [
  {
   "cell_type": "code",
   "execution_count": 4,
   "id": "d24cf087",
   "metadata": {},
   "outputs": [],
   "source": [
    "import tmxlite"
   ]
  },
  {
   "cell_type": "code",
   "execution_count": 5,
   "id": "138c9b6e",
   "metadata": {},
   "outputs": [],
   "source": [
    "def printTmxMapInfo(filename : str):\n",
    "    map = tmxlite.TmxMap()\n",
    "    map.load(filename)\n",
    "    print(f\"Map version: {map.getVersion()}\")\n",
    "    if map.isInfinite():\n",
    "        print(\"Map is infinite.\\n\")\n",
    "    mapProperties = map.getProperties()\n",
    "    print(f\"Map has {mapProperties.size()} properties\")\n",
    "    for prop in mapProperties:\n",
    "        print(f\"Found property: \\\"{prop.getName()}\\\", Type: {prop.getTypeName()}\")\n",
    "    layers = map.getLayers()\n",
    "    print(f\"Map has {layers.size()} layers\")\n",
    "    for layer in layers:\n",
    "        print(f\"Found Layer: \\\"{layer.getName()}\\\", Type: {layer.getTypeName()}\")\n",
    "\n",
    "        if layer.getType() == tmxlite.TmxLayerType.Group:\n",
    "            sublayers = layer.getLayers()\n",
    "            print(f\"LayerGroup has {sublayers.size()} sublayers\")\n",
    "            for sublayer in sublayers:\n",
    "                print(f\"Found Sublayer: \\\"{sublayer.getName()}\\\", Type: {sublayer.getTypeName()}\")\n",
    "                if sublayer.getType() == tmxlite.TmxLayerType.Tile:\n",
    "                    tiles = sublayer.getTiles()\n",
    "                    if tiles:\n",
    "                        print(f\"TileLayer has {tiles.size()} tiles\")\n",
    "                    chunks = sublayer.getChunks()\n",
    "                    if chunks:\n",
    "                        print(f\"TileLayer has {chunks.size()} chunks\")\n",
    "                    tilesProperties = sublayer.getProperties()\n",
    "                    if tilesProperties:\n",
    "                        print(f\"TileLayer has {tilesProperties.size()} properties\")\n",
    "                        for prop in tilesProperties:\n",
    "                            print(f\"Found property: \\\"{prop.getName()}\\\", Type: {prop.getTypeName()}\")\n",
    "\n",
    "        elif layer.getType() == tmxlite.TmxLayerType.Object:\n",
    "            objects = layer.getObjects()\n",
    "            print(f\"Found has {objects.size()} objects in layer\")\n",
    "            for object in objects:\n",
    "                print(f\"Object {object.getUID()}, Name: \\\"{object.getName()}\\\"\")\n",
    "                objProperties = object.getProperties()\n",
    "                if objProperties:\n",
    "                    print(f\"Object has {objProperties.size()} properties\")\n",
    "                    for prop in objProperties:\n",
    "                        print(f\"Found property: \\\"{prop.getName()}\\\", Type: {prop.getTypeName()}\")\n",
    "\n",
    "        elif layer.getType() == tmxlite.TmxLayerType.Image:\n",
    "            print(f\"ImagePath: \\\"{layer.getImagePath()}\\\"\")\n",
    "\n",
    "        elif layer.getType() == tmxlite.TmxLayerType.Tile:\n",
    "            tiles = layer.getTiles()\n",
    "            if tiles:\n",
    "                print(f\"TileLayer has {tiles.size()} tiles\")\n",
    "            chunks = layer.getChunks()\n",
    "            if chunks:\n",
    "                print(f\"TileLayer has {chunks.size()} chunks\")\n",
    "            tilesProperties = layer.getProperties()\n",
    "            if tilesProperties:\n",
    "                print(f\"TileLayer has {tilesProperties.size()} properties\")\n",
    "                for prop in tilesProperties:\n",
    "                    print(f\"Found property: \\\"{prop.getName()}\\\", Type: {prop.getTypeName()}\")\n",
    "\n",
    "    tilesets = map.getTilesets()\n",
    "    print(f\"Map has {tilesets.size()} tilesets\")\n",
    "    for tileset in tilesets:\n",
    "        print(f\"Found Tileset \\\"{tileset.getName()}\\\", {tileset.getFirstGID()} - {tileset.getLastGID()}\")\n"
   ]
  },
  {
   "cell_type": "code",
   "execution_count": 6,
   "id": "bccc29bc",
   "metadata": {},
   "outputs": [],
   "source": [
    "def loadTmxMap(filename : str):\n",
    "    map = tmxlite.TmxMap(filename)\n",
    "    map_rows, map_cols = map.getTileCount()\n",
    "    print(f\"Map dimensions: {map_rows} x {map_cols}\")\n",
    "    tile_width, tile_height = map.getTileSize()\n",
    "    print(f\"Tile size: {tile_width} x {tile_height}\")\n",
    "    tilesets = map.getTilesets()\n",
    "    print(f\"Map has {tilesets.size()} tilesets\")\n",
    "    for tileset in tilesets:\n",
    "        twidth, theight = tileset.getTileSize()\n",
    "        iwidth, iheight = tileset.getImageSize()\n",
    "        print(f\"- Tileset \\\"{tileset.getName()}\\\" ({tileset.getFirstGID()}-{tileset.getLastGID()}): Image=\\\"{tileset.getImagePath()}\\\" ({iwidth}x{iheight}), Tile Size={twidth}x{theight}\")\n",
    "        for tile in tileset.getTiles():\n",
    "            tidx = tile.getTerrainIndices()\n",
    "            #~ print(f\"{tile.getID()} {tile.getImagePath()} {tile.getImagePosition()} {tile.getImageSize()} {[i for i in tidx]}\")\n",
    "\n",
    "    layers = map.getLayers()\n",
    "    print(f\"Map has {layers.size()} layers\")\n",
    "    for layer in layers:\n",
    "        if layer.getType() != tmxlite.TmxLayerType.Tile:\n",
    "            continue\n",
    "        tiles = layer.getTiles()\n",
    "        print(f\"- Layer \\\"{layer.getName()}\\\" ({layer.getTypeName()}) has {tiles.size()} tiles\")\n",
    "\n",
    "        for y in range(map_rows):\n",
    "            for x in range(map_cols):\n",
    "                tile_index = x + (y * map_cols)\n",
    "                cur_gid = tiles[tile_index].getID();\n",
    "                if not cur_gid:\n",
    "                    continue\n",
    "                for tileset in tilesets:\n",
    "                    if tileset.getFirstGID() <= cur_gid and tileset.getLastGID() >= cur_gid:\n",
    "                        print(f\"  [{x}, {y}]: {cur_gid} -> Tileset \\\"{tileset.getName()}\\\" ({tileset.getFirstGID()}-{tileset.getLastGID()})\")\n"
   ]
  },
  {
   "cell_type": "code",
   "execution_count": 7,
   "id": "3fed35f1",
   "metadata": {},
   "outputs": [
    {
     "name": "stdout",
     "output_type": "stream",
     "text": [
      "Map version: (1, 5)\n",
      "Map has 0 properties\n",
      "Map has 3 layers\n",
      "Found Layer: \"Nivel 00\", Type: Group\n",
      "LayerGroup has 3 sublayers\n",
      "Found Sublayer: \"Suelo 00\", Type: Tile\n",
      "TileLayer has 1440 tiles\n",
      "TileLayer has 1 properties\n",
      "Found property: \"vpos\", Type: Int\n",
      "Found Sublayer: \"Objetos 00 A\", Type: Tile\n",
      "TileLayer has 1440 tiles\n",
      "TileLayer has 1 properties\n",
      "Found property: \"vpos\", Type: Int\n",
      "Found Sublayer: \"Objetos 00 B\", Type: Tile\n",
      "TileLayer has 1440 tiles\n",
      "TileLayer has 1 properties\n",
      "Found property: \"vpos\", Type: Int\n",
      "Found Layer: \"Nivel 01\", Type: Group\n",
      "LayerGroup has 2 sublayers\n",
      "Found Sublayer: \"Suelo01\", Type: Tile\n",
      "TileLayer has 1440 tiles\n",
      "TileLayer has 1 properties\n",
      "Found property: \"vpos\", Type: Int\n",
      "Found Sublayer: \"Objetos 01 A\", Type: Tile\n",
      "TileLayer has 1440 tiles\n",
      "TileLayer has 1 properties\n",
      "Found property: \"vpos\", Type: Int\n",
      "Found Layer: \"Nivel 02\", Type: Group\n",
      "LayerGroup has 2 sublayers\n",
      "Found Sublayer: \"Suelo02\", Type: Tile\n",
      "TileLayer has 1440 tiles\n",
      "TileLayer has 1 properties\n",
      "Found property: \"vpos\", Type: Int\n",
      "Found Sublayer: \"Objetos 02 A\", Type: Tile\n",
      "TileLayer has 1440 tiles\n",
      "TileLayer has 1 properties\n",
      "Found property: \"vpos\", Type: Int\n",
      "Map has 1 tilesets\n",
      "Found Tileset \"rainbow-tiles\", 1 - 1230\n"
     ]
    }
   ],
   "source": [
    "printTmxMapInfo(\"tmx-tests/rainbow_map.tmx\")\n"
   ]
  },
  {
   "cell_type": "code",
   "execution_count": 8,
   "id": "f4b9e64f",
   "metadata": {},
   "outputs": [
    {
     "name": "stdout",
     "output_type": "stream",
     "text": [
      "Map dimensions: 32 x 45\n",
      "Tile size: 32 x 23\n",
      "Map has 1 tilesets\n",
      "- Tileset \"rainbow-tiles\" (1-1230): Image=\"tmx-tests/rainbow-tiles.png\" (960x943), Tile Size=32x23\n",
      "Map has 3 layers\n"
     ]
    }
   ],
   "source": [
    "loadTmxMap(\"tmx-tests/rainbow_map.tmx\")"
   ]
  },
  {
   "cell_type": "code",
   "execution_count": null,
   "id": "3e996cdd",
   "metadata": {},
   "outputs": [],
   "source": []
  }
 ],
 "metadata": {
  "kernelspec": {
   "display_name": "Python 3 (ipykernel)",
   "language": "python",
   "name": "python3"
  },
  "language_info": {
   "codemirror_mode": {
    "name": "ipython",
    "version": 3
   },
   "file_extension": ".py",
   "mimetype": "text/x-python",
   "name": "python",
   "nbconvert_exporter": "python",
   "pygments_lexer": "ipython3",
   "version": "3.9.7"
  }
 },
 "nbformat": 4,
 "nbformat_minor": 5
}
