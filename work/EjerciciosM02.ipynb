{
 "cells": [
  {
   "cell_type": "code",
   "execution_count": 1,
   "id": "2b890676",
   "metadata": {},
   "outputs": [],
   "source": [
    "from numpy import *\n",
    "import matplotlib.pyplot as plt\n",
    "from mpl_toolkits.mplot3d import Axes3D\n",
    "from matplotlib import cm\n",
    "from pprint import pprint"
   ]
  },
  {
   "cell_type": "markdown",
   "id": "b08ce89f",
   "metadata": {},
   "source": [
    "Ejercicio 7.10.5. Diseñe una función media(a, axis) que haga lo mismo que la función mean\n",
    "utilizando la definición de media: a_m = suma(a[j]) / n\n",
    "\n",
    "Haga que axis tenga un valor por defecto None y tenga presente que también puede tomar valores\n",
    "positivos y negativos. Compare ambas funciones para comprobar que dan los mismos resultados con\n",
    "arrays de prueba de varias dimensiones."
   ]
  },
  {
   "cell_type": "code",
   "execution_count": 115,
   "id": "6d109d9e",
   "metadata": {},
   "outputs": [
    {
     "name": "stdout",
     "output_type": "stream",
     "text": [
      "array([[[27, 71],\n",
      "        [14, 45],\n",
      "        [15, 80],\n",
      "        [92, 67]],\n",
      "\n",
      "       [[81, 14],\n",
      "        [22, 60],\n",
      "        [72, 33],\n",
      "        [38, 37]],\n",
      "\n",
      "       [[33, 38],\n",
      "        [66, 64],\n",
      "        [ 8, 66],\n",
      "        [88, 54]]])\n",
      "(3, 4, 2)\n",
      "array([[141, 123],\n",
      "       [102, 169],\n",
      "       [ 95, 179],\n",
      "       [218, 158]])\n",
      "(4, 2)\n",
      "3.0\n",
      "array([[47.        , 41.        ],\n",
      "       [34.        , 56.33333333],\n",
      "       [31.66666667, 59.66666667],\n",
      "       [72.66666667, 52.66666667]])\n",
      "array([[47.        , 41.        ],\n",
      "       [34.        , 56.33333333],\n",
      "       [31.66666667, 59.66666667],\n",
      "       [72.66666667, 52.66666667]])\n"
     ]
    }
   ],
   "source": [
    "a = random.randint(0, 100, size=(3, 4, 2))\n",
    "\n",
    "pprint(a)\n",
    "pprint(a.shape)\n",
    "s = sum(a, axis=0)\n",
    "pprint(s)\n",
    "pprint(s.shape)\n",
    "n = prod(a.shape) / prod(s.shape)\n",
    "pprint(n)\n",
    "pprint(mean(a, axis=0))\n",
    "pprint(sum(a, axis=0) / n)\n"
   ]
  },
  {
   "cell_type": "code",
   "execution_count": 3,
   "id": "cb5862e4",
   "metadata": {},
   "outputs": [],
   "source": [
    "def media(a, axis=None):\n",
    "    s = sum(a, axis=axis)\n",
    "    n = prod(a.shape) / prod(s.shape)\n",
    "    return s / n\n"
   ]
  },
  {
   "cell_type": "code",
   "execution_count": 20,
   "id": "27ca7aa3",
   "metadata": {},
   "outputs": [
    {
     "name": "stdout",
     "output_type": "stream",
     "text": [
      "47.1\n",
      "47.1\n"
     ]
    }
   ],
   "source": [
    "a = random.randint(0, 100, size=(10,))\n",
    "pprint(media(a))\n",
    "pprint(mean(a))\n"
   ]
  },
  {
   "cell_type": "code",
   "execution_count": 21,
   "id": "8440b3e6",
   "metadata": {},
   "outputs": [
    {
     "name": "stdout",
     "output_type": "stream",
     "text": [
      "47.416666666666664\n",
      "47.416666666666664\n"
     ]
    }
   ],
   "source": [
    "a = random.randint(0, 100, size=(3, 4))\n",
    "pprint(media(a))\n",
    "pprint(mean(a))"
   ]
  },
  {
   "cell_type": "code",
   "execution_count": 22,
   "id": "5a87f984",
   "metadata": {},
   "outputs": [
    {
     "name": "stdout",
     "output_type": "stream",
     "text": [
      "array([48.66666667, 62.33333333, 58.66666667, 20.        ])\n",
      "array([48.66666667, 62.33333333, 58.66666667, 20.        ])\n"
     ]
    }
   ],
   "source": [
    "pprint(media(a, axis=0))\n",
    "pprint(mean(a, axis=0))"
   ]
  },
  {
   "cell_type": "code",
   "execution_count": 23,
   "id": "381ee0ae",
   "metadata": {},
   "outputs": [
    {
     "name": "stdout",
     "output_type": "stream",
     "text": [
      "array([65.25, 41.25, 35.75])\n",
      "array([65.25, 41.25, 35.75])\n"
     ]
    }
   ],
   "source": [
    "pprint(media(a, axis=1))\n",
    "pprint(mean(a, axis=1))"
   ]
  },
  {
   "cell_type": "code",
   "execution_count": 24,
   "id": "7006bdca",
   "metadata": {},
   "outputs": [
    {
     "name": "stdout",
     "output_type": "stream",
     "text": [
      "48.416666666666664\n",
      "48.416666666666664\n"
     ]
    }
   ],
   "source": [
    "a = random.randint(0, 100, size=(3, 4, 2))\n",
    "pprint(media(a))\n",
    "pprint(mean(a))"
   ]
  },
  {
   "cell_type": "code",
   "execution_count": 26,
   "id": "c625ed24",
   "metadata": {},
   "outputs": [
    {
     "name": "stdout",
     "output_type": "stream",
     "text": [
      "array([45.25, 45.25, 54.75])\n",
      "array([45.25, 45.25, 54.75])\n"
     ]
    }
   ],
   "source": [
    "pprint(media(a, axis=(-1, -2)))\n",
    "pprint(mean(a, axis=(-1, -2)))"
   ]
  },
  {
   "cell_type": "code",
   "execution_count": null,
   "id": "3fc917e3",
   "metadata": {},
   "outputs": [],
   "source": []
  },
  {
   "cell_type": "code",
   "execution_count": null,
   "id": "879ae106",
   "metadata": {},
   "outputs": [],
   "source": []
  },
  {
   "cell_type": "code",
   "execution_count": 11,
   "id": "22dccc1d",
   "metadata": {},
   "outputs": [
    {
     "name": "stdout",
     "output_type": "stream",
     "text": [
      "()\n",
      "1\n",
      "24\n",
      "24\n"
     ]
    }
   ],
   "source": [
    "axis = None\n",
    "pprint(sum(a, axis=axis).shape)\n",
    "pprint(int(prod(sum(a, axis=axis).shape)))\n",
    "pprint(int(prod(a.shape)/prod(sum(a, axis=axis).shape)))\n",
    "pprint(int(prod(a.shape)))"
   ]
  },
  {
   "cell_type": "code",
   "execution_count": 12,
   "id": "dbe865e4",
   "metadata": {},
   "outputs": [
    {
     "name": "stdout",
     "output_type": "stream",
     "text": [
      "(4, 2)\n",
      "8\n",
      "3\n",
      "24\n"
     ]
    }
   ],
   "source": [
    "axis = 0\n",
    "pprint(sum(a, axis=axis).shape)\n",
    "pprint(int(prod(sum(a, axis=axis).shape)))\n",
    "pprint(int(prod(a.shape)/prod(sum(a, axis=axis).shape)))\n",
    "pprint(int(prod(a.shape)))"
   ]
  },
  {
   "cell_type": "code",
   "execution_count": 13,
   "id": "260304cf",
   "metadata": {},
   "outputs": [
    {
     "name": "stdout",
     "output_type": "stream",
     "text": [
      "(2,)\n",
      "2\n",
      "12\n",
      "24\n"
     ]
    }
   ],
   "source": [
    "axis = (0,1)\n",
    "pprint(sum(a, axis=axis).shape)\n",
    "pprint(int(prod(sum(a, axis=axis).shape)))\n",
    "pprint(int(prod(a.shape)/prod(sum(a, axis=axis).shape)))\n",
    "pprint(int(prod(a.shape)))"
   ]
  },
  {
   "cell_type": "code",
   "execution_count": 14,
   "id": "c8be67ed",
   "metadata": {},
   "outputs": [
    {
     "name": "stdout",
     "output_type": "stream",
     "text": [
      "(3, 4, 2)\n",
      "(3, 4)\n"
     ]
    }
   ],
   "source": [
    "pprint(a.shape)\n",
    "pprint(sum(a, axis=2).shape)"
   ]
  },
  {
   "cell_type": "code",
   "execution_count": 15,
   "id": "f55b363c",
   "metadata": {},
   "outputs": [
    {
     "data": {
      "text/plain": [
       "array([[43. , 72.5, 54. , 94. ],\n",
       "       [22.5, 66.5, 64.5, 31.5],\n",
       "       [29. , 39. , 57.5, 27. ]])"
      ]
     },
     "execution_count": 15,
     "metadata": {},
     "output_type": "execute_result"
    }
   ],
   "source": [
    "mean(a, axis=2)"
   ]
  },
  {
   "cell_type": "code",
   "execution_count": null,
   "id": "f93eb795",
   "metadata": {},
   "outputs": [],
   "source": []
  },
  {
   "cell_type": "code",
   "execution_count": 62,
   "id": "751b78ea",
   "metadata": {},
   "outputs": [
    {
     "name": "stdout",
     "output_type": "stream",
     "text": [
      "(2,)\n"
     ]
    }
   ],
   "source": [
    "x = array([1, 2])\n",
    "pprint(x.shape)"
   ]
  },
  {
   "cell_type": "code",
   "execution_count": 63,
   "id": "bfc69ed9",
   "metadata": {},
   "outputs": [
    {
     "data": {
      "text/plain": [
       "(1, 2)"
      ]
     },
     "execution_count": 63,
     "metadata": {},
     "output_type": "execute_result"
    }
   ],
   "source": [
    "expand_dims(x, axis=0).shape"
   ]
  },
  {
   "cell_type": "code",
   "execution_count": 46,
   "id": "72150045",
   "metadata": {},
   "outputs": [
    {
     "data": {
      "text/plain": [
       "array([[1, 2]])"
      ]
     },
     "execution_count": 46,
     "metadata": {},
     "output_type": "execute_result"
    }
   ],
   "source": [
    "x.reshape(1, -1)"
   ]
  },
  {
   "cell_type": "code",
   "execution_count": 59,
   "id": "c98cd24c",
   "metadata": {},
   "outputs": [
    {
     "name": "stdout",
     "output_type": "stream",
     "text": [
      "(2,)\n"
     ]
    },
    {
     "data": {
      "text/plain": [
       "(2, 1)"
      ]
     },
     "execution_count": 59,
     "metadata": {},
     "output_type": "execute_result"
    }
   ],
   "source": [
    "x = array([1, 2])\n",
    "pprint(x.shape)\n",
    "expand_dims(x, axis=1).shape"
   ]
  },
  {
   "cell_type": "code",
   "execution_count": 49,
   "id": "f94d0fc6",
   "metadata": {},
   "outputs": [
    {
     "data": {
      "text/plain": [
       "array([[1],\n",
       "       [2]])"
      ]
     },
     "execution_count": 49,
     "metadata": {},
     "output_type": "execute_result"
    }
   ],
   "source": [
    "x.reshape(-1, 1)"
   ]
  },
  {
   "cell_type": "code",
   "execution_count": 52,
   "id": "497ca036",
   "metadata": {},
   "outputs": [
    {
     "name": "stdout",
     "output_type": "stream",
     "text": [
      "array([1, 2])\n"
     ]
    },
    {
     "data": {
      "text/plain": [
       "array([[[1]],\n",
       "\n",
       "       [[2]]])"
      ]
     },
     "execution_count": 52,
     "metadata": {},
     "output_type": "execute_result"
    }
   ],
   "source": [
    "x = array([1, 2])\n",
    "pprint(x)\n",
    "expand_dims(x, axis=(1,2))"
   ]
  },
  {
   "cell_type": "code",
   "execution_count": 57,
   "id": "d2e5152f",
   "metadata": {},
   "outputs": [
    {
     "data": {
      "text/plain": [
       "(1, 1, 2, 1)"
      ]
     },
     "execution_count": 57,
     "metadata": {},
     "output_type": "execute_result"
    }
   ],
   "source": [
    "expand_dims(x, axis=(0,1,3)).shape"
   ]
  },
  {
   "cell_type": "code",
   "execution_count": 114,
   "id": "9dd9613e",
   "metadata": {},
   "outputs": [
    {
     "data": {
      "text/plain": [
       "(1, 1, 2, 1)"
      ]
     },
     "execution_count": 114,
     "metadata": {},
     "output_type": "execute_result"
    }
   ],
   "source": [
    "expand_dims(x, axis=(0,1,3)).shape"
   ]
  },
  {
   "cell_type": "code",
   "execution_count": null,
   "id": "b7d29fb5",
   "metadata": {},
   "outputs": [],
   "source": []
  },
  {
   "cell_type": "code",
   "execution_count": null,
   "id": "d59cda7a",
   "metadata": {},
   "outputs": [],
   "source": []
  },
  {
   "cell_type": "markdown",
   "id": "beee05bc",
   "metadata": {},
   "source": [
    "Ejercicio 7.10.6. Diseñe una función desvtip(a, axis) que haga lo mismo que la función std\n",
    "utilizando la definición de desviación típica (o estándar):\n",
    "\n",
    "desv_tip = sqrt( sum( ( a[j] - a_media)**2 ) / n )\n",
    "\n",
    "Haga que axis tenga un valor por defecto None y tenga presente que también puede tomar valores\n",
    "positivos y negativos. Es recomendable el uso de expand_dims para facilitar el cálculo. Compare\n",
    "ambas funciones para comprobar que dan los mismos resultados con arrays de prueba de varias\n",
    "dimensiones."
   ]
  },
  {
   "cell_type": "code",
   "execution_count": 98,
   "id": "d3227fca",
   "metadata": {},
   "outputs": [],
   "source": [
    "def desvtip(a, axis=None):\n",
    "    s = sum(a, axis=axis)\n",
    "    n = prod(a.shape) / prod(s.shape)\n",
    "    media = s / n\n",
    "    if axis is not None:\n",
    "        media = expand_dims(media, axis=axis)\n",
    "    return sqrt( sum( (a - media )**2 , axis=axis) / n )\n"
   ]
  },
  {
   "cell_type": "code",
   "execution_count": 99,
   "id": "e4cddf37",
   "metadata": {},
   "outputs": [
    {
     "name": "stdout",
     "output_type": "stream",
     "text": [
      "24.859605789312106\n",
      "24.859605789312106\n"
     ]
    }
   ],
   "source": [
    "a = random.randint(0, 100, size=(10,))\n",
    "pprint(desvtip(a))\n",
    "pprint(std(a))\n"
   ]
  },
  {
   "cell_type": "code",
   "execution_count": 100,
   "id": "1b3b6c23",
   "metadata": {},
   "outputs": [
    {
     "name": "stdout",
     "output_type": "stream",
     "text": [
      "22.545632737972905\n",
      "22.545632737972905\n"
     ]
    }
   ],
   "source": [
    "a = random.randint(0, 100, size=(3, 4))\n",
    "pprint(desvtip(a))\n",
    "pprint(std(a))"
   ]
  },
  {
   "cell_type": "code",
   "execution_count": 101,
   "id": "572584be",
   "metadata": {},
   "outputs": [
    {
     "name": "stdout",
     "output_type": "stream",
     "text": [
      "array([10.96458947, 29.16999981, 18.83259586, 10.23067284])\n",
      "array([10.96458947, 29.16999981, 18.83259586, 10.23067284])\n"
     ]
    }
   ],
   "source": [
    "pprint(desvtip(a, axis=0))\n",
    "pprint(std(a, axis=0))"
   ]
  },
  {
   "cell_type": "code",
   "execution_count": 102,
   "id": "00ad6556",
   "metadata": {},
   "outputs": [
    {
     "name": "stdout",
     "output_type": "stream",
     "text": [
      "array([26.96757312, 11.12148821, 24.55987581])\n",
      "array([26.96757312, 11.12148821, 24.55987581])\n"
     ]
    }
   ],
   "source": [
    "pprint(desvtip(a, axis=1))\n",
    "pprint(std(a, axis=1))"
   ]
  },
  {
   "cell_type": "code",
   "execution_count": null,
   "id": "00394d75",
   "metadata": {},
   "outputs": [],
   "source": []
  },
  {
   "cell_type": "code",
   "execution_count": 116,
   "id": "15a13edc",
   "metadata": {},
   "outputs": [],
   "source": [
    "a = random.randint(0, 100, size=(3, 4))"
   ]
  },
  {
   "cell_type": "code",
   "execution_count": 117,
   "id": "1833f978",
   "metadata": {},
   "outputs": [
    {
     "name": "stdout",
     "output_type": "stream",
     "text": [
      "[[76 84 32 90]\n",
      " [71 27 45 67]\n",
      " [ 3 73 34 78]]\n",
      "(3, 4)\n"
     ]
    }
   ],
   "source": [
    "print(a)\n",
    "print(a.shape)"
   ]
  },
  {
   "cell_type": "code",
   "execution_count": 118,
   "id": "069f4df0",
   "metadata": {},
   "outputs": [
    {
     "name": "stdout",
     "output_type": "stream",
     "text": [
      "[150 184 111 235]\n",
      "(4,)\n"
     ]
    }
   ],
   "source": [
    "axis=0\n",
    "s = sum(a, axis=axis)\n",
    "print(s)\n",
    "print(s.shape)"
   ]
  },
  {
   "cell_type": "code",
   "execution_count": 121,
   "id": "af97558e",
   "metadata": {},
   "outputs": [
    {
     "name": "stdout",
     "output_type": "stream",
     "text": [
      "(3, 4)\n",
      "(4,)\n",
      "3.0\n"
     ]
    }
   ],
   "source": [
    "pprint(a.shape)\n",
    "pprint(s.shape)\n",
    "\n",
    "n = prod(a.shape) / prod(s.shape)\n",
    "pprint(n)"
   ]
  },
  {
   "cell_type": "code",
   "execution_count": 123,
   "id": "45808f45",
   "metadata": {},
   "outputs": [
    {
     "name": "stdout",
     "output_type": "stream",
     "text": [
      "array([50.        , 61.33333333, 37.        , 78.33333333])\n",
      "(4,)\n"
     ]
    }
   ],
   "source": [
    "media = s / n\n",
    "pprint(media)\n",
    "pprint(media.shape)"
   ]
  },
  {
   "cell_type": "code",
   "execution_count": 126,
   "id": "add3bd7b",
   "metadata": {},
   "outputs": [
    {
     "name": "stdout",
     "output_type": "stream",
     "text": [
      "(3, 4)\n",
      "(4,)\n",
      "0\n",
      "(1, 4)\n"
     ]
    }
   ],
   "source": [
    "pprint(a.shape)\n",
    "pprint(media.shape)\n",
    "pprint(axis)\n",
    "pprint(expand_dims(media, axis=axis).shape)"
   ]
  },
  {
   "cell_type": "code",
   "execution_count": 127,
   "id": "a54e5726",
   "metadata": {},
   "outputs": [
    {
     "name": "stdout",
     "output_type": "stream",
     "text": [
      "(1, 4)\n"
     ]
    }
   ],
   "source": [
    "if axis is not None:\n",
    "    media = expand_dims(media, axis=axis)\n",
    "pprint(media.shape)"
   ]
  },
  {
   "cell_type": "code",
   "execution_count": 131,
   "id": "d88e584b",
   "metadata": {},
   "outputs": [
    {
     "name": "stdout",
     "output_type": "stream",
     "text": [
      "array([[76, 84, 32, 90],\n",
      "       [71, 27, 45, 67],\n",
      "       [ 3, 73, 34, 78]])\n",
      "array([[50.        , 61.33333333, 37.        , 78.33333333]])\n",
      "array([[ 26.        ,  22.66666667,  -5.        ,  11.66666667],\n",
      "       [ 21.        , -34.33333333,   8.        , -11.33333333],\n",
      "       [-47.        ,  11.66666667,  -3.        ,  -0.33333333]])\n"
     ]
    },
    {
     "data": {
      "text/plain": [
       "array([[6.76000000e+02, 5.13777778e+02, 2.50000000e+01, 1.36111111e+02],\n",
       "       [4.41000000e+02, 1.17877778e+03, 6.40000000e+01, 1.28444444e+02],\n",
       "       [2.20900000e+03, 1.36111111e+02, 9.00000000e+00, 1.11111111e-01]])"
      ]
     },
     "execution_count": 131,
     "metadata": {},
     "output_type": "execute_result"
    }
   ],
   "source": [
    "pprint(a)\n",
    "pprint(media)\n",
    "pprint(a - media)\n",
    "\n",
    "(a - media)**2"
   ]
  },
  {
   "cell_type": "code",
   "execution_count": 134,
   "id": "aca4cb95",
   "metadata": {},
   "outputs": [
    {
     "data": {
      "text/plain": [
       "array([1108.66666667,  609.55555556,   32.66666667,   88.22222222])"
      ]
     },
     "execution_count": 134,
     "metadata": {},
     "output_type": "execute_result"
    }
   ],
   "source": [
    "sum( (a - media )**2 , axis=axis) / n"
   ]
  },
  {
   "cell_type": "code",
   "execution_count": 135,
   "id": "90452494",
   "metadata": {},
   "outputs": [
    {
     "data": {
      "text/plain": [
       "array([33.29664648, 24.68917892,  5.71547607,  9.39266854])"
      ]
     },
     "execution_count": 135,
     "metadata": {},
     "output_type": "execute_result"
    }
   ],
   "source": [
    "sqrt( sum( (a - media )**2 , axis=axis) / n )"
   ]
  },
  {
   "cell_type": "code",
   "execution_count": null,
   "id": "b83b9ce2",
   "metadata": {},
   "outputs": [],
   "source": []
  },
  {
   "cell_type": "code",
   "execution_count": null,
   "id": "8e48d5e2",
   "metadata": {},
   "outputs": [],
   "source": []
  },
  {
   "cell_type": "code",
   "execution_count": 136,
   "id": "6c8785d0",
   "metadata": {},
   "outputs": [
    {
     "name": "stdout",
     "output_type": "stream",
     "text": [
      "[[76 84 32 90]\n",
      " [71 27 45 67]\n",
      " [ 3 73 34 78]]\n",
      "(3, 4)\n"
     ]
    }
   ],
   "source": [
    "print(a)\n",
    "print(a.shape)"
   ]
  },
  {
   "cell_type": "code",
   "execution_count": 137,
   "id": "31f15215",
   "metadata": {},
   "outputs": [
    {
     "name": "stdout",
     "output_type": "stream",
     "text": [
      "[282 210 188]\n",
      "(3,)\n"
     ]
    }
   ],
   "source": [
    "axis=1\n",
    "s = sum(a, axis=axis)\n",
    "print(s)\n",
    "print(s.shape)"
   ]
  },
  {
   "cell_type": "code",
   "execution_count": 139,
   "id": "d4d8586f",
   "metadata": {},
   "outputs": [
    {
     "name": "stdout",
     "output_type": "stream",
     "text": [
      "(3, 4)\n",
      "(3,)\n",
      "4.0\n"
     ]
    }
   ],
   "source": [
    "pprint(a.shape)\n",
    "pprint(s.shape)\n",
    "\n",
    "n = prod(a.shape) / prod(s.shape)\n",
    "pprint(n)"
   ]
  },
  {
   "cell_type": "code",
   "execution_count": 140,
   "id": "85520f35",
   "metadata": {},
   "outputs": [
    {
     "name": "stdout",
     "output_type": "stream",
     "text": [
      "array([70.5, 52.5, 47. ])\n",
      "(3,)\n"
     ]
    }
   ],
   "source": [
    "media = s / n\n",
    "pprint(media)\n",
    "pprint(media.shape)"
   ]
  },
  {
   "cell_type": "code",
   "execution_count": 141,
   "id": "89dba169",
   "metadata": {},
   "outputs": [
    {
     "name": "stdout",
     "output_type": "stream",
     "text": [
      "(3, 4)\n",
      "(3,)\n",
      "1\n",
      "(3, 1)\n"
     ]
    }
   ],
   "source": [
    "pprint(a.shape)\n",
    "pprint(media.shape)\n",
    "pprint(axis)\n",
    "pprint(expand_dims(media, axis=axis).shape)"
   ]
  },
  {
   "cell_type": "code",
   "execution_count": 142,
   "id": "8877e59b",
   "metadata": {},
   "outputs": [
    {
     "name": "stdout",
     "output_type": "stream",
     "text": [
      "(3, 1)\n"
     ]
    }
   ],
   "source": [
    "if axis is not None:\n",
    "    media = expand_dims(media, axis=axis)\n",
    "pprint(media.shape)"
   ]
  },
  {
   "cell_type": "code",
   "execution_count": 143,
   "id": "812239b1",
   "metadata": {},
   "outputs": [
    {
     "name": "stdout",
     "output_type": "stream",
     "text": [
      "array([[76, 84, 32, 90],\n",
      "       [71, 27, 45, 67],\n",
      "       [ 3, 73, 34, 78]])\n",
      "array([[70.5],\n",
      "       [52.5],\n",
      "       [47. ]])\n",
      "array([[  5.5,  13.5, -38.5,  19.5],\n",
      "       [ 18.5, -25.5,  -7.5,  14.5],\n",
      "       [-44. ,  26. , -13. ,  31. ]])\n"
     ]
    },
    {
     "data": {
      "text/plain": [
       "array([[  30.25,  182.25, 1482.25,  380.25],\n",
       "       [ 342.25,  650.25,   56.25,  210.25],\n",
       "       [1936.  ,  676.  ,  169.  ,  961.  ]])"
      ]
     },
     "execution_count": 143,
     "metadata": {},
     "output_type": "execute_result"
    }
   ],
   "source": [
    "pprint(a)\n",
    "pprint(media)\n",
    "pprint(a - media)\n",
    "\n",
    "(a - media)**2"
   ]
  },
  {
   "cell_type": "code",
   "execution_count": 144,
   "id": "f4f6a3e4",
   "metadata": {},
   "outputs": [
    {
     "data": {
      "text/plain": [
       "array([518.75, 314.75, 935.5 ])"
      ]
     },
     "execution_count": 144,
     "metadata": {},
     "output_type": "execute_result"
    }
   ],
   "source": [
    "sum( (a - media )**2 , axis=axis) / n"
   ]
  },
  {
   "cell_type": "code",
   "execution_count": 145,
   "id": "15f1fa77",
   "metadata": {},
   "outputs": [
    {
     "data": {
      "text/plain": [
       "array([22.77608395, 17.741195  , 30.58594448])"
      ]
     },
     "execution_count": 145,
     "metadata": {},
     "output_type": "execute_result"
    }
   ],
   "source": [
    "sqrt( sum( (a - media )**2 , axis=axis) / n )"
   ]
  },
  {
   "cell_type": "code",
   "execution_count": null,
   "id": "39287d7e",
   "metadata": {},
   "outputs": [],
   "source": []
  },
  {
   "cell_type": "code",
   "execution_count": 146,
   "id": "9b1ea8a6",
   "metadata": {},
   "outputs": [
    {
     "name": "stdout",
     "output_type": "stream",
     "text": [
      "29.484787744417176\n",
      "29.484787744417176\n"
     ]
    }
   ],
   "source": [
    "a = random.randint(0, 100, size=(3, 4, 5, 6))\n",
    "pprint(desvtip(a))\n",
    "pprint(std(a))"
   ]
  },
  {
   "cell_type": "code",
   "execution_count": 147,
   "id": "9e0ac654",
   "metadata": {},
   "outputs": [
    {
     "name": "stdout",
     "output_type": "stream",
     "text": [
      "array([29.88488911, 29.35344836, 29.08348973])\n",
      "array([29.88488911, 29.35344836, 29.08348973])\n"
     ]
    }
   ],
   "source": [
    "pprint(desvtip(a, axis=(1,2,3)))\n",
    "pprint(std(a, axis=(1,2,3)))"
   ]
  },
  {
   "cell_type": "code",
   "execution_count": 149,
   "id": "112f071b",
   "metadata": {},
   "outputs": [
    {
     "name": "stdout",
     "output_type": "stream",
     "text": [
      "array([28.79201707, 28.61731324, 29.13429103, 30.49045388])\n",
      "array([28.79201707, 28.61731324, 29.13429103, 30.49045388])\n"
     ]
    }
   ],
   "source": [
    "pprint(desvtip(a, axis=(0, -1, -2)))\n",
    "pprint(std(a, axis=(0, -1, -2)))"
   ]
  },
  {
   "cell_type": "code",
   "execution_count": 150,
   "id": "27c1d22c",
   "metadata": {},
   "outputs": [
    {
     "name": "stdout",
     "output_type": "stream",
     "text": [
      "array([[30.36033597, 29.11679069, 29.79916106, 27.87628921, 30.13984074,\n",
      "        30.38959526],\n",
      "       [28.01231872, 26.6117925 , 29.87118176, 33.88746081, 29.61097769,\n",
      "        24.27606846],\n",
      "       [29.53116997, 29.12365877, 25.5450093 , 25.41771036, 30.239833  ,\n",
      "        29.79865769]])\n",
      "array([[30.36033597, 29.11679069, 29.79916106, 27.87628921, 30.13984074,\n",
      "        30.38959526],\n",
      "       [28.01231872, 26.6117925 , 29.87118176, 33.88746081, 29.61097769,\n",
      "        24.27606846],\n",
      "       [29.53116997, 29.12365877, 25.5450093 , 25.41771036, 30.239833  ,\n",
      "        29.79865769]])\n"
     ]
    }
   ],
   "source": [
    "pprint(desvtip(a, axis=(1, 2)))\n",
    "pprint(std(a, axis=(1, 2)))"
   ]
  },
  {
   "cell_type": "code",
   "execution_count": null,
   "id": "0c4492d7",
   "metadata": {},
   "outputs": [],
   "source": []
  }
 ],
 "metadata": {
  "kernelspec": {
   "display_name": "Python 3 (ipykernel)",
   "language": "python",
   "name": "python3"
  },
  "language_info": {
   "codemirror_mode": {
    "name": "ipython",
    "version": 3
   },
   "file_extension": ".py",
   "mimetype": "text/x-python",
   "name": "python",
   "nbconvert_exporter": "python",
   "pygments_lexer": "ipython3",
   "version": "3.11.8"
  }
 },
 "nbformat": 4,
 "nbformat_minor": 5
}
