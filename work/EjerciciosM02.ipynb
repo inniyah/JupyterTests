{
 "cells": [
  {
   "cell_type": "code",
   "execution_count": 1,
   "id": "2b890676",
   "metadata": {},
   "outputs": [],
   "source": [
    "from numpy import *\n",
    "import matplotlib.pyplot as plt\n",
    "from mpl_toolkits.mplot3d import Axes3D\n",
    "from matplotlib import cm\n",
    "from pprint import pprint"
   ]
  },
  {
   "cell_type": "markdown",
   "id": "b08ce89f",
   "metadata": {},
   "source": [
    "Ejercicio 7.10.5. Diseñe una función media(a, axis) que haga lo mismo que la función mean\n",
    "utilizando la definición de media: a_m = suma(a[j]) / n\n",
    "\n",
    "Haga que axis tenga un valor por defecto None y tenga presente que también puede tomar valores\n",
    "positivos y negativos. Compare ambas funciones para comprobar que dan los mismos resultados con\n",
    "arrays de prueba de varias dimensiones."
   ]
  },
  {
   "cell_type": "code",
   "execution_count": 2,
   "id": "6d109d9e",
   "metadata": {},
   "outputs": [
    {
     "name": "stdout",
     "output_type": "stream",
     "text": [
      "(3, 4, 2)\n",
      "array([[ 72, 163],\n",
      "       [157, 107],\n",
      "       [126, 128],\n",
      "       [183, 209]])\n",
      "(4, 2)\n",
      "3.0\n",
      "array([[24.        , 54.33333333],\n",
      "       [52.33333333, 35.66666667],\n",
      "       [42.        , 42.66666667],\n",
      "       [61.        , 69.66666667]])\n",
      "array([[24.        , 54.33333333],\n",
      "       [52.33333333, 35.66666667],\n",
      "       [42.        , 42.66666667],\n",
      "       [61.        , 69.66666667]])\n"
     ]
    }
   ],
   "source": [
    "a = random.randint(0, 100, size=(3, 4, 2))\n",
    "\n",
    "pprint(a.shape)\n",
    "s = sum(a, axis=0)\n",
    "pprint(s)\n",
    "pprint(s.shape)\n",
    "n = prod(a.shape) / prod(s.shape)\n",
    "pprint(n)\n",
    "pprint(mean(a, axis=0))\n",
    "pprint(sum(a, axis=0) / n)\n"
   ]
  },
  {
   "cell_type": "code",
   "execution_count": 3,
   "id": "cb5862e4",
   "metadata": {},
   "outputs": [],
   "source": [
    "def media(a, axis=None):\n",
    "    s = sum(a, axis=axis)\n",
    "    n = prod(a.shape) / prod(s.shape)\n",
    "    return s / n\n"
   ]
  },
  {
   "cell_type": "code",
   "execution_count": null,
   "id": "27ca7aa3",
   "metadata": {},
   "outputs": [],
   "source": []
  },
  {
   "cell_type": "code",
   "execution_count": null,
   "id": "8440b3e6",
   "metadata": {},
   "outputs": [],
   "source": []
  },
  {
   "cell_type": "code",
   "execution_count": null,
   "id": "5a87f984",
   "metadata": {},
   "outputs": [],
   "source": []
  },
  {
   "cell_type": "code",
   "execution_count": null,
   "id": "381ee0ae",
   "metadata": {},
   "outputs": [],
   "source": []
  },
  {
   "cell_type": "code",
   "execution_count": null,
   "id": "7006bdca",
   "metadata": {},
   "outputs": [],
   "source": []
  },
  {
   "cell_type": "code",
   "execution_count": 4,
   "id": "286de101",
   "metadata": {},
   "outputs": [
    {
     "name": "stdout",
     "output_type": "stream",
     "text": [
      "array([[44.66666667, 18.33333333],\n",
      "       [67.33333333, 51.33333333],\n",
      "       [65.33333333, 52.        ],\n",
      "       [47.66666667, 54.        ]])\n",
      "(3, 4, 2)\n",
      "array([[[81,  5],\n",
      "        [67, 78],\n",
      "        [78, 30],\n",
      "        [94, 94]],\n",
      "\n",
      "       [[ 2, 43],\n",
      "        [78, 55],\n",
      "        [37, 92],\n",
      "        [47, 16]],\n",
      "\n",
      "       [[51,  7],\n",
      "        [57, 21],\n",
      "        [81, 34],\n",
      "        [ 2, 52]]])\n"
     ]
    }
   ],
   "source": [
    "a = random.randint(0, 100, size=(3, 4, 2))\n",
    "pprint(media(a,0))\n",
    "pprint(a.shape)\n",
    "pprint(a)\n"
   ]
  },
  {
   "cell_type": "code",
   "execution_count": 5,
   "id": "bdf21510",
   "metadata": {},
   "outputs": [
    {
     "data": {
      "text/plain": [
       "array([[80.  , 51.75],\n",
       "       [41.  , 51.5 ],\n",
       "       [47.75, 28.5 ]])"
      ]
     },
     "execution_count": 5,
     "metadata": {},
     "output_type": "execute_result"
    }
   ],
   "source": [
    "\n",
    "mean(a, axis=-2)"
   ]
  },
  {
   "cell_type": "code",
   "execution_count": 6,
   "id": "a914b20e",
   "metadata": {},
   "outputs": [
    {
     "name": "stdout",
     "output_type": "stream",
     "text": [
      "array([[81,  5],\n",
      "       [67, 78],\n",
      "       [78, 30],\n",
      "       [94, 94]])\n"
     ]
    }
   ],
   "source": [
    "pprint(a[0])"
   ]
  },
  {
   "cell_type": "code",
   "execution_count": null,
   "id": "ccb1f094",
   "metadata": {},
   "outputs": [],
   "source": [
    "\n",
    "\n",
    "\n"
   ]
  },
  {
   "cell_type": "code",
   "execution_count": 7,
   "id": "545a3949",
   "metadata": {},
   "outputs": [
    {
     "name": "stdout",
     "output_type": "stream",
     "text": [
      "(3, 4, 2)\n"
     ]
    },
    {
     "data": {
      "text/plain": [
       "24"
      ]
     },
     "execution_count": 7,
     "metadata": {},
     "output_type": "execute_result"
    }
   ],
   "source": [
    "pprint(a.shape)\n",
    "prod(a.shape)"
   ]
  },
  {
   "cell_type": "code",
   "execution_count": 8,
   "id": "6f03a7bf",
   "metadata": {},
   "outputs": [
    {
     "name": "stdout",
     "output_type": "stream",
     "text": [
      "(4, 2)\n"
     ]
    },
    {
     "data": {
      "text/plain": [
       "8"
      ]
     },
     "execution_count": 8,
     "metadata": {},
     "output_type": "execute_result"
    }
   ],
   "source": [
    "pprint(sum(a, axis=0).shape)\n",
    "prod(sum(a, axis=0).shape)"
   ]
  },
  {
   "cell_type": "code",
   "execution_count": 9,
   "id": "1645ce28",
   "metadata": {},
   "outputs": [
    {
     "data": {
      "text/plain": [
       "array([[44.66666667, 18.33333333],\n",
       "       [67.33333333, 51.33333333],\n",
       "       [65.33333333, 52.        ],\n",
       "       [47.66666667, 54.        ]])"
      ]
     },
     "execution_count": 9,
     "metadata": {},
     "output_type": "execute_result"
    }
   ],
   "source": [
    "sum(a, axis=0) / ( prod(a.shape) / prod(sum(a, axis=0).shape) )"
   ]
  },
  {
   "cell_type": "code",
   "execution_count": 10,
   "id": "5ce2bfd0",
   "metadata": {},
   "outputs": [
    {
     "data": {
      "text/plain": [
       "array([[44.66666667, 18.33333333],\n",
       "       [67.33333333, 51.33333333],\n",
       "       [65.33333333, 52.        ],\n",
       "       [47.66666667, 54.        ]])"
      ]
     },
     "execution_count": 10,
     "metadata": {},
     "output_type": "execute_result"
    }
   ],
   "source": [
    "mean(a, axis=0)"
   ]
  },
  {
   "cell_type": "code",
   "execution_count": null,
   "id": "879ae106",
   "metadata": {},
   "outputs": [],
   "source": []
  },
  {
   "cell_type": "code",
   "execution_count": 11,
   "id": "22dccc1d",
   "metadata": {},
   "outputs": [
    {
     "name": "stdout",
     "output_type": "stream",
     "text": [
      "()\n",
      "1\n",
      "24\n",
      "24\n"
     ]
    }
   ],
   "source": [
    "axis = None\n",
    "pprint(sum(a, axis=axis).shape)\n",
    "pprint(int(prod(sum(a, axis=axis).shape)))\n",
    "pprint(int(prod(a.shape)/prod(sum(a, axis=axis).shape)))\n",
    "pprint(int(prod(a.shape)))"
   ]
  },
  {
   "cell_type": "code",
   "execution_count": 12,
   "id": "dbe865e4",
   "metadata": {},
   "outputs": [
    {
     "name": "stdout",
     "output_type": "stream",
     "text": [
      "(4, 2)\n",
      "8\n",
      "3\n",
      "24\n"
     ]
    }
   ],
   "source": [
    "axis = 0\n",
    "pprint(sum(a, axis=axis).shape)\n",
    "pprint(int(prod(sum(a, axis=axis).shape)))\n",
    "pprint(int(prod(a.shape)/prod(sum(a, axis=axis).shape)))\n",
    "pprint(int(prod(a.shape)))"
   ]
  },
  {
   "cell_type": "code",
   "execution_count": 13,
   "id": "260304cf",
   "metadata": {},
   "outputs": [
    {
     "name": "stdout",
     "output_type": "stream",
     "text": [
      "(2,)\n",
      "2\n",
      "12\n",
      "24\n"
     ]
    }
   ],
   "source": [
    "axis = (0,1)\n",
    "pprint(sum(a, axis=axis).shape)\n",
    "pprint(int(prod(sum(a, axis=axis).shape)))\n",
    "pprint(int(prod(a.shape)/prod(sum(a, axis=axis).shape)))\n",
    "pprint(int(prod(a.shape)))"
   ]
  },
  {
   "cell_type": "code",
   "execution_count": 14,
   "id": "c8be67ed",
   "metadata": {},
   "outputs": [
    {
     "name": "stdout",
     "output_type": "stream",
     "text": [
      "(3, 4, 2)\n",
      "(3, 4)\n"
     ]
    }
   ],
   "source": [
    "pprint(a.shape)\n",
    "pprint(sum(a, axis=2).shape)"
   ]
  },
  {
   "cell_type": "code",
   "execution_count": 15,
   "id": "f55b363c",
   "metadata": {},
   "outputs": [
    {
     "data": {
      "text/plain": [
       "array([[43. , 72.5, 54. , 94. ],\n",
       "       [22.5, 66.5, 64.5, 31.5],\n",
       "       [29. , 39. , 57.5, 27. ]])"
      ]
     },
     "execution_count": 15,
     "metadata": {},
     "output_type": "execute_result"
    }
   ],
   "source": [
    "mean(a, axis=2)"
   ]
  },
  {
   "cell_type": "code",
   "execution_count": null,
   "id": "f93eb795",
   "metadata": {},
   "outputs": [],
   "source": []
  },
  {
   "cell_type": "code",
   "execution_count": null,
   "id": "751b78ea",
   "metadata": {},
   "outputs": [],
   "source": []
  },
  {
   "cell_type": "code",
   "execution_count": null,
   "id": "bfc69ed9",
   "metadata": {},
   "outputs": [],
   "source": []
  },
  {
   "cell_type": "markdown",
   "id": "beee05bc",
   "metadata": {},
   "source": [
    "Ejercicio 7.10.6. Diseñe una función desvtip(a, axis) que haga lo mismo que la función std\n",
    "utilizando la definición de desviación típica (o estándar):\n",
    "\n",
    "Haga que axis tenga un valor por defecto None y tenga presente que también puede tomar valores\n",
    "positivos y negativos. Es recomendable el uso de expand_dims para facilitar el cálculo. Compare\n",
    "ambas funciones para comprobar que dan los mismos resultados con arrays de prueba de varias\n",
    "dimensiones."
   ]
  },
  {
   "cell_type": "code",
   "execution_count": 17,
   "id": "d3227fca",
   "metadata": {},
   "outputs": [],
   "source": [
    "def desvtip(a, axis): \n",
    "    return "
   ]
  },
  {
   "cell_type": "code",
   "execution_count": null,
   "id": "e4cddf37",
   "metadata": {},
   "outputs": [],
   "source": []
  },
  {
   "cell_type": "code",
   "execution_count": null,
   "id": "1b3b6c23",
   "metadata": {},
   "outputs": [],
   "source": []
  }
 ],
 "metadata": {
  "kernelspec": {
   "display_name": "Python 3 (ipykernel)",
   "language": "python",
   "name": "python3"
  },
  "language_info": {
   "codemirror_mode": {
    "name": "ipython",
    "version": 3
   },
   "file_extension": ".py",
   "mimetype": "text/x-python",
   "name": "python",
   "nbconvert_exporter": "python",
   "pygments_lexer": "ipython3",
   "version": "3.11.8"
  }
 },
 "nbformat": 4,
 "nbformat_minor": 5
}
