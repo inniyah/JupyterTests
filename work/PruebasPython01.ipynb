{
 "cells": [
  {
   "cell_type": "code",
   "execution_count": 1,
   "id": "4afb99a8",
   "metadata": {},
   "outputs": [],
   "source": [
    "from numpy import *\n",
    "import matplotlib.pyplot as plt\n"
   ]
  },
  {
   "cell_type": "code",
   "execution_count": 2,
   "id": "f967c37b",
   "metadata": {},
   "outputs": [],
   "source": [
    "def coordenadas (t,w,v0,g=9.81):\n",
    "    x=g/(w**2)*sin(w*t) - v0/w*cos(w*t) + v0/w - g/w*t\n",
    "    y=v0/w*sin(w*t) + g/(w**2)*cos(w*t) - g/(w**2)\n",
    "    return(array([x,y]))\n"
   ]
  },
  {
   "cell_type": "code",
   "execution_count": 3,
   "id": "40935890",
   "metadata": {},
   "outputs": [
    {
     "name": "stdout",
     "output_type": "stream",
     "text": [
      "part1\\t1\\t2\\n\n",
      "['part1', '1', '2']\n",
      "part2\\t-2\\t1\\n\n",
      "['part2', '-2', '1']\n",
      "\\n\n",
      "\\t\\t\\n\n",
      "part3\\t-2.4\\t1.2\\n\n",
      "['part3', '-2.4', '1.2']\n",
      "part4\\t4\\t1.2\\n\n",
      "['part4', '4', '1.2']\n",
      "part5\\t5\\t3\\n\n",
      "['part5', '5', '3']\n",
      "part6\\t6\\t3\\n\n",
      "['part6', '6', '3']\n",
      "\\n\n"
     ]
    }
   ],
   "source": [
    "f=open('datos_cargas.txt','r')\n",
    "nombres=[]\n",
    "c=[]\n",
    "m=[]\n",
    "while True:\n",
    "    linea=f.readline()\n",
    "    if not linea:\n",
    "        break\n",
    "    if linea[0] == '#':\n",
    "        continue\n",
    "    print(linea.replace(\"\\t\", \"\\\\t\").replace(\"\\n\", \"\\\\n\"))\n",
    "    basurilla=linea.split()\n",
    "    if not basurilla:\n",
    "        continue\n",
    "    print(basurilla)\n",
    "    nombre, carga, masa = basurilla\n",
    "    nombres.append(nombre)\n",
    "    c.append(float(carga))\n",
    "    m.append(float(masa))\n",
    "f.close()"
   ]
  },
  {
   "cell_type": "code",
   "execution_count": 4,
   "id": "32534810",
   "metadata": {},
   "outputs": [
    {
     "data": {
      "text/plain": [
       "array([[  0.5       ,  -2.        ,  -2.        ,   3.33333333,\n",
       "          1.66666667,   2.        ],\n",
       "       [  1.        ,  -4.        ,  -4.        ,   6.66666667,\n",
       "          3.33333333,   4.        ],\n",
       "       [  1.5       ,  -6.        ,  -6.        ,  10.        ,\n",
       "          5.        ,   6.        ],\n",
       "       [  2.        ,  -8.        ,  -8.        ,  13.33333333,\n",
       "          6.66666667,   8.        ],\n",
       "       [  2.5       , -10.        , -10.        ,  16.66666667,\n",
       "          8.33333333,  10.        ]])"
      ]
     },
     "execution_count": 4,
     "metadata": {},
     "output_type": "execute_result"
    }
   ],
   "source": [
    "qm=array([c,m])\n",
    "B = array([1, 2, 3, 4, 5])\n",
    "qm[0,:].reshape(1,-1) * B.reshape(-1,1) / qm[1,:].reshape(1,-1)"
   ]
  },
  {
   "cell_type": "code",
   "execution_count": 5,
   "id": "57d6e6ea",
   "metadata": {},
   "outputs": [
    {
     "data": {
      "text/plain": [
       "array([[[ 1,  2],\n",
       "        [ 3,  4]],\n",
       "\n",
       "       [[ 5,  6],\n",
       "        [ 7,  8]],\n",
       "\n",
       "       [[ 9, 10],\n",
       "        [11, 12]]])"
      ]
     },
     "execution_count": 5,
     "metadata": {},
     "output_type": "execute_result"
    }
   ],
   "source": [
    "array([1,2,3,4,5,6,7,8,9,10,11,12]).reshape(3,2,2)"
   ]
  },
  {
   "cell_type": "code",
   "execution_count": 6,
   "id": "548c31c2",
   "metadata": {},
   "outputs": [
    {
     "data": {
      "text/plain": [
       "array([[ 1,  2,  3,  4],\n",
       "       [ 5,  6,  7,  8],\n",
       "       [ 9, 10, 11, 12]])"
      ]
     },
     "execution_count": 6,
     "metadata": {},
     "output_type": "execute_result"
    }
   ],
   "source": [
    "array([1,2,3,4,5,6,7,8,9,10,11,12]).reshape(3,2,2).reshape(3,4)"
   ]
  },
  {
   "cell_type": "code",
   "execution_count": 7,
   "id": "e0fb4247",
   "metadata": {},
   "outputs": [],
   "source": [
    "def omega(qm, B):\n",
    "    return qm[0,:].reshape(1,-1) * B.reshape(-1,1) / qm[1,:].reshape(1,-1)"
   ]
  },
  {
   "cell_type": "code",
   "execution_count": 8,
   "id": "cb187133",
   "metadata": {},
   "outputs": [
    {
     "name": "stdout",
     "output_type": "stream",
     "text": [
      "[[ 1.  -2.  -2.4  4.   5.   6. ]\n",
      " [ 2.   1.   1.2  1.2  3.   3. ]]\n",
      "[0.0001 0.0002 0.0003 0.0004 0.0005 0.0006 0.0007 0.0008 0.0009 0.001 ]\n",
      "[[ 5.00000000e-05 -2.00000000e-04 -2.00000000e-04  3.33333333e-04\n",
      "   1.66666667e-04  2.00000000e-04]\n",
      " [ 1.00000000e-04 -4.00000000e-04 -4.00000000e-04  6.66666667e-04\n",
      "   3.33333333e-04  4.00000000e-04]\n",
      " [ 1.50000000e-04 -6.00000000e-04 -6.00000000e-04  1.00000000e-03\n",
      "   5.00000000e-04  6.00000000e-04]\n",
      " [ 2.00000000e-04 -8.00000000e-04 -8.00000000e-04  1.33333333e-03\n",
      "   6.66666667e-04  8.00000000e-04]\n",
      " [ 2.50000000e-04 -1.00000000e-03 -1.00000000e-03  1.66666667e-03\n",
      "   8.33333333e-04  1.00000000e-03]\n",
      " [ 3.00000000e-04 -1.20000000e-03 -1.20000000e-03  2.00000000e-03\n",
      "   1.00000000e-03  1.20000000e-03]\n",
      " [ 3.50000000e-04 -1.40000000e-03 -1.40000000e-03  2.33333333e-03\n",
      "   1.16666667e-03  1.40000000e-03]\n",
      " [ 4.00000000e-04 -1.60000000e-03 -1.60000000e-03  2.66666667e-03\n",
      "   1.33333333e-03  1.60000000e-03]\n",
      " [ 4.50000000e-04 -1.80000000e-03 -1.80000000e-03  3.00000000e-03\n",
      "   1.50000000e-03  1.80000000e-03]\n",
      " [ 5.00000000e-04 -2.00000000e-03 -2.00000000e-03  3.33333333e-03\n",
      "   1.66666667e-03  2.00000000e-03]]\n"
     ]
    }
   ],
   "source": [
    "print(qm)\n",
    "B=linspace(1E-4,1E-3,10)\n",
    "print(B)\n",
    "w=omega(qm,B)\n",
    "print(w)"
   ]
  },
  {
   "cell_type": "code",
   "execution_count": 9,
   "id": "0097b52b",
   "metadata": {},
   "outputs": [
    {
     "data": {
      "text/plain": [
       "array([0.00000000e+00, 1.00100100e-06, 2.00200200e-06, 3.00300300e-06,\n",
       "       4.00400400e-06, 5.00500501e-06, 6.00600601e-06, 7.00700701e-06,\n",
       "       8.00800801e-06, 9.00900901e-06, 1.00100100e-05, 1.10110110e-05,\n",
       "       1.20120120e-05, 1.30130130e-05, 1.40140140e-05, 1.50150150e-05,\n",
       "       1.60160160e-05, 1.70170170e-05, 1.80180180e-05, 1.90190190e-05,\n",
       "       2.00200200e-05, 2.10210210e-05, 2.20220220e-05, 2.30230230e-05,\n",
       "       2.40240240e-05, 2.50250250e-05, 2.60260260e-05, 2.70270270e-05,\n",
       "       2.80280280e-05, 2.90290290e-05, 3.00300300e-05, 3.10310310e-05,\n",
       "       3.20320320e-05, 3.30330330e-05, 3.40340340e-05, 3.50350350e-05,\n",
       "       3.60360360e-05, 3.70370370e-05, 3.80380380e-05, 3.90390390e-05,\n",
       "       4.00400400e-05, 4.10410410e-05, 4.20420420e-05, 4.30430430e-05,\n",
       "       4.40440440e-05, 4.50450450e-05, 4.60460460e-05, 4.70470470e-05,\n",
       "       4.80480480e-05, 4.90490490e-05, 5.00500501e-05, 5.10510511e-05,\n",
       "       5.20520521e-05, 5.30530531e-05, 5.40540541e-05, 5.50550551e-05,\n",
       "       5.60560561e-05, 5.70570571e-05, 5.80580581e-05, 5.90590591e-05,\n",
       "       6.00600601e-05, 6.10610611e-05, 6.20620621e-05, 6.30630631e-05,\n",
       "       6.40640641e-05, 6.50650651e-05, 6.60660661e-05, 6.70670671e-05,\n",
       "       6.80680681e-05, 6.90690691e-05, 7.00700701e-05, 7.10710711e-05,\n",
       "       7.20720721e-05, 7.30730731e-05, 7.40740741e-05, 7.50750751e-05,\n",
       "       7.60760761e-05, 7.70770771e-05, 7.80780781e-05, 7.90790791e-05,\n",
       "       8.00800801e-05, 8.10810811e-05, 8.20820821e-05, 8.30830831e-05,\n",
       "       8.40840841e-05, 8.50850851e-05, 8.60860861e-05, 8.70870871e-05,\n",
       "       8.80880881e-05, 8.90890891e-05, 9.00900901e-05, 9.10910911e-05,\n",
       "       9.20920921e-05, 9.30930931e-05, 9.40940941e-05, 9.50950951e-05,\n",
       "       9.60960961e-05, 9.70970971e-05, 9.80980981e-05, 9.90990991e-05,\n",
       "       1.00100100e-04, 1.01101101e-04, 1.02102102e-04, 1.03103103e-04,\n",
       "       1.04104104e-04, 1.05105105e-04, 1.06106106e-04, 1.07107107e-04,\n",
       "       1.08108108e-04, 1.09109109e-04, 1.10110110e-04, 1.11111111e-04,\n",
       "       1.12112112e-04, 1.13113113e-04, 1.14114114e-04, 1.15115115e-04,\n",
       "       1.16116116e-04, 1.17117117e-04, 1.18118118e-04, 1.19119119e-04,\n",
       "       1.20120120e-04, 1.21121121e-04, 1.22122122e-04, 1.23123123e-04,\n",
       "       1.24124124e-04, 1.25125125e-04, 1.26126126e-04, 1.27127127e-04,\n",
       "       1.28128128e-04, 1.29129129e-04, 1.30130130e-04, 1.31131131e-04,\n",
       "       1.32132132e-04, 1.33133133e-04, 1.34134134e-04, 1.35135135e-04,\n",
       "       1.36136136e-04, 1.37137137e-04, 1.38138138e-04, 1.39139139e-04,\n",
       "       1.40140140e-04, 1.41141141e-04, 1.42142142e-04, 1.43143143e-04,\n",
       "       1.44144144e-04, 1.45145145e-04, 1.46146146e-04, 1.47147147e-04,\n",
       "       1.48148148e-04, 1.49149149e-04, 1.50150150e-04, 1.51151151e-04,\n",
       "       1.52152152e-04, 1.53153153e-04, 1.54154154e-04, 1.55155155e-04,\n",
       "       1.56156156e-04, 1.57157157e-04, 1.58158158e-04, 1.59159159e-04,\n",
       "       1.60160160e-04, 1.61161161e-04, 1.62162162e-04, 1.63163163e-04,\n",
       "       1.64164164e-04, 1.65165165e-04, 1.66166166e-04, 1.67167167e-04,\n",
       "       1.68168168e-04, 1.69169169e-04, 1.70170170e-04, 1.71171171e-04,\n",
       "       1.72172172e-04, 1.73173173e-04, 1.74174174e-04, 1.75175175e-04,\n",
       "       1.76176176e-04, 1.77177177e-04, 1.78178178e-04, 1.79179179e-04,\n",
       "       1.80180180e-04, 1.81181181e-04, 1.82182182e-04, 1.83183183e-04,\n",
       "       1.84184184e-04, 1.85185185e-04, 1.86186186e-04, 1.87187187e-04,\n",
       "       1.88188188e-04, 1.89189189e-04, 1.90190190e-04, 1.91191191e-04,\n",
       "       1.92192192e-04, 1.93193193e-04, 1.94194194e-04, 1.95195195e-04,\n",
       "       1.96196196e-04, 1.97197197e-04, 1.98198198e-04, 1.99199199e-04,\n",
       "       2.00200200e-04, 2.01201201e-04, 2.02202202e-04, 2.03203203e-04,\n",
       "       2.04204204e-04, 2.05205205e-04, 2.06206206e-04, 2.07207207e-04,\n",
       "       2.08208208e-04, 2.09209209e-04, 2.10210210e-04, 2.11211211e-04,\n",
       "       2.12212212e-04, 2.13213213e-04, 2.14214214e-04, 2.15215215e-04,\n",
       "       2.16216216e-04, 2.17217217e-04, 2.18218218e-04, 2.19219219e-04,\n",
       "       2.20220220e-04, 2.21221221e-04, 2.22222222e-04, 2.23223223e-04,\n",
       "       2.24224224e-04, 2.25225225e-04, 2.26226226e-04, 2.27227227e-04,\n",
       "       2.28228228e-04, 2.29229229e-04, 2.30230230e-04, 2.31231231e-04,\n",
       "       2.32232232e-04, 2.33233233e-04, 2.34234234e-04, 2.35235235e-04,\n",
       "       2.36236236e-04, 2.37237237e-04, 2.38238238e-04, 2.39239239e-04,\n",
       "       2.40240240e-04, 2.41241241e-04, 2.42242242e-04, 2.43243243e-04,\n",
       "       2.44244244e-04, 2.45245245e-04, 2.46246246e-04, 2.47247247e-04,\n",
       "       2.48248248e-04, 2.49249249e-04, 2.50250250e-04, 2.51251251e-04,\n",
       "       2.52252252e-04, 2.53253253e-04, 2.54254254e-04, 2.55255255e-04,\n",
       "       2.56256256e-04, 2.57257257e-04, 2.58258258e-04, 2.59259259e-04,\n",
       "       2.60260260e-04, 2.61261261e-04, 2.62262262e-04, 2.63263263e-04,\n",
       "       2.64264264e-04, 2.65265265e-04, 2.66266266e-04, 2.67267267e-04,\n",
       "       2.68268268e-04, 2.69269269e-04, 2.70270270e-04, 2.71271271e-04,\n",
       "       2.72272272e-04, 2.73273273e-04, 2.74274274e-04, 2.75275275e-04,\n",
       "       2.76276276e-04, 2.77277277e-04, 2.78278278e-04, 2.79279279e-04,\n",
       "       2.80280280e-04, 2.81281281e-04, 2.82282282e-04, 2.83283283e-04,\n",
       "       2.84284284e-04, 2.85285285e-04, 2.86286286e-04, 2.87287287e-04,\n",
       "       2.88288288e-04, 2.89289289e-04, 2.90290290e-04, 2.91291291e-04,\n",
       "       2.92292292e-04, 2.93293293e-04, 2.94294294e-04, 2.95295295e-04,\n",
       "       2.96296296e-04, 2.97297297e-04, 2.98298298e-04, 2.99299299e-04,\n",
       "       3.00300300e-04, 3.01301301e-04, 3.02302302e-04, 3.03303303e-04,\n",
       "       3.04304304e-04, 3.05305305e-04, 3.06306306e-04, 3.07307307e-04,\n",
       "       3.08308308e-04, 3.09309309e-04, 3.10310310e-04, 3.11311311e-04,\n",
       "       3.12312312e-04, 3.13313313e-04, 3.14314314e-04, 3.15315315e-04,\n",
       "       3.16316316e-04, 3.17317317e-04, 3.18318318e-04, 3.19319319e-04,\n",
       "       3.20320320e-04, 3.21321321e-04, 3.22322322e-04, 3.23323323e-04,\n",
       "       3.24324324e-04, 3.25325325e-04, 3.26326326e-04, 3.27327327e-04,\n",
       "       3.28328328e-04, 3.29329329e-04, 3.30330330e-04, 3.31331331e-04,\n",
       "       3.32332332e-04, 3.33333333e-04, 3.34334334e-04, 3.35335335e-04,\n",
       "       3.36336336e-04, 3.37337337e-04, 3.38338338e-04, 3.39339339e-04,\n",
       "       3.40340340e-04, 3.41341341e-04, 3.42342342e-04, 3.43343343e-04,\n",
       "       3.44344344e-04, 3.45345345e-04, 3.46346346e-04, 3.47347347e-04,\n",
       "       3.48348348e-04, 3.49349349e-04, 3.50350350e-04, 3.51351351e-04,\n",
       "       3.52352352e-04, 3.53353353e-04, 3.54354354e-04, 3.55355355e-04,\n",
       "       3.56356356e-04, 3.57357357e-04, 3.58358358e-04, 3.59359359e-04,\n",
       "       3.60360360e-04, 3.61361361e-04, 3.62362362e-04, 3.63363363e-04,\n",
       "       3.64364364e-04, 3.65365365e-04, 3.66366366e-04, 3.67367367e-04,\n",
       "       3.68368368e-04, 3.69369369e-04, 3.70370370e-04, 3.71371371e-04,\n",
       "       3.72372372e-04, 3.73373373e-04, 3.74374374e-04, 3.75375375e-04,\n",
       "       3.76376376e-04, 3.77377377e-04, 3.78378378e-04, 3.79379379e-04,\n",
       "       3.80380380e-04, 3.81381381e-04, 3.82382382e-04, 3.83383383e-04,\n",
       "       3.84384384e-04, 3.85385385e-04, 3.86386386e-04, 3.87387387e-04,\n",
       "       3.88388388e-04, 3.89389389e-04, 3.90390390e-04, 3.91391391e-04,\n",
       "       3.92392392e-04, 3.93393393e-04, 3.94394394e-04, 3.95395395e-04,\n",
       "       3.96396396e-04, 3.97397397e-04, 3.98398398e-04, 3.99399399e-04,\n",
       "       4.00400400e-04, 4.01401401e-04, 4.02402402e-04, 4.03403403e-04,\n",
       "       4.04404404e-04, 4.05405405e-04, 4.06406406e-04, 4.07407407e-04,\n",
       "       4.08408408e-04, 4.09409409e-04, 4.10410410e-04, 4.11411411e-04,\n",
       "       4.12412412e-04, 4.13413413e-04, 4.14414414e-04, 4.15415415e-04,\n",
       "       4.16416416e-04, 4.17417417e-04, 4.18418418e-04, 4.19419419e-04,\n",
       "       4.20420420e-04, 4.21421421e-04, 4.22422422e-04, 4.23423423e-04,\n",
       "       4.24424424e-04, 4.25425425e-04, 4.26426426e-04, 4.27427427e-04,\n",
       "       4.28428428e-04, 4.29429429e-04, 4.30430430e-04, 4.31431431e-04,\n",
       "       4.32432432e-04, 4.33433433e-04, 4.34434434e-04, 4.35435435e-04,\n",
       "       4.36436436e-04, 4.37437437e-04, 4.38438438e-04, 4.39439439e-04,\n",
       "       4.40440440e-04, 4.41441441e-04, 4.42442442e-04, 4.43443443e-04,\n",
       "       4.44444444e-04, 4.45445445e-04, 4.46446446e-04, 4.47447447e-04,\n",
       "       4.48448448e-04, 4.49449449e-04, 4.50450450e-04, 4.51451451e-04,\n",
       "       4.52452452e-04, 4.53453453e-04, 4.54454454e-04, 4.55455455e-04,\n",
       "       4.56456456e-04, 4.57457457e-04, 4.58458458e-04, 4.59459459e-04,\n",
       "       4.60460460e-04, 4.61461461e-04, 4.62462462e-04, 4.63463463e-04,\n",
       "       4.64464464e-04, 4.65465465e-04, 4.66466466e-04, 4.67467467e-04,\n",
       "       4.68468468e-04, 4.69469469e-04, 4.70470470e-04, 4.71471471e-04,\n",
       "       4.72472472e-04, 4.73473473e-04, 4.74474474e-04, 4.75475475e-04,\n",
       "       4.76476476e-04, 4.77477477e-04, 4.78478478e-04, 4.79479479e-04,\n",
       "       4.80480480e-04, 4.81481481e-04, 4.82482482e-04, 4.83483483e-04,\n",
       "       4.84484484e-04, 4.85485485e-04, 4.86486486e-04, 4.87487487e-04,\n",
       "       4.88488488e-04, 4.89489489e-04, 4.90490490e-04, 4.91491491e-04,\n",
       "       4.92492492e-04, 4.93493493e-04, 4.94494494e-04, 4.95495495e-04,\n",
       "       4.96496496e-04, 4.97497497e-04, 4.98498498e-04, 4.99499499e-04,\n",
       "       5.00500501e-04, 5.01501502e-04, 5.02502503e-04, 5.03503504e-04,\n",
       "       5.04504505e-04, 5.05505506e-04, 5.06506507e-04, 5.07507508e-04,\n",
       "       5.08508509e-04, 5.09509510e-04, 5.10510511e-04, 5.11511512e-04,\n",
       "       5.12512513e-04, 5.13513514e-04, 5.14514515e-04, 5.15515516e-04,\n",
       "       5.16516517e-04, 5.17517518e-04, 5.18518519e-04, 5.19519520e-04,\n",
       "       5.20520521e-04, 5.21521522e-04, 5.22522523e-04, 5.23523524e-04,\n",
       "       5.24524525e-04, 5.25525526e-04, 5.26526527e-04, 5.27527528e-04,\n",
       "       5.28528529e-04, 5.29529530e-04, 5.30530531e-04, 5.31531532e-04,\n",
       "       5.32532533e-04, 5.33533534e-04, 5.34534535e-04, 5.35535536e-04,\n",
       "       5.36536537e-04, 5.37537538e-04, 5.38538539e-04, 5.39539540e-04,\n",
       "       5.40540541e-04, 5.41541542e-04, 5.42542543e-04, 5.43543544e-04,\n",
       "       5.44544545e-04, 5.45545546e-04, 5.46546547e-04, 5.47547548e-04,\n",
       "       5.48548549e-04, 5.49549550e-04, 5.50550551e-04, 5.51551552e-04,\n",
       "       5.52552553e-04, 5.53553554e-04, 5.54554555e-04, 5.55555556e-04,\n",
       "       5.56556557e-04, 5.57557558e-04, 5.58558559e-04, 5.59559560e-04,\n",
       "       5.60560561e-04, 5.61561562e-04, 5.62562563e-04, 5.63563564e-04,\n",
       "       5.64564565e-04, 5.65565566e-04, 5.66566567e-04, 5.67567568e-04,\n",
       "       5.68568569e-04, 5.69569570e-04, 5.70570571e-04, 5.71571572e-04,\n",
       "       5.72572573e-04, 5.73573574e-04, 5.74574575e-04, 5.75575576e-04,\n",
       "       5.76576577e-04, 5.77577578e-04, 5.78578579e-04, 5.79579580e-04,\n",
       "       5.80580581e-04, 5.81581582e-04, 5.82582583e-04, 5.83583584e-04,\n",
       "       5.84584585e-04, 5.85585586e-04, 5.86586587e-04, 5.87587588e-04,\n",
       "       5.88588589e-04, 5.89589590e-04, 5.90590591e-04, 5.91591592e-04,\n",
       "       5.92592593e-04, 5.93593594e-04, 5.94594595e-04, 5.95595596e-04,\n",
       "       5.96596597e-04, 5.97597598e-04, 5.98598599e-04, 5.99599600e-04,\n",
       "       6.00600601e-04, 6.01601602e-04, 6.02602603e-04, 6.03603604e-04,\n",
       "       6.04604605e-04, 6.05605606e-04, 6.06606607e-04, 6.07607608e-04,\n",
       "       6.08608609e-04, 6.09609610e-04, 6.10610611e-04, 6.11611612e-04,\n",
       "       6.12612613e-04, 6.13613614e-04, 6.14614615e-04, 6.15615616e-04,\n",
       "       6.16616617e-04, 6.17617618e-04, 6.18618619e-04, 6.19619620e-04,\n",
       "       6.20620621e-04, 6.21621622e-04, 6.22622623e-04, 6.23623624e-04,\n",
       "       6.24624625e-04, 6.25625626e-04, 6.26626627e-04, 6.27627628e-04,\n",
       "       6.28628629e-04, 6.29629630e-04, 6.30630631e-04, 6.31631632e-04,\n",
       "       6.32632633e-04, 6.33633634e-04, 6.34634635e-04, 6.35635636e-04,\n",
       "       6.36636637e-04, 6.37637638e-04, 6.38638639e-04, 6.39639640e-04,\n",
       "       6.40640641e-04, 6.41641642e-04, 6.42642643e-04, 6.43643644e-04,\n",
       "       6.44644645e-04, 6.45645646e-04, 6.46646647e-04, 6.47647648e-04,\n",
       "       6.48648649e-04, 6.49649650e-04, 6.50650651e-04, 6.51651652e-04,\n",
       "       6.52652653e-04, 6.53653654e-04, 6.54654655e-04, 6.55655656e-04,\n",
       "       6.56656657e-04, 6.57657658e-04, 6.58658659e-04, 6.59659660e-04,\n",
       "       6.60660661e-04, 6.61661662e-04, 6.62662663e-04, 6.63663664e-04,\n",
       "       6.64664665e-04, 6.65665666e-04, 6.66666667e-04, 6.67667668e-04,\n",
       "       6.68668669e-04, 6.69669670e-04, 6.70670671e-04, 6.71671672e-04,\n",
       "       6.72672673e-04, 6.73673674e-04, 6.74674675e-04, 6.75675676e-04,\n",
       "       6.76676677e-04, 6.77677678e-04, 6.78678679e-04, 6.79679680e-04,\n",
       "       6.80680681e-04, 6.81681682e-04, 6.82682683e-04, 6.83683684e-04,\n",
       "       6.84684685e-04, 6.85685686e-04, 6.86686687e-04, 6.87687688e-04,\n",
       "       6.88688689e-04, 6.89689690e-04, 6.90690691e-04, 6.91691692e-04,\n",
       "       6.92692693e-04, 6.93693694e-04, 6.94694695e-04, 6.95695696e-04,\n",
       "       6.96696697e-04, 6.97697698e-04, 6.98698699e-04, 6.99699700e-04,\n",
       "       7.00700701e-04, 7.01701702e-04, 7.02702703e-04, 7.03703704e-04,\n",
       "       7.04704705e-04, 7.05705706e-04, 7.06706707e-04, 7.07707708e-04,\n",
       "       7.08708709e-04, 7.09709710e-04, 7.10710711e-04, 7.11711712e-04,\n",
       "       7.12712713e-04, 7.13713714e-04, 7.14714715e-04, 7.15715716e-04,\n",
       "       7.16716717e-04, 7.17717718e-04, 7.18718719e-04, 7.19719720e-04,\n",
       "       7.20720721e-04, 7.21721722e-04, 7.22722723e-04, 7.23723724e-04,\n",
       "       7.24724725e-04, 7.25725726e-04, 7.26726727e-04, 7.27727728e-04,\n",
       "       7.28728729e-04, 7.29729730e-04, 7.30730731e-04, 7.31731732e-04,\n",
       "       7.32732733e-04, 7.33733734e-04, 7.34734735e-04, 7.35735736e-04,\n",
       "       7.36736737e-04, 7.37737738e-04, 7.38738739e-04, 7.39739740e-04,\n",
       "       7.40740741e-04, 7.41741742e-04, 7.42742743e-04, 7.43743744e-04,\n",
       "       7.44744745e-04, 7.45745746e-04, 7.46746747e-04, 7.47747748e-04,\n",
       "       7.48748749e-04, 7.49749750e-04, 7.50750751e-04, 7.51751752e-04,\n",
       "       7.52752753e-04, 7.53753754e-04, 7.54754755e-04, 7.55755756e-04,\n",
       "       7.56756757e-04, 7.57757758e-04, 7.58758759e-04, 7.59759760e-04,\n",
       "       7.60760761e-04, 7.61761762e-04, 7.62762763e-04, 7.63763764e-04,\n",
       "       7.64764765e-04, 7.65765766e-04, 7.66766767e-04, 7.67767768e-04,\n",
       "       7.68768769e-04, 7.69769770e-04, 7.70770771e-04, 7.71771772e-04,\n",
       "       7.72772773e-04, 7.73773774e-04, 7.74774775e-04, 7.75775776e-04,\n",
       "       7.76776777e-04, 7.77777778e-04, 7.78778779e-04, 7.79779780e-04,\n",
       "       7.80780781e-04, 7.81781782e-04, 7.82782783e-04, 7.83783784e-04,\n",
       "       7.84784785e-04, 7.85785786e-04, 7.86786787e-04, 7.87787788e-04,\n",
       "       7.88788789e-04, 7.89789790e-04, 7.90790791e-04, 7.91791792e-04,\n",
       "       7.92792793e-04, 7.93793794e-04, 7.94794795e-04, 7.95795796e-04,\n",
       "       7.96796797e-04, 7.97797798e-04, 7.98798799e-04, 7.99799800e-04,\n",
       "       8.00800801e-04, 8.01801802e-04, 8.02802803e-04, 8.03803804e-04,\n",
       "       8.04804805e-04, 8.05805806e-04, 8.06806807e-04, 8.07807808e-04,\n",
       "       8.08808809e-04, 8.09809810e-04, 8.10810811e-04, 8.11811812e-04,\n",
       "       8.12812813e-04, 8.13813814e-04, 8.14814815e-04, 8.15815816e-04,\n",
       "       8.16816817e-04, 8.17817818e-04, 8.18818819e-04, 8.19819820e-04,\n",
       "       8.20820821e-04, 8.21821822e-04, 8.22822823e-04, 8.23823824e-04,\n",
       "       8.24824825e-04, 8.25825826e-04, 8.26826827e-04, 8.27827828e-04,\n",
       "       8.28828829e-04, 8.29829830e-04, 8.30830831e-04, 8.31831832e-04,\n",
       "       8.32832833e-04, 8.33833834e-04, 8.34834835e-04, 8.35835836e-04,\n",
       "       8.36836837e-04, 8.37837838e-04, 8.38838839e-04, 8.39839840e-04,\n",
       "       8.40840841e-04, 8.41841842e-04, 8.42842843e-04, 8.43843844e-04,\n",
       "       8.44844845e-04, 8.45845846e-04, 8.46846847e-04, 8.47847848e-04,\n",
       "       8.48848849e-04, 8.49849850e-04, 8.50850851e-04, 8.51851852e-04,\n",
       "       8.52852853e-04, 8.53853854e-04, 8.54854855e-04, 8.55855856e-04,\n",
       "       8.56856857e-04, 8.57857858e-04, 8.58858859e-04, 8.59859860e-04,\n",
       "       8.60860861e-04, 8.61861862e-04, 8.62862863e-04, 8.63863864e-04,\n",
       "       8.64864865e-04, 8.65865866e-04, 8.66866867e-04, 8.67867868e-04,\n",
       "       8.68868869e-04, 8.69869870e-04, 8.70870871e-04, 8.71871872e-04,\n",
       "       8.72872873e-04, 8.73873874e-04, 8.74874875e-04, 8.75875876e-04,\n",
       "       8.76876877e-04, 8.77877878e-04, 8.78878879e-04, 8.79879880e-04,\n",
       "       8.80880881e-04, 8.81881882e-04, 8.82882883e-04, 8.83883884e-04,\n",
       "       8.84884885e-04, 8.85885886e-04, 8.86886887e-04, 8.87887888e-04,\n",
       "       8.88888889e-04, 8.89889890e-04, 8.90890891e-04, 8.91891892e-04,\n",
       "       8.92892893e-04, 8.93893894e-04, 8.94894895e-04, 8.95895896e-04,\n",
       "       8.96896897e-04, 8.97897898e-04, 8.98898899e-04, 8.99899900e-04,\n",
       "       9.00900901e-04, 9.01901902e-04, 9.02902903e-04, 9.03903904e-04,\n",
       "       9.04904905e-04, 9.05905906e-04, 9.06906907e-04, 9.07907908e-04,\n",
       "       9.08908909e-04, 9.09909910e-04, 9.10910911e-04, 9.11911912e-04,\n",
       "       9.12912913e-04, 9.13913914e-04, 9.14914915e-04, 9.15915916e-04,\n",
       "       9.16916917e-04, 9.17917918e-04, 9.18918919e-04, 9.19919920e-04,\n",
       "       9.20920921e-04, 9.21921922e-04, 9.22922923e-04, 9.23923924e-04,\n",
       "       9.24924925e-04, 9.25925926e-04, 9.26926927e-04, 9.27927928e-04,\n",
       "       9.28928929e-04, 9.29929930e-04, 9.30930931e-04, 9.31931932e-04,\n",
       "       9.32932933e-04, 9.33933934e-04, 9.34934935e-04, 9.35935936e-04,\n",
       "       9.36936937e-04, 9.37937938e-04, 9.38938939e-04, 9.39939940e-04,\n",
       "       9.40940941e-04, 9.41941942e-04, 9.42942943e-04, 9.43943944e-04,\n",
       "       9.44944945e-04, 9.45945946e-04, 9.46946947e-04, 9.47947948e-04,\n",
       "       9.48948949e-04, 9.49949950e-04, 9.50950951e-04, 9.51951952e-04,\n",
       "       9.52952953e-04, 9.53953954e-04, 9.54954955e-04, 9.55955956e-04,\n",
       "       9.56956957e-04, 9.57957958e-04, 9.58958959e-04, 9.59959960e-04,\n",
       "       9.60960961e-04, 9.61961962e-04, 9.62962963e-04, 9.63963964e-04,\n",
       "       9.64964965e-04, 9.65965966e-04, 9.66966967e-04, 9.67967968e-04,\n",
       "       9.68968969e-04, 9.69969970e-04, 9.70970971e-04, 9.71971972e-04,\n",
       "       9.72972973e-04, 9.73973974e-04, 9.74974975e-04, 9.75975976e-04,\n",
       "       9.76976977e-04, 9.77977978e-04, 9.78978979e-04, 9.79979980e-04,\n",
       "       9.80980981e-04, 9.81981982e-04, 9.82982983e-04, 9.83983984e-04,\n",
       "       9.84984985e-04, 9.85985986e-04, 9.86986987e-04, 9.87987988e-04,\n",
       "       9.88988989e-04, 9.89989990e-04, 9.90990991e-04, 9.91991992e-04,\n",
       "       9.92992993e-04, 9.93993994e-04, 9.94994995e-04, 9.95995996e-04,\n",
       "       9.96996997e-04, 9.97997998e-04, 9.98998999e-04, 1.00000000e-03])"
      ]
     },
     "execution_count": 9,
     "metadata": {},
     "output_type": "execute_result"
    }
   ],
   "source": [
    "v0 = linspace(100,200,10)\n",
    "t=linspace(0,1E-3,1000)\n",
    "t"
   ]
  },
  {
   "cell_type": "code",
   "execution_count": 10,
   "id": "af0ace00",
   "metadata": {},
   "outputs": [
    {
     "data": {
      "text/plain": [
       "(1000,)"
      ]
     },
     "execution_count": 10,
     "metadata": {},
     "output_type": "execute_result"
    }
   ],
   "source": [
    "t.shape"
   ]
  },
  {
   "cell_type": "code",
   "execution_count": 11,
   "id": "a7febe56",
   "metadata": {},
   "outputs": [
    {
     "data": {
      "text/plain": [
       "(10,)"
      ]
     },
     "execution_count": 11,
     "metadata": {},
     "output_type": "execute_result"
    }
   ],
   "source": [
    "v0.shape"
   ]
  },
  {
   "cell_type": "code",
   "execution_count": 12,
   "id": "a2588e40",
   "metadata": {},
   "outputs": [
    {
     "data": {
      "text/plain": [
       "(10, 6)"
      ]
     },
     "execution_count": 12,
     "metadata": {},
     "output_type": "execute_result"
    }
   ],
   "source": [
    "w.shape"
   ]
  },
  {
   "cell_type": "code",
   "execution_count": 13,
   "id": "03c4d378",
   "metadata": {},
   "outputs": [
    {
     "data": {
      "text/plain": [
       "10"
      ]
     },
     "execution_count": 13,
     "metadata": {},
     "output_type": "execute_result"
    }
   ],
   "source": [
    "size(B)"
   ]
  },
  {
   "cell_type": "code",
   "execution_count": 14,
   "id": "c29b716c",
   "metadata": {},
   "outputs": [],
   "source": [
    "def coordenadas (t,w,v0,g=9.81):\n",
    "    x=g/(w**2)*sin(w*t) - v0/w*cos(w*t) + v0/w - g/w*t\n",
    "    y=v0/w*sin(w*t) + g/(w**2)*cos(w*t) - g/(w**2)\n",
    "    return(array([x,y]))\n",
    "\n",
    "xy = coordenadas( t.reshape(1,-1,1,1), w.reshape(1, 1, w.shape[0], w.shape[1]), v0.reshape(-1,1,1,1) )"
   ]
  },
  {
   "cell_type": "code",
   "execution_count": 15,
   "id": "1bd33657",
   "metadata": {},
   "outputs": [
    {
     "data": {
      "text/plain": [
       "(2, 10, 1000, 10, 6)"
      ]
     },
     "execution_count": 15,
     "metadata": {},
     "output_type": "execute_result"
    }
   ],
   "source": [
    "xy.shape"
   ]
  },
  {
   "cell_type": "code",
   "execution_count": 16,
   "id": "f1a738a2",
   "metadata": {},
   "outputs": [
    {
     "name": "stdout",
     "output_type": "stream",
     "text": [
      "(3, 2, 1000)\n"
     ]
    }
   ],
   "source": [
    "datos1 = xy[:, # Coordenadas X e Y\n",
    "   0, # Primer valor de v0\n",
    "   :, # Todos los tiempos\n",
    "   0, # Primer valor de B -> Primera fila de w\n",
    "   range(1, xy.shape[4], 2) #impares\n",
    "]\n",
    "print(datos1.shape)\n"
   ]
  },
  {
   "cell_type": "code",
   "execution_count": 18,
   "id": "45afe84c",
   "metadata": {},
   "outputs": [
    {
     "data": {
      "text/plain": [
       "array([[ 1. , -2. , -2.4,  4. ,  5. ,  6. ],\n",
       "       [ 2. ,  1. ,  1.2,  1.2,  3. ,  3. ]])"
      ]
     },
     "execution_count": 18,
     "metadata": {},
     "output_type": "execute_result"
    }
   ],
   "source": [
    "qm"
   ]
  },
  {
   "cell_type": "code",
   "execution_count": 28,
   "id": "be752113",
   "metadata": {},
   "outputs": [
    {
     "data": {
      "text/plain": [
       "(6,)"
      ]
     },
     "execution_count": 28,
     "metadata": {},
     "output_type": "execute_result"
    }
   ],
   "source": [
    "tuple([6])"
   ]
  },
  {
   "cell_type": "code",
   "execution_count": 29,
   "id": "37331b02",
   "metadata": {},
   "outputs": [
    {
     "data": {
      "image/png": "[encoded data removed]",
      "text/plain": [
       "<Figure size 640x480 with 2 Axes>"
      ]
     },
     "metadata": {},
     "output_type": "display_data"
    }
   ],
   "source": [
    "f=plt.figure()\n",
    "\n",
    "ax1=plt.subplot(2,1,1)\n",
    "for i in range(1, xy.shape[4], 2):\n",
    "    x1 = xy[0, 0, :, 0, i]\n",
    "    y1 = xy[1, 0, :, 0, i]\n",
    "    #ax1.plot(x1, y1, label=f\"{nombres[i]}: {qm[0,i]/qm[1,i]:0.3}\")\n",
    "    ax1.plot(x1, y1, label=\"%.3f\" % (qm[0,i]/qm[1,i],))\n",
    "ax1.legend()\n",
    "\n",
    "ax2=plt.subplot(2,1,2)\n",
    "for i in range(1, xy.shape[4], 2):\n",
    "    x2 = xy[0, -1, :, -1, i]\n",
    "    y2 = xy[1, -1, :, -1, i]\n",
    "    #ax2.plot(x2, y2, label=f\"{nombres[i]}: {qm[0,i]/qm[1,i]:0.3}\")\n",
    "    ax2.plot(x2, y2, label=\"%.3f\" % (qm[0,i]/qm[1,i],))\n",
    "\n",
    "ax2.legend()\n",
    "plt.show()\n",
    "\n"
   ]
  },
  {
   "cell_type": "code",
   "execution_count": null,
   "id": "0e239f39",
   "metadata": {},
   "outputs": [],
   "source": []
  },
  {
   "cell_type": "code",
   "execution_count": null,
   "id": "7856f4bc",
   "metadata": {},
   "outputs": [],
   "source": []
  },
  {
   "cell_type": "code",
   "execution_count": null,
   "id": "b3e3970f",
   "metadata": {},
   "outputs": [],
   "source": []
  },
  {
   "cell_type": "code",
   "execution_count": null,
   "id": "87076728",
   "metadata": {},
   "outputs": [],
   "source": []
  },
  {
   "cell_type": "code",
   "execution_count": null,
   "id": "78f144f4",
   "metadata": {},
   "outputs": [],
   "source": []
  },
  {
   "cell_type": "code",
   "execution_count": 83,
   "id": "f2886a8d",
   "metadata": {},
   "outputs": [
    {
     "name": "stdout",
     "output_type": "stream",
     "text": [
      "[-0.55072781 -2.10915398]\n"
     ]
    },
    {
     "data": {
      "text/plain": [
       "(10, 1000, 10, 3, 2)"
      ]
     },
     "execution_count": 83,
     "metadata": {},
     "output_type": "execute_result"
    }
   ],
   "source": [
    "def coordenadas (t,w,v0,g=9.81):\n",
    "    x=g/(w**2)*sin(w*t) - v0/w*cos(w*t) + v0/w - g/w*t\n",
    "    y=v0/w*sin(w*t) + g/(w**2)*cos(w*t) - g/(w**2)\n",
    "    #return(stack([x,y], axis=-1))\n",
    "    x = expand_dims(x, axis=-1)\n",
    "    y = expand_dims(y, axis=-1)\n",
    "    return(concatenate([x,y], axis=-1))\n",
    "\n",
    "print(coordenadas(1,2,3))\n",
    "\n",
    "coordenadas( t.reshape(1,-1,1,1), w.reshape(1, 1, w.shape[0], w.shape[1]), v0.reshape(-1,1,1,1) ).shape"
   ]
  },
  {
   "cell_type": "code",
   "execution_count": 84,
   "id": "a392f91c",
   "metadata": {},
   "outputs": [
    {
     "name": "stdout",
     "output_type": "stream",
     "text": [
      "[-0.55072781 -2.10915398]\n"
     ]
    },
    {
     "data": {
      "text/plain": [
       "(10, 1000, 10, 3, 2)"
      ]
     },
     "execution_count": 84,
     "metadata": {},
     "output_type": "execute_result"
    }
   ],
   "source": [
    "def coordenadas (t,w,v0,g=9.81):\n",
    "    x=g/(w**2)*sin(w*t) - v0/w*cos(w*t) + v0/w - g/w*t\n",
    "    y=v0/w*sin(w*t) + g/(w**2)*cos(w*t) - g/(w**2)\n",
    "    return(concatenate([x.reshape(list(x.shape) + [1]),y.reshape(list(x.shape) + [1])], axis=-1))\n",
    "\n",
    "print(coordenadas(1,2,3))\n",
    "\n",
    "coordenadas( t.reshape(1,-1,1,1), w.reshape(1, 1, w.shape[0], w.shape[1]), v0.reshape(-1,1,1,1) ).shape"
   ]
  },
  {
   "cell_type": "code",
   "execution_count": 76,
   "id": "8aa18e53",
   "metadata": {},
   "outputs": [
    {
     "data": {
      "text/plain": [
       "(3, 2, 2, 1)"
      ]
     },
     "execution_count": 76,
     "metadata": {},
     "output_type": "execute_result"
    }
   ],
   "source": [
    "mm = array([1,2,3,4,5,6,7,8,9,10,11,12]).reshape(3,2,2)\n",
    "mm.reshape(list(mm.shape) + [1]).shape\n",
    "\n"
   ]
  },
  {
   "cell_type": "code",
   "execution_count": 81,
   "id": "db8a8970",
   "metadata": {},
   "outputs": [
    {
     "data": {
      "text/plain": [
       "[1, 1, 3, 2, 2, 1]"
      ]
     },
     "execution_count": 81,
     "metadata": {},
     "output_type": "execute_result"
    }
   ],
   "source": [
    "[1, 1] + list(mm.shape) + [1]"
   ]
  },
  {
   "cell_type": "code",
   "execution_count": 93,
   "id": "57095bbf",
   "metadata": {},
   "outputs": [
    {
     "name": "stdout",
     "output_type": "stream",
     "text": [
      "[[ 1  2  3  4]\n",
      " [ 5  6  7  8]\n",
      " [ 9 10 11 12]]\n"
     ]
    }
   ],
   "source": [
    "mm = array([1,2,3,4,5,6,7,8,9,10,11,12]).reshape(3,4)\n",
    "print(mm)\n"
   ]
  },
  {
   "cell_type": "code",
   "execution_count": 108,
   "id": "3de4ddb5",
   "metadata": {},
   "outputs": [
    {
     "data": {
      "text/plain": [
       "array([[3, 3, 1],\n",
       "       [7, 7, 5]])"
      ]
     },
     "execution_count": 108,
     "metadata": {},
     "output_type": "execute_result"
    }
   ],
   "source": [
    "mm [[0,1],:] [:, [2,2,0]]"
   ]
  },
  {
   "cell_type": "code",
   "execution_count": 109,
   "id": "4d174a12",
   "metadata": {},
   "outputs": [
    {
     "data": {
      "text/plain": [
       "array([[1, 2, 3, 4],\n",
       "       [5, 6, 7, 8]])"
      ]
     },
     "execution_count": 109,
     "metadata": {},
     "output_type": "execute_result"
    }
   ],
   "source": [
    "mm [[0,1],:]"
   ]
  },
  {
   "cell_type": "code",
   "execution_count": 119,
   "id": "5312fad4",
   "metadata": {},
   "outputs": [
    {
     "data": {
      "text/plain": [
       "array([[5, 6, 7, 8]])"
      ]
     },
     "execution_count": 119,
     "metadata": {},
     "output_type": "execute_result"
    }
   ],
   "source": [
    "mm [range(1,mm.shape[0],2),:]"
   ]
  },
  {
   "cell_type": "code",
   "execution_count": 115,
   "id": "3b41bb17",
   "metadata": {},
   "outputs": [
    {
     "data": {
      "text/plain": [
       "array([[ 2,  4],\n",
       "       [ 6,  8],\n",
       "       [10, 12]])"
      ]
     },
     "execution_count": 115,
     "metadata": {},
     "output_type": "execute_result"
    }
   ],
   "source": [
    "mm [:,range(1,mm.shape[1],2)]"
   ]
  },
  {
   "cell_type": "code",
   "execution_count": 116,
   "id": "fc5058b9",
   "metadata": {},
   "outputs": [
    {
     "data": {
      "text/plain": [
       "4"
      ]
     },
     "execution_count": 116,
     "metadata": {},
     "output_type": "execute_result"
    }
   ],
   "source": [
    "mm.shape[1]"
   ]
  },
  {
   "cell_type": "code",
   "execution_count": 118,
   "id": "11aec4be",
   "metadata": {},
   "outputs": [
    {
     "data": {
      "text/plain": [
       "12"
      ]
     },
     "execution_count": 118,
     "metadata": {},
     "output_type": "execute_result"
    }
   ],
   "source": [
    "size(mm)"
   ]
  },
  {
   "cell_type": "code",
   "execution_count": null,
   "id": "38a3dff7",
   "metadata": {},
   "outputs": [],
   "source": []
  }
 ],
 "metadata": {
  "kernelspec": {
   "display_name": "Python 3 (ipykernel)",
   "language": "python",
   "name": "python3"
  },
  "language_info": {
   "codemirror_mode": {
    "name": "ipython",
    "version": 3
   },
   "file_extension": ".py",
   "mimetype": "text/x-python",
   "name": "python",
   "nbconvert_exporter": "python",
   "pygments_lexer": "ipython3",
   "version": "3.11.9"
  }
 },
 "nbformat": 4,
 "nbformat_minor": 5
}
