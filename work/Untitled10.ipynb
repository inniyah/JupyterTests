{
 "cells": [
  {
   "cell_type": "code",
   "execution_count": 1,
   "id": "90c57d61",
   "metadata": {},
   "outputs": [
    {
     "data": {
      "text/plain": [
       "[(48.767133520430825, 7.286904979114629),\n",
       " (68.2163248425763, 3.204140014753264),\n",
       " (16.429808395552463, 6.273424125637631),\n",
       " (16.846042421342784, 3.8852780579017074),\n",
       " (9.386647306834972, 2.875491920056967),\n",
       " (5.319901353212746, 2.538830155789492),\n",
       " (3.400796632389769, 2.3910668092869147),\n",
       " (2.6466576181784447, 2.304290661262434),\n",
       " (2.3959269433672943, 2.240869051679002),\n",
       " (2.2980966577655084, 2.1887278082050563)]"
      ]
     },
     "execution_count": 1,
     "metadata": {},
     "output_type": "execute_result"
    }
   ],
   "source": [
    "from math import *\n",
    "\n",
    "def m(x, y):\n",
    "\tf1 = ( (1.2*sin(x) + 4*x)*y*sin(y) + 1.0) / (cos(x) + sin(y) + 1.0)\n",
    "\tf2 = ( cos(x) + 4*x ) / ( cos(y) + sin(x) + 2.0 )\n",
    "\tF = (f1, f2)\n",
    "\treturn F\n",
    "\t\n",
    "x = [1.75 + 0.76**(0.3*i) for i in range(0, 10)]\n",
    "y = [1.75**(4-i) for i in range(0, 10)]\t\n",
    "\n",
    "L = []\n",
    "i=0\n",
    "while i < len(range(10)):\n",
    "\tL.append(m(x[i], y[i]))\n",
    "\ti+=1\n",
    "L"
   ]
  },
  {
   "cell_type": "code",
   "execution_count": 2,
   "id": "2ef28f4d",
   "metadata": {},
   "outputs": [
    {
     "data": {
      "text/plain": [
       "(48.767133520430825, 7.286904979114629)"
      ]
     },
     "execution_count": 2,
     "metadata": {},
     "output_type": "execute_result"
    }
   ],
   "source": [
    "L[0]"
   ]
  }
 ],
 "metadata": {
  "kernelspec": {
   "display_name": "Python 3 (ipykernel)",
   "language": "python",
   "name": "python3"
  },
  "language_info": {
   "codemirror_mode": {
    "name": "ipython",
    "version": 3
   },
   "file_extension": ".py",
   "mimetype": "text/x-python",
   "name": "python",
   "nbconvert_exporter": "python",
   "pygments_lexer": "ipython3",
   "version": "3.11.9"
  }
 },
 "nbformat": 4,
 "nbformat_minor": 5
}
