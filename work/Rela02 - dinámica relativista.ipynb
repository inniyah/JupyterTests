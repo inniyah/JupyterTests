{
 "cells": [
  {
   "cell_type": "code",
   "execution_count": 1,
   "id": "60a4e269",
   "metadata": {},
   "outputs": [],
   "source": [
    "from math import *\n",
    "from pprint import pprint\n",
    "\n",
    "import numpy as np\n",
    "import matplotlib.pyplot as plt\n",
    "\n",
    "from pint import UnitRegistry, set_application_registry\n",
    "ureg = UnitRegistry()\n",
    "set_application_registry(ureg)\n",
    "\n",
    "litros = ureg.litre\n",
    "atmosferas = ureg.atmosphere\n",
    "moles = ureg.mol\n",
    "kelvins = ureg.kelvin\n",
    "kilogramos = ureg.kilogram\n",
    "gramos = ureg.gram\n",
    "kilometros = ureg.kilometer\n",
    "metros = ureg.meter\n",
    "centimetros = ureg.centimeter\n",
    "nanometros = ureg.nanometer\n",
    "femtometros = ureg.femtometer\n",
    "fermis = ureg.femtometer\n",
    "julios = ureg.joule\n",
    "kilojulios = ureg.kilojoule\n",
    "pascales = ureg.pascal\n",
    "newtons = ureg.newton\n",
    "teslas = ureg.tesla\n",
    "culombios = ureg.coulomb\n",
    "amperios = ureg.ampere\n",
    "faradios = ureg.farad\n",
    "segundos = ureg.second\n",
    "minutos = ureg.minutes\n",
    "horas = ureg.hours\n",
    "microsegundos = ureg.microsecond\n",
    "nanosegundos = ureg.nanosecond\n",
    "horas = ureg.hour\n",
    "años = ureg.year\n",
    "eV = ureg.electron_volt\n",
    "MeV = ureg.megaelectron_volt\n",
    "keV = ureg.kiloelectron_volt\n",
    "GeV = ureg.gigaelectron_volt\n",
    "Å = ureg.angstrom\n",
    "\n",
    "vatios = ureg.watts\n",
    "μW = ureg.microwatts\n",
    "\n",
    "c = ureg.speed_of_light\n",
    "\n",
    "Q = ureg.Quantity\n",
    "\n",
    "h = 6.628e-34 * julios * segundos \n",
    "ℏ = h / ( 2 * pi )\n",
    "\n",
    "ℏc = 200 * eV * nanometros\n",
    "\n",
    "atmosfera = 101327.38879319 * newtons / metros**2\n",
    "\n",
    "µ0 = 4 * pi * 1e-7 * teslas * metros / amperios\n",
    "𝜀0 = 1 / ( µ0 * c**2)\n"
   ]
  },
  {
   "cell_type": "markdown",
   "id": "feaadc2c",
   "metadata": {},
   "source": [
    "Α Β Γ Δ Ε Ζ Η Θ Ι Κ Λ Μ Ν Ξ Ο Π Ρ Σ Τ Υ Φ Χ Ψ Ω\n",
    "\n",
    "α β γ δ ε ζ η θ ι κ λ μ ν ξ ο π ρ ς σ τ υ φ χ ψ ω\n"
   ]
  },
  {
   "cell_type": "markdown",
   "id": "f68aae4f",
   "metadata": {},
   "source": [
    "***\n",
    "5.10. Un ka´on K0, en reposo relativo a un observador, decae espont´aneamente creando un pion π+ y su antipart´ıcula π−. Sabiendo que la masa del K0 es 8, 87 × 10−28 kg y la masa de un pi´on π± es 2, 49 × 10−28 kg, calcula a qu´e porcentaje de la velocidad de la luz se mover´an los piones.\n"
   ]
  },
  {
   "cell_type": "code",
   "execution_count": 2,
   "id": "b1a3b758",
   "metadata": {},
   "outputs": [
    {
     "name": "stdout",
     "output_type": "stream",
     "text": [
      "497.5705091574549 megaelectron_volt\n",
      "1.781124497991968 dimensionless\n",
      "0.8275153672655998 dimensionless\n"
     ]
    }
   ],
   "source": [
    "p0 = 0 * eV/c\n",
    "m_K0 = 8.87e-28 * kilogramos\n",
    "E0 = E_K0 = m_K0 * c**2\n",
    "print(E0.to(MeV))\n",
    "\n",
    "m_π = 2.49e-28 * kilogramos\n",
    "# Ef = E_π1 + E_π2 = E0 = E_K0\n",
    "# E_π1 = E_π2 = E_π\n",
    "# 2 * E_π = E_K0\n",
    "# E_π = γ * m_π * c**2\n",
    "\n",
    "γ = m_K0 / m_π / 2\n",
    "print(γ)\n",
    "# γ = 1 / sqrt(1 - β**2)\n",
    "# γ**2 = 1 / (1 - β**2)\n",
    "# γ**2 * (1 - β**2) = 1\n",
    "# γ**2 - γ**2 * β**2 = 1\n",
    "# γ**2 * β**2 = γ**2 - 1\n",
    "# β**2 = (γ**2 - 1) / γ**2\n",
    "β = (γ**2 - 1)**(1/2) / γ\n",
    "print(β)\n"
   ]
  },
  {
   "cell_type": "markdown",
   "id": "4a10b11c",
   "metadata": {},
   "source": [
    "***\n",
    "5.11. Un ka´on K0 en reposo decae en dos mesones π0. La masa del mes´on K0 es 498 MeV/c2,\n",
    "mientras que la masa de los mesones π0 es 135 MeV/c2. Calcula la energ´ıa cin´etica de\n",
    "cada uno de los piones."
   ]
  },
  {
   "cell_type": "code",
   "execution_count": 3,
   "id": "4d2d1c83",
   "metadata": {},
   "outputs": [
    {
     "name": "stdout",
     "output_type": "stream",
     "text": [
      "114.0 megaelectron_volt\n"
     ]
    }
   ],
   "source": [
    "m_K0 = 498 * MeV / c**2\n",
    "m_π0 = 135 * MeV / c**2\n",
    "\n",
    "print((m_K0 * c**2 - 2 * m_π0 * c**2) / 2)"
   ]
  },
  {
   "cell_type": "markdown",
   "id": "a06d9497",
   "metadata": {},
   "source": [
    "***\n",
    "5.16. Un fot´on con energ´ıa 1 MeV colisiona con un electr´on en reposo cerca de un n´ucleo\n",
    "pesado y es absorbido. Calcula la velocidad del electr´on asumiendo que la energ´ıa\n",
    "absorbida por el n´ucleo es una cantidad despreciable."
   ]
  },
  {
   "cell_type": "code",
   "execution_count": null,
   "id": "622a0108",
   "metadata": {},
   "outputs": [],
   "source": []
  },
  {
   "cell_type": "markdown",
   "id": "18ae824d",
   "metadata": {},
   "source": [
    "Minkowski 6.12\n",
    "\n",
    "Supongamos que un neutr´on en reposo decae mediante el proceso n → p + e− + νe,\n",
    "llamado desintegraci´on β. Determina la energ´ıa cin´etica m´axima que puede adquirir\n",
    "el neutrino en este decaimiento. Para ello, considera la combinaci´on pμ\n",
    "n − pμ\n",
    "ν , utiliza\n",
    "la conservaci´on del cuadrimomento y aplica el resultado del problema 6.1, recordando\n",
    "que γ ≥ 1. Pod´eis despreciar la masa del neutrino en el resultado final."
   ]
  },
  {
   "cell_type": "code",
   "execution_count": 4,
   "id": "05b08019",
   "metadata": {},
   "outputs": [
    {
     "name": "stdout",
     "output_type": "stream",
     "text": [
      "782.0000000000064 kiloelectron_volt\n"
     ]
    }
   ],
   "source": [
    "m_electron = 0.511 * MeV / c**2\n",
    "m_proton = 938.272 * MeV / c**2\n",
    "m_neutron = 939.565 * MeV / c**2\n",
    "\n",
    "print(((m_neutron - m_proton - m_electron) * c**2).to(keV))"
   ]
  },
  {
   "cell_type": "code",
   "execution_count": null,
   "id": "00a37d90",
   "metadata": {},
   "outputs": [],
   "source": []
  },
  {
   "cell_type": "markdown",
   "id": "8be930f1",
   "metadata": {},
   "source": [
    "6.14. Calcula el umbral de energ´ıa cin´etica para el proceso\n",
    "p + p → Λ0 + Λ0\n",
    "en el sistema de referencia en el que el prot´on est´a en reposo. El bari´on Λ0 tiene masa\n",
    "mΛ0 = 1115 MeV/c2."
   ]
  },
  {
   "cell_type": "code",
   "execution_count": 5,
   "id": "4dc11b07",
   "metadata": {},
   "outputs": [
    {
     "name": "stdout",
     "output_type": "stream",
     "text": [
      "773.4871210395276 megaelectron_volt\n",
      "773.4871210395276 megaelectron_volt\n"
     ]
    }
   ],
   "source": [
    "m_proton = 938.272 * MeV / c**2\n",
    "m_barion = 1115 * MeV / c**2\n",
    "\n",
    "p = ( ( (2*m_barion**2*c**2 - m_proton**2*c**2) / m_proton )**2 - m_proton**2*c**4 )**(1/2) / c\n",
    "\n",
    "E = ( ( (2*m_barion**2*c**2 - m_proton**2*c**2) / m_proton )**2 )**(1/2)\n",
    "print(E - m_proton*c**2)\n",
    "\n",
    "T = ( 2*m_barion**2*c**2 - m_proton**2*c**2 ) / m_proton - m_proton*c**2\n",
    "print(T)\n"
   ]
  },
  {
   "cell_type": "code",
   "execution_count": null,
   "id": "5036e224",
   "metadata": {},
   "outputs": [],
   "source": []
  },
  {
   "cell_type": "code",
   "execution_count": null,
   "id": "4ae07a4c",
   "metadata": {},
   "outputs": [],
   "source": []
  },
  {
   "cell_type": "code",
   "execution_count": null,
   "id": "394d8726",
   "metadata": {},
   "outputs": [],
   "source": []
  },
  {
   "cell_type": "code",
   "execution_count": 10,
   "id": "8d9d000f",
   "metadata": {},
   "outputs": [
    {
     "name": "stdout",
     "output_type": "stream",
     "text": [
      "1078.565 megaelectron_volt\n"
     ]
    }
   ],
   "source": [
    "m_electron = 0.511 * MeV / c**2\n",
    "m_proton = 938.272 * MeV / c**2\n",
    "m_neutron = 939.565 * MeV / c**2\n",
    "m_pion = 139 * MeV / c**2\n",
    "\n"
   ]
  },
  {
   "cell_type": "code",
   "execution_count": null,
   "id": "1173423f",
   "metadata": {},
   "outputs": [],
   "source": []
  },
  {
   "cell_type": "code",
   "execution_count": 6,
   "id": "5e8022bb",
   "metadata": {},
   "outputs": [
    {
     "name": "stdout",
     "output_type": "stream",
     "text": [
      "0.5 dimensionless\n",
      "1.1547005383792517 dimensionless\n",
      "1154.7005383792516 megaelectron_volt / speed_of_light\n",
      "577.3502691896258 megaelectron_volt / speed_of_light\n",
      "1000.0000000000002 megaelectron_volt / speed_of_light\n",
      "0.0 megaelectron_volt / speed_of_light\n"
     ]
    }
   ],
   "source": [
    "u = 0.5 * c\n",
    "β = u /c\n",
    "print(β)\n",
    "γ = 1 / ( 1 - u**2 / c**2 )**(1/2)\n",
    "print(γ)\n",
    "m = 1000 * MeV / c**2\n",
    "\n",
    "print(m*γ*c)\n",
    "print(m*γ*u)\n",
    "\n",
    "print(γ*(m*γ*c) - γ*β*(m*γ*u))\n",
    "print(- γ*β*(m*γ*c) + γ*(m*γ*u))\n"
   ]
  },
  {
   "cell_type": "code",
   "execution_count": null,
   "id": "7e35bda3",
   "metadata": {},
   "outputs": [],
   "source": []
  }
 ],
 "metadata": {
  "kernelspec": {
   "display_name": "Python 3 (ipykernel)",
   "language": "python",
   "name": "python3"
  },
  "language_info": {
   "codemirror_mode": {
    "name": "ipython",
    "version": 3
   },
   "file_extension": ".py",
   "mimetype": "text/x-python",
   "name": "python",
   "nbconvert_exporter": "python",
   "pygments_lexer": "ipython3",
   "version": "3.11.9"
  }
 },
 "nbformat": 4,
 "nbformat_minor": 5
}
