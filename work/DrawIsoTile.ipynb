{
 "cells": [
  {
   "cell_type": "code",
   "execution_count": 32,
   "metadata": {},
   "outputs": [],
   "source": [
    "from matplotlib import pyplot as plt\n",
    "from PIL import Image"
   ]
  },
  {
   "cell_type": "code",
   "execution_count": 33,
   "metadata": {},
   "outputs": [],
   "source": [
    "src_base_w = 32\n",
    "src_base_h = 32\n",
    "iso_base_w = 64\n",
    "iso_base_h = 32"
   ]
  },
  {
   "cell_type": "code",
   "execution_count": 34,
   "metadata": {},
   "outputs": [
    {
     "name": "stdout",
     "output_type": "stream",
     "text": [
      "{(28, 28, 28, 255), (198, 198, 198, 255), (85, 85, 85, 255), (113, 113, 113, 255), (0, 0, 0, 255), (255, 255, 255, 255), (142, 142, 142, 255), (170, 170, 170, 255), (57, 57, 57, 255), (227, 227, 227, 255)}\n",
      "[0, 28, 57, 85, 113, 142, 170, 198, 227, 255]\n"
     ]
    }
   ],
   "source": [
    "im_v = Image.open('landh-tiles/landh_tiles.png')\n",
    "rgb_im_v = im_v.convert('RGBA')\n",
    "\n",
    "cols_im_v = set()\n",
    "grey_im_v = set()\n",
    "for sy in range(rgb_im_v.size[1]):\n",
    "\tfor sx in range(rgb_im_v.size[0]):\n",
    "\t\tc = r, g, b, a = rgb_im_v.getpixel((sx, sy))\n",
    "\t\tcols_im_v.add(c)\n",
    "\t\tgrey_im_v.add((r + g + b) // 3)\n",
    "print(cols_im_v)\n",
    "print(sorted(grey_im_v))"
   ]
  },
  {
   "cell_type": "code",
   "execution_count": 35,
   "metadata": {},
   "outputs": [
    {
     "name": "stdout",
     "output_type": "stream",
     "text": [
      "(800, 576)\n",
      "0.72\n"
     ]
    },
    {
     "data": {
      "image/png": "[encoded data removed]",
      "text/plain": [
       "<Figure size 432x288 with 1 Axes>"
      ]
     },
     "metadata": {
      "needs_background": "light"
     },
     "output_type": "display_data"
    }
   ],
   "source": [
    "im = Image.open('landh-tiles/landh_tiles.png')\n",
    "rgb_im = im.convert('RGBA')\n",
    "\n",
    "print(rgb_im.size)\n",
    "print(rgb_im.height / rgb_im.width)\n",
    "\n",
    "plt.imshow(im)\n",
    "plt.show()"
   ]
  },
  {
   "cell_type": "code",
   "execution_count": 36,
   "metadata": {},
   "outputs": [],
   "source": [
    "def convert_coords(x, y, hpos, vpos):\n",
    "\thoff = src_base_w * hpos\n",
    "\tvoff = src_base_h * vpos\n",
    "\tx = max(0, min(iso_base_w - 1, x))\n",
    "\ty = max(0, min(iso_base_h - 1, y))\n",
    "\tu = (2 * x - iso_base_w) / iso_base_w\n",
    "\tv = (2 * y - iso_base_h) / iso_base_h\n",
    "\tr = max(-1, min(1, u - v))\n",
    "\ts = max(-1, min(1, u + v))\n",
    "\tsx = max(0, min(src_base_w - 1, (r + 1) * src_base_w / 2))\n",
    "\tsy = max(0, min(src_base_h - 1, (s + 1) * src_base_h / 2)) + voff\n",
    "\trv, gv, bv, av = rgb_im_v.getpixel((sx, sy))\n",
    "\tv = int(iso_base_h * (rv + gv + bv) / (3 * 255) / 2)\n",
    "\treturn sx, sy, v"
   ]
  },
  {
   "cell_type": "code",
   "execution_count": 37,
   "metadata": {},
   "outputs": [
    {
     "data": {
      "image/png": "[encoded data removed]",
      "text/plain": [
       "<Figure size 432x288 with 1 Axes>"
      ]
     },
     "metadata": {
      "needs_background": "light"
     },
     "output_type": "display_data"
    }
   ],
   "source": [
    "hpos = 11\n",
    "vpos = 11\n",
    "\n",
    "def convert_tile(hpos, vpos):\n",
    "\timg = Image.new( 'RGBA', (iso_base_w, iso_base_h * 2), (0, 0, 0, 0))\n",
    "\tpixels = img.load()\n",
    "\tfor y in range(img.size[1]):\n",
    "\t\tfor x in range(img.size[0]):\n",
    "\t\t\tif abs((iso_base_w - 1) / 2 - x) < (iso_base_h + 1) - abs(iso_base_h - 1 -2*y):\n",
    "\t\t\t\tsx, sy, v = convert_coords(x, y, hpos, vpos)\n",
    "\t\t\t\tr, g, b, a = rgb_im.getpixel((sx, sy))\n",
    "\t\t\t\tr, g, b = int(r * .8), int(g * .8), int(b * .8)\n",
    "\t\t\t\tfor i in range(0, v):\n",
    "\t\t\t\t\tpixels[x, iso_base_h + y - i] = (int(r/2), int(g/2), int(b/2), 255)\n",
    "\t\t\t\tpixels[x, iso_base_h + y - v] = (r, g, b, 255)\n",
    "\n",
    "plt.imshow(img)\n",
    "plt.show()"
   ]
  }
 ],
 "metadata": {
  "kernelspec": {
   "display_name": "Python 3",
   "language": "python",
   "name": "python3"
  },
  "language_info": {
   "codemirror_mode": {
    "name": "ipython",
    "version": 3
   },
   "file_extension": ".py",
   "mimetype": "text/x-python",
   "name": "python",
   "nbconvert_exporter": "python",
   "pygments_lexer": "ipython3",
   "version": "3.7.3"
  }
 },
 "nbformat": 4,
 "nbformat_minor": 2
}
