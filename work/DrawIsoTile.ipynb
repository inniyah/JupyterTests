{
 "cells": [
  {
   "cell_type": "code",
   "execution_count": 1,
   "metadata": {},
   "outputs": [],
   "source": [
    "from matplotlib import pyplot as plt\n",
    "from PIL import Image"
   ]
  },
  {
   "cell_type": "code",
   "execution_count": 2,
   "metadata": {},
   "outputs": [],
   "source": [
    "iso_base_w = 64\n",
    "iso_base_h = 32"
   ]
  },
  {
   "cell_type": "code",
   "execution_count": 25,
   "metadata": {},
   "outputs": [
    {
     "name": "stdout",
     "output_type": "stream",
     "text": [
      "{(227, 227, 227), (57, 57, 57), (142, 142, 142), (28, 28, 28), (113, 113, 113), (198, 198, 198), (0, 0, 0), (170, 170, 170), (255, 255, 255), (85, 85, 85)}\n",
      "[0, 28, 57, 85, 113, 142, 170, 198, 227, 255]\n"
     ]
    }
   ],
   "source": [
    "im_v = Image.open('tile-experiments/landh_ref.png')\n",
    "rgb_im_v = im.convert('RGB')\n",
    "\n",
    "cols_im_v = set()\n",
    "grey_im_v = set()\n",
    "for sy in range(rgb_im.size[1]):\n",
    "\tfor sx in range(rgb_im.size[0]):\n",
    "\t\tc = r, g, b = rgb_im.getpixel((sx, sy))\n",
    "\t\tcols_im_v.add(c)\n",
    "\t\tgrey_im_v.add((r + g + b) // 3)\n",
    "print(cols_im_v)\n",
    "print(sorted(grey_im_v))"
   ]
  },
  {
   "cell_type": "code",
   "execution_count": 35,
   "metadata": {},
   "outputs": [
    {
     "name": "stdout",
     "output_type": "stream",
     "text": [
      "(32, 3328)\n",
      "104.0\n"
     ]
    },
    {
     "data": {
      "image/png": "[encoded data removed]",
      "text/plain": [
       "<Figure size 432x288 with 1 Axes>"
      ]
     },
     "metadata": {
      "needs_background": "light"
     },
     "output_type": "display_data"
    }
   ],
   "source": [
    "im = Image.open('tile-experiments/landh_ref.png')\n",
    "rgb_im = im.convert('RGB')\n",
    "\n",
    "print(rgb_im.size)\n",
    "print(rgb_im.height / rgb_im.width)\n",
    "\n",
    "plt.imshow(im)\n",
    "plt.show()"
   ]
  },
  {
   "cell_type": "code",
   "execution_count": 23,
   "metadata": {},
   "outputs": [],
   "source": [
    "def convert_coords(x, y, w, h, voff):\n",
    "\tx = max(0, min(iso_base_w - 1, x))\n",
    "\ty = max(0, min(iso_base_h - 1, y))\n",
    "\tu = (2 * x - iso_base_w) / iso_base_w\n",
    "\tv = (2 * y - iso_base_h) / iso_base_h\n",
    "\tr = max(-1, min(1, u - v))\n",
    "\ts = max(-1, min(1, u + v))\n",
    "\tsx = max(0, min(w - 1, (r + 1) * w / 2))\n",
    "\tsy = max(0, min(h - 1, (s + 1) * h / 2)) + voff\n",
    "\trv, gv, bv = rgb_im_v.getpixel((sx, sy))\n",
    "\tv = int(iso_base_h * (rv + gv + bv) / (3 * 255) / 2)\n",
    "\treturn sx, sy, v"
   ]
  },
  {
   "cell_type": "code",
   "execution_count": 46,
   "metadata": {},
   "outputs": [
    {
     "data": {
      "image/png": "[encoded data removed]",
      "text/plain": [
       "<Figure size 432x288 with 1 Axes>"
      ]
     },
     "metadata": {
      "needs_background": "light"
     },
     "output_type": "display_data"
    }
   ],
   "source": [
    "img = Image.new( 'RGBA', (iso_base_w, iso_base_h * 2), (0, 0, 0, 0))\n",
    "pixels = img.load()\n",
    "vpos = 11\n",
    "\n",
    "for y in range(img.size[1]):\n",
    "\tfor x in range(img.size[0]):\n",
    "\t\tif abs((iso_base_w - 1) / 2 - x) < (iso_base_h + 1) - abs(iso_base_h - 1 -2*y):\n",
    "\t\t\tsx, sy, v = convert_coords(x, y, rgb_im.width, rgb_im.width, voff=rgb_im.width * vpos)\n",
    "\t\t\tr, g, b = rgb_im.getpixel((sx, sy))\n",
    "\t\t\tr, g, b = int(r * .8), int(g * .8), int(b * .8)\n",
    "\n",
    "\t\t\tfor i in range(0, v):\n",
    "\t\t\t\tpixels[x, iso_base_h + y - i] = (int(r/2), int(g/2), int(b/2), 255)\n",
    "\n",
    "\t\t\tpixels[x, iso_base_h + y - v] = (r, g, b, 255)\n",
    "\n",
    "plt.imshow(img)\n",
    "plt.show()"
   ]
  }
 ],
 "metadata": {
  "kernelspec": {
   "display_name": "Python 3",
   "language": "python",
   "name": "python3"
  },
  "language_info": {
   "codemirror_mode": {
    "name": "ipython",
    "version": 3
   },
   "file_extension": ".py",
   "mimetype": "text/x-python",
   "name": "python",
   "nbconvert_exporter": "python",
   "pygments_lexer": "ipython3",
   "version": "3.7.3"
  }
 },
 "nbformat": 4,
 "nbformat_minor": 2
}
