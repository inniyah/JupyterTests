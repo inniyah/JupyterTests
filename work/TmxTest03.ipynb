{
 "cells": [
  {
   "cell_type": "code",
   "execution_count": 1,
   "id": "e213a1dd",
   "metadata": {},
   "outputs": [
    {
     "name": "stdout",
     "output_type": "stream",
     "text": [
      "pygame 2.1.2 (SDL 2.0.16, Python 3.9.7)\n",
      "Hello from the pygame community. https://www.pygame.org/contribute.html\n",
      "[(1024, 768)]\n",
      "(1024, 768)\n"
     ]
    }
   ],
   "source": [
    "import pygame\n",
    "import pygame.display\n",
    "\n",
    "import pytmx\n",
    "\n",
    "from matplotlib import pyplot as plt\n",
    "from PIL import Image\n",
    "\n",
    "import os\n",
    "os.environ[\"SDL_VIDEODRIVER\"] = \"dummy\"\n",
    "os.environ[\"SDL_AUDIODRIVER\"] = \"dummy\"\n",
    "\n",
    "from pprint import pprint\n",
    "\n",
    "pygame.init()\n",
    "import pygame.display\n",
    "pygame.display.init()\n",
    "\n",
    "pprint(pygame.display.list_modes())\n",
    "\n",
    "gameMode = pygame.display.list_modes()[0]\n",
    "gameScreen = pygame.display.set_mode(gameMode)\n",
    "\n",
    "pprint((gameScreen.get_width(), gameScreen.get_height()))"
   ]
  },
  {
   "cell_type": "code",
   "execution_count": 2,
   "id": "38f82b41",
   "metadata": {},
   "outputs": [],
   "source": [
    "gameMap = pytmx.load_pygame('tmx-tests/rainbow_map.tmx')"
   ]
  },
  {
   "cell_type": "code",
   "execution_count": 3,
   "id": "d4e383f5",
   "metadata": {},
   "outputs": [
    {
     "name": "stdout",
     "output_type": "stream",
     "text": [
      "<TiledGroupLayer[117]: \"Nivel 00\">\n",
      "<TiledGroupLayer[117]: \"Nivel 00\">\n",
      "<TiledGroupLayer[121]: \"Nivel 01\">\n",
      "<TiledGroupLayer[121]: \"Nivel 01\">\n",
      "<TiledGroupLayer[128]: \"Nivel 02\">\n",
      "<TiledGroupLayer[128]: \"Nivel 02\">\n",
      "<TiledTileLayer[118]: \"Suelo 00\">\n",
      "<TiledTileLayer[119]: \"Objetos 00 A\">\n",
      "<TiledTileLayer[131]: \"Objetos 00 B\">\n",
      "<TiledTileLayer[122]: \"Suelo01\">\n",
      "<TiledTileLayer[123]: \"Objetos 01 A\">\n",
      "<TiledTileLayer[129]: \"Suelo02\">\n",
      "<TiledTileLayer[130]: \"Objetos 02 A\">\n"
     ]
    }
   ],
   "source": [
    "for layer in gameMap.visible_layers:\n",
    "    pprint(layer)\n",
    "    if type(layer) == pytmx.pytmx.TiledGroupLayer:\n",
    "        pprint(layer)\n",
    "    elif type(layer) == pytmx.pytmx.TiledTileLayer:\n",
    "        for x, y, gid, in layer:\n",
    "            tile = gameMap.get_tile_image_by_gid(gid)\n",
    "            if tile is not None:\n",
    "                #pprint(tile)\n",
    "                gameScreen.blit(tile, (x * gameMap.tilewidth, y * gameMap.tileheight))\n",
    "    else:\n",
    "        pprint(layer)\n",
    "\n",
    "pygame.display.update()"
   ]
  },
  {
   "cell_type": "code",
   "execution_count": 4,
   "id": "f5b69728",
   "metadata": {},
   "outputs": [
    {
     "data": {
      "image/png": "[encoded data removed]",
      "text/plain": [
       "<Figure size 432x288 with 1 Axes>"
      ]
     },
     "metadata": {
      "needs_background": "light"
     },
     "output_type": "display_data"
    }
   ],
   "source": [
    "rgba_data = pygame.image.tostring(gameScreen, 'RGBA')\n",
    "pil_img = Image.frombytes('RGBA', (100, 50), rgba_data)\n",
    "\n",
    "#from io import BytesIO\n",
    "#png_data = BytesIO()\n",
    "#pil_img.save(png_data, 'PNG')\n",
    "#print(png_data.getvalue())\n",
    "\n",
    "plt.imshow(pil_img)\n",
    "plt.show()\n"
   ]
  }
 ],
 "metadata": {
  "kernelspec": {
   "display_name": "Python 3 (ipykernel)",
   "language": "python",
   "name": "python3"
  },
  "language_info": {
   "codemirror_mode": {
    "name": "ipython",
    "version": 3
   },
   "file_extension": ".py",
   "mimetype": "text/x-python",
   "name": "python",
   "nbconvert_exporter": "python",
   "pygments_lexer": "ipython3",
   "version": "3.9.7"
  }
 },
 "nbformat": 4,
 "nbformat_minor": 5
}
