{
 "cells": [
  {
   "cell_type": "markdown",
   "id": "c34b7ef4",
   "metadata": {},
   "source": [
    "Se quiere analizar el tiro parab´olico en un terreno plano y sin rozamiento del aire. Las ecuaciones\n",
    "que lo gobiernan en funci´on del tiempo son:\n",
    "\n",
    "x = vt cos a, y = vt sin a − 1/2 g t**2,\n",
    "\n",
    "siendo a el ´angulo de disparo, v el m´odulo de la velocidad inicial, y g la aceleraci´on de la\n",
    "gravedad en el lugar.\n",
    "\n",
    "Prepare una funci´on coordenadas que tome como argumentos (en el orden indicado): la velo-\n",
    "cidad, el ´angulo de disparo, el tiempo y la aceleraci´on de la gravedad (´esta con un valor por\n",
    "defecto de 9.81 m/s2). La funci´on debe devolver un array de Numpy con los valores x e y en\n",
    "forma de vector columna. Adem´as debe ser una funci´on universal de numpy. (0.5 puntos)\n",
    "Prepare tres arrays de numpy (0.3 puntos):\n",
    "\n",
    " * velocidad inicial, v, de 50 m/s a 100 m/s en pasos de 10 m/s, sin incluir el extremo\n",
    "superior.\n",
    "\n",
    " * ´angulo de disparo, a, desde 45◦ a 90◦ com pasos de 5◦, sin incluir el extremo superior.\n",
    "\n",
    " * 50 tiempos, t, en total igualmente espaciados desde 0 s a 10 s, incluyendo ambos extremos.\n",
    "\n",
    "Cambie la forma a los arrays anteriormente creados de manera que puedan se usados en la\n",
    "funci´on coordenadas para que ´esta devuelva un array de Numpy de cuatro dimensiones con\n",
    "la estructura siguiente: la primera dimensi´on corresponde a los valores de v, la segunda a los\n",
    "valores de ´angulo a, la tercera a los diferentes tiempos, t. La cuarta dimensi´on contiene las dos\n",
    "componentes de posici´on, x e y. (0.3 puntos)\n",
    "\n",
    "Usando la funci´on coordenadas, prepare un array de Numpy de cuatro dimensiones denominado\n",
    "resul, a partir de los datos anteriormente citados. (0.3 puntos)\n",
    "\n",
    "Finalmente realice una gr´afica con matplotlib de las trayectorias para cada uno de los valores\n",
    "de v antes indicados, con su leyenda correspondiente, y etiquetando los ejes. (0.6 puntos)"
   ]
  },
  {
   "cell_type": "code",
   "execution_count": 173,
   "id": "04d41724",
   "metadata": {},
   "outputs": [],
   "source": [
    "from numpy import *\n",
    "import matplotlib as plt\n",
    "\n",
    "from pprint import pprint\n",
    "\n",
    "def coordenadas(v, a, t, g=9.81):\n",
    "    x = v*t*cos(a * pi / 180)\n",
    "    y = v*t*sin(a * pi / 180) - 0.5*g*t**2\n",
    "    array1=array([x, y])\n",
    "    return array1\n",
    "\n"
   ]
  },
  {
   "cell_type": "code",
   "execution_count": 174,
   "id": "ddbd0455",
   "metadata": {},
   "outputs": [
    {
     "name": "stdout",
     "output_type": "stream",
     "text": [
      "[149.90862405 -38.91007549]\n"
     ]
    }
   ],
   "source": [
    "print(coordenadas(50, 2, 3))"
   ]
  },
  {
   "cell_type": "code",
   "execution_count": 175,
   "id": "5f940354",
   "metadata": {
    "scrolled": true
   },
   "outputs": [
    {
     "name": "stdout",
     "output_type": "stream",
     "text": [
      "(5,)\n",
      "(9,)\n",
      "(50,)\n"
     ]
    }
   ],
   "source": [
    "v_inicial = arange(50, 100, 10)\n",
    "print(v_inicial.shape)\n",
    "\n",
    "a = arange(45, 90, 5)#grados\n",
    "print(a.shape)\n",
    "\n",
    "tiempos=linspace(0,10,50)\n",
    "print(tiempos.shape)"
   ]
  },
  {
   "cell_type": "code",
   "execution_count": 176,
   "id": "1a61af1a",
   "metadata": {},
   "outputs": [
    {
     "name": "stdout",
     "output_type": "stream",
     "text": [
      "(5, 1, 1)\n",
      "(1, 9, 1)\n",
      "(1, 1, 50)\n"
     ]
    },
    {
     "data": {
      "text/plain": [
       "(2, 5, 9, 50)"
      ]
     },
     "execution_count": 176,
     "metadata": {},
     "output_type": "execute_result"
    }
   ],
   "source": [
    "v_inicial.shape=(5,1,1)\n",
    "a.shape=(1,9,1)\n",
    "tiempos.shape=(1,1,50)\n",
    "\n",
    "print(v_inicial.shape)\n",
    "print(a.shape)\n",
    "print(tiempos.shape)\n",
    "\n",
    "coordenadas(v_inicial, a, tiempos).shape"
   ]
  },
  {
   "cell_type": "code",
   "execution_count": null,
   "id": "2abd27c2",
   "metadata": {},
   "outputs": [],
   "source": []
  },
  {
   "cell_type": "code",
   "execution_count": 243,
   "id": "b758c908",
   "metadata": {},
   "outputs": [
    {
     "name": "stdout",
     "output_type": "stream",
     "text": [
      "()\n",
      "()\n",
      "[149.90862405 -38.91007549]\n"
     ]
    }
   ],
   "source": [
    "v = array(50)\n",
    "a = array(2)\n",
    "t = array(3)\n",
    "g = 9.81\n",
    "\n",
    "x = v*t*cos(a * pi / 180)\n",
    "print(x.shape)\n",
    "y = v*t*sin(a * pi / 180) - 0.5*g*t**2\n",
    "print(y.shape)\n",
    "print(stack([x, y], axis=-1))"
   ]
  },
  {
   "cell_type": "code",
   "execution_count": 246,
   "id": "2e990f81",
   "metadata": {},
   "outputs": [
    {
     "name": "stdout",
     "output_type": "stream",
     "text": [
      "(5, 9, 50)\n",
      "(5, 9, 50)\n",
      "(5, 9, 50, 2)\n"
     ]
    }
   ],
   "source": [
    "v = arange(50, 100, 10).reshape(5,1,1)\n",
    "a = arange(45, 90, 5).reshape(1,9,1)\n",
    "t = linspace(0,10,50).reshape(1,1,50)\n",
    "g = 9.81\n",
    "\n",
    "x = v*t*cos(a * pi / 180)\n",
    "print(x.shape)\n",
    "y = v*t*sin(a * pi / 180) - 0.5*g*t**2\n",
    "print(y.shape)\n",
    "print(stack([x, y], axis=-1).shape)"
   ]
  },
  {
   "cell_type": "code",
   "execution_count": 241,
   "id": "5ecf3edb",
   "metadata": {},
   "outputs": [
    {
     "name": "stdout",
     "output_type": "stream",
     "text": [
      "(5, 9, 50)\n",
      "(5, 9, 50)\n",
      "(2, 5, 9, 50)\n"
     ]
    }
   ],
   "source": [
    "v = arange(50, 100, 10).reshape(5,1,1)\n",
    "a = arange(45, 90, 5).reshape(1,9,1)\n",
    "t = linspace(0,10,50).reshape(1,1,50)\n",
    "g = 9.81\n",
    "\n",
    "x = v*t*cos(a * pi / 180)\n",
    "print(x.shape)\n",
    "y = v*t*sin(a * pi / 180) - 0.5*g*t**2\n",
    "print(y.shape)\n",
    "print(array([x, y]).shape)"
   ]
  },
  {
   "cell_type": "code",
   "execution_count": 250,
   "id": "aa4dc240",
   "metadata": {},
   "outputs": [
    {
     "data": {
      "text/plain": [
       "array([[50],\n",
       "       [60],\n",
       "       [70],\n",
       "       [80],\n",
       "       [90]])"
      ]
     },
     "execution_count": 250,
     "metadata": {},
     "output_type": "execute_result"
    }
   ],
   "source": [
    "v = arange(50, 100, 10).reshape(5,1,1)\n",
    "a = arange(45, 90, 5).reshape(1,9,1)\n",
    "t = linspace(0,10,50).reshape(1,1,50)\n",
    "\n",
    "v[:,:,0]"
   ]
  },
  {
   "cell_type": "code",
   "execution_count": 251,
   "id": "ad8ec220",
   "metadata": {},
   "outputs": [
    {
     "name": "stdout",
     "output_type": "stream",
     "text": [
      "()\n",
      "()\n",
      "[[149.90862405]\n",
      " [-38.91007549]]\n"
     ]
    }
   ],
   "source": [
    "v = array(50)\n",
    "a = array(2)\n",
    "t = array(3)\n",
    "g = 9.81\n",
    "\n",
    "x = v*t*cos(a * pi / 180)\n",
    "print(x.shape)\n",
    "y = v*t*sin(a * pi / 180) - 0.5*g*t**2\n",
    "print(y.shape)\n",
    "print(stack([[x, y]], axis=-1))"
   ]
  },
  {
   "cell_type": "code",
   "execution_count": 253,
   "id": "e54a43ce",
   "metadata": {},
   "outputs": [
    {
     "name": "stdout",
     "output_type": "stream",
     "text": [
      "(5, 9, 50)\n",
      "(5, 9, 50)\n",
      "(2, 5, 9, 50, 1)\n"
     ]
    }
   ],
   "source": [
    "v = arange(50, 100, 10).reshape(5,1,1)\n",
    "a = arange(45, 90, 5).reshape(1,9,1)\n",
    "t = linspace(0,10,50).reshape(1,1,50)\n",
    "g = 9.81\n",
    "\n",
    "x = v*t*cos(a * pi / 180)\n",
    "print(x.shape)\n",
    "y = v*t*sin(a * pi / 180) - 0.5*g*t**2\n",
    "print(y.shape)\n",
    "print(stack([[x, y]], axis=-1).shape)"
   ]
  },
  {
   "cell_type": "code",
   "execution_count": 256,
   "id": "7ee7bef6",
   "metadata": {},
   "outputs": [
    {
     "name": "stdout",
     "output_type": "stream",
     "text": [
      "(3,)\n",
      "(3,)\n",
      "[[149.90862405 207.49332245 268.52091175]\n",
      " [-38.91007549 -63.97065346 -94.40231492]]\n"
     ]
    }
   ],
   "source": [
    "v = array([50, 52, 54])\n",
    "a = array([2, 4, 6])\n",
    "t = array([3, 4, 5])\n",
    "g = 9.81\n",
    "\n",
    "x = v*t*cos(a * pi / 180)\n",
    "print(x.shape)\n",
    "y = v*t*sin(a * pi / 180) - 0.5*g*t**2\n",
    "print(y.shape)\n",
    "print(stack([x, y], axis=-1).T)"
   ]
  },
  {
   "cell_type": "code",
   "execution_count": 257,
   "id": "0aa941d3",
   "metadata": {},
   "outputs": [
    {
     "name": "stdout",
     "output_type": "stream",
     "text": [
      "()\n",
      "()\n",
      "[149.90862405 -38.91007549]\n"
     ]
    }
   ],
   "source": [
    "v = array(50)\n",
    "a = array(2)\n",
    "t = array(3)\n",
    "g = 9.81\n",
    "\n",
    "x = v*t*cos(a * pi / 180)\n",
    "print(x.shape)\n",
    "y = v*t*sin(a * pi / 180) - 0.5*g*t**2\n",
    "print(y.shape)\n",
    "print(stack([x, y], axis=-1).T)"
   ]
  },
  {
   "cell_type": "code",
   "execution_count": 259,
   "id": "ad259c16",
   "metadata": {},
   "outputs": [
    {
     "name": "stdout",
     "output_type": "stream",
     "text": [
      "(5, 9, 50)\n",
      "(5, 9, 50)\n",
      "(2, 50, 9, 5)\n"
     ]
    }
   ],
   "source": [
    "v = arange(50, 100, 10).reshape(5,1,1)\n",
    "a = arange(45, 90, 5).reshape(1,9,1)\n",
    "t = linspace(0,10,50).reshape(1,1,50)\n",
    "g = 9.81\n",
    "\n",
    "x = v*t*cos(a * pi / 180)\n",
    "print(x.shape)\n",
    "y = v*t*sin(a * pi / 180) - 0.5*g*t**2\n",
    "print(y.shape)\n",
    "print(stack([x, y], axis=-1).T.shape)"
   ]
  },
  {
   "cell_type": "code",
   "execution_count": 263,
   "id": "922f74f2",
   "metadata": {},
   "outputs": [
    {
     "name": "stdout",
     "output_type": "stream",
     "text": [
      "(1,)\n",
      "(1,)\n",
      "[[149.90862405]\n",
      " [-38.91007549]]\n"
     ]
    }
   ],
   "source": [
    "v = array([50])\n",
    "a = array([2])\n",
    "t = array([3])\n",
    "g = 9.81\n",
    "\n",
    "x = v*t*cos(a * pi / 180)\n",
    "print(x.shape)\n",
    "y = v*t*sin(a * pi / 180) - 0.5*g*t**2\n",
    "print(y.shape)\n",
    "print(stack([x, y], axis=-1).T)"
   ]
  },
  {
   "cell_type": "code",
   "execution_count": 261,
   "id": "52357382",
   "metadata": {},
   "outputs": [
    {
     "name": "stdout",
     "output_type": "stream",
     "text": [
      "(5, 9, 50)\n",
      "(5, 9, 50)\n",
      "(50, 9, 5, 2)\n"
     ]
    }
   ],
   "source": [
    "v = arange(50, 100, 10).reshape(5,1,1)\n",
    "a = arange(45, 90, 5).reshape(1,9,1)\n",
    "t = linspace(0,10,50).reshape(1,1,50)\n",
    "g = 9.81\n",
    "\n",
    "x = v*t*cos(a * pi / 180)\n",
    "print(x.shape)\n",
    "y = v*t*sin(a * pi / 180) - 0.5*g*t**2\n",
    "print(y.shape)\n",
    "print(array([x, y]).T.shape)"
   ]
  },
  {
   "cell_type": "code",
   "execution_count": 271,
   "id": "cfe5c4be",
   "metadata": {},
   "outputs": [
    {
     "name": "stdout",
     "output_type": "stream",
     "text": [
      "(1,)\n",
      "(1,)\n",
      "[[149.90862405]\n",
      " [-38.91007549]]\n"
     ]
    }
   ],
   "source": [
    "v = asarray(50).reshape(-1)\n",
    "a = asarray(2).reshape(-1)\n",
    "t = asarray(3).reshape(-1)\n",
    "g = 9.81\n",
    "\n",
    "x = v*t*cos(a * pi / 180)\n",
    "print(x.shape)\n",
    "y = v*t*sin(a * pi / 180) - 0.5*g*t**2\n",
    "print(y.shape)\n",
    "print(array([x, y]))"
   ]
  },
  {
   "cell_type": "code",
   "execution_count": 272,
   "id": "4610a3de",
   "metadata": {},
   "outputs": [
    {
     "name": "stdout",
     "output_type": "stream",
     "text": [
      "(5, 9, 50)\n",
      "(5, 9, 50)\n",
      "(5, 18, 50)\n"
     ]
    }
   ],
   "source": [
    "v = arange(50, 100, 10).reshape(5,1,1)\n",
    "a = arange(45, 90, 5).reshape(1,9,1)\n",
    "t = linspace(0,10,50).reshape(1,1,50)\n",
    "g = 9.81\n",
    "\n",
    "x = v*t*cos(a * pi / 180)\n",
    "print(x.shape)\n",
    "y = v*t*sin(a * pi / 180) - 0.5*g*t**2\n",
    "print(y.shape)\n",
    "print(column_stack([x, y]).shape)"
   ]
  },
  {
   "cell_type": "code",
   "execution_count": 275,
   "id": "7c9d043a",
   "metadata": {},
   "outputs": [
    {
     "name": "stdout",
     "output_type": "stream",
     "text": [
      "(5, 1, 9, 50)\n",
      "(5, 1, 9, 50)\n"
     ]
    },
    {
     "ename": "TypeError",
     "evalue": "'axis' is an invalid keyword argument for print()",
     "output_type": "error",
     "traceback": [
      "\u001b[0;31m---------------------------------------------------------------------------\u001b[0m",
      "\u001b[0;31mTypeError\u001b[0m                                 Traceback (most recent call last)",
      "Cell \u001b[0;32mIn[275], line 10\u001b[0m\n\u001b[1;32m      8\u001b[0m y \u001b[38;5;241m=\u001b[39m v\u001b[38;5;241m*\u001b[39mt\u001b[38;5;241m*\u001b[39msin(a \u001b[38;5;241m*\u001b[39m pi \u001b[38;5;241m/\u001b[39m \u001b[38;5;241m180\u001b[39m) \u001b[38;5;241m-\u001b[39m \u001b[38;5;241m0.5\u001b[39m\u001b[38;5;241m*\u001b[39mg\u001b[38;5;241m*\u001b[39mt\u001b[38;5;241m*\u001b[39m\u001b[38;5;241m*\u001b[39m\u001b[38;5;241m2\u001b[39m\n\u001b[1;32m      9\u001b[0m \u001b[38;5;28mprint\u001b[39m(y\u001b[38;5;241m.\u001b[39mshape)\n\u001b[0;32m---> 10\u001b[0m \u001b[38;5;28;43mprint\u001b[39;49m\u001b[43m(\u001b[49m\u001b[43mstack\u001b[49m\u001b[43m(\u001b[49m\u001b[43m[\u001b[49m\u001b[43mx\u001b[49m\u001b[43m,\u001b[49m\u001b[43m \u001b[49m\u001b[43my\u001b[49m\u001b[43m]\u001b[49m\u001b[43m)\u001b[49m\u001b[38;5;241;43m.\u001b[39;49m\u001b[43mshape\u001b[49m\u001b[43m,\u001b[49m\u001b[43m \u001b[49m\u001b[43maxis\u001b[49m\u001b[38;5;241;43m=\u001b[39;49m\u001b[38;5;241;43m-\u001b[39;49m\u001b[38;5;241;43m1\u001b[39;49m\u001b[43m)\u001b[49m\n",
      "\u001b[0;31mTypeError\u001b[0m: 'axis' is an invalid keyword argument for print()"
     ]
    }
   ],
   "source": [
    "v = arange(50, 100, 10).reshape(5,1,1,1)\n",
    "a = arange(45, 90, 5).reshape(1,1,9,1)\n",
    "t = linspace(0,10,50).reshape(1,1,1,50)\n",
    "g = 9.81\n",
    "\n",
    "x = v*t*cos(a * pi / 180)\n",
    "print(x.shape)\n",
    "y = v*t*sin(a * pi / 180) - 0.5*g*t**2\n",
    "print(y.shape)\n",
    "print(stack([x, y]).shape, axis=-1)"
   ]
  },
  {
   "cell_type": "code",
   "execution_count": null,
   "id": "b1d29222",
   "metadata": {},
   "outputs": [],
   "source": []
  }
 ],
 "metadata": {
  "kernelspec": {
   "display_name": "Python 3 (ipykernel)",
   "language": "python",
   "name": "python3"
  },
  "language_info": {
   "codemirror_mode": {
    "name": "ipython",
    "version": 3
   },
   "file_extension": ".py",
   "mimetype": "text/x-python",
   "name": "python",
   "nbconvert_exporter": "python",
   "pygments_lexer": "ipython3",
   "version": "3.11.9"
  }
 },
 "nbformat": 4,
 "nbformat_minor": 5
}
