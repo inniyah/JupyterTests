{
 "cells": [
  {
   "cell_type": "code",
   "execution_count": 1,
   "id": "68b948ca",
   "metadata": {},
   "outputs": [],
   "source": [
    "import sys\n",
    "import math\n",
    "\n",
    "import numpy as np\n",
    "\n",
    "# https://github.com/alexhunsley/numpy-vox-io\n",
    "# https://github.com/gromgull/py-vox-io\n",
    "from pyvox.models import Vox\n",
    "from pyvox.writer import VoxWriter\n",
    "from pyvox.parser import VoxParser\n",
    "\n",
    "import matplotlib.pyplot as plt\n",
    "from matplotlib.colors import ListedColormap"
   ]
  },
  {
   "cell_type": "code",
   "execution_count": 4,
   "id": "eb14259c",
   "metadata": {},
   "outputs": [
    {
     "name": "stdout",
     "output_type": "stream",
     "text": [
      "0 14236\n",
      "size 31 7 24\n",
      "size 31 7 24\n",
      "size 31 7 24\n",
      "size 31 7 24\n"
     ]
    }
   ],
   "source": [
    "import magicavoxel\n",
    "\n",
    "volume_list, palette = magicavoxel.read('vox/horse.vox')\n",
    "frame_count = len(volume_list)\n",
    "\n",
    "for frame_index, voxels in enumerate(volume_list):    \n",
    "    (plane_count, row_count, col_count) = voxels.shape\n",
    "    for col in range(frame_index, col_count, frame_count):\n",
    "        voxels[0][0][col]\n",
    "    for row in range(frame_index, row_count, frame_count):\n",
    "        voxels[0][row][0]\n",
    "    for plane in range(frame_index, plane_count, frame_count):\n",
    "        voxels[plane][0][0]\n"
   ]
  },
  {
   "cell_type": "code",
   "execution_count": null,
   "id": "a4e4919d",
   "metadata": {},
   "outputs": [],
   "source": []
  }
 ],
 "metadata": {
  "kernelspec": {
   "display_name": "Python 3 (ipykernel)",
   "language": "python",
   "name": "python3"
  },
  "language_info": {
   "codemirror_mode": {
    "name": "ipython",
    "version": 3
   },
   "file_extension": ".py",
   "mimetype": "text/x-python",
   "name": "python",
   "nbconvert_exporter": "python",
   "pygments_lexer": "ipython3",
   "version": "3.9.7"
  }
 },
 "nbformat": 4,
 "nbformat_minor": 5
}
