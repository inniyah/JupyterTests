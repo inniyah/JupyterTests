{
 "cells": [
  {
   "cell_type": "code",
   "execution_count": 1,
   "id": "4ea5d0bf-c4ff-43ef-baf2-8bc9594f9f5d",
   "metadata": {},
   "outputs": [],
   "source": [
    "from math import *\n",
    "from pprint import pprint"
   ]
  },
  {
   "cell_type": "code",
   "execution_count": 53,
   "id": "eec9ac6f-d9ca-44f0-aba8-43d07efda3e4",
   "metadata": {},
   "outputs": [
    {
     "name": "stdout",
     "output_type": "stream",
     "text": [
      "R = 8.308650000000002 kilogram * meter ** 2 / kelvin / mole / second ** 2\n"
     ]
    }
   ],
   "source": [
    "from pint import UnitRegistry, set_application_registry\n",
    "ureg = UnitRegistry()\n",
    "set_application_registry(ureg)\n",
    "\n",
    "litros = ureg.litre\n",
    "atmosferas = ureg.atmosphere\n",
    "moles = ureg.mol\n",
    "kelvins = ureg.kelvin\n",
    "kilogramos = ureg.kilogram\n",
    "gramos = ureg.gram\n",
    "metros = ureg.meter\n",
    "centimetros = ureg.centimeter\n",
    "julios = ureg.joule\n",
    "kilojulios = ureg.kilojoule\n",
    "pascales = ureg.pascal\n",
    "\n",
    "R = 0.082 * litros * atmosferas / kelvins / moles # https://en.wikipedia.org/wiki/Gas_constant\n",
    "print('R =', R.to_base_units())"
   ]
  },
  {
   "cell_type": "markdown",
   "id": "5056286c-b552-4525-a1cf-669e8ec50afc",
   "metadata": {},
   "source": [
    "***"
   ]
  },
  {
   "cell_type": "markdown",
   "id": "2337d880-72aa-4d5b-850d-9aaab121a693",
   "metadata": {},
   "source": [
    "Se tienen 0,75 moles de gas ideal monoatómico que inicialmente se encuentra a una\n",
    "presión de 3x10**5 Pa y una temperatura de 500 K (Estado A).\n",
    "\n",
    "Desde este punto, el sistema es sometido a la siguiente serie de procesos cuasi-estáticos:\n",
    "* 1) Expansión isotérmica hasta reducir a la mitad la presión del gas (Estado B)\n",
    "* 2) expansión isobárica hasta aumentar el volumen del gas a tres veces el valor inicial del estado A (Estado C)\n",
    "* 3) enfriamiento isocórico hasta volver a la temperatura del estado A (Estado D)\n",
    "* 4) compresión lineal para cerrar el ciclo.\n",
    "\n",
    "Calcular:\n",
    "* a. Representar el ciclo en un diagrama P vs V e indicar gráficamente si el sistema cede o absorbe calor en cada proceso.\n",
    "* b. Calcular la temperatura y la presión en el estado B.\n",
    "* c. Calcular la temperatura en el estado C\n",
    "* d. Calcular la presión en el estado D.\n",
    "* e. Calcular el/la rendimiento/eficacia del ciclo al que se somete el gas.\n",
    "*    Si se siguiese el mismo ciclo en sentido opuesto: calcula el parámetro correspondiente (rendimiento/eficacia).\n",
    "* f. Calcular el rendimiento de una máquina reversible que trabaje entre los focos extremos del ciclo y el trabajo perdido por no aplicar ese ciclo de Carnot al gas.\n",
    "* g. Calcular la variación de entropía del sistema y del medio en cada proceso."
   ]
  },
  {
   "cell_type": "code",
   "execution_count": 3,
   "id": "e0cd2187-1a93-44f4-bac1-d4a718ac9d11",
   "metadata": {},
   "outputs": [
    {
     "name": "stdout",
     "output_type": "stream",
     "text": [
      "gamma =  1.6666666666666667\n",
      "Cv =  0.09225 liter * standard_atmosphere / kelvin\n",
      "Cp =  0.15375 liter * standard_atmosphere / kelvin\n",
      "Va =  10.3858125 liter\n"
     ]
    }
   ],
   "source": [
    "n = 0.75 * moles\n",
    "\n",
    "# Monoatómico\n",
    "gamma = 5 / 3\n",
    "Cv = n * R * 3 / 2\n",
    "Cp = Cv + n * R\n",
    "\n",
    "print('gamma = ', gamma)\n",
    "print('Cv = ', Cv)\n",
    "print('Cp = ', Cp)\n",
    "\n",
    "Pa = 3e5 * pascales\n",
    "Ta = 500 * kelvins\n",
    "Va = n * R * Ta / Pa\n",
    "print('Va = ', Va.to(litros))"
   ]
  },
  {
   "cell_type": "code",
   "execution_count": 4,
   "id": "fb308c74-aa1f-4eb4-b7f5-0c1259d042ce",
   "metadata": {},
   "outputs": [
    {
     "name": "stdout",
     "output_type": "stream",
     "text": [
      "Tb =  500 kelvin\n",
      "Pb =  150000.0 pascal\n",
      "Vb =  20.771625 liter\n"
     ]
    }
   ],
   "source": [
    "Tb = Ta\n",
    "Pb = Pa / 2\n",
    "Vb = n * R * Tb / Pb\n",
    "print('Tb = ', Tb.to(kelvins))\n",
    "print('Pb = ', Pb.to(pascales))\n",
    "print('Vb = ', Vb.to(litros))"
   ]
  },
  {
   "cell_type": "code",
   "execution_count": 5,
   "id": "da730cf7-9a45-4fc0-a1b6-27edb7be061f",
   "metadata": {},
   "outputs": [
    {
     "name": "stdout",
     "output_type": "stream",
     "text": [
      "Tc =  750.0 kelvin\n",
      "Pc =  150000.0 pascal\n",
      "Vc =  31.1574375 liter\n"
     ]
    }
   ],
   "source": [
    "Pc = Pb\n",
    "Vc = 3 * Va\n",
    "Tc = Pc * Vc / (n * R)\n",
    "print('Tc = ', Tc.to(kelvins))\n",
    "print('Pc = ', Pc.to(pascales))\n",
    "print('Vc = ', Vc.to(litros))"
   ]
  },
  {
   "cell_type": "code",
   "execution_count": 6,
   "id": "6e9f5b45-82f3-4b11-970b-82f40bdae036",
   "metadata": {},
   "outputs": [
    {
     "name": "stdout",
     "output_type": "stream",
     "text": [
      "Td =  500 kelvin\n",
      "Pd =  100000.0 pascal\n",
      "Vd =  31.1574375 liter\n"
     ]
    }
   ],
   "source": [
    "Td = Ta\n",
    "Vd = Vc\n",
    "Pd = n * R *Td / Vd\n",
    "print('Td = ', Td.to(kelvins))\n",
    "print('Pd = ', Pd.to(pascales))\n",
    "print('Vd = ', Vd.to(litros))"
   ]
  },
  {
   "cell_type": "code",
   "execution_count": 7,
   "id": "be1b4a5e-7ee0-4bec-bced-7a598fa9a09a",
   "metadata": {},
   "outputs": [
    {
     "name": "stdout",
     "output_type": "stream",
     "text": [
      "Wab =  -2159.6689956597716 joule\n",
      "Wbc =  -1557.8718750000003 joule\n",
      "Wcd =  0 joule\n",
      "Wda =  4154.325000000001 joule\n",
      "Wtotal =  436.7841293402289 joule\n"
     ]
    }
   ],
   "source": [
    "Wab = - n * R * Ta * log(Vb/Va)\n",
    "print('Wab = ', Wab.to(julios))\n",
    "\n",
    "Wbc = - Pb * (Vc - Vb)\n",
    "print('Wbc = ', Wbc.to(julios))\n",
    "\n",
    "Wcd = 0 * julios\n",
    "print('Wcd = ', Wcd.to(julios))\n",
    "\n",
    "Wda = (Pa + Pd) / 2 * (Vd - Va)\n",
    "print('Wda = ', Wda.to(julios))\n",
    "\n",
    "Wtotal = Wab + Wbc + Wcd + Wda\n",
    "print('Wtotal = ', Wtotal.to(julios))"
   ]
  },
  {
   "cell_type": "code",
   "execution_count": 8,
   "id": "f64a00a9-c8eb-491c-9880-c5cddcc2007a",
   "metadata": {},
   "outputs": [
    {
     "name": "stdout",
     "output_type": "stream",
     "text": [
      "Qab =  2159.6689956597716 joule\n",
      "Qbc =  3894.6796875000005 joule\n",
      "Qcd =  -2336.8078125 joule\n",
      "Qda =  -4154.325000000001 joule\n",
      "Qtotal =  -436.7841293402289 joule\n"
     ]
    }
   ],
   "source": [
    "Qab = -Wab # Isotérmico\n",
    "print('Qab = ', Qab.to(julios))\n",
    "\n",
    "Qbc = Cp * (Tc - Tb) # Isobárico\n",
    "print('Qbc = ', Qbc.to(julios))\n",
    "\n",
    "Qcd = Cv * (Td - Tc) # Isocórico\n",
    "print('Qcd = ', Qcd.to(julios))\n",
    "\n",
    "Qda = - Wtotal - Qab - Qbc - Qcd\n",
    "print('Qda = ', Qda.to(julios))\n",
    "\n",
    "Qtotal = Qab + Qbc + Qcd + Qda\n",
    "print('Qtotal = ', Qtotal.to(julios))"
   ]
  },
  {
   "cell_type": "code",
   "execution_count": 9,
   "id": "1e6b0bb7-ce82-4513-8736-8eea20972242",
   "metadata": {},
   "outputs": [
    {
     "name": "stdout",
     "output_type": "stream",
     "text": [
      "Qabs =  6054.348683159772 joule\n",
      "Qced =  6491.132812500001 joule\n"
     ]
    }
   ],
   "source": [
    "Qabs = Qab + Qbc\n",
    "print('Qabs = ', Qabs.to(julios))\n",
    "\n",
    "Qced = -( Qcd + Qda )\n",
    "print('Qced = ', Qced.to(julios))"
   ]
  },
  {
   "cell_type": "code",
   "execution_count": 21,
   "id": "f9a5fdbc-3493-4c2b-a8a5-0f869a0fc147",
   "metadata": {},
   "outputs": [
    {
     "name": "stdout",
     "output_type": "stream",
     "text": [
      "Rendimiento =  -7.214386752371037 %\n"
     ]
    }
   ],
   "source": [
    "Rendimiento = - Wtotal / Qabs\n",
    "print('Rendimiento = ', float(Rendimiento) * 100, '%')"
   ]
  },
  {
   "cell_type": "code",
   "execution_count": 20,
   "id": "7e0f5e34-a0e8-4a4a-bb7a-4814a517e8cd",
   "metadata": {},
   "outputs": [
    {
     "name": "stdout",
     "output_type": "stream",
     "text": [
      "Wtotal_inv =  -436.7841293402289 joule\n",
      "Qabs_inv =  6491.132812500001 joule\n",
      "Qced_inv =  6054.348683159772 joule\n",
      "Rendimiento_inv =  6.728935333122624 %\n"
     ]
    }
   ],
   "source": [
    "Wtotal_inv = - Wtotal\n",
    "Qabs_inv = Qced\n",
    "Qced_inv = Qabs\n",
    "print('Wtotal_inv = ', Wtotal_inv.to(julios))\n",
    "print('Qabs_inv = ', Qabs_inv.to(julios))\n",
    "print('Qced_inv = ', Qced_inv.to(julios))\n",
    "\n",
    "Rendimiento_inv = - Wtotal_inv / Qabs_inv\n",
    "print('Rendimiento_inv = ', float(Rendimiento_inv) * 100, '%')"
   ]
  },
  {
   "cell_type": "code",
   "execution_count": 13,
   "id": "4c13ec57-dc00-4f17-80d8-ac9518dbe608",
   "metadata": {},
   "outputs": [
    {
     "name": "stdout",
     "output_type": "stream",
     "text": [
      "Eficiencia_Carnot =  33.33333333333333 %\n"
     ]
    }
   ],
   "source": [
    "# http://tesla.us.es/wiki/index.php/Segundo_principio_de_la_termodin%C3%A1mica_(GIE)#Teorema_de_Carnot\n",
    "Eficiencia_Carnot = (Tc - Ta) / Tc\n",
    "print('Eficiencia_Carnot = ', float(Eficiencia_Carnot) * 100, '%')"
   ]
  },
  {
   "cell_type": "code",
   "execution_count": 22,
   "id": "5fabe3b6",
   "metadata": {},
   "outputs": [
    {
     "name": "stdout",
     "output_type": "stream",
     "text": [
      "W_Carnot =  -2163.7109375 joule\n",
      "W_Perdido =  -1726.926808159771 joule\n"
     ]
    }
   ],
   "source": [
    "W_Carnot = - Eficiencia_Carnot * Qabs_inv\n",
    "print('W_Carnot = ', W_Carnot.to(julios))\n",
    "W_Perdido = W_Carnot - Wtotal_inv\n",
    "print('W_Perdido = ', W_Perdido.to(julios))"
   ]
  },
  {
   "cell_type": "code",
   "execution_count": 30,
   "id": "58c5f1ca",
   "metadata": {},
   "outputs": [
    {
     "name": "stdout",
     "output_type": "stream",
     "text": [
      "DeltaSab =  4.319337991319543 joule / kelvin\n",
      "DeltaSab =  4.319337991319543 joule / kelvin\n",
      "DeltaSab =  4.319337991319543 joule / kelvin\n",
      "DeltaSmedio_ab =  -4.319337991319543 joule / kelvin\n"
     ]
    }
   ],
   "source": [
    "# https://www2.montes.upm.es/dptos/digfa/cfisica/termo2p/aplicaciones2p.html\n",
    "\n",
    "# https://espanol.libretexts.org/Quimica/Qu%C3%ADmica_F%C3%ADsica_y_Te%C3%B3rica/Libro%3A_Termodin%C3%A1mica_y_Equilibrio_Qu%C3%ADmico_(Ellgen)/12%3A_Aplicaciones_de_los_Criterios_Termodin%C3%A1micos_para_el_Cambio/12.04%3A_Medici%C3%B3n_del_Cambio_de_Entrop%C3%ADa_para_Cualquier_Proceso_Reversible\n",
    "\n",
    "# Isotérmico\n",
    "DeltaSab = Cv * log(Tb / Ta) + n * R * log(Vb / Va)\n",
    "print('DeltaSab = ', DeltaSab.to(julios/kelvins))\n",
    "\n",
    "DeltaSab = n * R * log(Vb / Va)\n",
    "print('DeltaSab = ', DeltaSab.to(julios/kelvins))\n",
    "\n",
    "DeltaSab = Qab / Ta\n",
    "print('DeltaSab = ', DeltaSab.to(julios/kelvins))\n",
    "\n",
    "Ta_medio = Ta\n",
    "DeltaSmedio_ab = -Qab / Ta_medio\n",
    "print('DeltaSmedio_ab = ', DeltaSmedio_ab.to(julios/kelvins))\n"
   ]
  },
  {
   "cell_type": "code",
   "execution_count": 33,
   "id": "1324528f",
   "metadata": {},
   "outputs": [
    {
     "name": "stdout",
     "output_type": "stream",
     "text": [
      "DeltaSbc =  6.316626882155439 joule / kelvin\n",
      "DeltaSbc =  6.316626882155439 joule / kelvin\n",
      "DeltaSmedio_bc =  -6.316626882155439 joule / kelvin\n"
     ]
    }
   ],
   "source": [
    "# https://openstax.org/books/f%C3%ADsica-universitaria-volumen-2/pages/4-6-entropia\n",
    "\n",
    "# Isobárico\n",
    "DeltaSbc = Cv * log(Tc / Tb) + n * R * log(Vc / Vb)\n",
    "print('DeltaSbc = ', DeltaSbc.to(julios/kelvins))\n",
    "\n",
    "DeltaSbc = Cp * log(Tc / Tb)\n",
    "print('DeltaSbc = ', DeltaSbc.to(julios/kelvins))\n",
    "\n",
    "# Cuasiestático: es un proceso que tiene lugar de forma infinitamente lenta.\n",
    "# Generalmente este hecho implica que el sistema pasa por sucesivos estados\n",
    "# de equilibrio, en cuyo caso la transformación es también reversible.\n",
    "\n",
    "# Como es proceso cuasiestático/reversible\n",
    "DeltaSmedio_bc = - DeltaSbc\n",
    "print('DeltaSmedio_bc = ', DeltaSmedio_bc.to(julios/kelvins))\n"
   ]
  },
  {
   "cell_type": "code",
   "execution_count": 36,
   "id": "6aa0c89b",
   "metadata": {},
   "outputs": [
    {
     "name": "stdout",
     "output_type": "stream",
     "text": [
      "DeltaScd =  -3.789976129293264 joule / kelvin\n"
     ]
    }
   ],
   "source": [
    "# Isocórico, isócoro o isométrico\n",
    "\n",
    "DeltaScd = Cv * log(Td / Tc)\n",
    "print('DeltaScd = ', DeltaScd.to(julios/kelvins))\n"
   ]
  },
  {
   "cell_type": "code",
   "execution_count": 37,
   "id": "6e3c382e",
   "metadata": {},
   "outputs": [
    {
     "name": "stdout",
     "output_type": "stream",
     "text": [
      "DeltaSda =  -6.845988744181718 joule / kelvin\n"
     ]
    }
   ],
   "source": [
    "# Caso general\n",
    "DeltaSda = Cv * log(Ta / Td) + n * R * log(Va / Vd)\n",
    "print('DeltaSda = ', DeltaSda.to(julios/kelvins))\n"
   ]
  },
  {
   "cell_type": "code",
   "execution_count": 38,
   "id": "5bf43163",
   "metadata": {},
   "outputs": [
    {
     "name": "stdout",
     "output_type": "stream",
     "text": [
      "0.0 liter * standard_atmosphere / kelvin\n"
     ]
    }
   ],
   "source": [
    "print(DeltaSab + DeltaSbc + DeltaScd + DeltaSda)"
   ]
  },
  {
   "cell_type": "markdown",
   "id": "2ec81976",
   "metadata": {},
   "source": [
    "***"
   ]
  },
  {
   "cell_type": "markdown",
   "id": "f9b6da2e",
   "metadata": {},
   "source": [
    "Se quiere hacer una mezcla de aceite y agua a diferentes temperaturas para dejar la\n",
    "temperatura de equilibrio del sistema en un valor determinado. Sabiendo que la\n",
    "temperatura inicial del aceite es de 90 ⁰C y la del agua 10 ⁰C, contestar a las siguientes\n",
    "cuestiones. Datos: [c_agua = 4.18 kJ/(kg∙K), rho_aceite = 0.87 g/cm3, c_aceite = 2.0 kJ/(kg∙K)].\n",
    "\n",
    "* a. ¿Qué masa de agua ha de ponerse en contacto con 3 litros de aceite para una vez alcanzado el equilibrio la temperatura de este haya disminuido en 60 ⁰C?\n",
    "\n",
    "* b. Calcular la variación de la entropía del aceite, del agua y la variación de entropía del universo tras el proceso de termalización. Considerar que todo el proceso transcurre a presión constante y en un sistema aislado. [c_agua = 4.18 kJ/(kg∙K), rho_aceite = 0.87 g/cm3, c_aceite = 2.0 kJ/(kg∙K)]\n",
    "    "
   ]
  },
  {
   "cell_type": "code",
   "execution_count": 59,
   "id": "fce1c6e4",
   "metadata": {},
   "outputs": [
    {
     "name": "stdout",
     "output_type": "stream",
     "text": [
      "Tini_aceite =  363.15 kelvin\n",
      "Tini_agua =  283.15 kelvin\n",
      "rho_agua =  1.0 gram / centimeter ** 3\n",
      "c_agua =  4.18 kilojoule / kelvin / kilogram\n",
      "rho_aceite =  0.87 gram / centimeter ** 3\n",
      "c_aceite =  2.0 kilojoule / kelvin / kilogram\n"
     ]
    }
   ],
   "source": [
    "Tini_aceite = (273.15 + 90) * kelvins\n",
    "Tini_agua = (273.15 + 10) * kelvins\n",
    "\n",
    "rho_agua = 1.0 * gramos / centimetros ** 3\n",
    "c_agua = 4.18 * kilojulios / (kilogramos * kelvins)\n",
    "rho_aceite = 0.87 * gramos / centimetros ** 3\n",
    "c_aceite = 2.0 * kilojulios / (kilogramos * kelvins)\n",
    "\n",
    "print('Tini_aceite = ', Tini_aceite )\n",
    "print('Tini_agua = ', Tini_agua )\n",
    "print('rho_agua = ', rho_agua )\n",
    "print('c_agua = ', c_agua )\n",
    "print('rho_aceite = ', rho_aceite )\n",
    "print('c_aceite = ', c_aceite )"
   ]
  },
  {
   "cell_type": "code",
   "execution_count": 70,
   "id": "f7446c23",
   "metadata": {},
   "outputs": [
    {
     "name": "stdout",
     "output_type": "stream",
     "text": [
      "deltaT_aceite =  -60 kelvin\n",
      "Tfinal =  303.15 kelvin\n",
      "V_aceite =  3 liter\n",
      "m_aceite =  2.6100000000000003 kilogram\n"
     ]
    }
   ],
   "source": [
    "deltaT_aceite = - 60 * kelvins\n",
    "print('deltaT_aceite = ', deltaT_aceite )\n",
    "\n",
    "Tfinal = Tini_aceite + deltaT_aceite\n",
    "print('Tfinal = ', Tfinal )\n",
    "\n",
    "V_aceite = 3 * litros\n",
    "m_aceite = V_aceite * rho_aceite\n",
    "print('V_aceite = ', V_aceite )\n",
    "print('m_aceite = ', m_aceite.to(kilogramos) )"
   ]
  },
  {
   "cell_type": "code",
   "execution_count": 72,
   "id": "4d135268",
   "metadata": {},
   "outputs": [
    {
     "name": "stdout",
     "output_type": "stream",
     "text": [
      "q_aceite =  -313200.0 joule\n",
      "q_agua =  313200.0 joule\n",
      "deltaT_agua =  20.0 kelvin\n",
      "m_agua =  3.7464114832535893 kilogram\n"
     ]
    }
   ],
   "source": [
    "q_aceite = c_aceite * m_aceite * deltaT_aceite\n",
    "print('q_aceite = ', q_aceite.to(julios) )\n",
    "\n",
    "q_agua = - q_aceite\n",
    "print('q_agua = ', q_agua.to(julios) )\n",
    "\n",
    "deltaT_agua = Tfinal - Tini_agua\n",
    "print('deltaT_agua = ', deltaT_agua )\n",
    "\n",
    "m_agua = q_agua / ( c_agua * deltaT_agua )\n",
    "print('m_agua = ', m_agua.to(kilogramos) )"
   ]
  },
  {
   "cell_type": "code",
   "execution_count": 74,
   "id": "67610911",
   "metadata": {},
   "outputs": [
    {
     "name": "stdout",
     "output_type": "stream",
     "text": [
      "incS_aceite =  -942.6706103697637 joule / kelvin\n",
      "incS_agua =  1068.809719741116 joule / kelvin\n",
      "incS =  126.1391093713521 joule / kelvin\n"
     ]
    }
   ],
   "source": [
    "incS_aceite = m_aceite * c_aceite * log(Tfinal / Tini_aceite)\n",
    "print('incS_aceite = ', incS_aceite.to(julios / kelvins) )\n",
    "\n",
    "incS_agua = m_agua * c_agua * log(Tfinal / Tini_agua)\n",
    "print('incS_agua = ', incS_agua.to(julios / kelvins) )\n",
    "\n",
    "incS = incS_aceite + incS_agua\n",
    "print('incS = ', incS.to(julios / kelvins) )\n"
   ]
  },
  {
   "cell_type": "code",
   "execution_count": null,
   "id": "97f33be0",
   "metadata": {},
   "outputs": [],
   "source": []
  }
 ],
 "metadata": {
  "kernelspec": {
   "display_name": "Python 3 (ipykernel)",
   "language": "python",
   "name": "python3"
  },
  "language_info": {
   "codemirror_mode": {
    "name": "ipython",
    "version": 3
   },
   "file_extension": ".py",
   "mimetype": "text/x-python",
   "name": "python",
   "nbconvert_exporter": "python",
   "pygments_lexer": "ipython3",
   "version": "3.11.9"
  }
 },
 "nbformat": 4,
 "nbformat_minor": 5
}
