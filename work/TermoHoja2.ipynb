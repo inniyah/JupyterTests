{
 "cells": [
  {
   "cell_type": "code",
   "execution_count": 4,
   "id": "4ea5d0bf-c4ff-43ef-baf2-8bc9594f9f5d",
   "metadata": {},
   "outputs": [],
   "source": [
    "from math import *\n",
    "from pprint import pprint"
   ]
  },
  {
   "cell_type": "code",
   "execution_count": 5,
   "id": "eec9ac6f-d9ca-44f0-aba8-43d07efda3e4",
   "metadata": {},
   "outputs": [
    {
     "name": "stdout",
     "output_type": "stream",
     "text": [
      "R = 8.308650000000002 kilogram * meter ** 2 / kelvin / mole / second ** 2\n"
     ]
    }
   ],
   "source": [
    "from pint import UnitRegistry, set_application_registry\n",
    "ureg = UnitRegistry()\n",
    "set_application_registry(ureg)\n",
    "\n",
    "litros = ureg.litre\n",
    "atmosferas = ureg.atmosphere\n",
    "moles = ureg.mol\n",
    "kelvins = ureg.kelvin\n",
    "kilogramos = ureg.kilogram\n",
    "julios = ureg.joule\n",
    "pascales = ureg.pascal\n",
    "\n",
    "R = 0.082 * litros * atmosferas / kelvins / moles # https://en.wikipedia.org/wiki/Gas_constant\n",
    "print('R =', R.to_base_units())"
   ]
  },
  {
   "cell_type": "markdown",
   "id": "5056286c-b552-4525-a1cf-669e8ec50afc",
   "metadata": {},
   "source": [
    "***"
   ]
  },
  {
   "cell_type": "markdown",
   "id": "2337d880-72aa-4d5b-850d-9aaab121a693",
   "metadata": {},
   "source": [
    "Se tienen 0,75 moles de gas ideal monoatómico que inicialmente se encuentra a una\n",
    "presión de 3x10**5 Pa y una temperatura de 500 K (Estado A).\n",
    "\n",
    "Desde este punto, el sistema es sometido a la siguiente serie de procesos cuasi-estáticos:\n",
    "* 1) Expansión isotérmica hasta reducir a la mitad la presión del gas (Estado B)\n",
    "* 2) expansión isobárica hasta aumentar el volumen del gas a tres veces el valor inicial del estado A (Estado C)\n",
    "* 3) enfriamiento isocórico hasta volver a la temperatura del estado A (Estado D)\n",
    "* 4) compresión lineal para cerrar el ciclo.\n",
    "\n",
    "Calcular:\n",
    "* a. Representar el ciclo en un diagrama P vs V e indicar gráficamente si el sistema cede o absorbe calor en cada proceso.\n",
    "* b. Calcular la temperatura y la presión en el estado B.\n",
    "* c. Calcular la temperatura en el estado C\n",
    "* d. Calcular la presión en el estado D.\n",
    "* e. Calcular el/la rendimiento/eficacia del ciclo al que se somete el gas.\n",
    "*    Si se siguiese el mismo ciclo en sentido opuesto: calcula el parámetro correspondiente (rendimiento/eficacia).\n",
    "* f. Calcular el rendimiento de una máquina reversible que trabaje entre los focos extremos del ciclo y el trabajo perdido por no aplicar ese ciclo de Carnot al gas.\n",
    "* g. Calcular la variación de entropía del sistema y del medio en cada proceso."
   ]
  },
  {
   "cell_type": "code",
   "execution_count": 14,
   "id": "e0cd2187-1a93-44f4-bac1-d4a718ac9d11",
   "metadata": {},
   "outputs": [
    {
     "name": "stdout",
     "output_type": "stream",
     "text": [
      "gamma =  1.6666666666666667\n",
      "Cv =  0.09225 liter * standard_atmosphere / kelvin\n",
      "Cp =  0.15375 liter * standard_atmosphere / kelvin\n",
      "Va =  10.3858125 liter\n"
     ]
    }
   ],
   "source": [
    "n = 0.75 * moles\n",
    "\n",
    "# Monoatómico\n",
    "gamma = 5 / 3\n",
    "Cv = n * R * 3 / 2\n",
    "Cp = Cv + n * R\n",
    "\n",
    "print('gamma = ', gamma)\n",
    "print('Cv = ', Cv)\n",
    "print('Cp = ', Cp)\n",
    "\n",
    "Pa = 3e5 * pascales\n",
    "Ta = 500 * kelvins\n",
    "Va = n * R * Ta / Pa\n",
    "print('Va = ', Va.to(litros))"
   ]
  },
  {
   "cell_type": "code",
   "execution_count": 15,
   "id": "fb308c74-aa1f-4eb4-b7f5-0c1259d042ce",
   "metadata": {},
   "outputs": [
    {
     "name": "stdout",
     "output_type": "stream",
     "text": [
      "Tb =  500 kelvin\n",
      "Pb =  150000.0 pascal\n",
      "Vb =  20.771625 liter\n"
     ]
    }
   ],
   "source": [
    "Tb = Ta\n",
    "Pb = Pa / 2\n",
    "Vb = n * R * Tb / Pb\n",
    "print('Tb = ', Tb.to(kelvins))\n",
    "print('Pb = ', Pb.to(pascales))\n",
    "print('Vb = ', Vb.to(litros))"
   ]
  },
  {
   "cell_type": "code",
   "execution_count": 16,
   "id": "da730cf7-9a45-4fc0-a1b6-27edb7be061f",
   "metadata": {},
   "outputs": [
    {
     "name": "stdout",
     "output_type": "stream",
     "text": [
      "Tc =  750.0 kelvin\n",
      "Pc =  150000.0 pascal\n",
      "Vc =  31.1574375 liter\n"
     ]
    }
   ],
   "source": [
    "Pc = Pb\n",
    "Vc = 3 * Va\n",
    "Tc = Pc * Vc / (n * R)\n",
    "print('Tc = ', Tc.to(kelvins))\n",
    "print('Pc = ', Pc.to(pascales))\n",
    "print('Vc = ', Vc.to(litros))"
   ]
  },
  {
   "cell_type": "code",
   "execution_count": 17,
   "id": "6e9f5b45-82f3-4b11-970b-82f40bdae036",
   "metadata": {},
   "outputs": [
    {
     "name": "stdout",
     "output_type": "stream",
     "text": [
      "Td =  500 kelvin\n",
      "Pd =  100000.0 pascal\n",
      "Vd =  31.1574375 liter\n"
     ]
    }
   ],
   "source": [
    "Td = Ta\n",
    "Vd = Vc\n",
    "Pd = n * R *Td / Vd\n",
    "print('Td = ', Td.to(kelvins))\n",
    "print('Pd = ', Pd.to(pascales))\n",
    "print('Vd = ', Vd.to(litros))"
   ]
  },
  {
   "cell_type": "code",
   "execution_count": 23,
   "id": "be1b4a5e-7ee0-4bec-bced-7a598fa9a09a",
   "metadata": {},
   "outputs": [
    {
     "name": "stdout",
     "output_type": "stream",
     "text": [
      "Wab =  -2159.6689956597716 joule\n",
      "Wbc =  -1557.8718750000003 joule\n",
      "Wcd =  0 joule\n",
      "Wda =  4154.325000000001 joule\n",
      "Wtotal =  436.7841293402289 joule\n"
     ]
    }
   ],
   "source": [
    "Wab = - n * R * Ta * log(Vb/Va)\n",
    "print('Wab = ', Wab.to(julios))\n",
    "\n",
    "Wbc = - Pb * (Vc - Vb)\n",
    "print('Wbc = ', Wbc.to(julios))\n",
    "\n",
    "Wcd = 0 * julios\n",
    "print('Wcd = ', Wcd.to(julios))\n",
    "\n",
    "Wda = (Pa + Pd) / 2 * (Vd - Va)\n",
    "print('Wda = ', Wda.to(julios))\n",
    "\n",
    "Wtotal = Wab + Wbc + Wcd + Wda\n",
    "print('Wtotal = ', Wtotal.to(julios))"
   ]
  },
  {
   "cell_type": "code",
   "execution_count": 31,
   "id": "f64a00a9-c8eb-491c-9880-c5cddcc2007a",
   "metadata": {},
   "outputs": [
    {
     "name": "stdout",
     "output_type": "stream",
     "text": [
      "Qab =  2159.6689956597716 joule\n",
      "Qbc =  3894.6796875000005 joule\n",
      "Qcd =  -2336.8078125 joule\n",
      "Qda =  -4154.325000000001 joule\n",
      "Qtotal =  -436.7841293402289 joule\n"
     ]
    }
   ],
   "source": [
    "Qab = -Wab # Isotérmico\n",
    "print('Qab = ', Qab.to(julios))\n",
    "\n",
    "Qbc = Cp * (Tc - Tb) # Isobárico\n",
    "print('Qbc = ', Qbc.to(julios))\n",
    "\n",
    "Qcd = Cv * (Td - Tc) # Isocórico\n",
    "print('Qcd = ', Qcd.to(julios))\n",
    "\n",
    "Qda = - Wtotal - Qab - Qbc - Qcd\n",
    "print('Qda = ', Qda.to(julios))\n",
    "\n",
    "Qtotal = Qab + Qbc + Qcd + Qda\n",
    "print('Qtotal = ', Qtotal.to(julios))"
   ]
  },
  {
   "cell_type": "code",
   "execution_count": 33,
   "id": "1e6b0bb7-ce82-4513-8736-8eea20972242",
   "metadata": {},
   "outputs": [
    {
     "name": "stdout",
     "output_type": "stream",
     "text": [
      "Qabs =  6054.348683159772 joule\n",
      "Qced =  6491.132812500001 joule\n"
     ]
    }
   ],
   "source": [
    "Qabs = Qab + Qbc\n",
    "print('Qabs = ', Qabs.to(julios))\n",
    "\n",
    "Qced = -( Qcd + Qda )\n",
    "print('Qced = ', Qced.to(julios))"
   ]
  },
  {
   "cell_type": "code",
   "execution_count": 39,
   "id": "f9a5fdbc-3493-4c2b-a8a5-0f869a0fc147",
   "metadata": {},
   "outputs": [
    {
     "name": "stdout",
     "output_type": "stream",
     "text": [
      "Rendimiento =  -0.07214386752371037 dimensionless\n"
     ]
    }
   ],
   "source": [
    "Rendimiento = - Wtotal / Qabs\n",
    "print('Rendimiento = ', Rendimiento)"
   ]
  },
  {
   "cell_type": "code",
   "execution_count": 40,
   "id": "7e0f5e34-a0e8-4a4a-bb7a-4814a517e8cd",
   "metadata": {},
   "outputs": [
    {
     "name": "stdout",
     "output_type": "stream",
     "text": [
      "Wtotal_inv =  -436.7841293402289 joule\n",
      "Qabs_inv =  6491.132812500001 joule\n",
      "Qced_inv =  6054.348683159772 joule\n",
      "Rendimiento_inv =  0.06728935333122624 dimensionless\n"
     ]
    }
   ],
   "source": [
    "Wtotal_inv = - Wtotal\n",
    "Qabs_inv = Qced\n",
    "Qced_inv = Qabs\n",
    "print('Wtotal_inv = ', Wtotal_inv.to(julios))\n",
    "print('Qabs_inv = ', Qabs_inv.to(julios))\n",
    "print('Qced_inv = ', Qced_inv.to(julios))\n",
    "\n",
    "Rendimiento_inv = - Wtotal_inv / Qabs_inv\n",
    "print('Rendimiento_inv = ', Rendimiento_inv)"
   ]
  },
  {
   "cell_type": "code",
   "execution_count": null,
   "id": "4c13ec57-dc00-4f17-80d8-ac9518dbe608",
   "metadata": {},
   "outputs": [],
   "source": []
  }
 ],
 "metadata": {
  "kernelspec": {
   "display_name": "Python 3 (ipykernel)",
   "language": "python",
   "name": "python3"
  },
  "language_info": {
   "codemirror_mode": {
    "name": "ipython",
    "version": 3
   },
   "file_extension": ".py",
   "mimetype": "text/x-python",
   "name": "python",
   "nbconvert_exporter": "python",
   "pygments_lexer": "ipython3",
   "version": "3.11.9"
  }
 },
 "nbformat": 4,
 "nbformat_minor": 5
}
